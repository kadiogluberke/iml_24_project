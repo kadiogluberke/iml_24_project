{
 "cells": [
  {
   "cell_type": "code",
   "execution_count": 1,
   "id": "86d2bec2-1545-425b-9a1a-4fd7b3287045",
   "metadata": {},
   "outputs": [],
   "source": [
    "import pickle\n",
    "import mediapipe as mp\n",
    "import pandas as pd\n",
    "import numpy as np\n",
    "\n",
    "from sklearn import metrics, model_selection, ensemble\n",
    "\n",
    "import time\n",
    "import cv2\n",
    "from matplotlib import pyplot as plt\n",
    "import os\n",
    "from tqdm import tqdm\n",
    "import glob\n",
    "import pickle"
   ]
  },
  {
   "cell_type": "code",
   "execution_count": 2,
   "id": "4af5ab0f-d1f3-440d-9f80-c8593b821c52",
   "metadata": {},
   "outputs": [],
   "source": [
    "with open('../models/random_forest_best/random_forest_best.pkl', 'rb') as file:\n",
    "    clf = pickle.load(file)"
   ]
  },
  {
   "cell_type": "code",
   "execution_count": 3,
   "id": "60f8e2b8-e9e7-458e-bfc7-2eef8d8da1d8",
   "metadata": {},
   "outputs": [],
   "source": [
    "mp_hands = mp.solutions.hands\n",
    "mp_drawing = mp.solutions.drawing_utils"
   ]
  },
  {
   "cell_type": "code",
   "execution_count": 4,
   "id": "1fc49faa-f02d-444c-8f32-8bf3d40d3322",
   "metadata": {},
   "outputs": [],
   "source": [
    "int2char = {\n",
    "    0: 'A', 1: 'B', 2: 'C', 3: 'D', 4: 'E', 5: 'F', 6: 'G', 7: 'H', 8: 'I', 9: 'J', \n",
    "    10: 'K', 11: 'L', 12: 'M', 13: 'N', 14: 'O', 15: 'P', 16: 'Q', 17: 'R', 18: 'S', \n",
    "    19: 'T', 20: 'U', 21: 'V', 22: 'W', 23: 'X', 24: 'Y', 25: 'Z', 26: 'd', 27: 's', 28: 'n'\n",
    "}"
   ]
  },
  {
   "cell_type": "code",
   "execution_count": 8,
   "id": "ccfe6f0c-39ae-4875-ab45-800cd8396dff",
   "metadata": {},
   "outputs": [
    {
     "name": "stdout",
     "output_type": "stream",
     "text": [
      "Points are None\n"
     ]
    },
    {
     "name": "stderr",
     "output_type": "stream",
     "text": [
      "I0000 00:00:1721833160.334865 30974488 gl_context.cc:357] GL version: 2.1 (2.1 Metal - 88), renderer: Apple M3\n",
      "W0000 00:00:1721833160.347918 30976103 inference_feedback_manager.cc:114] Feedback manager requires a model with a single signature inference. Disabling support for feedback tensors.\n",
      "W0000 00:00:1721833160.354402 30976103 inference_feedback_manager.cc:114] Feedback manager requires a model with a single signature inference. Disabling support for feedback tensors.\n"
     ]
    },
    {
     "ename": "NameError",
     "evalue": "name 'points_raw' is not defined",
     "output_type": "error",
     "traceback": [
      "\u001b[0;31m---------------------------------------------------------------------------\u001b[0m",
      "\u001b[0;31mNameError\u001b[0m                                 Traceback (most recent call last)",
      "Cell \u001b[0;32mIn[8], line 57\u001b[0m\n\u001b[1;32m     53\u001b[0m         points_raw[i][\u001b[38;5;241m0\u001b[39m] \u001b[38;5;241m=\u001b[39m (points_raw[i][\u001b[38;5;241m0\u001b[39m] \u001b[38;5;241m-\u001b[39m min_x) \u001b[38;5;241m/\u001b[39m (max_x \u001b[38;5;241m-\u001b[39m min_x)\n\u001b[1;32m     54\u001b[0m         points_raw[i][\u001b[38;5;241m1\u001b[39m] \u001b[38;5;241m=\u001b[39m (points_raw[i][\u001b[38;5;241m1\u001b[39m] \u001b[38;5;241m-\u001b[39m min_y) \u001b[38;5;241m/\u001b[39m (max_y \u001b[38;5;241m-\u001b[39m min_y)\n\u001b[0;32m---> 57\u001b[0m flattened_points \u001b[38;5;241m=\u001b[39m [item \u001b[38;5;28;01mfor\u001b[39;00m sublist \u001b[38;5;129;01min\u001b[39;00m \u001b[43mpoints_raw\u001b[49m \u001b[38;5;28;01mfor\u001b[39;00m item \u001b[38;5;129;01min\u001b[39;00m sublist]\n\u001b[1;32m     58\u001b[0m \u001b[38;5;28mprint\u001b[39m(\u001b[38;5;28mlen\u001b[39m(flattened_points))\n\u001b[1;32m     59\u001b[0m \u001b[38;5;28mprint\u001b[39m(flattened_points)\n",
      "\u001b[0;31mNameError\u001b[0m: name 'points_raw' is not defined"
     ]
    }
   ],
   "source": [
    "cap = cv2.VideoCapture(0)\n",
    "\n",
    "with mp_hands.Hands(\n",
    "    static_image_mode=False,\n",
    "    max_num_hands=2,\n",
    "    min_detection_confidence=0.5,\n",
    "    min_tracking_confidence=0.5) as hands:\n",
    "    \n",
    "    while cap.isOpened():\n",
    "        \n",
    "        ret, frame = cap.read()\n",
    "        if not ret:\n",
    "            print(\"No image from camera\")\n",
    "            break\n",
    "\n",
    "\n",
    "        image = cv2.cvtColor(frame, cv2.COLOR_BGR2RGB)\n",
    "        image.flags.writeable = False\n",
    "        \n",
    "        results = hands.process(image)\n",
    "\n",
    "        points = []\n",
    "        if results.multi_hand_landmarks:\n",
    "            for hand_landmarks in results.multi_hand_landmarks:\n",
    "                for i in range(21):\n",
    "                    x = hand_landmarks.landmark[i].x\n",
    "                    y = hand_landmarks.landmark[i].y\n",
    "                    z = hand_landmarks.landmark[i].z\n",
    "                    points.append([x, y, z])\n",
    "        else:\n",
    "            points = None\n",
    "            print('Points are None')\n",
    "    \n",
    "    \n",
    "        if points is not None:\n",
    "            if len(points) > 21:\n",
    "                points = points[:21]\n",
    "                print('Landmarks are more than 21')\n",
    "            elif len(points) < 21:\n",
    "                dif = 21 - len(points)\n",
    "                for i in range(dif):\n",
    "                    points.append([0, 0, 0])\n",
    "                print('Landmarks are less than 21')\n",
    "    \n",
    "            points_raw = np.array(points)\n",
    "\n",
    "        if points is not None:\n",
    "            min_x = np.min(points_raw[:, 0])\n",
    "            max_x = np.max(points_raw[:, 0])\n",
    "            min_y = np.min(points_raw[:, 1])\n",
    "            max_y = np.max(points_raw[:, 1])\n",
    "            for i in range(len(points_raw)):\n",
    "                points_raw[i][0] = (points_raw[i][0] - min_x) / (max_x - min_x)\n",
    "                points_raw[i][1] = (points_raw[i][1] - min_y) / (max_y - min_y)\n",
    "\n",
    "        \n",
    "        flattened_points = [item for sublist in points_raw for item in sublist]\n",
    "        print(len(flattened_points))\n",
    "        print(flattened_points)\n",
    "\n",
    "        X = np.array(flattened_points).reshape(1, -1)\n",
    "\n",
    "        prediction = clf.predict(X)\n",
    "\n",
    "        print(prediction)\n",
    "\n",
    "        clas = int2char[prediction[0]]\n",
    "\n",
    "        print(clas)\n",
    "\n",
    "        image.flags.writeable = True\n",
    "        \n",
    "        image = cv2.cvtColor(image, cv2.COLOR_RGB2BGR)\n",
    "\n",
    "        if results.multi_hand_landmarks:\n",
    "            for hand_landmarks in results.multi_hand_landmarks:\n",
    "                mp_drawing.draw_landmarks(\n",
    "                    image, hand_landmarks, mp_hands.HAND_CONNECTIONS)\n",
    "        \n",
    "        cv2.imshow('Sign Detection', image)\n",
    " \n",
    "\n",
    "        if cv2.waitKey(5000) & 0xFF == 27:\n",
    "            break\n",
    "\n",
    "cap.release()\n",
    "cv2.destroyAllWindows()\n"
   ]
  },
  {
   "cell_type": "code",
   "execution_count": null,
   "id": "61ae7997-3178-40a7-9a2d-d3203cdd6428",
   "metadata": {},
   "outputs": [],
   "source": [
    "cap = cv2.VideoCapture(0)\n",
    "\n",
    "while cap.isOpened():\n",
    "        \n",
    "    ret, frame = cap.read()\n",
    "    if not ret:\n",
    "        print(\"Kameradan görüntü alınamadı.\")\n",
    "        break\n",
    "    print(ret)\n",
    "    print(frame)\n",
    "    "
   ]
  },
  {
   "cell_type": "code",
   "execution_count": 9,
   "id": "12c3ae9c-55f4-4cd0-b436-405bbf12a9b0",
   "metadata": {},
   "outputs": [],
   "source": [
    "cap.release()"
   ]
  },
  {
   "cell_type": "code",
   "execution_count": 10,
   "id": "efb31c2e-9f28-4304-ade6-1e02b5dddd6d",
   "metadata": {},
   "outputs": [],
   "source": [
    "cv2.destroyAllWindows()"
   ]
  },
  {
   "cell_type": "code",
   "execution_count": null,
   "id": "964ee681-a568-4e03-a581-ebed4f3bf920",
   "metadata": {},
   "outputs": [],
   "source": []
  },
  {
   "cell_type": "code",
   "execution_count": null,
   "id": "84e683b8-e307-4c96-95c5-d7bd24bba9a6",
   "metadata": {},
   "outputs": [],
   "source": []
  }
 ],
 "metadata": {
  "kernelspec": {
   "display_name": "Python 3 (ipykernel)",
   "language": "python",
   "name": "python3"
  },
  "language_info": {
   "codemirror_mode": {
    "name": "ipython",
    "version": 3
   },
   "file_extension": ".py",
   "mimetype": "text/x-python",
   "name": "python",
   "nbconvert_exporter": "python",
   "pygments_lexer": "ipython3",
   "version": "3.12.2"
  }
 },
 "nbformat": 4,
 "nbformat_minor": 5
}
