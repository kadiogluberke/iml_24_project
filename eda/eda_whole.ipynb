{
 "cells": [
  {
   "cell_type": "code",
   "execution_count": 1,
   "id": "a8886f06-168a-4722-918b-cf3d14f57dcb",
   "metadata": {},
   "outputs": [
    {
     "data": {
      "text/html": [
       "        <script type=\"text/javascript\">\n",
       "        window.PlotlyConfig = {MathJaxConfig: 'local'};\n",
       "        if (window.MathJax && window.MathJax.Hub && window.MathJax.Hub.Config) {window.MathJax.Hub.Config({SVG: {font: \"STIX-Web\"}});}\n",
       "        if (typeof require !== 'undefined') {\n",
       "        require.undef(\"plotly\");\n",
       "        requirejs.config({\n",
       "            paths: {\n",
       "                'plotly': ['https://cdn.plot.ly/plotly-2.32.0.min']\n",
       "            }\n",
       "        });\n",
       "        require(['plotly'], function(Plotly) {\n",
       "            window._Plotly = Plotly;\n",
       "        });\n",
       "        }\n",
       "        </script>\n",
       "        "
      ]
     },
     "metadata": {},
     "output_type": "display_data"
    }
   ],
   "source": [
    "import numpy as np\n",
    "import pandas as pd\n",
    "\n",
    "import matplotlib\n",
    "import seaborn as sns\n",
    "\n",
    "import plotly.graph_objs as go\n",
    "import plotly.figure_factory as ff\n",
    "import plotly.offline as py\n",
    "\n",
    "py.init_notebook_mode(connected=True)"
   ]
  },
  {
   "cell_type": "code",
   "execution_count": 2,
   "id": "51db81a1-3f0b-41a2-a32c-31f47806d485",
   "metadata": {},
   "outputs": [
    {
     "data": {
      "text/html": [
       "<div>\n",
       "<style scoped>\n",
       "    .dataframe tbody tr th:only-of-type {\n",
       "        vertical-align: middle;\n",
       "    }\n",
       "\n",
       "    .dataframe tbody tr th {\n",
       "        vertical-align: top;\n",
       "    }\n",
       "\n",
       "    .dataframe thead th {\n",
       "        text-align: right;\n",
       "    }\n",
       "</style>\n",
       "<table border=\"1\" class=\"dataframe\">\n",
       "  <thead>\n",
       "    <tr style=\"text-align: right;\">\n",
       "      <th></th>\n",
       "      <th>landmark_0-axis_0</th>\n",
       "      <th>landmark_0-axis_1</th>\n",
       "      <th>landmark_0-axis_2</th>\n",
       "      <th>landmark_1-axis_0</th>\n",
       "      <th>landmark_1-axis_1</th>\n",
       "      <th>landmark_1-axis_2</th>\n",
       "      <th>landmark_2-axis_0</th>\n",
       "      <th>landmark_2-axis_1</th>\n",
       "      <th>landmark_2-axis_2</th>\n",
       "      <th>landmark_3-axis_0</th>\n",
       "      <th>...</th>\n",
       "      <th>landmark_18-axis_0</th>\n",
       "      <th>landmark_18-axis_1</th>\n",
       "      <th>landmark_18-axis_2</th>\n",
       "      <th>landmark_19-axis_0</th>\n",
       "      <th>landmark_19-axis_1</th>\n",
       "      <th>landmark_19-axis_2</th>\n",
       "      <th>landmark_20-axis_0</th>\n",
       "      <th>landmark_20-axis_1</th>\n",
       "      <th>landmark_20-axis_2</th>\n",
       "      <th>label</th>\n",
       "    </tr>\n",
       "  </thead>\n",
       "  <tbody>\n",
       "    <tr>\n",
       "      <th>0</th>\n",
       "      <td>0.658822</td>\n",
       "      <td>1.000000</td>\n",
       "      <td>9.709986e-07</td>\n",
       "      <td>0.851430</td>\n",
       "      <td>0.807790</td>\n",
       "      <td>-0.049348</td>\n",
       "      <td>0.976963</td>\n",
       "      <td>0.658024</td>\n",
       "      <td>-0.076231</td>\n",
       "      <td>1.000000</td>\n",
       "      <td>...</td>\n",
       "      <td>0.045997</td>\n",
       "      <td>0.493979</td>\n",
       "      <td>-0.103539</td>\n",
       "      <td>0.000000</td>\n",
       "      <td>0.383998</td>\n",
       "      <td>-0.124194</td>\n",
       "      <td>0.019168</td>\n",
       "      <td>0.274529</td>\n",
       "      <td>-0.136008</td>\n",
       "      <td>5</td>\n",
       "    </tr>\n",
       "    <tr>\n",
       "      <th>1</th>\n",
       "      <td>0.913921</td>\n",
       "      <td>0.916978</td>\n",
       "      <td>-3.564024e-08</td>\n",
       "      <td>1.000000</td>\n",
       "      <td>0.622017</td>\n",
       "      <td>-0.068824</td>\n",
       "      <td>0.911857</td>\n",
       "      <td>0.247694</td>\n",
       "      <td>-0.092950</td>\n",
       "      <td>0.725065</td>\n",
       "      <td>...</td>\n",
       "      <td>0.382177</td>\n",
       "      <td>0.868375</td>\n",
       "      <td>-0.137134</td>\n",
       "      <td>0.553851</td>\n",
       "      <td>0.951596</td>\n",
       "      <td>-0.129949</td>\n",
       "      <td>0.678670</td>\n",
       "      <td>1.000000</td>\n",
       "      <td>-0.102735</td>\n",
       "      <td>6</td>\n",
       "    </tr>\n",
       "    <tr>\n",
       "      <th>2</th>\n",
       "      <td>0.105749</td>\n",
       "      <td>1.000000</td>\n",
       "      <td>2.608852e-07</td>\n",
       "      <td>0.372407</td>\n",
       "      <td>0.999220</td>\n",
       "      <td>-0.107340</td>\n",
       "      <td>0.628303</td>\n",
       "      <td>0.891621</td>\n",
       "      <td>-0.156708</td>\n",
       "      <td>0.836010</td>\n",
       "      <td>...</td>\n",
       "      <td>0.009659</td>\n",
       "      <td>0.500194</td>\n",
       "      <td>-0.128799</td>\n",
       "      <td>0.000000</td>\n",
       "      <td>0.659741</td>\n",
       "      <td>-0.117523</td>\n",
       "      <td>0.015676</td>\n",
       "      <td>0.773787</td>\n",
       "      <td>-0.084991</td>\n",
       "      <td>11</td>\n",
       "    </tr>\n",
       "    <tr>\n",
       "      <th>3</th>\n",
       "      <td>0.388107</td>\n",
       "      <td>1.000000</td>\n",
       "      <td>-7.803047e-07</td>\n",
       "      <td>0.815729</td>\n",
       "      <td>0.864753</td>\n",
       "      <td>-0.042863</td>\n",
       "      <td>1.000000</td>\n",
       "      <td>0.484522</td>\n",
       "      <td>-0.048950</td>\n",
       "      <td>0.662923</td>\n",
       "      <td>...</td>\n",
       "      <td>0.006795</td>\n",
       "      <td>0.318315</td>\n",
       "      <td>-0.078091</td>\n",
       "      <td>0.106224</td>\n",
       "      <td>0.524428</td>\n",
       "      <td>-0.055097</td>\n",
       "      <td>0.107260</td>\n",
       "      <td>0.609925</td>\n",
       "      <td>-0.027988</td>\n",
       "      <td>18</td>\n",
       "    </tr>\n",
       "    <tr>\n",
       "      <th>4</th>\n",
       "      <td>0.669271</td>\n",
       "      <td>1.000000</td>\n",
       "      <td>-9.988880e-07</td>\n",
       "      <td>0.832537</td>\n",
       "      <td>0.721911</td>\n",
       "      <td>-0.057859</td>\n",
       "      <td>0.962633</td>\n",
       "      <td>0.447249</td>\n",
       "      <td>-0.084072</td>\n",
       "      <td>1.000000</td>\n",
       "      <td>...</td>\n",
       "      <td>0.185549</td>\n",
       "      <td>0.449152</td>\n",
       "      <td>-0.064394</td>\n",
       "      <td>0.088501</td>\n",
       "      <td>0.345923</td>\n",
       "      <td>-0.063761</td>\n",
       "      <td>0.000000</td>\n",
       "      <td>0.230642</td>\n",
       "      <td>-0.053649</td>\n",
       "      <td>24</td>\n",
       "    </tr>\n",
       "  </tbody>\n",
       "</table>\n",
       "<p>5 rows × 64 columns</p>\n",
       "</div>"
      ],
      "text/plain": [
       "   landmark_0-axis_0  landmark_0-axis_1  landmark_0-axis_2  landmark_1-axis_0  \\\n",
       "0           0.658822           1.000000       9.709986e-07           0.851430   \n",
       "1           0.913921           0.916978      -3.564024e-08           1.000000   \n",
       "2           0.105749           1.000000       2.608852e-07           0.372407   \n",
       "3           0.388107           1.000000      -7.803047e-07           0.815729   \n",
       "4           0.669271           1.000000      -9.988880e-07           0.832537   \n",
       "\n",
       "   landmark_1-axis_1  landmark_1-axis_2  landmark_2-axis_0  landmark_2-axis_1  \\\n",
       "0           0.807790          -0.049348           0.976963           0.658024   \n",
       "1           0.622017          -0.068824           0.911857           0.247694   \n",
       "2           0.999220          -0.107340           0.628303           0.891621   \n",
       "3           0.864753          -0.042863           1.000000           0.484522   \n",
       "4           0.721911          -0.057859           0.962633           0.447249   \n",
       "\n",
       "   landmark_2-axis_2  landmark_3-axis_0  ...  landmark_18-axis_0  \\\n",
       "0          -0.076231           1.000000  ...            0.045997   \n",
       "1          -0.092950           0.725065  ...            0.382177   \n",
       "2          -0.156708           0.836010  ...            0.009659   \n",
       "3          -0.048950           0.662923  ...            0.006795   \n",
       "4          -0.084072           1.000000  ...            0.185549   \n",
       "\n",
       "   landmark_18-axis_1  landmark_18-axis_2  landmark_19-axis_0  \\\n",
       "0            0.493979           -0.103539            0.000000   \n",
       "1            0.868375           -0.137134            0.553851   \n",
       "2            0.500194           -0.128799            0.000000   \n",
       "3            0.318315           -0.078091            0.106224   \n",
       "4            0.449152           -0.064394            0.088501   \n",
       "\n",
       "   landmark_19-axis_1  landmark_19-axis_2  landmark_20-axis_0  \\\n",
       "0            0.383998           -0.124194            0.019168   \n",
       "1            0.951596           -0.129949            0.678670   \n",
       "2            0.659741           -0.117523            0.015676   \n",
       "3            0.524428           -0.055097            0.107260   \n",
       "4            0.345923           -0.063761            0.000000   \n",
       "\n",
       "   landmark_20-axis_1  landmark_20-axis_2  label  \n",
       "0            0.274529           -0.136008      5  \n",
       "1            1.000000           -0.102735      6  \n",
       "2            0.773787           -0.084991     11  \n",
       "3            0.609925           -0.027988     18  \n",
       "4            0.230642           -0.053649     24  \n",
       "\n",
       "[5 rows x 64 columns]"
      ]
     },
     "execution_count": 2,
     "metadata": {},
     "output_type": "execute_result"
    }
   ],
   "source": [
    "df = pd.read_csv('../data/datasets/data.csv')\n",
    "df.head()"
   ]
  },
  {
   "cell_type": "code",
   "execution_count": 3,
   "id": "d8078ae4-33f9-4ce3-85da-1f720ee1563c",
   "metadata": {},
   "outputs": [
    {
     "data": {
      "text/plain": [
       "(64505, 64)"
      ]
     },
     "execution_count": 3,
     "metadata": {},
     "output_type": "execute_result"
    }
   ],
   "source": [
    "df.shape"
   ]
  },
  {
   "cell_type": "code",
   "execution_count": 4,
   "id": "0844e132-6d48-4f2f-a7b3-8454a9f0703b",
   "metadata": {},
   "outputs": [
    {
     "data": {
      "text/html": [
       "<div>\n",
       "<style scoped>\n",
       "    .dataframe tbody tr th:only-of-type {\n",
       "        vertical-align: middle;\n",
       "    }\n",
       "\n",
       "    .dataframe tbody tr th {\n",
       "        vertical-align: top;\n",
       "    }\n",
       "\n",
       "    .dataframe thead th {\n",
       "        text-align: right;\n",
       "    }\n",
       "</style>\n",
       "<table border=\"1\" class=\"dataframe\">\n",
       "  <thead>\n",
       "    <tr style=\"text-align: right;\">\n",
       "      <th></th>\n",
       "      <th>landmark_0-axis_0</th>\n",
       "      <th>landmark_0-axis_1</th>\n",
       "      <th>landmark_0-axis_2</th>\n",
       "      <th>landmark_1-axis_0</th>\n",
       "      <th>landmark_1-axis_1</th>\n",
       "      <th>landmark_1-axis_2</th>\n",
       "      <th>landmark_2-axis_0</th>\n",
       "      <th>landmark_2-axis_1</th>\n",
       "      <th>landmark_2-axis_2</th>\n",
       "      <th>landmark_3-axis_0</th>\n",
       "      <th>...</th>\n",
       "      <th>landmark_18-axis_0</th>\n",
       "      <th>landmark_18-axis_1</th>\n",
       "      <th>landmark_18-axis_2</th>\n",
       "      <th>landmark_19-axis_0</th>\n",
       "      <th>landmark_19-axis_1</th>\n",
       "      <th>landmark_19-axis_2</th>\n",
       "      <th>landmark_20-axis_0</th>\n",
       "      <th>landmark_20-axis_1</th>\n",
       "      <th>landmark_20-axis_2</th>\n",
       "      <th>label</th>\n",
       "    </tr>\n",
       "  </thead>\n",
       "  <tbody>\n",
       "    <tr>\n",
       "      <th>count</th>\n",
       "      <td>64505.000000</td>\n",
       "      <td>64505.000000</td>\n",
       "      <td>6.450500e+04</td>\n",
       "      <td>64505.000000</td>\n",
       "      <td>64505.000000</td>\n",
       "      <td>64505.000000</td>\n",
       "      <td>64505.000000</td>\n",
       "      <td>64505.000000</td>\n",
       "      <td>64505.000000</td>\n",
       "      <td>64505.000000</td>\n",
       "      <td>...</td>\n",
       "      <td>64505.000000</td>\n",
       "      <td>64505.000000</td>\n",
       "      <td>64505.000000</td>\n",
       "      <td>64505.000000</td>\n",
       "      <td>64505.000000</td>\n",
       "      <td>64505.000000</td>\n",
       "      <td>64505.000000</td>\n",
       "      <td>64505.000000</td>\n",
       "      <td>64505.000000</td>\n",
       "      <td>64505.000000</td>\n",
       "    </tr>\n",
       "    <tr>\n",
       "      <th>mean</th>\n",
       "      <td>0.487597</td>\n",
       "      <td>0.922285</td>\n",
       "      <td>1.947432e-07</td>\n",
       "      <td>0.730398</td>\n",
       "      <td>0.813013</td>\n",
       "      <td>-0.050357</td>\n",
       "      <td>0.848313</td>\n",
       "      <td>0.637495</td>\n",
       "      <td>-0.072070</td>\n",
       "      <td>0.743701</td>\n",
       "      <td>...</td>\n",
       "      <td>0.147831</td>\n",
       "      <td>0.410855</td>\n",
       "      <td>-0.079051</td>\n",
       "      <td>0.212893</td>\n",
       "      <td>0.467981</td>\n",
       "      <td>-0.078520</td>\n",
       "      <td>0.256014</td>\n",
       "      <td>0.513635</td>\n",
       "      <td>-0.067696</td>\n",
       "      <td>13.300643</td>\n",
       "    </tr>\n",
       "    <tr>\n",
       "      <th>std</th>\n",
       "      <td>0.305801</td>\n",
       "      <td>0.206047</td>\n",
       "      <td>7.362101e-07</td>\n",
       "      <td>0.216581</td>\n",
       "      <td>0.166765</td>\n",
       "      <td>0.041713</td>\n",
       "      <td>0.178583</td>\n",
       "      <td>0.163812</td>\n",
       "      <td>0.059674</td>\n",
       "      <td>0.203837</td>\n",
       "      <td>...</td>\n",
       "      <td>0.174605</td>\n",
       "      <td>0.204588</td>\n",
       "      <td>0.060795</td>\n",
       "      <td>0.208848</td>\n",
       "      <td>0.239442</td>\n",
       "      <td>0.060677</td>\n",
       "      <td>0.254471</td>\n",
       "      <td>0.294499</td>\n",
       "      <td>0.060359</td>\n",
       "      <td>7.979715</td>\n",
       "    </tr>\n",
       "    <tr>\n",
       "      <th>min</th>\n",
       "      <td>0.000000</td>\n",
       "      <td>0.000000</td>\n",
       "      <td>-2.606417e-06</td>\n",
       "      <td>0.000000</td>\n",
       "      <td>0.000000</td>\n",
       "      <td>-0.342306</td>\n",
       "      <td>0.000000</td>\n",
       "      <td>0.000000</td>\n",
       "      <td>-0.566550</td>\n",
       "      <td>0.000000</td>\n",
       "      <td>...</td>\n",
       "      <td>0.000000</td>\n",
       "      <td>0.000000</td>\n",
       "      <td>-0.730610</td>\n",
       "      <td>0.000000</td>\n",
       "      <td>0.000000</td>\n",
       "      <td>-0.798712</td>\n",
       "      <td>0.000000</td>\n",
       "      <td>0.000000</td>\n",
       "      <td>-0.868089</td>\n",
       "      <td>0.000000</td>\n",
       "    </tr>\n",
       "    <tr>\n",
       "      <th>25%</th>\n",
       "      <td>0.257504</td>\n",
       "      <td>1.000000</td>\n",
       "      <td>-3.878809e-07</td>\n",
       "      <td>0.613673</td>\n",
       "      <td>0.786192</td>\n",
       "      <td>-0.066568</td>\n",
       "      <td>0.747775</td>\n",
       "      <td>0.550549</td>\n",
       "      <td>-0.093902</td>\n",
       "      <td>0.610386</td>\n",
       "      <td>...</td>\n",
       "      <td>0.017424</td>\n",
       "      <td>0.256949</td>\n",
       "      <td>-0.104898</td>\n",
       "      <td>0.062583</td>\n",
       "      <td>0.282705</td>\n",
       "      <td>-0.103726</td>\n",
       "      <td>0.054561</td>\n",
       "      <td>0.246192</td>\n",
       "      <td>-0.091176</td>\n",
       "      <td>6.000000</td>\n",
       "    </tr>\n",
       "    <tr>\n",
       "      <th>50%</th>\n",
       "      <td>0.453366</td>\n",
       "      <td>1.000000</td>\n",
       "      <td>1.586521e-07</td>\n",
       "      <td>0.765457</td>\n",
       "      <td>0.855381</td>\n",
       "      <td>-0.045309</td>\n",
       "      <td>0.914530</td>\n",
       "      <td>0.659241</td>\n",
       "      <td>-0.062394</td>\n",
       "      <td>0.772220</td>\n",
       "      <td>...</td>\n",
       "      <td>0.079907</td>\n",
       "      <td>0.401875</td>\n",
       "      <td>-0.072233</td>\n",
       "      <td>0.139004</td>\n",
       "      <td>0.477969</td>\n",
       "      <td>-0.070340</td>\n",
       "      <td>0.177187</td>\n",
       "      <td>0.597386</td>\n",
       "      <td>-0.058887</td>\n",
       "      <td>13.000000</td>\n",
       "    </tr>\n",
       "    <tr>\n",
       "      <th>75%</th>\n",
       "      <td>0.709390</td>\n",
       "      <td>1.000000</td>\n",
       "      <td>7.780543e-07</td>\n",
       "      <td>0.901642</td>\n",
       "      <td>0.902667</td>\n",
       "      <td>-0.030211</td>\n",
       "      <td>1.000000</td>\n",
       "      <td>0.739191</td>\n",
       "      <td>-0.040816</td>\n",
       "      <td>0.925125</td>\n",
       "      <td>...</td>\n",
       "      <td>0.223555</td>\n",
       "      <td>0.561197</td>\n",
       "      <td>-0.044537</td>\n",
       "      <td>0.297924</td>\n",
       "      <td>0.658614</td>\n",
       "      <td>-0.043423</td>\n",
       "      <td>0.369041</td>\n",
       "      <td>0.747364</td>\n",
       "      <td>-0.033636</td>\n",
       "      <td>20.000000</td>\n",
       "    </tr>\n",
       "    <tr>\n",
       "      <th>max</th>\n",
       "      <td>1.000000</td>\n",
       "      <td>1.000000</td>\n",
       "      <td>3.972943e-06</td>\n",
       "      <td>1.000000</td>\n",
       "      <td>1.000000</td>\n",
       "      <td>0.206594</td>\n",
       "      <td>1.000000</td>\n",
       "      <td>1.000000</td>\n",
       "      <td>0.350254</td>\n",
       "      <td>1.000000</td>\n",
       "      <td>...</td>\n",
       "      <td>1.000000</td>\n",
       "      <td>1.000000</td>\n",
       "      <td>0.525095</td>\n",
       "      <td>1.000000</td>\n",
       "      <td>1.000000</td>\n",
       "      <td>0.536800</td>\n",
       "      <td>1.000000</td>\n",
       "      <td>1.000000</td>\n",
       "      <td>0.518993</td>\n",
       "      <td>28.000000</td>\n",
       "    </tr>\n",
       "  </tbody>\n",
       "</table>\n",
       "<p>8 rows × 64 columns</p>\n",
       "</div>"
      ],
      "text/plain": [
       "       landmark_0-axis_0  landmark_0-axis_1  landmark_0-axis_2  \\\n",
       "count       64505.000000       64505.000000       6.450500e+04   \n",
       "mean            0.487597           0.922285       1.947432e-07   \n",
       "std             0.305801           0.206047       7.362101e-07   \n",
       "min             0.000000           0.000000      -2.606417e-06   \n",
       "25%             0.257504           1.000000      -3.878809e-07   \n",
       "50%             0.453366           1.000000       1.586521e-07   \n",
       "75%             0.709390           1.000000       7.780543e-07   \n",
       "max             1.000000           1.000000       3.972943e-06   \n",
       "\n",
       "       landmark_1-axis_0  landmark_1-axis_1  landmark_1-axis_2  \\\n",
       "count       64505.000000       64505.000000       64505.000000   \n",
       "mean            0.730398           0.813013          -0.050357   \n",
       "std             0.216581           0.166765           0.041713   \n",
       "min             0.000000           0.000000          -0.342306   \n",
       "25%             0.613673           0.786192          -0.066568   \n",
       "50%             0.765457           0.855381          -0.045309   \n",
       "75%             0.901642           0.902667          -0.030211   \n",
       "max             1.000000           1.000000           0.206594   \n",
       "\n",
       "       landmark_2-axis_0  landmark_2-axis_1  landmark_2-axis_2  \\\n",
       "count       64505.000000       64505.000000       64505.000000   \n",
       "mean            0.848313           0.637495          -0.072070   \n",
       "std             0.178583           0.163812           0.059674   \n",
       "min             0.000000           0.000000          -0.566550   \n",
       "25%             0.747775           0.550549          -0.093902   \n",
       "50%             0.914530           0.659241          -0.062394   \n",
       "75%             1.000000           0.739191          -0.040816   \n",
       "max             1.000000           1.000000           0.350254   \n",
       "\n",
       "       landmark_3-axis_0  ...  landmark_18-axis_0  landmark_18-axis_1  \\\n",
       "count       64505.000000  ...        64505.000000        64505.000000   \n",
       "mean            0.743701  ...            0.147831            0.410855   \n",
       "std             0.203837  ...            0.174605            0.204588   \n",
       "min             0.000000  ...            0.000000            0.000000   \n",
       "25%             0.610386  ...            0.017424            0.256949   \n",
       "50%             0.772220  ...            0.079907            0.401875   \n",
       "75%             0.925125  ...            0.223555            0.561197   \n",
       "max             1.000000  ...            1.000000            1.000000   \n",
       "\n",
       "       landmark_18-axis_2  landmark_19-axis_0  landmark_19-axis_1  \\\n",
       "count        64505.000000        64505.000000        64505.000000   \n",
       "mean            -0.079051            0.212893            0.467981   \n",
       "std              0.060795            0.208848            0.239442   \n",
       "min             -0.730610            0.000000            0.000000   \n",
       "25%             -0.104898            0.062583            0.282705   \n",
       "50%             -0.072233            0.139004            0.477969   \n",
       "75%             -0.044537            0.297924            0.658614   \n",
       "max              0.525095            1.000000            1.000000   \n",
       "\n",
       "       landmark_19-axis_2  landmark_20-axis_0  landmark_20-axis_1  \\\n",
       "count        64505.000000        64505.000000        64505.000000   \n",
       "mean            -0.078520            0.256014            0.513635   \n",
       "std              0.060677            0.254471            0.294499   \n",
       "min             -0.798712            0.000000            0.000000   \n",
       "25%             -0.103726            0.054561            0.246192   \n",
       "50%             -0.070340            0.177187            0.597386   \n",
       "75%             -0.043423            0.369041            0.747364   \n",
       "max              0.536800            1.000000            1.000000   \n",
       "\n",
       "       landmark_20-axis_2         label  \n",
       "count        64505.000000  64505.000000  \n",
       "mean            -0.067696     13.300643  \n",
       "std              0.060359      7.979715  \n",
       "min             -0.868089      0.000000  \n",
       "25%             -0.091176      6.000000  \n",
       "50%             -0.058887     13.000000  \n",
       "75%             -0.033636     20.000000  \n",
       "max              0.518993     28.000000  \n",
       "\n",
       "[8 rows x 64 columns]"
      ]
     },
     "execution_count": 4,
     "metadata": {},
     "output_type": "execute_result"
    }
   ],
   "source": [
    "df.describe()"
   ]
  },
  {
   "cell_type": "code",
   "execution_count": 6,
   "id": "014bf802-d882-45ce-bd96-2aca20dc3248",
   "metadata": {},
   "outputs": [
    {
     "data": {
      "text/plain": [
       "0"
      ]
     },
     "execution_count": 6,
     "metadata": {},
     "output_type": "execute_result"
    }
   ],
   "source": [
    "df.isnull().any().sum()"
   ]
  },
  {
   "cell_type": "code",
   "execution_count": 7,
   "id": "41f6bb34-f59d-426c-9e73-cce4a27151e0",
   "metadata": {},
   "outputs": [
    {
     "name": "stderr",
     "output_type": "stream",
     "text": [
      "/var/folders/w5/m6rwwhxs3f79c4v89rgmvnw40000gn/T/ipykernel_31807/1843316840.py:4: DeprecationWarning:\n",
      "\n",
      "Importing display from IPython.core.display is deprecated since IPython 7.14, please import from IPython display\n",
      "\n"
     ]
    }
   ],
   "source": [
    "import base64\n",
    "import facets_overview\n",
    "\n",
    "from IPython.core.display import display, HTML\n",
    "from facets_overview.generic_feature_statistics_generator import GenericFeatureStatisticsGenerator"
   ]
  },
  {
   "cell_type": "code",
   "execution_count": 8,
   "id": "df5cc20d-6789-4f1b-884b-4014c39cbb1a",
   "metadata": {},
   "outputs": [
    {
     "name": "stderr",
     "output_type": "stream",
     "text": [
      "/Users/berkekadioglu/Documents/Virtual Environments/m13_iml/lib/python3.12/site-packages/facets_overview/base_generic_feature_statistics_generator.py:121: FutureWarning:\n",
      "\n",
      "Series.ravel is deprecated. The underlying array is already 1D, so ravel is not necessary.  Use `to_numpy()` for conversion to a numpy array instead.\n",
      "\n"
     ]
    }
   ],
   "source": [
    "gfsg = GenericFeatureStatisticsGenerator()\n",
    "proto = gfsg.ProtoFromDataFrames([{'name': 'whole_data', 'table': df}])\n",
    "protostr = base64.b64encode(proto.SerializeToString()).decode(\"utf-8\")"
   ]
  },
  {
   "cell_type": "code",
   "execution_count": 9,
   "id": "fb239fa6-8e19-4a9f-9d74-119c74acd186",
   "metadata": {},
   "outputs": [
    {
     "data": {
      "text/html": [
       "\n",
       "        <script src=\"https://cdnjs.cloudflare.com/ajax/libs/webcomponentsjs/1.3.3/webcomponents-lite.js\"></script>\n",
       "        <link rel=\"import\" href=\"https://raw.githubusercontent.com/PAIR-code/facets/1.0.0/facets-dist/facets-jupyter.html\" >\n",
       "        <facets-overview id=\"elem\"></facets-overview>\n",
       "        <script>\n",
       "          document.querySelector(\"#elem\").protoInput = \"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\";\n",
       "        </script>"
      ],
      "text/plain": [
       "<IPython.core.display.HTML object>"
      ]
     },
     "metadata": {},
     "output_type": "display_data"
    }
   ],
   "source": [
    "OUTPUT_FILE_PATH = 'whole_data_facets_overview.html'\n",
    "\n",
    "HTML_TEMPLATE = \"\"\"\n",
    "        <script src=\"https://cdnjs.cloudflare.com/ajax/libs/webcomponentsjs/1.3.3/webcomponents-lite.js\"></script>\n",
    "        <link rel=\"import\" href=\"https://raw.githubusercontent.com/PAIR-code/facets/1.0.0/facets-dist/facets-jupyter.html\" >\n",
    "        <facets-overview id=\"elem\"></facets-overview>\n",
    "        <script>\n",
    "          document.querySelector(\"#elem\").protoInput = \"{protostr}\";\n",
    "        </script>\"\"\"\n",
    "\n",
    "html = HTML_TEMPLATE.format(protostr=protostr)\n",
    "\n",
    "# to display\n",
    "display(HTML(html))\n",
    "\n",
    "# to save\n",
    "with open(OUTPUT_FILE_PATH, \"wb\") as f:\n",
    "   f.write(html.encode('utf-8'))"
   ]
  },
  {
   "cell_type": "code",
   "execution_count": 3,
   "id": "757353a7-741d-41c2-baf9-e53ba0b0291b",
   "metadata": {},
   "outputs": [
    {
     "data": {
      "text/html": [
       "<div>\n",
       "<style scoped>\n",
       "    .dataframe tbody tr th:only-of-type {\n",
       "        vertical-align: middle;\n",
       "    }\n",
       "\n",
       "    .dataframe tbody tr th {\n",
       "        vertical-align: top;\n",
       "    }\n",
       "\n",
       "    .dataframe thead th {\n",
       "        text-align: right;\n",
       "    }\n",
       "</style>\n",
       "<table border=\"1\" class=\"dataframe\">\n",
       "  <thead>\n",
       "    <tr style=\"text-align: right;\">\n",
       "      <th></th>\n",
       "      <th>landmark_0-axis_0</th>\n",
       "      <th>landmark_0-axis_1</th>\n",
       "      <th>landmark_0-axis_2</th>\n",
       "      <th>landmark_1-axis_0</th>\n",
       "      <th>landmark_1-axis_1</th>\n",
       "      <th>landmark_1-axis_2</th>\n",
       "      <th>landmark_2-axis_0</th>\n",
       "      <th>landmark_2-axis_1</th>\n",
       "      <th>landmark_2-axis_2</th>\n",
       "      <th>landmark_3-axis_0</th>\n",
       "      <th>...</th>\n",
       "      <th>landmark_18-axis_0</th>\n",
       "      <th>landmark_18-axis_1</th>\n",
       "      <th>landmark_18-axis_2</th>\n",
       "      <th>landmark_19-axis_0</th>\n",
       "      <th>landmark_19-axis_1</th>\n",
       "      <th>landmark_19-axis_2</th>\n",
       "      <th>landmark_20-axis_0</th>\n",
       "      <th>landmark_20-axis_1</th>\n",
       "      <th>landmark_20-axis_2</th>\n",
       "      <th>label</th>\n",
       "    </tr>\n",
       "  </thead>\n",
       "  <tbody>\n",
       "    <tr>\n",
       "      <th>6280</th>\n",
       "      <td>0.240340</td>\n",
       "      <td>1.000000</td>\n",
       "      <td>-8.706243e-07</td>\n",
       "      <td>0.701737</td>\n",
       "      <td>0.900798</td>\n",
       "      <td>-0.056589</td>\n",
       "      <td>1.000000</td>\n",
       "      <td>0.693806</td>\n",
       "      <td>-0.067841</td>\n",
       "      <td>0.820488</td>\n",
       "      <td>...</td>\n",
       "      <td>0.051780</td>\n",
       "      <td>0.263450</td>\n",
       "      <td>-0.033543</td>\n",
       "      <td>0.101188</td>\n",
       "      <td>0.128932</td>\n",
       "      <td>-0.038541</td>\n",
       "      <td>0.144211</td>\n",
       "      <td>0.000000</td>\n",
       "      <td>-0.029293</td>\n",
       "      <td>8</td>\n",
       "    </tr>\n",
       "    <tr>\n",
       "      <th>9723</th>\n",
       "      <td>0.913921</td>\n",
       "      <td>0.916978</td>\n",
       "      <td>-3.564024e-08</td>\n",
       "      <td>1.000000</td>\n",
       "      <td>0.622017</td>\n",
       "      <td>-0.068824</td>\n",
       "      <td>0.911857</td>\n",
       "      <td>0.247694</td>\n",
       "      <td>-0.092950</td>\n",
       "      <td>0.725065</td>\n",
       "      <td>...</td>\n",
       "      <td>0.382177</td>\n",
       "      <td>0.868375</td>\n",
       "      <td>-0.137134</td>\n",
       "      <td>0.553851</td>\n",
       "      <td>0.951596</td>\n",
       "      <td>-0.129949</td>\n",
       "      <td>0.678670</td>\n",
       "      <td>1.000000</td>\n",
       "      <td>-0.102735</td>\n",
       "      <td>6</td>\n",
       "    </tr>\n",
       "    <tr>\n",
       "      <th>13586</th>\n",
       "      <td>0.132875</td>\n",
       "      <td>1.000000</td>\n",
       "      <td>2.269528e-08</td>\n",
       "      <td>0.427962</td>\n",
       "      <td>0.944256</td>\n",
       "      <td>-0.092739</td>\n",
       "      <td>0.706030</td>\n",
       "      <td>0.807492</td>\n",
       "      <td>-0.141633</td>\n",
       "      <td>0.902898</td>\n",
       "      <td>...</td>\n",
       "      <td>0.036768</td>\n",
       "      <td>0.249036</td>\n",
       "      <td>-0.059050</td>\n",
       "      <td>0.051853</td>\n",
       "      <td>0.417905</td>\n",
       "      <td>-0.023372</td>\n",
       "      <td>0.054266</td>\n",
       "      <td>0.475124</td>\n",
       "      <td>0.017277</td>\n",
       "      <td>19</td>\n",
       "    </tr>\n",
       "    <tr>\n",
       "      <th>17005</th>\n",
       "      <td>0.388107</td>\n",
       "      <td>1.000000</td>\n",
       "      <td>-7.803047e-07</td>\n",
       "      <td>0.815729</td>\n",
       "      <td>0.864753</td>\n",
       "      <td>-0.042863</td>\n",
       "      <td>1.000000</td>\n",
       "      <td>0.484522</td>\n",
       "      <td>-0.048950</td>\n",
       "      <td>0.662923</td>\n",
       "      <td>...</td>\n",
       "      <td>0.006795</td>\n",
       "      <td>0.318315</td>\n",
       "      <td>-0.078091</td>\n",
       "      <td>0.106224</td>\n",
       "      <td>0.524428</td>\n",
       "      <td>-0.055097</td>\n",
       "      <td>0.107260</td>\n",
       "      <td>0.609925</td>\n",
       "      <td>-0.027988</td>\n",
       "      <td>18</td>\n",
       "    </tr>\n",
       "    <tr>\n",
       "      <th>21715</th>\n",
       "      <td>0.658822</td>\n",
       "      <td>1.000000</td>\n",
       "      <td>9.709986e-07</td>\n",
       "      <td>0.851430</td>\n",
       "      <td>0.807790</td>\n",
       "      <td>-0.049348</td>\n",
       "      <td>0.976963</td>\n",
       "      <td>0.658024</td>\n",
       "      <td>-0.076231</td>\n",
       "      <td>1.000000</td>\n",
       "      <td>...</td>\n",
       "      <td>0.045997</td>\n",
       "      <td>0.493979</td>\n",
       "      <td>-0.103539</td>\n",
       "      <td>0.000000</td>\n",
       "      <td>0.383998</td>\n",
       "      <td>-0.124194</td>\n",
       "      <td>0.019168</td>\n",
       "      <td>0.274529</td>\n",
       "      <td>-0.136008</td>\n",
       "      <td>5</td>\n",
       "    </tr>\n",
       "    <tr>\n",
       "      <th>30025</th>\n",
       "      <td>0.819943</td>\n",
       "      <td>1.000000</td>\n",
       "      <td>2.971550e-07</td>\n",
       "      <td>0.954820</td>\n",
       "      <td>0.689918</td>\n",
       "      <td>-0.042359</td>\n",
       "      <td>0.988337</td>\n",
       "      <td>0.435617</td>\n",
       "      <td>-0.072810</td>\n",
       "      <td>0.994574</td>\n",
       "      <td>...</td>\n",
       "      <td>0.159422</td>\n",
       "      <td>0.405125</td>\n",
       "      <td>-0.088871</td>\n",
       "      <td>0.089597</td>\n",
       "      <td>0.266519</td>\n",
       "      <td>-0.083869</td>\n",
       "      <td>0.048399</td>\n",
       "      <td>0.144627</td>\n",
       "      <td>-0.073348</td>\n",
       "      <td>27</td>\n",
       "    </tr>\n",
       "    <tr>\n",
       "      <th>34274</th>\n",
       "      <td>0.891773</td>\n",
       "      <td>1.000000</td>\n",
       "      <td>-8.307363e-07</td>\n",
       "      <td>1.000000</td>\n",
       "      <td>0.682922</td>\n",
       "      <td>-0.065316</td>\n",
       "      <td>0.920613</td>\n",
       "      <td>0.331110</td>\n",
       "      <td>-0.080966</td>\n",
       "      <td>0.657709</td>\n",
       "      <td>...</td>\n",
       "      <td>0.222229</td>\n",
       "      <td>0.327166</td>\n",
       "      <td>-0.006598</td>\n",
       "      <td>0.101868</td>\n",
       "      <td>0.197754</td>\n",
       "      <td>-0.013901</td>\n",
       "      <td>0.000000</td>\n",
       "      <td>0.084160</td>\n",
       "      <td>-0.008320</td>\n",
       "      <td>9</td>\n",
       "    </tr>\n",
       "    <tr>\n",
       "      <th>44118</th>\n",
       "      <td>1.000000</td>\n",
       "      <td>0.081555</td>\n",
       "      <td>6.273256e-07</td>\n",
       "      <td>0.988922</td>\n",
       "      <td>0.337921</td>\n",
       "      <td>-0.264467</td>\n",
       "      <td>0.876941</td>\n",
       "      <td>0.567423</td>\n",
       "      <td>-0.378250</td>\n",
       "      <td>0.742969</td>\n",
       "      <td>...</td>\n",
       "      <td>0.272133</td>\n",
       "      <td>0.243640</td>\n",
       "      <td>0.019245</td>\n",
       "      <td>0.335906</td>\n",
       "      <td>0.339652</td>\n",
       "      <td>0.006518</td>\n",
       "      <td>0.418942</td>\n",
       "      <td>0.346899</td>\n",
       "      <td>0.005842</td>\n",
       "      <td>16</td>\n",
       "    </tr>\n",
       "    <tr>\n",
       "      <th>51525</th>\n",
       "      <td>0.270641</td>\n",
       "      <td>1.000000</td>\n",
       "      <td>8.067926e-07</td>\n",
       "      <td>0.724193</td>\n",
       "      <td>0.925282</td>\n",
       "      <td>-0.086247</td>\n",
       "      <td>1.000000</td>\n",
       "      <td>0.754662</td>\n",
       "      <td>-0.120635</td>\n",
       "      <td>0.815115</td>\n",
       "      <td>...</td>\n",
       "      <td>0.005281</td>\n",
       "      <td>0.389273</td>\n",
       "      <td>-0.085212</td>\n",
       "      <td>0.013942</td>\n",
       "      <td>0.286249</td>\n",
       "      <td>-0.099863</td>\n",
       "      <td>0.019024</td>\n",
       "      <td>0.195049</td>\n",
       "      <td>-0.109921</td>\n",
       "      <td>1</td>\n",
       "    </tr>\n",
       "    <tr>\n",
       "      <th>52347</th>\n",
       "      <td>0.458424</td>\n",
       "      <td>1.000000</td>\n",
       "      <td>1.148103e-06</td>\n",
       "      <td>0.774423</td>\n",
       "      <td>0.895074</td>\n",
       "      <td>-0.071655</td>\n",
       "      <td>0.829200</td>\n",
       "      <td>0.681954</td>\n",
       "      <td>-0.091619</td>\n",
       "      <td>0.534854</td>\n",
       "      <td>...</td>\n",
       "      <td>0.000000</td>\n",
       "      <td>0.585581</td>\n",
       "      <td>-0.136561</td>\n",
       "      <td>0.113559</td>\n",
       "      <td>0.713818</td>\n",
       "      <td>-0.134548</td>\n",
       "      <td>0.180267</td>\n",
       "      <td>0.810032</td>\n",
       "      <td>-0.108564</td>\n",
       "      <td>10</td>\n",
       "    </tr>\n",
       "    <tr>\n",
       "      <th>54549</th>\n",
       "      <td>0.105749</td>\n",
       "      <td>1.000000</td>\n",
       "      <td>2.608852e-07</td>\n",
       "      <td>0.372407</td>\n",
       "      <td>0.999220</td>\n",
       "      <td>-0.107340</td>\n",
       "      <td>0.628303</td>\n",
       "      <td>0.891621</td>\n",
       "      <td>-0.156708</td>\n",
       "      <td>0.836010</td>\n",
       "      <td>...</td>\n",
       "      <td>0.009659</td>\n",
       "      <td>0.500194</td>\n",
       "      <td>-0.128799</td>\n",
       "      <td>0.000000</td>\n",
       "      <td>0.659741</td>\n",
       "      <td>-0.117523</td>\n",
       "      <td>0.015676</td>\n",
       "      <td>0.773787</td>\n",
       "      <td>-0.084991</td>\n",
       "      <td>11</td>\n",
       "    </tr>\n",
       "    <tr>\n",
       "      <th>57273</th>\n",
       "      <td>0.669271</td>\n",
       "      <td>1.000000</td>\n",
       "      <td>-9.988880e-07</td>\n",
       "      <td>0.832537</td>\n",
       "      <td>0.721911</td>\n",
       "      <td>-0.057859</td>\n",
       "      <td>0.962633</td>\n",
       "      <td>0.447249</td>\n",
       "      <td>-0.084072</td>\n",
       "      <td>1.000000</td>\n",
       "      <td>...</td>\n",
       "      <td>0.185549</td>\n",
       "      <td>0.449152</td>\n",
       "      <td>-0.064394</td>\n",
       "      <td>0.088501</td>\n",
       "      <td>0.345923</td>\n",
       "      <td>-0.063761</td>\n",
       "      <td>0.000000</td>\n",
       "      <td>0.230642</td>\n",
       "      <td>-0.053649</td>\n",
       "      <td>24</td>\n",
       "    </tr>\n",
       "    <tr>\n",
       "      <th>60588</th>\n",
       "      <td>1.000000</td>\n",
       "      <td>0.446052</td>\n",
       "      <td>1.149357e-06</td>\n",
       "      <td>0.904859</td>\n",
       "      <td>0.645181</td>\n",
       "      <td>-0.209942</td>\n",
       "      <td>0.732717</td>\n",
       "      <td>0.732516</td>\n",
       "      <td>-0.296872</td>\n",
       "      <td>0.565248</td>\n",
       "      <td>...</td>\n",
       "      <td>0.424444</td>\n",
       "      <td>0.295767</td>\n",
       "      <td>0.062102</td>\n",
       "      <td>0.386799</td>\n",
       "      <td>0.475461</td>\n",
       "      <td>0.040409</td>\n",
       "      <td>0.383513</td>\n",
       "      <td>0.625921</td>\n",
       "      <td>0.027155</td>\n",
       "      <td>15</td>\n",
       "    </tr>\n",
       "    <tr>\n",
       "      <th>63725</th>\n",
       "      <td>0.679875</td>\n",
       "      <td>1.000000</td>\n",
       "      <td>2.300134e-06</td>\n",
       "      <td>0.760320</td>\n",
       "      <td>0.997522</td>\n",
       "      <td>-0.146006</td>\n",
       "      <td>0.648889</td>\n",
       "      <td>0.929217</td>\n",
       "      <td>-0.236167</td>\n",
       "      <td>0.364481</td>\n",
       "      <td>...</td>\n",
       "      <td>0.743029</td>\n",
       "      <td>0.553088</td>\n",
       "      <td>-0.203838</td>\n",
       "      <td>0.864314</td>\n",
       "      <td>0.433446</td>\n",
       "      <td>-0.229610</td>\n",
       "      <td>1.000000</td>\n",
       "      <td>0.334638</td>\n",
       "      <td>-0.245095</td>\n",
       "      <td>22</td>\n",
       "    </tr>\n",
       "  </tbody>\n",
       "</table>\n",
       "<p>14 rows × 64 columns</p>\n",
       "</div>"
      ],
      "text/plain": [
       "       landmark_0-axis_0  landmark_0-axis_1  landmark_0-axis_2  \\\n",
       "6280            0.240340           1.000000      -8.706243e-07   \n",
       "9723            0.913921           0.916978      -3.564024e-08   \n",
       "13586           0.132875           1.000000       2.269528e-08   \n",
       "17005           0.388107           1.000000      -7.803047e-07   \n",
       "21715           0.658822           1.000000       9.709986e-07   \n",
       "30025           0.819943           1.000000       2.971550e-07   \n",
       "34274           0.891773           1.000000      -8.307363e-07   \n",
       "44118           1.000000           0.081555       6.273256e-07   \n",
       "51525           0.270641           1.000000       8.067926e-07   \n",
       "52347           0.458424           1.000000       1.148103e-06   \n",
       "54549           0.105749           1.000000       2.608852e-07   \n",
       "57273           0.669271           1.000000      -9.988880e-07   \n",
       "60588           1.000000           0.446052       1.149357e-06   \n",
       "63725           0.679875           1.000000       2.300134e-06   \n",
       "\n",
       "       landmark_1-axis_0  landmark_1-axis_1  landmark_1-axis_2  \\\n",
       "6280            0.701737           0.900798          -0.056589   \n",
       "9723            1.000000           0.622017          -0.068824   \n",
       "13586           0.427962           0.944256          -0.092739   \n",
       "17005           0.815729           0.864753          -0.042863   \n",
       "21715           0.851430           0.807790          -0.049348   \n",
       "30025           0.954820           0.689918          -0.042359   \n",
       "34274           1.000000           0.682922          -0.065316   \n",
       "44118           0.988922           0.337921          -0.264467   \n",
       "51525           0.724193           0.925282          -0.086247   \n",
       "52347           0.774423           0.895074          -0.071655   \n",
       "54549           0.372407           0.999220          -0.107340   \n",
       "57273           0.832537           0.721911          -0.057859   \n",
       "60588           0.904859           0.645181          -0.209942   \n",
       "63725           0.760320           0.997522          -0.146006   \n",
       "\n",
       "       landmark_2-axis_0  landmark_2-axis_1  landmark_2-axis_2  \\\n",
       "6280            1.000000           0.693806          -0.067841   \n",
       "9723            0.911857           0.247694          -0.092950   \n",
       "13586           0.706030           0.807492          -0.141633   \n",
       "17005           1.000000           0.484522          -0.048950   \n",
       "21715           0.976963           0.658024          -0.076231   \n",
       "30025           0.988337           0.435617          -0.072810   \n",
       "34274           0.920613           0.331110          -0.080966   \n",
       "44118           0.876941           0.567423          -0.378250   \n",
       "51525           1.000000           0.754662          -0.120635   \n",
       "52347           0.829200           0.681954          -0.091619   \n",
       "54549           0.628303           0.891621          -0.156708   \n",
       "57273           0.962633           0.447249          -0.084072   \n",
       "60588           0.732717           0.732516          -0.296872   \n",
       "63725           0.648889           0.929217          -0.236167   \n",
       "\n",
       "       landmark_3-axis_0  ...  landmark_18-axis_0  landmark_18-axis_1  \\\n",
       "6280            0.820488  ...            0.051780            0.263450   \n",
       "9723            0.725065  ...            0.382177            0.868375   \n",
       "13586           0.902898  ...            0.036768            0.249036   \n",
       "17005           0.662923  ...            0.006795            0.318315   \n",
       "21715           1.000000  ...            0.045997            0.493979   \n",
       "30025           0.994574  ...            0.159422            0.405125   \n",
       "34274           0.657709  ...            0.222229            0.327166   \n",
       "44118           0.742969  ...            0.272133            0.243640   \n",
       "51525           0.815115  ...            0.005281            0.389273   \n",
       "52347           0.534854  ...            0.000000            0.585581   \n",
       "54549           0.836010  ...            0.009659            0.500194   \n",
       "57273           1.000000  ...            0.185549            0.449152   \n",
       "60588           0.565248  ...            0.424444            0.295767   \n",
       "63725           0.364481  ...            0.743029            0.553088   \n",
       "\n",
       "       landmark_18-axis_2  landmark_19-axis_0  landmark_19-axis_1  \\\n",
       "6280            -0.033543            0.101188            0.128932   \n",
       "9723            -0.137134            0.553851            0.951596   \n",
       "13586           -0.059050            0.051853            0.417905   \n",
       "17005           -0.078091            0.106224            0.524428   \n",
       "21715           -0.103539            0.000000            0.383998   \n",
       "30025           -0.088871            0.089597            0.266519   \n",
       "34274           -0.006598            0.101868            0.197754   \n",
       "44118            0.019245            0.335906            0.339652   \n",
       "51525           -0.085212            0.013942            0.286249   \n",
       "52347           -0.136561            0.113559            0.713818   \n",
       "54549           -0.128799            0.000000            0.659741   \n",
       "57273           -0.064394            0.088501            0.345923   \n",
       "60588            0.062102            0.386799            0.475461   \n",
       "63725           -0.203838            0.864314            0.433446   \n",
       "\n",
       "       landmark_19-axis_2  landmark_20-axis_0  landmark_20-axis_1  \\\n",
       "6280            -0.038541            0.144211            0.000000   \n",
       "9723            -0.129949            0.678670            1.000000   \n",
       "13586           -0.023372            0.054266            0.475124   \n",
       "17005           -0.055097            0.107260            0.609925   \n",
       "21715           -0.124194            0.019168            0.274529   \n",
       "30025           -0.083869            0.048399            0.144627   \n",
       "34274           -0.013901            0.000000            0.084160   \n",
       "44118            0.006518            0.418942            0.346899   \n",
       "51525           -0.099863            0.019024            0.195049   \n",
       "52347           -0.134548            0.180267            0.810032   \n",
       "54549           -0.117523            0.015676            0.773787   \n",
       "57273           -0.063761            0.000000            0.230642   \n",
       "60588            0.040409            0.383513            0.625921   \n",
       "63725           -0.229610            1.000000            0.334638   \n",
       "\n",
       "       landmark_20-axis_2  label  \n",
       "6280            -0.029293      8  \n",
       "9723            -0.102735      6  \n",
       "13586            0.017277     19  \n",
       "17005           -0.027988     18  \n",
       "21715           -0.136008      5  \n",
       "30025           -0.073348     27  \n",
       "34274           -0.008320      9  \n",
       "44118            0.005842     16  \n",
       "51525           -0.109921      1  \n",
       "52347           -0.108564     10  \n",
       "54549           -0.084991     11  \n",
       "57273           -0.053649     24  \n",
       "60588            0.027155     15  \n",
       "63725           -0.245095     22  \n",
       "\n",
       "[14 rows x 64 columns]"
      ]
     },
     "execution_count": 3,
     "metadata": {},
     "output_type": "execute_result"
    }
   ],
   "source": [
    "duplicates = df[df.duplicated()]\n",
    "\n",
    "duplicates"
   ]
  },
  {
   "cell_type": "code",
   "execution_count": 4,
   "id": "a6ab271e-67c2-44f5-ac2d-1708ef052acc",
   "metadata": {},
   "outputs": [],
   "source": [
    "df.drop_duplicates(inplace=True)"
   ]
  },
  {
   "cell_type": "code",
   "execution_count": 5,
   "id": "50f0986f-f941-42b4-832b-de35067c99a2",
   "metadata": {},
   "outputs": [
    {
     "data": {
      "text/plain": [
       "(64491, 64)"
      ]
     },
     "execution_count": 5,
     "metadata": {},
     "output_type": "execute_result"
    }
   ],
   "source": [
    "df.shape"
   ]
  },
  {
   "cell_type": "code",
   "execution_count": 13,
   "id": "0733ea83-60f7-4bce-b37a-0474c976d8fb",
   "metadata": {},
   "outputs": [
    {
     "data": {
      "text/plain": [
       "label\n",
       "5     2911\n",
       "10    2728\n",
       "9     2617\n",
       "24    2611\n",
       "18    2585\n",
       "21    2578\n",
       "17    2571\n",
       "11    2555\n",
       "20    2544\n",
       "3     2486\n",
       "22    2482\n",
       "6     2469\n",
       "7     2420\n",
       "8     2415\n",
       "25    2382\n",
       "19    2372\n",
       "4     2331\n",
       "14    2294\n",
       "1     2233\n",
       "0     2222\n",
       "23    2185\n",
       "16    2127\n",
       "15    2066\n",
       "2     2008\n",
       "26    1708\n",
       "27    1651\n",
       "12    1615\n",
       "13    1322\n",
       "28       3\n",
       "Name: count, dtype: int64"
      ]
     },
     "execution_count": 13,
     "metadata": {},
     "output_type": "execute_result"
    }
   ],
   "source": [
    "df.label.value_counts()"
   ]
  },
  {
   "cell_type": "code",
   "execution_count": 6,
   "id": "8edeea9c-67cd-413a-88d5-fc4d6a941c12",
   "metadata": {},
   "outputs": [],
   "source": [
    "# Deleting nothing class\n",
    "df.drop(df[df['label'] == 28].index, inplace=True)"
   ]
  },
  {
   "cell_type": "code",
   "execution_count": 7,
   "id": "525b3f32-3c85-4130-9f46-d76beed4d031",
   "metadata": {},
   "outputs": [
    {
     "data": {
      "text/plain": [
       "(64488, 64)"
      ]
     },
     "execution_count": 7,
     "metadata": {},
     "output_type": "execute_result"
    }
   ],
   "source": [
    "df.shape"
   ]
  },
  {
   "cell_type": "code",
   "execution_count": 8,
   "id": "c9d06310-9dcb-485a-901a-514237d82ec5",
   "metadata": {},
   "outputs": [
    {
     "data": {
      "text/plain": [
       "label\n",
       "5     2911\n",
       "10    2728\n",
       "9     2617\n",
       "24    2611\n",
       "18    2585\n",
       "21    2578\n",
       "17    2571\n",
       "11    2555\n",
       "20    2544\n",
       "3     2486\n",
       "22    2482\n",
       "6     2469\n",
       "7     2420\n",
       "8     2415\n",
       "25    2382\n",
       "19    2372\n",
       "4     2331\n",
       "14    2294\n",
       "1     2233\n",
       "0     2222\n",
       "23    2185\n",
       "16    2127\n",
       "15    2066\n",
       "2     2008\n",
       "26    1708\n",
       "27    1651\n",
       "12    1615\n",
       "13    1322\n",
       "Name: count, dtype: int64"
      ]
     },
     "execution_count": 8,
     "metadata": {},
     "output_type": "execute_result"
    }
   ],
   "source": [
    "df.label.value_counts()"
   ]
  },
  {
   "cell_type": "code",
   "execution_count": 18,
   "id": "10dd8e15-d4bd-414e-a3ca-d8f465cdd78e",
   "metadata": {},
   "outputs": [
    {
     "data": {
      "application/vnd.plotly.v1+json": {
       "config": {
        "plotlyServerURL": "https://plot.ly"
       },
       "data": [
        {
         "type": "bar",
         "x": [
          0,
          1,
          2,
          3,
          4,
          5,
          6,
          7,
          8,
          9,
          10,
          11,
          12,
          13,
          14,
          15,
          16,
          17,
          18,
          19,
          20,
          21,
          22,
          23,
          24,
          25,
          26,
          27
         ],
         "y": [
          2911,
          2728,
          2617,
          2611,
          2585,
          2578,
          2571,
          2555,
          2544,
          2486,
          2482,
          2469,
          2420,
          2415,
          2382,
          2372,
          2331,
          2294,
          2233,
          2222,
          2185,
          2127,
          2066,
          2008,
          1708,
          1651,
          1615,
          1322
         ]
        }
       ],
       "layout": {
        "autosize": true,
        "template": {
         "data": {
          "bar": [
           {
            "error_x": {
             "color": "#2a3f5f"
            },
            "error_y": {
             "color": "#2a3f5f"
            },
            "marker": {
             "line": {
              "color": "#E5ECF6",
              "width": 0.5
             },
             "pattern": {
              "fillmode": "overlay",
              "size": 10,
              "solidity": 0.2
             }
            },
            "type": "bar"
           }
          ],
          "barpolar": [
           {
            "marker": {
             "line": {
              "color": "#E5ECF6",
              "width": 0.5
             },
             "pattern": {
              "fillmode": "overlay",
              "size": 10,
              "solidity": 0.2
             }
            },
            "type": "barpolar"
           }
          ],
          "carpet": [
           {
            "aaxis": {
             "endlinecolor": "#2a3f5f",
             "gridcolor": "white",
             "linecolor": "white",
             "minorgridcolor": "white",
             "startlinecolor": "#2a3f5f"
            },
            "baxis": {
             "endlinecolor": "#2a3f5f",
             "gridcolor": "white",
             "linecolor": "white",
             "minorgridcolor": "white",
             "startlinecolor": "#2a3f5f"
            },
            "type": "carpet"
           }
          ],
          "choropleth": [
           {
            "colorbar": {
             "outlinewidth": 0,
             "ticks": ""
            },
            "type": "choropleth"
           }
          ],
          "contour": [
           {
            "colorbar": {
             "outlinewidth": 0,
             "ticks": ""
            },
            "colorscale": [
             [
              0,
              "#0d0887"
             ],
             [
              0.1111111111111111,
              "#46039f"
             ],
             [
              0.2222222222222222,
              "#7201a8"
             ],
             [
              0.3333333333333333,
              "#9c179e"
             ],
             [
              0.4444444444444444,
              "#bd3786"
             ],
             [
              0.5555555555555556,
              "#d8576b"
             ],
             [
              0.6666666666666666,
              "#ed7953"
             ],
             [
              0.7777777777777778,
              "#fb9f3a"
             ],
             [
              0.8888888888888888,
              "#fdca26"
             ],
             [
              1,
              "#f0f921"
             ]
            ],
            "type": "contour"
           }
          ],
          "contourcarpet": [
           {
            "colorbar": {
             "outlinewidth": 0,
             "ticks": ""
            },
            "type": "contourcarpet"
           }
          ],
          "heatmap": [
           {
            "colorbar": {
             "outlinewidth": 0,
             "ticks": ""
            },
            "colorscale": [
             [
              0,
              "#0d0887"
             ],
             [
              0.1111111111111111,
              "#46039f"
             ],
             [
              0.2222222222222222,
              "#7201a8"
             ],
             [
              0.3333333333333333,
              "#9c179e"
             ],
             [
              0.4444444444444444,
              "#bd3786"
             ],
             [
              0.5555555555555556,
              "#d8576b"
             ],
             [
              0.6666666666666666,
              "#ed7953"
             ],
             [
              0.7777777777777778,
              "#fb9f3a"
             ],
             [
              0.8888888888888888,
              "#fdca26"
             ],
             [
              1,
              "#f0f921"
             ]
            ],
            "type": "heatmap"
           }
          ],
          "heatmapgl": [
           {
            "colorbar": {
             "outlinewidth": 0,
             "ticks": ""
            },
            "colorscale": [
             [
              0,
              "#0d0887"
             ],
             [
              0.1111111111111111,
              "#46039f"
             ],
             [
              0.2222222222222222,
              "#7201a8"
             ],
             [
              0.3333333333333333,
              "#9c179e"
             ],
             [
              0.4444444444444444,
              "#bd3786"
             ],
             [
              0.5555555555555556,
              "#d8576b"
             ],
             [
              0.6666666666666666,
              "#ed7953"
             ],
             [
              0.7777777777777778,
              "#fb9f3a"
             ],
             [
              0.8888888888888888,
              "#fdca26"
             ],
             [
              1,
              "#f0f921"
             ]
            ],
            "type": "heatmapgl"
           }
          ],
          "histogram": [
           {
            "marker": {
             "pattern": {
              "fillmode": "overlay",
              "size": 10,
              "solidity": 0.2
             }
            },
            "type": "histogram"
           }
          ],
          "histogram2d": [
           {
            "colorbar": {
             "outlinewidth": 0,
             "ticks": ""
            },
            "colorscale": [
             [
              0,
              "#0d0887"
             ],
             [
              0.1111111111111111,
              "#46039f"
             ],
             [
              0.2222222222222222,
              "#7201a8"
             ],
             [
              0.3333333333333333,
              "#9c179e"
             ],
             [
              0.4444444444444444,
              "#bd3786"
             ],
             [
              0.5555555555555556,
              "#d8576b"
             ],
             [
              0.6666666666666666,
              "#ed7953"
             ],
             [
              0.7777777777777778,
              "#fb9f3a"
             ],
             [
              0.8888888888888888,
              "#fdca26"
             ],
             [
              1,
              "#f0f921"
             ]
            ],
            "type": "histogram2d"
           }
          ],
          "histogram2dcontour": [
           {
            "colorbar": {
             "outlinewidth": 0,
             "ticks": ""
            },
            "colorscale": [
             [
              0,
              "#0d0887"
             ],
             [
              0.1111111111111111,
              "#46039f"
             ],
             [
              0.2222222222222222,
              "#7201a8"
             ],
             [
              0.3333333333333333,
              "#9c179e"
             ],
             [
              0.4444444444444444,
              "#bd3786"
             ],
             [
              0.5555555555555556,
              "#d8576b"
             ],
             [
              0.6666666666666666,
              "#ed7953"
             ],
             [
              0.7777777777777778,
              "#fb9f3a"
             ],
             [
              0.8888888888888888,
              "#fdca26"
             ],
             [
              1,
              "#f0f921"
             ]
            ],
            "type": "histogram2dcontour"
           }
          ],
          "mesh3d": [
           {
            "colorbar": {
             "outlinewidth": 0,
             "ticks": ""
            },
            "type": "mesh3d"
           }
          ],
          "parcoords": [
           {
            "line": {
             "colorbar": {
              "outlinewidth": 0,
              "ticks": ""
             }
            },
            "type": "parcoords"
           }
          ],
          "pie": [
           {
            "automargin": true,
            "type": "pie"
           }
          ],
          "scatter": [
           {
            "fillpattern": {
             "fillmode": "overlay",
             "size": 10,
             "solidity": 0.2
            },
            "type": "scatter"
           }
          ],
          "scatter3d": [
           {
            "line": {
             "colorbar": {
              "outlinewidth": 0,
              "ticks": ""
             }
            },
            "marker": {
             "colorbar": {
              "outlinewidth": 0,
              "ticks": ""
             }
            },
            "type": "scatter3d"
           }
          ],
          "scattercarpet": [
           {
            "marker": {
             "colorbar": {
              "outlinewidth": 0,
              "ticks": ""
             }
            },
            "type": "scattercarpet"
           }
          ],
          "scattergeo": [
           {
            "marker": {
             "colorbar": {
              "outlinewidth": 0,
              "ticks": ""
             }
            },
            "type": "scattergeo"
           }
          ],
          "scattergl": [
           {
            "marker": {
             "colorbar": {
              "outlinewidth": 0,
              "ticks": ""
             }
            },
            "type": "scattergl"
           }
          ],
          "scattermapbox": [
           {
            "marker": {
             "colorbar": {
              "outlinewidth": 0,
              "ticks": ""
             }
            },
            "type": "scattermapbox"
           }
          ],
          "scatterpolar": [
           {
            "marker": {
             "colorbar": {
              "outlinewidth": 0,
              "ticks": ""
             }
            },
            "type": "scatterpolar"
           }
          ],
          "scatterpolargl": [
           {
            "marker": {
             "colorbar": {
              "outlinewidth": 0,
              "ticks": ""
             }
            },
            "type": "scatterpolargl"
           }
          ],
          "scatterternary": [
           {
            "marker": {
             "colorbar": {
              "outlinewidth": 0,
              "ticks": ""
             }
            },
            "type": "scatterternary"
           }
          ],
          "surface": [
           {
            "colorbar": {
             "outlinewidth": 0,
             "ticks": ""
            },
            "colorscale": [
             [
              0,
              "#0d0887"
             ],
             [
              0.1111111111111111,
              "#46039f"
             ],
             [
              0.2222222222222222,
              "#7201a8"
             ],
             [
              0.3333333333333333,
              "#9c179e"
             ],
             [
              0.4444444444444444,
              "#bd3786"
             ],
             [
              0.5555555555555556,
              "#d8576b"
             ],
             [
              0.6666666666666666,
              "#ed7953"
             ],
             [
              0.7777777777777778,
              "#fb9f3a"
             ],
             [
              0.8888888888888888,
              "#fdca26"
             ],
             [
              1,
              "#f0f921"
             ]
            ],
            "type": "surface"
           }
          ],
          "table": [
           {
            "cells": {
             "fill": {
              "color": "#EBF0F8"
             },
             "line": {
              "color": "white"
             }
            },
            "header": {
             "fill": {
              "color": "#C8D4E3"
             },
             "line": {
              "color": "white"
             }
            },
            "type": "table"
           }
          ]
         },
         "layout": {
          "annotationdefaults": {
           "arrowcolor": "#2a3f5f",
           "arrowhead": 0,
           "arrowwidth": 1
          },
          "autotypenumbers": "strict",
          "coloraxis": {
           "colorbar": {
            "outlinewidth": 0,
            "ticks": ""
           }
          },
          "colorscale": {
           "diverging": [
            [
             0,
             "#8e0152"
            ],
            [
             0.1,
             "#c51b7d"
            ],
            [
             0.2,
             "#de77ae"
            ],
            [
             0.3,
             "#f1b6da"
            ],
            [
             0.4,
             "#fde0ef"
            ],
            [
             0.5,
             "#f7f7f7"
            ],
            [
             0.6,
             "#e6f5d0"
            ],
            [
             0.7,
             "#b8e186"
            ],
            [
             0.8,
             "#7fbc41"
            ],
            [
             0.9,
             "#4d9221"
            ],
            [
             1,
             "#276419"
            ]
           ],
           "sequential": [
            [
             0,
             "#0d0887"
            ],
            [
             0.1111111111111111,
             "#46039f"
            ],
            [
             0.2222222222222222,
             "#7201a8"
            ],
            [
             0.3333333333333333,
             "#9c179e"
            ],
            [
             0.4444444444444444,
             "#bd3786"
            ],
            [
             0.5555555555555556,
             "#d8576b"
            ],
            [
             0.6666666666666666,
             "#ed7953"
            ],
            [
             0.7777777777777778,
             "#fb9f3a"
            ],
            [
             0.8888888888888888,
             "#fdca26"
            ],
            [
             1,
             "#f0f921"
            ]
           ],
           "sequentialminus": [
            [
             0,
             "#0d0887"
            ],
            [
             0.1111111111111111,
             "#46039f"
            ],
            [
             0.2222222222222222,
             "#7201a8"
            ],
            [
             0.3333333333333333,
             "#9c179e"
            ],
            [
             0.4444444444444444,
             "#bd3786"
            ],
            [
             0.5555555555555556,
             "#d8576b"
            ],
            [
             0.6666666666666666,
             "#ed7953"
            ],
            [
             0.7777777777777778,
             "#fb9f3a"
            ],
            [
             0.8888888888888888,
             "#fdca26"
            ],
            [
             1,
             "#f0f921"
            ]
           ]
          },
          "colorway": [
           "#636efa",
           "#EF553B",
           "#00cc96",
           "#ab63fa",
           "#FFA15A",
           "#19d3f3",
           "#FF6692",
           "#B6E880",
           "#FF97FF",
           "#FECB52"
          ],
          "font": {
           "color": "#2a3f5f"
          },
          "geo": {
           "bgcolor": "white",
           "lakecolor": "white",
           "landcolor": "#E5ECF6",
           "showlakes": true,
           "showland": true,
           "subunitcolor": "white"
          },
          "hoverlabel": {
           "align": "left"
          },
          "hovermode": "closest",
          "mapbox": {
           "style": "light"
          },
          "paper_bgcolor": "white",
          "plot_bgcolor": "#E5ECF6",
          "polar": {
           "angularaxis": {
            "gridcolor": "white",
            "linecolor": "white",
            "ticks": ""
           },
           "bgcolor": "#E5ECF6",
           "radialaxis": {
            "gridcolor": "white",
            "linecolor": "white",
            "ticks": ""
           }
          },
          "scene": {
           "xaxis": {
            "backgroundcolor": "#E5ECF6",
            "gridcolor": "white",
            "gridwidth": 2,
            "linecolor": "white",
            "showbackground": true,
            "ticks": "",
            "zerolinecolor": "white"
           },
           "yaxis": {
            "backgroundcolor": "#E5ECF6",
            "gridcolor": "white",
            "gridwidth": 2,
            "linecolor": "white",
            "showbackground": true,
            "ticks": "",
            "zerolinecolor": "white"
           },
           "zaxis": {
            "backgroundcolor": "#E5ECF6",
            "gridcolor": "white",
            "gridwidth": 2,
            "linecolor": "white",
            "showbackground": true,
            "ticks": "",
            "zerolinecolor": "white"
           }
          },
          "shapedefaults": {
           "line": {
            "color": "#2a3f5f"
           }
          },
          "ternary": {
           "aaxis": {
            "gridcolor": "white",
            "linecolor": "white",
            "ticks": ""
           },
           "baxis": {
            "gridcolor": "white",
            "linecolor": "white",
            "ticks": ""
           },
           "bgcolor": "#E5ECF6",
           "caxis": {
            "gridcolor": "white",
            "linecolor": "white",
            "ticks": ""
           }
          },
          "title": {
           "x": 0.05
          },
          "xaxis": {
           "automargin": true,
           "gridcolor": "white",
           "linecolor": "white",
           "ticks": "",
           "title": {
            "standoff": 15
           },
           "zerolinecolor": "white",
           "zerolinewidth": 2
          },
          "yaxis": {
           "automargin": true,
           "gridcolor": "white",
           "linecolor": "white",
           "ticks": "",
           "title": {
            "standoff": 15
           },
           "zerolinecolor": "white",
           "zerolinewidth": 2
          }
         }
        },
        "xaxis": {
         "autorange": true,
         "range": [
          -0.5,
          27.5
         ],
         "type": "linear"
        },
        "yaxis": {
         "autorange": true,
         "range": [
          0,
          3064.2105263157896
         ],
         "type": "linear"
        }
       }
      },
      "image/png": "[encoded data removed]",
      "text/html": [
       "<div>                            <div id=\"a57ffc67-57b9-4e4d-8ea8-5f789298f63c\" class=\"plotly-graph-div\" style=\"height:525px; width:100%;\"></div>            <script type=\"text/javascript\">                require([\"plotly\"], function(Plotly) {                    window.PLOTLYENV=window.PLOTLYENV || {};                                    if (document.getElementById(\"a57ffc67-57b9-4e4d-8ea8-5f789298f63c\")) {                    Plotly.newPlot(                        \"a57ffc67-57b9-4e4d-8ea8-5f789298f63c\",                        [{\"x\":[0,1,2,3,4,5,6,7,8,9,10,11,12,13,14,15,16,17,18,19,20,21,22,23,24,25,26,27],\"y\":[2911,2728,2617,2611,2585,2578,2571,2555,2544,2486,2482,2469,2420,2415,2382,2372,2331,2294,2233,2222,2185,2127,2066,2008,1708,1651,1615,1322],\"type\":\"bar\"}],                        {\"template\":{\"data\":{\"histogram2dcontour\":[{\"type\":\"histogram2dcontour\",\"colorbar\":{\"outlinewidth\":0,\"ticks\":\"\"},\"colorscale\":[[0.0,\"#0d0887\"],[0.1111111111111111,\"#46039f\"],[0.2222222222222222,\"#7201a8\"],[0.3333333333333333,\"#9c179e\"],[0.4444444444444444,\"#bd3786\"],[0.5555555555555556,\"#d8576b\"],[0.6666666666666666,\"#ed7953\"],[0.7777777777777778,\"#fb9f3a\"],[0.8888888888888888,\"#fdca26\"],[1.0,\"#f0f921\"]]}],\"choropleth\":[{\"type\":\"choropleth\",\"colorbar\":{\"outlinewidth\":0,\"ticks\":\"\"}}],\"histogram2d\":[{\"type\":\"histogram2d\",\"colorbar\":{\"outlinewidth\":0,\"ticks\":\"\"},\"colorscale\":[[0.0,\"#0d0887\"],[0.1111111111111111,\"#46039f\"],[0.2222222222222222,\"#7201a8\"],[0.3333333333333333,\"#9c179e\"],[0.4444444444444444,\"#bd3786\"],[0.5555555555555556,\"#d8576b\"],[0.6666666666666666,\"#ed7953\"],[0.7777777777777778,\"#fb9f3a\"],[0.8888888888888888,\"#fdca26\"],[1.0,\"#f0f921\"]]}],\"heatmap\":[{\"type\":\"heatmap\",\"colorbar\":{\"outlinewidth\":0,\"ticks\":\"\"},\"colorscale\":[[0.0,\"#0d0887\"],[0.1111111111111111,\"#46039f\"],[0.2222222222222222,\"#7201a8\"],[0.3333333333333333,\"#9c179e\"],[0.4444444444444444,\"#bd3786\"],[0.5555555555555556,\"#d8576b\"],[0.6666666666666666,\"#ed7953\"],[0.7777777777777778,\"#fb9f3a\"],[0.8888888888888888,\"#fdca26\"],[1.0,\"#f0f921\"]]}],\"heatmapgl\":[{\"type\":\"heatmapgl\",\"colorbar\":{\"outlinewidth\":0,\"ticks\":\"\"},\"colorscale\":[[0.0,\"#0d0887\"],[0.1111111111111111,\"#46039f\"],[0.2222222222222222,\"#7201a8\"],[0.3333333333333333,\"#9c179e\"],[0.4444444444444444,\"#bd3786\"],[0.5555555555555556,\"#d8576b\"],[0.6666666666666666,\"#ed7953\"],[0.7777777777777778,\"#fb9f3a\"],[0.8888888888888888,\"#fdca26\"],[1.0,\"#f0f921\"]]}],\"contourcarpet\":[{\"type\":\"contourcarpet\",\"colorbar\":{\"outlinewidth\":0,\"ticks\":\"\"}}],\"contour\":[{\"type\":\"contour\",\"colorbar\":{\"outlinewidth\":0,\"ticks\":\"\"},\"colorscale\":[[0.0,\"#0d0887\"],[0.1111111111111111,\"#46039f\"],[0.2222222222222222,\"#7201a8\"],[0.3333333333333333,\"#9c179e\"],[0.4444444444444444,\"#bd3786\"],[0.5555555555555556,\"#d8576b\"],[0.6666666666666666,\"#ed7953\"],[0.7777777777777778,\"#fb9f3a\"],[0.8888888888888888,\"#fdca26\"],[1.0,\"#f0f921\"]]}],\"surface\":[{\"type\":\"surface\",\"colorbar\":{\"outlinewidth\":0,\"ticks\":\"\"},\"colorscale\":[[0.0,\"#0d0887\"],[0.1111111111111111,\"#46039f\"],[0.2222222222222222,\"#7201a8\"],[0.3333333333333333,\"#9c179e\"],[0.4444444444444444,\"#bd3786\"],[0.5555555555555556,\"#d8576b\"],[0.6666666666666666,\"#ed7953\"],[0.7777777777777778,\"#fb9f3a\"],[0.8888888888888888,\"#fdca26\"],[1.0,\"#f0f921\"]]}],\"mesh3d\":[{\"type\":\"mesh3d\",\"colorbar\":{\"outlinewidth\":0,\"ticks\":\"\"}}],\"scatter\":[{\"fillpattern\":{\"fillmode\":\"overlay\",\"size\":10,\"solidity\":0.2},\"type\":\"scatter\"}],\"parcoords\":[{\"type\":\"parcoords\",\"line\":{\"colorbar\":{\"outlinewidth\":0,\"ticks\":\"\"}}}],\"scatterpolargl\":[{\"type\":\"scatterpolargl\",\"marker\":{\"colorbar\":{\"outlinewidth\":0,\"ticks\":\"\"}}}],\"bar\":[{\"error_x\":{\"color\":\"#2a3f5f\"},\"error_y\":{\"color\":\"#2a3f5f\"},\"marker\":{\"line\":{\"color\":\"#E5ECF6\",\"width\":0.5},\"pattern\":{\"fillmode\":\"overlay\",\"size\":10,\"solidity\":0.2}},\"type\":\"bar\"}],\"scattergeo\":[{\"type\":\"scattergeo\",\"marker\":{\"colorbar\":{\"outlinewidth\":0,\"ticks\":\"\"}}}],\"scatterpolar\":[{\"type\":\"scatterpolar\",\"marker\":{\"colorbar\":{\"outlinewidth\":0,\"ticks\":\"\"}}}],\"histogram\":[{\"marker\":{\"pattern\":{\"fillmode\":\"overlay\",\"size\":10,\"solidity\":0.2}},\"type\":\"histogram\"}],\"scattergl\":[{\"type\":\"scattergl\",\"marker\":{\"colorbar\":{\"outlinewidth\":0,\"ticks\":\"\"}}}],\"scatter3d\":[{\"type\":\"scatter3d\",\"line\":{\"colorbar\":{\"outlinewidth\":0,\"ticks\":\"\"}},\"marker\":{\"colorbar\":{\"outlinewidth\":0,\"ticks\":\"\"}}}],\"scattermapbox\":[{\"type\":\"scattermapbox\",\"marker\":{\"colorbar\":{\"outlinewidth\":0,\"ticks\":\"\"}}}],\"scatterternary\":[{\"type\":\"scatterternary\",\"marker\":{\"colorbar\":{\"outlinewidth\":0,\"ticks\":\"\"}}}],\"scattercarpet\":[{\"type\":\"scattercarpet\",\"marker\":{\"colorbar\":{\"outlinewidth\":0,\"ticks\":\"\"}}}],\"carpet\":[{\"aaxis\":{\"endlinecolor\":\"#2a3f5f\",\"gridcolor\":\"white\",\"linecolor\":\"white\",\"minorgridcolor\":\"white\",\"startlinecolor\":\"#2a3f5f\"},\"baxis\":{\"endlinecolor\":\"#2a3f5f\",\"gridcolor\":\"white\",\"linecolor\":\"white\",\"minorgridcolor\":\"white\",\"startlinecolor\":\"#2a3f5f\"},\"type\":\"carpet\"}],\"table\":[{\"cells\":{\"fill\":{\"color\":\"#EBF0F8\"},\"line\":{\"color\":\"white\"}},\"header\":{\"fill\":{\"color\":\"#C8D4E3\"},\"line\":{\"color\":\"white\"}},\"type\":\"table\"}],\"barpolar\":[{\"marker\":{\"line\":{\"color\":\"#E5ECF6\",\"width\":0.5},\"pattern\":{\"fillmode\":\"overlay\",\"size\":10,\"solidity\":0.2}},\"type\":\"barpolar\"}],\"pie\":[{\"automargin\":true,\"type\":\"pie\"}]},\"layout\":{\"autotypenumbers\":\"strict\",\"colorway\":[\"#636efa\",\"#EF553B\",\"#00cc96\",\"#ab63fa\",\"#FFA15A\",\"#19d3f3\",\"#FF6692\",\"#B6E880\",\"#FF97FF\",\"#FECB52\"],\"font\":{\"color\":\"#2a3f5f\"},\"hovermode\":\"closest\",\"hoverlabel\":{\"align\":\"left\"},\"paper_bgcolor\":\"white\",\"plot_bgcolor\":\"#E5ECF6\",\"polar\":{\"bgcolor\":\"#E5ECF6\",\"angularaxis\":{\"gridcolor\":\"white\",\"linecolor\":\"white\",\"ticks\":\"\"},\"radialaxis\":{\"gridcolor\":\"white\",\"linecolor\":\"white\",\"ticks\":\"\"}},\"ternary\":{\"bgcolor\":\"#E5ECF6\",\"aaxis\":{\"gridcolor\":\"white\",\"linecolor\":\"white\",\"ticks\":\"\"},\"baxis\":{\"gridcolor\":\"white\",\"linecolor\":\"white\",\"ticks\":\"\"},\"caxis\":{\"gridcolor\":\"white\",\"linecolor\":\"white\",\"ticks\":\"\"}},\"coloraxis\":{\"colorbar\":{\"outlinewidth\":0,\"ticks\":\"\"}},\"colorscale\":{\"sequential\":[[0.0,\"#0d0887\"],[0.1111111111111111,\"#46039f\"],[0.2222222222222222,\"#7201a8\"],[0.3333333333333333,\"#9c179e\"],[0.4444444444444444,\"#bd3786\"],[0.5555555555555556,\"#d8576b\"],[0.6666666666666666,\"#ed7953\"],[0.7777777777777778,\"#fb9f3a\"],[0.8888888888888888,\"#fdca26\"],[1.0,\"#f0f921\"]],\"sequentialminus\":[[0.0,\"#0d0887\"],[0.1111111111111111,\"#46039f\"],[0.2222222222222222,\"#7201a8\"],[0.3333333333333333,\"#9c179e\"],[0.4444444444444444,\"#bd3786\"],[0.5555555555555556,\"#d8576b\"],[0.6666666666666666,\"#ed7953\"],[0.7777777777777778,\"#fb9f3a\"],[0.8888888888888888,\"#fdca26\"],[1.0,\"#f0f921\"]],\"diverging\":[[0,\"#8e0152\"],[0.1,\"#c51b7d\"],[0.2,\"#de77ae\"],[0.3,\"#f1b6da\"],[0.4,\"#fde0ef\"],[0.5,\"#f7f7f7\"],[0.6,\"#e6f5d0\"],[0.7,\"#b8e186\"],[0.8,\"#7fbc41\"],[0.9,\"#4d9221\"],[1,\"#276419\"]]},\"xaxis\":{\"gridcolor\":\"white\",\"linecolor\":\"white\",\"ticks\":\"\",\"title\":{\"standoff\":15},\"zerolinecolor\":\"white\",\"automargin\":true,\"zerolinewidth\":2},\"yaxis\":{\"gridcolor\":\"white\",\"linecolor\":\"white\",\"ticks\":\"\",\"title\":{\"standoff\":15},\"zerolinecolor\":\"white\",\"automargin\":true,\"zerolinewidth\":2},\"scene\":{\"xaxis\":{\"backgroundcolor\":\"#E5ECF6\",\"gridcolor\":\"white\",\"linecolor\":\"white\",\"showbackground\":true,\"ticks\":\"\",\"zerolinecolor\":\"white\",\"gridwidth\":2},\"yaxis\":{\"backgroundcolor\":\"#E5ECF6\",\"gridcolor\":\"white\",\"linecolor\":\"white\",\"showbackground\":true,\"ticks\":\"\",\"zerolinecolor\":\"white\",\"gridwidth\":2},\"zaxis\":{\"backgroundcolor\":\"#E5ECF6\",\"gridcolor\":\"white\",\"linecolor\":\"white\",\"showbackground\":true,\"ticks\":\"\",\"zerolinecolor\":\"white\",\"gridwidth\":2}},\"shapedefaults\":{\"line\":{\"color\":\"#2a3f5f\"}},\"annotationdefaults\":{\"arrowcolor\":\"#2a3f5f\",\"arrowhead\":0,\"arrowwidth\":1},\"geo\":{\"bgcolor\":\"white\",\"landcolor\":\"#E5ECF6\",\"subunitcolor\":\"white\",\"showland\":true,\"showlakes\":true,\"lakecolor\":\"white\"},\"title\":{\"x\":0.05},\"mapbox\":{\"style\":\"light\"}}}},                        {\"responsive\": true}                    ).then(function(){\n",
       "                            \n",
       "var gd = document.getElementById('a57ffc67-57b9-4e4d-8ea8-5f789298f63c');\n",
       "var x = new MutationObserver(function (mutations, observer) {{\n",
       "        var display = window.getComputedStyle(gd).display;\n",
       "        if (!display || display === 'none') {{\n",
       "            console.log([gd, 'removed!']);\n",
       "            Plotly.purge(gd);\n",
       "            observer.disconnect();\n",
       "        }}\n",
       "}});\n",
       "\n",
       "// Listen for the removal of the full notebook cells\n",
       "var notebookContainer = gd.closest('#notebook-container');\n",
       "if (notebookContainer) {{\n",
       "    x.observe(notebookContainer, {childList: true});\n",
       "}}\n",
       "\n",
       "// Listen for the clearing of the current output cell\n",
       "var outputEl = gd.closest('.output');\n",
       "if (outputEl) {{\n",
       "    x.observe(outputEl, {childList: true});\n",
       "}}\n",
       "\n",
       "                        })                };                });            </script>        </div>"
      ]
     },
     "metadata": {},
     "output_type": "display_data"
    }
   ],
   "source": [
    "fig = go.Figure([go.Bar(x = [i for i in range(28)], y = df.label.value_counts())])\n",
    "fig.show()"
   ]
  },
  {
   "cell_type": "code",
   "execution_count": 19,
   "id": "f09a668a-6016-4d95-835b-758d5c6bfe4e",
   "metadata": {},
   "outputs": [
    {
     "data": {
      "application/vnd.plotly.v1+json": {
       "config": {
        "plotlyServerURL": "https://plot.ly"
       },
       "data": [
        {
         "marker": {
          "color": "red"
         },
         "type": "bar",
         "x": [
          "landmark_0-axis_0",
          "landmark_0-axis_1",
          "landmark_0-axis_2",
          "landmark_1-axis_0",
          "landmark_1-axis_1",
          "landmark_1-axis_2",
          "landmark_2-axis_0",
          "landmark_2-axis_1",
          "landmark_2-axis_2",
          "landmark_3-axis_0",
          "landmark_3-axis_1",
          "landmark_3-axis_2",
          "landmark_4-axis_0",
          "landmark_4-axis_1",
          "landmark_4-axis_2",
          "landmark_5-axis_0",
          "landmark_5-axis_1",
          "landmark_5-axis_2",
          "landmark_6-axis_0",
          "landmark_6-axis_1",
          "landmark_6-axis_2",
          "landmark_7-axis_0",
          "landmark_7-axis_1",
          "landmark_7-axis_2",
          "landmark_8-axis_0",
          "landmark_8-axis_1",
          "landmark_8-axis_2",
          "landmark_9-axis_0",
          "landmark_9-axis_1",
          "landmark_9-axis_2",
          "landmark_10-axis_0",
          "landmark_10-axis_1",
          "landmark_10-axis_2",
          "landmark_11-axis_0",
          "landmark_11-axis_1",
          "landmark_11-axis_2",
          "landmark_12-axis_0",
          "landmark_12-axis_1",
          "landmark_12-axis_2",
          "landmark_13-axis_0",
          "landmark_13-axis_1",
          "landmark_13-axis_2",
          "landmark_14-axis_0",
          "landmark_14-axis_1",
          "landmark_14-axis_2",
          "landmark_15-axis_0",
          "landmark_15-axis_1",
          "landmark_15-axis_2",
          "landmark_16-axis_0",
          "landmark_16-axis_1",
          "landmark_16-axis_2",
          "landmark_17-axis_0",
          "landmark_17-axis_1",
          "landmark_17-axis_2",
          "landmark_18-axis_0",
          "landmark_18-axis_1",
          "landmark_18-axis_2",
          "landmark_19-axis_0",
          "landmark_19-axis_1",
          "landmark_19-axis_2",
          "landmark_20-axis_0",
          "landmark_20-axis_1",
          "landmark_20-axis_2",
          "label"
         ],
         "y": [
          0.11626259320283232,
          -0.17551837160165745,
          -0.022396334334943896,
          0.014646169874653487,
          -0.16493938210622508,
          -0.1615119050873901,
          -0.14961958438908543,
          -0.08734689216144985,
          -0.13985111903058822,
          -0.33216737219394094,
          -0.08597861135852845,
          -0.11062454502105036,
          -0.3174580152198961,
          -0.07719438084950893,
          -0.08748431142803563,
          0.07099844462637966,
          -0.002573558604524971,
          -0.1272445839530613,
          0.010302113527374673,
          0.16527972962333015,
          -0.09909627641549963,
          -0.010662021845977525,
          0.09338399097331336,
          -0.07789329770958738,
          -0.017454249472829655,
          0.011767387035268657,
          -0.06715932726365823,
          0.07664317183006607,
          -0.02517618724001335,
          -0.08011534218312331,
          -0.19248741412451403,
          0.14614701590068788,
          -0.059785948480954906,
          -0.3334157805689246,
          0.15107378541895444,
          -0.04643211984060773,
          -0.35543022571365773,
          0.08862557385774626,
          -0.0362953145722632,
          0.04002454098839795,
          -0.04192274617604386,
          0.004177294375105245,
          -0.35499541273174695,
          0.13958662714865352,
          -0.0420733544064886,
          -0.440772404275759,
          0.2336828725049579,
          -0.05093438109339862,
          -0.4567210874098394,
          0.21313061042226536,
          -0.041534935130893194,
          -0.004791808763590455,
          -0.06194329331774977,
          0.10227056977486194,
          -0.13680648281417193,
          0.06694803463508882,
          0.03139983282736414,
          -0.22154811121402343,
          0.1666503506457617,
          0.03461090382750246,
          -0.2698852036085557,
          0.1871570860327227,
          0.051471494693256396,
          1
         ]
        }
       ],
       "layout": {
        "autosize": true,
        "template": {
         "data": {
          "bar": [
           {
            "error_x": {
             "color": "#2a3f5f"
            },
            "error_y": {
             "color": "#2a3f5f"
            },
            "marker": {
             "line": {
              "color": "#E5ECF6",
              "width": 0.5
             },
             "pattern": {
              "fillmode": "overlay",
              "size": 10,
              "solidity": 0.2
             }
            },
            "type": "bar"
           }
          ],
          "barpolar": [
           {
            "marker": {
             "line": {
              "color": "#E5ECF6",
              "width": 0.5
             },
             "pattern": {
              "fillmode": "overlay",
              "size": 10,
              "solidity": 0.2
             }
            },
            "type": "barpolar"
           }
          ],
          "carpet": [
           {
            "aaxis": {
             "endlinecolor": "#2a3f5f",
             "gridcolor": "white",
             "linecolor": "white",
             "minorgridcolor": "white",
             "startlinecolor": "#2a3f5f"
            },
            "baxis": {
             "endlinecolor": "#2a3f5f",
             "gridcolor": "white",
             "linecolor": "white",
             "minorgridcolor": "white",
             "startlinecolor": "#2a3f5f"
            },
            "type": "carpet"
           }
          ],
          "choropleth": [
           {
            "colorbar": {
             "outlinewidth": 0,
             "ticks": ""
            },
            "type": "choropleth"
           }
          ],
          "contour": [
           {
            "colorbar": {
             "outlinewidth": 0,
             "ticks": ""
            },
            "colorscale": [
             [
              0,
              "#0d0887"
             ],
             [
              0.1111111111111111,
              "#46039f"
             ],
             [
              0.2222222222222222,
              "#7201a8"
             ],
             [
              0.3333333333333333,
              "#9c179e"
             ],
             [
              0.4444444444444444,
              "#bd3786"
             ],
             [
              0.5555555555555556,
              "#d8576b"
             ],
             [
              0.6666666666666666,
              "#ed7953"
             ],
             [
              0.7777777777777778,
              "#fb9f3a"
             ],
             [
              0.8888888888888888,
              "#fdca26"
             ],
             [
              1,
              "#f0f921"
             ]
            ],
            "type": "contour"
           }
          ],
          "contourcarpet": [
           {
            "colorbar": {
             "outlinewidth": 0,
             "ticks": ""
            },
            "type": "contourcarpet"
           }
          ],
          "heatmap": [
           {
            "colorbar": {
             "outlinewidth": 0,
             "ticks": ""
            },
            "colorscale": [
             [
              0,
              "#0d0887"
             ],
             [
              0.1111111111111111,
              "#46039f"
             ],
             [
              0.2222222222222222,
              "#7201a8"
             ],
             [
              0.3333333333333333,
              "#9c179e"
             ],
             [
              0.4444444444444444,
              "#bd3786"
             ],
             [
              0.5555555555555556,
              "#d8576b"
             ],
             [
              0.6666666666666666,
              "#ed7953"
             ],
             [
              0.7777777777777778,
              "#fb9f3a"
             ],
             [
              0.8888888888888888,
              "#fdca26"
             ],
             [
              1,
              "#f0f921"
             ]
            ],
            "type": "heatmap"
           }
          ],
          "heatmapgl": [
           {
            "colorbar": {
             "outlinewidth": 0,
             "ticks": ""
            },
            "colorscale": [
             [
              0,
              "#0d0887"
             ],
             [
              0.1111111111111111,
              "#46039f"
             ],
             [
              0.2222222222222222,
              "#7201a8"
             ],
             [
              0.3333333333333333,
              "#9c179e"
             ],
             [
              0.4444444444444444,
              "#bd3786"
             ],
             [
              0.5555555555555556,
              "#d8576b"
             ],
             [
              0.6666666666666666,
              "#ed7953"
             ],
             [
              0.7777777777777778,
              "#fb9f3a"
             ],
             [
              0.8888888888888888,
              "#fdca26"
             ],
             [
              1,
              "#f0f921"
             ]
            ],
            "type": "heatmapgl"
           }
          ],
          "histogram": [
           {
            "marker": {
             "pattern": {
              "fillmode": "overlay",
              "size": 10,
              "solidity": 0.2
             }
            },
            "type": "histogram"
           }
          ],
          "histogram2d": [
           {
            "colorbar": {
             "outlinewidth": 0,
             "ticks": ""
            },
            "colorscale": [
             [
              0,
              "#0d0887"
             ],
             [
              0.1111111111111111,
              "#46039f"
             ],
             [
              0.2222222222222222,
              "#7201a8"
             ],
             [
              0.3333333333333333,
              "#9c179e"
             ],
             [
              0.4444444444444444,
              "#bd3786"
             ],
             [
              0.5555555555555556,
              "#d8576b"
             ],
             [
              0.6666666666666666,
              "#ed7953"
             ],
             [
              0.7777777777777778,
              "#fb9f3a"
             ],
             [
              0.8888888888888888,
              "#fdca26"
             ],
             [
              1,
              "#f0f921"
             ]
            ],
            "type": "histogram2d"
           }
          ],
          "histogram2dcontour": [
           {
            "colorbar": {
             "outlinewidth": 0,
             "ticks": ""
            },
            "colorscale": [
             [
              0,
              "#0d0887"
             ],
             [
              0.1111111111111111,
              "#46039f"
             ],
             [
              0.2222222222222222,
              "#7201a8"
             ],
             [
              0.3333333333333333,
              "#9c179e"
             ],
             [
              0.4444444444444444,
              "#bd3786"
             ],
             [
              0.5555555555555556,
              "#d8576b"
             ],
             [
              0.6666666666666666,
              "#ed7953"
             ],
             [
              0.7777777777777778,
              "#fb9f3a"
             ],
             [
              0.8888888888888888,
              "#fdca26"
             ],
             [
              1,
              "#f0f921"
             ]
            ],
            "type": "histogram2dcontour"
           }
          ],
          "mesh3d": [
           {
            "colorbar": {
             "outlinewidth": 0,
             "ticks": ""
            },
            "type": "mesh3d"
           }
          ],
          "parcoords": [
           {
            "line": {
             "colorbar": {
              "outlinewidth": 0,
              "ticks": ""
             }
            },
            "type": "parcoords"
           }
          ],
          "pie": [
           {
            "automargin": true,
            "type": "pie"
           }
          ],
          "scatter": [
           {
            "fillpattern": {
             "fillmode": "overlay",
             "size": 10,
             "solidity": 0.2
            },
            "type": "scatter"
           }
          ],
          "scatter3d": [
           {
            "line": {
             "colorbar": {
              "outlinewidth": 0,
              "ticks": ""
             }
            },
            "marker": {
             "colorbar": {
              "outlinewidth": 0,
              "ticks": ""
             }
            },
            "type": "scatter3d"
           }
          ],
          "scattercarpet": [
           {
            "marker": {
             "colorbar": {
              "outlinewidth": 0,
              "ticks": ""
             }
            },
            "type": "scattercarpet"
           }
          ],
          "scattergeo": [
           {
            "marker": {
             "colorbar": {
              "outlinewidth": 0,
              "ticks": ""
             }
            },
            "type": "scattergeo"
           }
          ],
          "scattergl": [
           {
            "marker": {
             "colorbar": {
              "outlinewidth": 0,
              "ticks": ""
             }
            },
            "type": "scattergl"
           }
          ],
          "scattermapbox": [
           {
            "marker": {
             "colorbar": {
              "outlinewidth": 0,
              "ticks": ""
             }
            },
            "type": "scattermapbox"
           }
          ],
          "scatterpolar": [
           {
            "marker": {
             "colorbar": {
              "outlinewidth": 0,
              "ticks": ""
             }
            },
            "type": "scatterpolar"
           }
          ],
          "scatterpolargl": [
           {
            "marker": {
             "colorbar": {
              "outlinewidth": 0,
              "ticks": ""
             }
            },
            "type": "scatterpolargl"
           }
          ],
          "scatterternary": [
           {
            "marker": {
             "colorbar": {
              "outlinewidth": 0,
              "ticks": ""
             }
            },
            "type": "scatterternary"
           }
          ],
          "surface": [
           {
            "colorbar": {
             "outlinewidth": 0,
             "ticks": ""
            },
            "colorscale": [
             [
              0,
              "#0d0887"
             ],
             [
              0.1111111111111111,
              "#46039f"
             ],
             [
              0.2222222222222222,
              "#7201a8"
             ],
             [
              0.3333333333333333,
              "#9c179e"
             ],
             [
              0.4444444444444444,
              "#bd3786"
             ],
             [
              0.5555555555555556,
              "#d8576b"
             ],
             [
              0.6666666666666666,
              "#ed7953"
             ],
             [
              0.7777777777777778,
              "#fb9f3a"
             ],
             [
              0.8888888888888888,
              "#fdca26"
             ],
             [
              1,
              "#f0f921"
             ]
            ],
            "type": "surface"
           }
          ],
          "table": [
           {
            "cells": {
             "fill": {
              "color": "#EBF0F8"
             },
             "line": {
              "color": "white"
             }
            },
            "header": {
             "fill": {
              "color": "#C8D4E3"
             },
             "line": {
              "color": "white"
             }
            },
            "type": "table"
           }
          ]
         },
         "layout": {
          "annotationdefaults": {
           "arrowcolor": "#2a3f5f",
           "arrowhead": 0,
           "arrowwidth": 1
          },
          "autotypenumbers": "strict",
          "coloraxis": {
           "colorbar": {
            "outlinewidth": 0,
            "ticks": ""
           }
          },
          "colorscale": {
           "diverging": [
            [
             0,
             "#8e0152"
            ],
            [
             0.1,
             "#c51b7d"
            ],
            [
             0.2,
             "#de77ae"
            ],
            [
             0.3,
             "#f1b6da"
            ],
            [
             0.4,
             "#fde0ef"
            ],
            [
             0.5,
             "#f7f7f7"
            ],
            [
             0.6,
             "#e6f5d0"
            ],
            [
             0.7,
             "#b8e186"
            ],
            [
             0.8,
             "#7fbc41"
            ],
            [
             0.9,
             "#4d9221"
            ],
            [
             1,
             "#276419"
            ]
           ],
           "sequential": [
            [
             0,
             "#0d0887"
            ],
            [
             0.1111111111111111,
             "#46039f"
            ],
            [
             0.2222222222222222,
             "#7201a8"
            ],
            [
             0.3333333333333333,
             "#9c179e"
            ],
            [
             0.4444444444444444,
             "#bd3786"
            ],
            [
             0.5555555555555556,
             "#d8576b"
            ],
            [
             0.6666666666666666,
             "#ed7953"
            ],
            [
             0.7777777777777778,
             "#fb9f3a"
            ],
            [
             0.8888888888888888,
             "#fdca26"
            ],
            [
             1,
             "#f0f921"
            ]
           ],
           "sequentialminus": [
            [
             0,
             "#0d0887"
            ],
            [
             0.1111111111111111,
             "#46039f"
            ],
            [
             0.2222222222222222,
             "#7201a8"
            ],
            [
             0.3333333333333333,
             "#9c179e"
            ],
            [
             0.4444444444444444,
             "#bd3786"
            ],
            [
             0.5555555555555556,
             "#d8576b"
            ],
            [
             0.6666666666666666,
             "#ed7953"
            ],
            [
             0.7777777777777778,
             "#fb9f3a"
            ],
            [
             0.8888888888888888,
             "#fdca26"
            ],
            [
             1,
             "#f0f921"
            ]
           ]
          },
          "colorway": [
           "#636efa",
           "#EF553B",
           "#00cc96",
           "#ab63fa",
           "#FFA15A",
           "#19d3f3",
           "#FF6692",
           "#B6E880",
           "#FF97FF",
           "#FECB52"
          ],
          "font": {
           "color": "#2a3f5f"
          },
          "geo": {
           "bgcolor": "white",
           "lakecolor": "white",
           "landcolor": "#E5ECF6",
           "showlakes": true,
           "showland": true,
           "subunitcolor": "white"
          },
          "hoverlabel": {
           "align": "left"
          },
          "hovermode": "closest",
          "mapbox": {
           "style": "light"
          },
          "paper_bgcolor": "white",
          "plot_bgcolor": "#E5ECF6",
          "polar": {
           "angularaxis": {
            "gridcolor": "white",
            "linecolor": "white",
            "ticks": ""
           },
           "bgcolor": "#E5ECF6",
           "radialaxis": {
            "gridcolor": "white",
            "linecolor": "white",
            "ticks": ""
           }
          },
          "scene": {
           "xaxis": {
            "backgroundcolor": "#E5ECF6",
            "gridcolor": "white",
            "gridwidth": 2,
            "linecolor": "white",
            "showbackground": true,
            "ticks": "",
            "zerolinecolor": "white"
           },
           "yaxis": {
            "backgroundcolor": "#E5ECF6",
            "gridcolor": "white",
            "gridwidth": 2,
            "linecolor": "white",
            "showbackground": true,
            "ticks": "",
            "zerolinecolor": "white"
           },
           "zaxis": {
            "backgroundcolor": "#E5ECF6",
            "gridcolor": "white",
            "gridwidth": 2,
            "linecolor": "white",
            "showbackground": true,
            "ticks": "",
            "zerolinecolor": "white"
           }
          },
          "shapedefaults": {
           "line": {
            "color": "#2a3f5f"
           }
          },
          "ternary": {
           "aaxis": {
            "gridcolor": "white",
            "linecolor": "white",
            "ticks": ""
           },
           "baxis": {
            "gridcolor": "white",
            "linecolor": "white",
            "ticks": ""
           },
           "bgcolor": "#E5ECF6",
           "caxis": {
            "gridcolor": "white",
            "linecolor": "white",
            "ticks": ""
           }
          },
          "title": {
           "x": 0.05
          },
          "xaxis": {
           "automargin": true,
           "gridcolor": "white",
           "linecolor": "white",
           "ticks": "",
           "title": {
            "standoff": 15
           },
           "zerolinecolor": "white",
           "zerolinewidth": 2
          },
          "yaxis": {
           "automargin": true,
           "gridcolor": "white",
           "linecolor": "white",
           "ticks": "",
           "title": {
            "standoff": 15
           },
           "zerolinecolor": "white",
           "zerolinewidth": 2
          }
         }
        },
        "xaxis": {
         "autorange": true,
         "range": [
          -0.5,
          63.5
         ],
         "title": {
          "text": "Features"
         },
         "type": "category"
        },
        "yaxis": {
         "range": [
          -1,
          1
         ],
         "showticklabels": true,
         "title": {
          "text": "Correlation"
         },
         "type": "linear"
        }
       }
      },
      "image/png": "[encoded data removed]",
      "text/html": [
       "<div>                            <div id=\"0957c257-2d8f-46e7-b876-76418faee9cf\" class=\"plotly-graph-div\" style=\"height:525px; width:100%;\"></div>            <script type=\"text/javascript\">                require([\"plotly\"], function(Plotly) {                    window.PLOTLYENV=window.PLOTLYENV || {};                                    if (document.getElementById(\"0957c257-2d8f-46e7-b876-76418faee9cf\")) {                    Plotly.newPlot(                        \"0957c257-2d8f-46e7-b876-76418faee9cf\",                        [{\"marker\":{\"color\":\"red\"},\"x\":[\"landmark_0-axis_0\",\"landmark_0-axis_1\",\"landmark_0-axis_2\",\"landmark_1-axis_0\",\"landmark_1-axis_1\",\"landmark_1-axis_2\",\"landmark_2-axis_0\",\"landmark_2-axis_1\",\"landmark_2-axis_2\",\"landmark_3-axis_0\",\"landmark_3-axis_1\",\"landmark_3-axis_2\",\"landmark_4-axis_0\",\"landmark_4-axis_1\",\"landmark_4-axis_2\",\"landmark_5-axis_0\",\"landmark_5-axis_1\",\"landmark_5-axis_2\",\"landmark_6-axis_0\",\"landmark_6-axis_1\",\"landmark_6-axis_2\",\"landmark_7-axis_0\",\"landmark_7-axis_1\",\"landmark_7-axis_2\",\"landmark_8-axis_0\",\"landmark_8-axis_1\",\"landmark_8-axis_2\",\"landmark_9-axis_0\",\"landmark_9-axis_1\",\"landmark_9-axis_2\",\"landmark_10-axis_0\",\"landmark_10-axis_1\",\"landmark_10-axis_2\",\"landmark_11-axis_0\",\"landmark_11-axis_1\",\"landmark_11-axis_2\",\"landmark_12-axis_0\",\"landmark_12-axis_1\",\"landmark_12-axis_2\",\"landmark_13-axis_0\",\"landmark_13-axis_1\",\"landmark_13-axis_2\",\"landmark_14-axis_0\",\"landmark_14-axis_1\",\"landmark_14-axis_2\",\"landmark_15-axis_0\",\"landmark_15-axis_1\",\"landmark_15-axis_2\",\"landmark_16-axis_0\",\"landmark_16-axis_1\",\"landmark_16-axis_2\",\"landmark_17-axis_0\",\"landmark_17-axis_1\",\"landmark_17-axis_2\",\"landmark_18-axis_0\",\"landmark_18-axis_1\",\"landmark_18-axis_2\",\"landmark_19-axis_0\",\"landmark_19-axis_1\",\"landmark_19-axis_2\",\"landmark_20-axis_0\",\"landmark_20-axis_1\",\"landmark_20-axis_2\",\"label\"],\"y\":[0.11626259320283232,-0.17551837160165745,-0.022396334334943896,0.014646169874653487,-0.16493938210622508,-0.1615119050873901,-0.14961958438908543,-0.08734689216144985,-0.13985111903058822,-0.33216737219394094,-0.08597861135852845,-0.11062454502105036,-0.3174580152198961,-0.07719438084950893,-0.08748431142803563,0.07099844462637966,-0.002573558604524971,-0.1272445839530613,0.010302113527374673,0.16527972962333015,-0.09909627641549963,-0.010662021845977525,0.09338399097331336,-0.07789329770958738,-0.017454249472829655,0.011767387035268657,-0.06715932726365823,0.07664317183006607,-0.02517618724001335,-0.08011534218312331,-0.19248741412451403,0.14614701590068788,-0.059785948480954906,-0.3334157805689246,0.15107378541895444,-0.04643211984060773,-0.35543022571365773,0.08862557385774626,-0.0362953145722632,0.04002454098839795,-0.04192274617604386,0.004177294375105245,-0.35499541273174695,0.13958662714865352,-0.0420733544064886,-0.440772404275759,0.2336828725049579,-0.05093438109339862,-0.4567210874098394,0.21313061042226536,-0.041534935130893194,-0.004791808763590455,-0.06194329331774977,0.10227056977486194,-0.13680648281417193,0.06694803463508882,0.03139983282736414,-0.22154811121402343,0.1666503506457617,0.03461090382750246,-0.2698852036085557,0.1871570860327227,0.051471494693256396,1.0],\"type\":\"bar\"}],                        {\"template\":{\"data\":{\"histogram2dcontour\":[{\"type\":\"histogram2dcontour\",\"colorbar\":{\"outlinewidth\":0,\"ticks\":\"\"},\"colorscale\":[[0.0,\"#0d0887\"],[0.1111111111111111,\"#46039f\"],[0.2222222222222222,\"#7201a8\"],[0.3333333333333333,\"#9c179e\"],[0.4444444444444444,\"#bd3786\"],[0.5555555555555556,\"#d8576b\"],[0.6666666666666666,\"#ed7953\"],[0.7777777777777778,\"#fb9f3a\"],[0.8888888888888888,\"#fdca26\"],[1.0,\"#f0f921\"]]}],\"choropleth\":[{\"type\":\"choropleth\",\"colorbar\":{\"outlinewidth\":0,\"ticks\":\"\"}}],\"histogram2d\":[{\"type\":\"histogram2d\",\"colorbar\":{\"outlinewidth\":0,\"ticks\":\"\"},\"colorscale\":[[0.0,\"#0d0887\"],[0.1111111111111111,\"#46039f\"],[0.2222222222222222,\"#7201a8\"],[0.3333333333333333,\"#9c179e\"],[0.4444444444444444,\"#bd3786\"],[0.5555555555555556,\"#d8576b\"],[0.6666666666666666,\"#ed7953\"],[0.7777777777777778,\"#fb9f3a\"],[0.8888888888888888,\"#fdca26\"],[1.0,\"#f0f921\"]]}],\"heatmap\":[{\"type\":\"heatmap\",\"colorbar\":{\"outlinewidth\":0,\"ticks\":\"\"},\"colorscale\":[[0.0,\"#0d0887\"],[0.1111111111111111,\"#46039f\"],[0.2222222222222222,\"#7201a8\"],[0.3333333333333333,\"#9c179e\"],[0.4444444444444444,\"#bd3786\"],[0.5555555555555556,\"#d8576b\"],[0.6666666666666666,\"#ed7953\"],[0.7777777777777778,\"#fb9f3a\"],[0.8888888888888888,\"#fdca26\"],[1.0,\"#f0f921\"]]}],\"heatmapgl\":[{\"type\":\"heatmapgl\",\"colorbar\":{\"outlinewidth\":0,\"ticks\":\"\"},\"colorscale\":[[0.0,\"#0d0887\"],[0.1111111111111111,\"#46039f\"],[0.2222222222222222,\"#7201a8\"],[0.3333333333333333,\"#9c179e\"],[0.4444444444444444,\"#bd3786\"],[0.5555555555555556,\"#d8576b\"],[0.6666666666666666,\"#ed7953\"],[0.7777777777777778,\"#fb9f3a\"],[0.8888888888888888,\"#fdca26\"],[1.0,\"#f0f921\"]]}],\"contourcarpet\":[{\"type\":\"contourcarpet\",\"colorbar\":{\"outlinewidth\":0,\"ticks\":\"\"}}],\"contour\":[{\"type\":\"contour\",\"colorbar\":{\"outlinewidth\":0,\"ticks\":\"\"},\"colorscale\":[[0.0,\"#0d0887\"],[0.1111111111111111,\"#46039f\"],[0.2222222222222222,\"#7201a8\"],[0.3333333333333333,\"#9c179e\"],[0.4444444444444444,\"#bd3786\"],[0.5555555555555556,\"#d8576b\"],[0.6666666666666666,\"#ed7953\"],[0.7777777777777778,\"#fb9f3a\"],[0.8888888888888888,\"#fdca26\"],[1.0,\"#f0f921\"]]}],\"surface\":[{\"type\":\"surface\",\"colorbar\":{\"outlinewidth\":0,\"ticks\":\"\"},\"colorscale\":[[0.0,\"#0d0887\"],[0.1111111111111111,\"#46039f\"],[0.2222222222222222,\"#7201a8\"],[0.3333333333333333,\"#9c179e\"],[0.4444444444444444,\"#bd3786\"],[0.5555555555555556,\"#d8576b\"],[0.6666666666666666,\"#ed7953\"],[0.7777777777777778,\"#fb9f3a\"],[0.8888888888888888,\"#fdca26\"],[1.0,\"#f0f921\"]]}],\"mesh3d\":[{\"type\":\"mesh3d\",\"colorbar\":{\"outlinewidth\":0,\"ticks\":\"\"}}],\"scatter\":[{\"fillpattern\":{\"fillmode\":\"overlay\",\"size\":10,\"solidity\":0.2},\"type\":\"scatter\"}],\"parcoords\":[{\"type\":\"parcoords\",\"line\":{\"colorbar\":{\"outlinewidth\":0,\"ticks\":\"\"}}}],\"scatterpolargl\":[{\"type\":\"scatterpolargl\",\"marker\":{\"colorbar\":{\"outlinewidth\":0,\"ticks\":\"\"}}}],\"bar\":[{\"error_x\":{\"color\":\"#2a3f5f\"},\"error_y\":{\"color\":\"#2a3f5f\"},\"marker\":{\"line\":{\"color\":\"#E5ECF6\",\"width\":0.5},\"pattern\":{\"fillmode\":\"overlay\",\"size\":10,\"solidity\":0.2}},\"type\":\"bar\"}],\"scattergeo\":[{\"type\":\"scattergeo\",\"marker\":{\"colorbar\":{\"outlinewidth\":0,\"ticks\":\"\"}}}],\"scatterpolar\":[{\"type\":\"scatterpolar\",\"marker\":{\"colorbar\":{\"outlinewidth\":0,\"ticks\":\"\"}}}],\"histogram\":[{\"marker\":{\"pattern\":{\"fillmode\":\"overlay\",\"size\":10,\"solidity\":0.2}},\"type\":\"histogram\"}],\"scattergl\":[{\"type\":\"scattergl\",\"marker\":{\"colorbar\":{\"outlinewidth\":0,\"ticks\":\"\"}}}],\"scatter3d\":[{\"type\":\"scatter3d\",\"line\":{\"colorbar\":{\"outlinewidth\":0,\"ticks\":\"\"}},\"marker\":{\"colorbar\":{\"outlinewidth\":0,\"ticks\":\"\"}}}],\"scattermapbox\":[{\"type\":\"scattermapbox\",\"marker\":{\"colorbar\":{\"outlinewidth\":0,\"ticks\":\"\"}}}],\"scatterternary\":[{\"type\":\"scatterternary\",\"marker\":{\"colorbar\":{\"outlinewidth\":0,\"ticks\":\"\"}}}],\"scattercarpet\":[{\"type\":\"scattercarpet\",\"marker\":{\"colorbar\":{\"outlinewidth\":0,\"ticks\":\"\"}}}],\"carpet\":[{\"aaxis\":{\"endlinecolor\":\"#2a3f5f\",\"gridcolor\":\"white\",\"linecolor\":\"white\",\"minorgridcolor\":\"white\",\"startlinecolor\":\"#2a3f5f\"},\"baxis\":{\"endlinecolor\":\"#2a3f5f\",\"gridcolor\":\"white\",\"linecolor\":\"white\",\"minorgridcolor\":\"white\",\"startlinecolor\":\"#2a3f5f\"},\"type\":\"carpet\"}],\"table\":[{\"cells\":{\"fill\":{\"color\":\"#EBF0F8\"},\"line\":{\"color\":\"white\"}},\"header\":{\"fill\":{\"color\":\"#C8D4E3\"},\"line\":{\"color\":\"white\"}},\"type\":\"table\"}],\"barpolar\":[{\"marker\":{\"line\":{\"color\":\"#E5ECF6\",\"width\":0.5},\"pattern\":{\"fillmode\":\"overlay\",\"size\":10,\"solidity\":0.2}},\"type\":\"barpolar\"}],\"pie\":[{\"automargin\":true,\"type\":\"pie\"}]},\"layout\":{\"autotypenumbers\":\"strict\",\"colorway\":[\"#636efa\",\"#EF553B\",\"#00cc96\",\"#ab63fa\",\"#FFA15A\",\"#19d3f3\",\"#FF6692\",\"#B6E880\",\"#FF97FF\",\"#FECB52\"],\"font\":{\"color\":\"#2a3f5f\"},\"hovermode\":\"closest\",\"hoverlabel\":{\"align\":\"left\"},\"paper_bgcolor\":\"white\",\"plot_bgcolor\":\"#E5ECF6\",\"polar\":{\"bgcolor\":\"#E5ECF6\",\"angularaxis\":{\"gridcolor\":\"white\",\"linecolor\":\"white\",\"ticks\":\"\"},\"radialaxis\":{\"gridcolor\":\"white\",\"linecolor\":\"white\",\"ticks\":\"\"}},\"ternary\":{\"bgcolor\":\"#E5ECF6\",\"aaxis\":{\"gridcolor\":\"white\",\"linecolor\":\"white\",\"ticks\":\"\"},\"baxis\":{\"gridcolor\":\"white\",\"linecolor\":\"white\",\"ticks\":\"\"},\"caxis\":{\"gridcolor\":\"white\",\"linecolor\":\"white\",\"ticks\":\"\"}},\"coloraxis\":{\"colorbar\":{\"outlinewidth\":0,\"ticks\":\"\"}},\"colorscale\":{\"sequential\":[[0.0,\"#0d0887\"],[0.1111111111111111,\"#46039f\"],[0.2222222222222222,\"#7201a8\"],[0.3333333333333333,\"#9c179e\"],[0.4444444444444444,\"#bd3786\"],[0.5555555555555556,\"#d8576b\"],[0.6666666666666666,\"#ed7953\"],[0.7777777777777778,\"#fb9f3a\"],[0.8888888888888888,\"#fdca26\"],[1.0,\"#f0f921\"]],\"sequentialminus\":[[0.0,\"#0d0887\"],[0.1111111111111111,\"#46039f\"],[0.2222222222222222,\"#7201a8\"],[0.3333333333333333,\"#9c179e\"],[0.4444444444444444,\"#bd3786\"],[0.5555555555555556,\"#d8576b\"],[0.6666666666666666,\"#ed7953\"],[0.7777777777777778,\"#fb9f3a\"],[0.8888888888888888,\"#fdca26\"],[1.0,\"#f0f921\"]],\"diverging\":[[0,\"#8e0152\"],[0.1,\"#c51b7d\"],[0.2,\"#de77ae\"],[0.3,\"#f1b6da\"],[0.4,\"#fde0ef\"],[0.5,\"#f7f7f7\"],[0.6,\"#e6f5d0\"],[0.7,\"#b8e186\"],[0.8,\"#7fbc41\"],[0.9,\"#4d9221\"],[1,\"#276419\"]]},\"xaxis\":{\"gridcolor\":\"white\",\"linecolor\":\"white\",\"ticks\":\"\",\"title\":{\"standoff\":15},\"zerolinecolor\":\"white\",\"automargin\":true,\"zerolinewidth\":2},\"yaxis\":{\"gridcolor\":\"white\",\"linecolor\":\"white\",\"ticks\":\"\",\"title\":{\"standoff\":15},\"zerolinecolor\":\"white\",\"automargin\":true,\"zerolinewidth\":2},\"scene\":{\"xaxis\":{\"backgroundcolor\":\"#E5ECF6\",\"gridcolor\":\"white\",\"linecolor\":\"white\",\"showbackground\":true,\"ticks\":\"\",\"zerolinecolor\":\"white\",\"gridwidth\":2},\"yaxis\":{\"backgroundcolor\":\"#E5ECF6\",\"gridcolor\":\"white\",\"linecolor\":\"white\",\"showbackground\":true,\"ticks\":\"\",\"zerolinecolor\":\"white\",\"gridwidth\":2},\"zaxis\":{\"backgroundcolor\":\"#E5ECF6\",\"gridcolor\":\"white\",\"linecolor\":\"white\",\"showbackground\":true,\"ticks\":\"\",\"zerolinecolor\":\"white\",\"gridwidth\":2}},\"shapedefaults\":{\"line\":{\"color\":\"#2a3f5f\"}},\"annotationdefaults\":{\"arrowcolor\":\"#2a3f5f\",\"arrowhead\":0,\"arrowwidth\":1},\"geo\":{\"bgcolor\":\"white\",\"landcolor\":\"#E5ECF6\",\"subunitcolor\":\"white\",\"showland\":true,\"showlakes\":true,\"lakecolor\":\"white\"},\"title\":{\"x\":0.05},\"mapbox\":{\"style\":\"light\"}}},\"yaxis\":{\"title\":{\"text\":\"Correlation\"},\"range\":[-1,1],\"showticklabels\":true},\"xaxis\":{\"title\":{\"text\":\"Features\"}}},                        {\"responsive\": true}                    ).then(function(){\n",
       "                            \n",
       "var gd = document.getElementById('0957c257-2d8f-46e7-b876-76418faee9cf');\n",
       "var x = new MutationObserver(function (mutations, observer) {{\n",
       "        var display = window.getComputedStyle(gd).display;\n",
       "        if (!display || display === 'none') {{\n",
       "            console.log([gd, 'removed!']);\n",
       "            Plotly.purge(gd);\n",
       "            observer.disconnect();\n",
       "        }}\n",
       "}});\n",
       "\n",
       "// Listen for the removal of the full notebook cells\n",
       "var notebookContainer = gd.closest('#notebook-container');\n",
       "if (notebookContainer) {{\n",
       "    x.observe(notebookContainer, {childList: true});\n",
       "}}\n",
       "\n",
       "// Listen for the clearing of the current output cell\n",
       "var outputEl = gd.closest('.output');\n",
       "if (outputEl) {{\n",
       "    x.observe(outputEl, {childList: true});\n",
       "}}\n",
       "\n",
       "                        })                };                });            </script>        </div>"
      ]
     },
     "metadata": {},
     "output_type": "display_data"
    }
   ],
   "source": [
    "target_corr = df.corr()['label']\n",
    "\n",
    "fig = go.Figure([go.Bar(y = target_corr, x = target_corr.index, marker_color = 'red')])\n",
    "\n",
    "fig.update_layout(xaxis_title = \"Features\", yaxis_title = \"Correlation\",\n",
    "    yaxis = dict(\n",
    "        range=(-1, 1),\n",
    "        showticklabels=True\n",
    "    ))\n",
    "fig.show()"
   ]
  },
  {
   "cell_type": "code",
   "execution_count": 21,
   "id": "c282fd73-1382-4c12-baf0-06c05ea537e0",
   "metadata": {},
   "outputs": [
    {
     "data": {
      "application/vnd.plotly.v1+json": {
       "config": {
        "plotlyServerURL": "https://plot.ly"
       },
       "data": [
        {
         "colorscale": [
          [
           0,
           "rgb(5,48,97)"
          ],
          [
           0.1,
           "rgb(33,102,172)"
          ],
          [
           0.2,
           "rgb(67,147,195)"
          ],
          [
           0.3,
           "rgb(146,197,222)"
          ],
          [
           0.4,
           "rgb(209,229,240)"
          ],
          [
           0.5,
           "rgb(247,247,247)"
          ],
          [
           0.6,
           "rgb(253,219,199)"
          ],
          [
           0.7,
           "rgb(244,165,130)"
          ],
          [
           0.8,
           "rgb(214,96,77)"
          ],
          [
           0.9,
           "rgb(178,24,43)"
          ],
          [
           1,
           "rgb(103,0,31)"
          ]
         ],
         "hoverongaps": false,
         "type": "heatmap",
         "x": [
          "landmark_0-axis_0",
          "landmark_0-axis_1",
          "landmark_0-axis_2",
          "landmark_1-axis_0",
          "landmark_1-axis_1",
          "landmark_1-axis_2",
          "landmark_2-axis_0",
          "landmark_2-axis_1",
          "landmark_2-axis_2",
          "landmark_3-axis_0",
          "landmark_3-axis_1",
          "landmark_3-axis_2",
          "landmark_4-axis_0",
          "landmark_4-axis_1",
          "landmark_4-axis_2",
          "landmark_5-axis_0",
          "landmark_5-axis_1",
          "landmark_5-axis_2",
          "landmark_6-axis_0",
          "landmark_6-axis_1",
          "landmark_6-axis_2",
          "landmark_7-axis_0",
          "landmark_7-axis_1",
          "landmark_7-axis_2",
          "landmark_8-axis_0",
          "landmark_8-axis_1",
          "landmark_8-axis_2",
          "landmark_9-axis_0",
          "landmark_9-axis_1",
          "landmark_9-axis_2",
          "landmark_10-axis_0",
          "landmark_10-axis_1",
          "landmark_10-axis_2",
          "landmark_11-axis_0",
          "landmark_11-axis_1",
          "landmark_11-axis_2",
          "landmark_12-axis_0",
          "landmark_12-axis_1",
          "landmark_12-axis_2",
          "landmark_13-axis_0",
          "landmark_13-axis_1",
          "landmark_13-axis_2",
          "landmark_14-axis_0",
          "landmark_14-axis_1",
          "landmark_14-axis_2",
          "landmark_15-axis_0",
          "landmark_15-axis_1",
          "landmark_15-axis_2",
          "landmark_16-axis_0",
          "landmark_16-axis_1",
          "landmark_16-axis_2",
          "landmark_17-axis_0",
          "landmark_17-axis_1",
          "landmark_17-axis_2",
          "landmark_18-axis_0",
          "landmark_18-axis_1",
          "landmark_18-axis_2",
          "landmark_19-axis_0",
          "landmark_19-axis_1",
          "landmark_19-axis_2",
          "landmark_20-axis_0",
          "landmark_20-axis_1",
          "landmark_20-axis_2",
          "label"
         ],
         "xgap": 1,
         "y": [
          "landmark_0-axis_0",
          "landmark_0-axis_1",
          "landmark_0-axis_2",
          "landmark_1-axis_0",
          "landmark_1-axis_1",
          "landmark_1-axis_2",
          "landmark_2-axis_0",
          "landmark_2-axis_1",
          "landmark_2-axis_2",
          "landmark_3-axis_0",
          "landmark_3-axis_1",
          "landmark_3-axis_2",
          "landmark_4-axis_0",
          "landmark_4-axis_1",
          "landmark_4-axis_2",
          "landmark_5-axis_0",
          "landmark_5-axis_1",
          "landmark_5-axis_2",
          "landmark_6-axis_0",
          "landmark_6-axis_1",
          "landmark_6-axis_2",
          "landmark_7-axis_0",
          "landmark_7-axis_1",
          "landmark_7-axis_2",
          "landmark_8-axis_0",
          "landmark_8-axis_1",
          "landmark_8-axis_2",
          "landmark_9-axis_0",
          "landmark_9-axis_1",
          "landmark_9-axis_2",
          "landmark_10-axis_0",
          "landmark_10-axis_1",
          "landmark_10-axis_2",
          "landmark_11-axis_0",
          "landmark_11-axis_1",
          "landmark_11-axis_2",
          "landmark_12-axis_0",
          "landmark_12-axis_1",
          "landmark_12-axis_2",
          "landmark_13-axis_0",
          "landmark_13-axis_1",
          "landmark_13-axis_2",
          "landmark_14-axis_0",
          "landmark_14-axis_1",
          "landmark_14-axis_2",
          "landmark_15-axis_0",
          "landmark_15-axis_1",
          "landmark_15-axis_2",
          "landmark_16-axis_0",
          "landmark_16-axis_1",
          "landmark_16-axis_2",
          "landmark_17-axis_0",
          "landmark_17-axis_1",
          "landmark_17-axis_2",
          "landmark_18-axis_0",
          "landmark_18-axis_1",
          "landmark_18-axis_2",
          "landmark_19-axis_0",
          "landmark_19-axis_1",
          "landmark_19-axis_2",
          "landmark_20-axis_0",
          "landmark_20-axis_1",
          "landmark_20-axis_2",
          "label"
         ],
         "ygap": 1,
         "z": [
          [
           1,
           -0.39369580627708206,
           -0.05267401378462874,
           0.8470803747242881,
           -0.5905806503507054,
           -0.32656148095640697,
           0.2269743927006092,
           -0.5378964577605825,
           -0.31625546278556393,
           -0.22759072100025807,
           -0.17287873594238656,
           -0.2844464615770515,
           -0.2916352130112105,
           0.06321917091796743,
           -0.25121511078197534,
           0.05125797109496117,
           -0.3773867796477344,
           -0.3587842110125021,
           -0.43040783715865205,
           -0.008108371996833475,
           -0.3226429289816517,
           -0.5685291285180399,
           0.1557850978007117,
           -0.2990412386786636,
           -0.5980871602253935,
           0.1753652972011763,
           -0.2806743481559269,
           0.3205779745439015,
           -0.14006140548952384,
           -0.2918891009893658,
           -0.5253480686865756,
           0.330034090580378,
           -0.22809012923965055,
           -0.48646996245264945,
           0.1896012419177801,
           -0.21874060426492895,
           -0.39382073121108674,
           0.0801398669286045,
           -0.22466470791867615,
           0.6490591041657952,
           0.0849892696617885,
           -0.1496519402952114,
           -0.09316198046033433,
           0.48332927214276367,
           -0.11896704446893708,
           -0.05525719110874442,
           0.3663688696683788,
           -0.1581941477796986,
           0.0043100014327619295,
           0.24903314068971175,
           -0.18499543773899083,
           0.6763909335029866,
           0.2345159319743639,
           0.03776368966913875,
           0.270191358258416,
           0.49535534269572484,
           0.004880619481344842,
           0.111683000597769,
           0.3569408396462371,
           -0.05502794333563483,
           0.05081963953491255,
           0.22214290712726026,
           -0.09714068229190682,
           0.11626259320283232
          ],
          [
           -0.39369580627708206,
           1,
           0.19579021651390727,
           -0.12160627560875183,
           0.8283089713039162,
           0.41388925077224764,
           0.29518957823132247,
           0.2842173698688781,
           0.4642221141525256,
           0.294613818542462,
           -0.20672353263292315,
           0.4633506636080868,
           0.1727207408650986,
           -0.4072993333438174,
           0.46037905552145586,
           0.18560239332499404,
           0.6115749827906759,
           0.5792744217144187,
           0.3913490140279886,
           -0.2145010928210267,
           0.5194210814143994,
           0.4401290519627384,
           -0.5803269690275299,
           0.49587077434688565,
           0.43356984496387424,
           -0.5728186102182693,
           0.4871774724249004,
           -0.010391475141301136,
           0.6427097733716648,
           0.5200563166286721,
           0.3278431315645169,
           -0.35253156806331043,
           0.40942015350633115,
           0.31714647030057325,
           -0.5594123714664675,
           0.3813874753836025,
           0.2570810692291691,
           -0.5086890023808546,
           0.39578335098258627,
           -0.30559427862157806,
           0.5923832323703394,
           0.3432379733290487,
           -0.0585618417831138,
           -0.17984691197083857,
           0.19871107671263383,
           0.10478122921429574,
           -0.2940859761400856,
           0.2189002120520553,
           0.130644011465757,
           -0.28430201016269124,
           0.27846913103923343,
           -0.4128863423257238,
           0.5248894395329192,
           0.08232786555930843,
           -0.3066526239659594,
           0.012005534963587439,
           0.03746312255042451,
           -0.1400380358276083,
           -0.11030990450632033,
           0.08880092005783864,
           -0.07331680826808225,
           -0.14221052875861206,
           0.15133444637797563,
           -0.17551837160165745
          ],
          [
           -0.05267401378462874,
           0.19579021651390727,
           1,
           0.01864613084558424,
           0.2802585223389883,
           0.06519134526787276,
           -0.04621361801199073,
           0.3598228527933738,
           0.07640165161758723,
           -0.18553697414364537,
           0.38441728331524644,
           0.08349087568505317,
           -0.1692859043655553,
           0.2895786150290802,
           0.06672223749764777,
           -0.01818247405726089,
           0.555567383073653,
           0.0625614465419777,
           0.12292356286289602,
           0.37696705535375946,
           0.1269092298528751,
           0.1696640530731987,
           -0.3413863818654145,
           0.13580459273978054,
           0.16202015026590613,
           -0.5514917257624633,
           0.11461814538310595,
           -0.09898281993582457,
           0.521480104730765,
           0.005191987458900368,
           0.007312260646066927,
           0.17826360653143505,
           0.10530315117658182,
           0.006675618740640878,
           -0.5709245540391149,
           0.06483506753996897,
           -0.020673342912658387,
           -0.6885538239573478,
           0.00043405717059625854,
           -0.14627416810706026,
           0.45975680372646494,
           -0.06859395851881235,
           -0.09097076066906133,
           0.2344594292093014,
           -0.06273316460817757,
           0.0944571584967227,
           -0.16397550443906708,
           -0.16956325063547484,
           0.1398384899745796,
           -0.307807443395311,
           -0.24452641157404545,
           -0.0877858025340177,
           0.3888155905288057,
           -0.1300680340966086,
           0.023976858563004456,
           0.3251876156899061,
           -0.2107811813798754,
           0.24405032724215117,
           0.2411535499924269,
           -0.24992242358691422,
           0.33622852651211554,
           0.21572417975220706,
           -0.2626310239952105,
           -0.022396334334943896
          ],
          [
           0.8470803747242881,
           -0.12160627560875183,
           0.01864613084558424,
           1,
           -0.40205404007493195,
           -0.20181265252351366,
           0.6778469265815655,
           -0.5315617439253598,
           -0.17564414335035694,
           0.01887988466015159,
           -0.29372892013830554,
           -0.14618871351783755,
           -0.2762381300403469,
           -0.0716149468021412,
           -0.11372763810086804,
           0.3562021334790264,
           -0.22208638630534872,
           -0.1924581065870209,
           -0.0831660388724074,
           -0.07283780169279304,
           -0.18314968146023244,
           -0.26423549557020665,
           0.04618232759669405,
           -0.16717703319565383,
           -0.34455824896737275,
           0.07294635780827752,
           -0.1483085560427383,
           0.4207479068470302,
           0.025096814549783637,
           -0.15613652372133616,
           -0.2947010017189153,
           0.18838331756879753,
           -0.11595861485882006,
           -0.2933688063289704,
           -0.040092263829932355,
           -0.11461526060785109,
           -0.2553738421717919,
           -0.13662018431595488,
           -0.11972949624181156,
           0.4070090169579326,
           0.24463116808402718,
           -0.08504616693295074,
           -0.2618983097468883,
           0.4388520331437317,
           -0.09975542334224385,
           -0.05288684873289873,
           0.3108049411782566,
           -0.13330028066899313,
           0.03757546765814334,
           0.20253826875128392,
           -0.13541915544787775,
           0.279701389959855,
           0.3879395049843804,
           0.011947589023836,
           -0.07070224677962804,
           0.5112721679770762,
           -0.02687793216601058,
           -0.0537277967606448,
           0.35043678872138573,
           -0.06080000822480548,
           -0.03979081454267022,
           0.21148922265858947,
           -0.07504289487861698,
           0.014646169874653487
          ],
          [
           -0.5905806503507054,
           0.8283089713039162,
           0.2802585223389883,
           -0.40205404007493195,
           1,
           0.19241990570717843,
           0.03910074875534104,
           0.7455004601531376,
           0.2381006642830356,
           0.17289195729019172,
           0.27803798709952976,
           0.24564607359977222,
           0.14231668225270405,
           -0.005836454519703974,
           0.24943896870748078,
           0.16430190067844824,
           0.6452087939392535,
           0.3695002774569771,
           0.43573933680845733,
           -0.12367336919982537,
           0.3386681892977438,
           0.47897633470866124,
           -0.5803645569926134,
           0.32692738810166666,
           0.46103317164551944,
           -0.6096608279535402,
           0.3174216574983006,
           -0.016222156326248734,
           0.4997061437371546,
           0.34683484255307084,
           0.411012618494427,
           -0.378844615795746,
           0.2587209712990883,
           0.3231240143894025,
           -0.5029665033162877,
           0.24406114744030924,
           0.24289213921215644,
           -0.4394409110417331,
           0.2658197183826055,
           -0.31890777547129545,
           0.3393541157218035,
           0.2476659366497219,
           -0.00029310515577449486,
           -0.3331257256672095,
           0.11161922586945389,
           0.049612183037072835,
           -0.36354018993463727,
           0.12961411494256783,
           0.04740714259551412,
           -0.3253122844324125,
           0.18540032126943778,
           -0.44543090105746547,
           0.2145688071970834,
           0.08745424698168222,
           -0.26358980046294245,
           -0.20491938548928335,
           0.004562733189008363,
           -0.11038987275632824,
           -0.19231984522172962,
           0.045085844306594916,
           -0.0368354174170487,
           -0.14704870334246664,
           0.10641826349987775,
           -0.16493938210622508
          ],
          [
           -0.32656148095640697,
           0.41388925077224764,
           0.06519134526787276,
           -0.20181265252351366,
           0.19241990570717843,
           1,
           0.03474170269316304,
           -0.0676149706585247,
           0.9803530338801791,
           0.25282244619404703,
           -0.260874063681912,
           0.9360469652291522,
           0.27204591527012273,
           -0.3430103662632793,
           0.8756659293960671,
           -0.2796355519935273,
           0.28517063152678157,
           0.8246183466004069,
           0.031125855497608768,
           0.022463663115360435,
           0.8333931333966239,
           0.21190152936109172,
           -0.12190356935943072,
           0.8231219793752681,
           0.29782222626372423,
           -0.133280840175237,
           0.811811238366732,
           -0.40740994179314655,
           0.2864928702827308,
           0.6732699677747622,
           0.1457062201527072,
           -0.1455433741679374,
           0.7120073896898291,
           0.3486643225395895,
           -0.31771637382750717,
           0.7055693792035426,
           0.3533030968270181,
           -0.2633762988024038,
           0.6781871711870996,
           -0.40160261125890473,
           0.21984221391127495,
           0.39549637670086973,
           0.160704399944664,
           -0.173039743632788,
           0.524352796546772,
           0.309641760648677,
           -0.3258825949992854,
           0.5424624045027164,
           0.301201524105622,
           -0.2935706575228454,
           0.5016136226195662,
           -0.2220148143983463,
           0.15121212557318356,
           0.03312823994605129,
           0.03131206271614504,
           -0.13525949014945998,
           0.24420379775167325,
           0.16524170272166472,
           -0.25875436590449696,
           0.2974257637355813,
           0.19134729695862998,
           -0.2549777424806243,
           0.28811764948726554,
           -0.1615119050873901
          ],
          [
           0.2269743927006092,
           0.29518957823132247,
           -0.04621361801199073,
           0.6778469265815655,
           0.03910074875534104,
           0.03474170269316304,
           1,
           -0.27981275485985435,
           0.053537615389205574,
           0.5396873638190266,
           -0.37411474262525135,
           0.05344044107738273,
           0.07945677038101483,
           -0.3039550051615153,
           0.06302780145993418,
           0.5633700758766305,
           0.013168010948664998,
           0.09482247488974613,
           0.3763098920235463,
           -0.18392095008901968,
           0.04354904352491496,
           0.2310015959416584,
           -0.06760754152179278,
           0.03251758753982307,
           0.1332739323296012,
           -0.003329733096677573,
           0.04322958734972084,
           0.3548226762211047,
           0.14303913690864814,
           0.08379069581464829,
           0.1491364359612129,
           -0.1380063929047885,
           0.05112046311084584,
           0.11248292472790467,
           -0.22223410007221142,
           0.05118402187582127,
           0.07653588745284201,
           -0.22968275930631163,
           0.0632559994761026,
           -0.08142299610788535,
           0.2436613317060374,
           0.03912010781704291,
           -0.3297949255120225,
           0.07776677121197777,
           -0.014447707053519878,
           -0.06821388725444116,
           0.03426089136119603,
           0.0045597126068525,
           0.008112231382641574,
           0.002853197972550147,
           0.0477803845369296,
           -0.3620114902316763,
           0.3136116275262084,
           -0.020332604256367483,
           -0.5154409061943486,
           0.19264260825756435,
           -0.019261274435180872,
           -0.3447628420771522,
           0.0755251229600899,
           0.00786124707204586,
           -0.25583099390605324,
           -0.010629652290706912,
           0.0377879405665791,
           -0.14961958438908543
          ],
          [
           -0.5378964577605825,
           0.2842173698688781,
           0.3598228527933738,
           -0.5315617439253598,
           0.7455004601531376,
           -0.0676149706585247,
           -0.27981275485985435,
           1,
           -0.06114445343908753,
           -0.004656066446784339,
           0.8091180921245491,
           -0.05987498165136812,
           0.10308756298044669,
           0.5374251492462931,
           -0.06318467603150704,
           -0.011220006083489352,
           0.4561125493218839,
           0.026314427619397857,
           0.23581969410658574,
           0.12209741282328877,
           0.05633360749114403,
           0.27764680639611994,
           -0.33703289401048114,
           0.061779405096954884,
           0.26705672273562814,
           -0.43518507798420375,
           0.050058929706727186,
           -0.09555430678080751,
           0.17620430802013579,
           0.04173547023371046,
           0.2727254937607924,
           -0.1704589156194219,
           0.046818926002375146,
           0.17658044664766814,
           -0.27399024153429735,
           0.04782009295305771,
           0.12412037998422874,
           -0.2542119048276841,
           0.051987814707336606,
           -0.23160225745667642,
           -0.04494836235621185,
           0.05355003502492309,
           0.058448662029474,
           -0.3138564895097114,
           0.025563378184632907,
           -0.008682398089571908,
           -0.3351536891245445,
           0.01404990468951575,
           -0.029266441305082252,
           -0.31628041387119765,
           0.011871410515990412,
           -0.2648763759048275,
           -0.19302921633923076,
           0.050614037681324206,
           -0.06749684670519802,
           -0.3187449589581307,
           -0.008237862700689266,
           0.020624447070639665,
           -0.21241292341959545,
           -0.00837575730849517,
           0.08267537891293586,
           -0.12165748653254492,
           0.006604537302879827,
           -0.08734689216144985
          ],
          [
           -0.31625546278556393,
           0.4642221141525256,
           0.07640165161758723,
           -0.17564414335035694,
           0.2381006642830356,
           0.9803530338801791,
           0.053537615389205574,
           -0.06114445343908753,
           1,
           0.19876282404670984,
           -0.2831296665043249,
           0.9859175637363053,
           0.19837204194187022,
           -0.3684616561304659,
           0.9512225059773456,
           -0.21626640228652394,
           0.3291293698481789,
           0.885320945631532,
           0.07074569169629062,
           -0.01027923729365157,
           0.9027393856848256,
           0.2320924025513691,
           -0.1861300914054689,
           0.8982157903241095,
           0.30688039665494926,
           -0.19517142868772883,
           0.890769424229275,
           -0.34208870754528503,
           0.3412578481340245,
           0.7699242984466608,
           0.1566619537453592,
           -0.17059356888603588,
           0.8025867785881929,
           0.3268170933863041,
           -0.36377115308231595,
           0.7937762078161983,
           0.3243413764046638,
           -0.31048954947278784,
           0.7705063301516255,
           -0.3670470735335862,
           0.2756559635573408,
           0.5278529727025078,
           0.11379430749789374,
           -0.17074440896183102,
           0.6149163529695698,
           0.26637819606962077,
           -0.31765000004397487,
           0.6231153586577652,
           0.26469889740569585,
           -0.28463138833855617,
           0.5870888221269274,
           -0.23012084413920192,
           0.20067342531753474,
           0.1798392061898334,
           -0.010485942246488838,
           -0.12154612955305077,
           0.34885752270722653,
           0.12275431460170065,
           -0.2444780426507756,
           0.3961984503265676,
           0.1510910060179084,
           -0.24092595491060242,
           0.39064040427728214,
           -0.13985111903058822
          ],
          [
           -0.22759072100025807,
           0.294613818542462,
           -0.18553697414364537,
           0.01887988466015159,
           0.17289195729019172,
           0.25282244619404703,
           0.5396873638190266,
           -0.004656066446784339,
           0.19876282404670984,
           1,
           -0.23109613657217798,
           0.13211535678691236,
           0.8674028208350539,
           -0.38329434576342253,
           0.0837578241009915,
           -0.08252618411568612,
           -0.004107820245436621,
           0.2362360332711598,
           0.009159155493052499,
           -0.16330901294952085,
           0.16033483587223274,
           0.07422924608446671,
           -0.017643777013818588,
           0.12145049830426888,
           0.10444195218022902,
           0.08002987018607569,
           0.11438403876958338,
           -0.24704333276463816,
           -0.0006834166073536637,
           0.18797247850268375,
           0.07712603995330405,
           -0.18892481385928978,
           0.10641405753919499,
           0.28339720675206487,
           -0.00354577384001912,
           0.10925736910372014,
           0.33573907456054053,
           0.07300636431854436,
           0.12676264801692055,
           -0.39578392908910803,
           -0.02303443806140344,
           0.07842681005293697,
           -0.0065071863618896145,
           -0.2364024984353254,
           0.09939937830741262,
           0.13801994488023053,
           -0.23849762135796912,
           0.16950793817750195,
           0.17586592759693215,
           -0.2001652511468838,
           0.20540451750880875,
           -0.3520306522518283,
           -0.03755239311732481,
           -0.0671074232200545,
           -0.2607992771459985,
           -0.2128112709292023,
           0.04279192483517352,
           -0.17301860239579464,
           -0.30961488437566853,
           0.08558708397553515,
           -0.10813087181133382,
           -0.34468413918030705,
           0.09801305167948476,
           -0.33216737219394094
          ],
          [
           -0.17287873594238656,
           -0.20672353263292315,
           0.38441728331524644,
           -0.29372892013830554,
           0.27803798709952976,
           -0.260874063681912,
           -0.37411474262525135,
           0.8091180921245491,
           -0.2831296665043249,
           -0.23109613657217798,
           1,
           -0.2841980592213151,
           -0.07531729903836186,
           0.9094112339150405,
           -0.29090778757962643,
           -0.09863610292310394,
           0.12555845087019588,
           -0.2742806315735175,
           -0.011482931202305641,
           0.23354421088869642,
           -0.19780754975190887,
           -0.00977801074415451,
           -0.10948095571487178,
           -0.17494257955588044,
           -0.027525662188767366,
           -0.22725731717290024,
           -0.18288050120612034,
           -0.06333408240867743,
           -0.09070091938856302,
           -0.2467224587590328,
           0.05069807750655046,
           0.09706805778039244,
           -0.15782989624225305,
           -0.002406949257667836,
           -0.062396746745374425,
           -0.15046569760300765,
           -0.01577879658564087,
           -0.10732531228293851,
           -0.16711856891714671,
           -0.0011797824677876848,
           -0.21577289831082236,
           -0.16374683727574352,
           0.12120987819262564,
           -0.05622833255915131,
           -0.10127205159341875,
           0.05506477241430656,
           -0.11999361655862478,
           -0.14842855820869472,
           0.04269029699345365,
           -0.1512989888696444,
           -0.19815213074261676,
           0.04948873796071446,
           -0.2852371574252922,
           -0.04501751692504533,
           0.17996551150808407,
           -0.1281784989751365,
           -0.07611729468363244,
           0.22389442658409864,
           -0.03214124487008507,
           -0.11657082724475833,
           0.26180939087400645,
           0.032379811614140976,
           -0.14365182300546062,
           -0.08597861135852845
          ],
          [
           -0.2844464615770515,
           0.4633506636080868,
           0.08349087568505317,
           -0.14618871351783755,
           0.24564607359977222,
           0.9360469652291522,
           0.05344044107738273,
           -0.05987498165136812,
           0.9859175637363053,
           0.13211535678691236,
           -0.2841980592213151,
           1,
           0.12101503893050398,
           -0.363095233317002,
           0.988772916461264,
           -0.1632877630302609,
           0.3426974329501835,
           0.8864703025781712,
           0.09042937802913299,
           -0.024424857954127712,
           0.9199802636252724,
           0.2303717979284917,
           -0.2173024872777703,
           0.9247864438710376,
           0.29445940227750356,
           -0.22767404340289585,
           0.9222313760494525,
           -0.275661355567865,
           0.36041642104206967,
           0.8055352999679173,
           0.15209396231098884,
           -0.17330003432762828,
           0.8486637973165335,
           0.29042908695029784,
           -0.38129704656381613,
           0.843575160118467,
           0.2844227322716263,
           -0.3337260014183952,
           0.8235966433112408,
           -0.31332060212366103,
           0.29780146800894913,
           0.6089646937391924,
           0.07321004895863903,
           -0.15889734236374403,
           0.6788429426239818,
           0.21530846201461742,
           -0.3040645128484629,
           0.6781952581333688,
           0.21793903768883438,
           -0.2759249677561505,
           0.6400250657499296,
           -0.21160954918351169,
           0.22119030804768494,
           0.2967634434985006,
           -0.03143095231099396,
           -0.10465965355754542,
           0.43651326315766387,
           0.09050891276801326,
           -0.22178096980015163,
           0.4759218437217452,
           0.11751560502412921,
           -0.21837651464439986,
           0.46826302459114844,
           -0.11062454502105036
          ],
          [
           -0.2916352130112105,
           0.1727207408650986,
           -0.1692859043655553,
           -0.2762381300403469,
           0.14231668225270405,
           0.27204591527012273,
           0.07945677038101483,
           0.10308756298044669,
           0.19837204194187022,
           0.8674028208350539,
           -0.07531729903836186,
           0.12101503893050398,
           1,
           -0.28237233172454024,
           0.059451216590613025,
           -0.43900388152419595,
           -0.02982957630039236,
           0.21297444735494123,
           -0.2633171518868834,
           -0.09148322389951394,
           0.15476780054841574,
           -0.10466297415830927,
           0.005432553680603874,
           0.11705894024286523,
           -0.009437960065157576,
           0.08614101442081067,
           0.10439775775995912,
           -0.48487831298978135,
           -0.06503218930294175,
           0.16277884274819213,
           -0.06193004859599566,
           -0.10854559114073702,
           0.08846815570987167,
           0.22635541970292974,
           0.1157063148056284,
           0.09191698001576053,
           0.3264628164222943,
           0.19750746271530323,
           0.10491859642297777,
           -0.3620555165623743,
           -0.12060937971421595,
           0.0612518081598951,
           0.1763173690700525,
           -0.2604574463794433,
           0.11533076709427356,
           0.22344541448747618,
           -0.26649240621316284,
           0.184122472761496,
           0.24092471300680643,
           -0.21862255937955952,
           0.20166653444776492,
           -0.12771915782776325,
           -0.16071129741553042,
           -0.07185234799857805,
           0.024769475276530895,
           -0.289298384373012,
           0.052391875247209896,
           0.019913072547002017,
           -0.36703325121648506,
           0.08217372725284261,
           0.04325923115525825,
           -0.3806972443701691,
           0.0773388955578965,
           -0.3174580152198961
          ],
          [
           0.06321917091796743,
           -0.4072993333438174,
           0.2895786150290802,
           -0.0716149468021412,
           -0.005836454519703974,
           -0.3430103662632793,
           -0.3039550051615153,
           0.5374251492462931,
           -0.3684616561304659,
           -0.38329434576342253,
           0.9094112339150405,
           -0.363095233317002,
           -0.28237233172454024,
           1,
           -0.3620921666673924,
           -0.012135998771558184,
           -0.0985141088153419,
           -0.40375267466626535,
           -0.04737597461763861,
           0.18893645159827027,
           -0.3170834128134895,
           -0.09199948861970028,
           0.017600807637144965,
           -0.2846104976543828,
           -0.1266502717757065,
           -0.07538899170774792,
           -0.2857525865495083,
           0.07380999759254632,
           -0.23193481653977963,
           -0.37258005119815873,
           -0.007016937234462889,
           0.17136368361229445,
           -0.25532198997974154,
           -0.07451002613938389,
           0.04410957236671037,
           -0.2418950768188966,
           -0.08987438106195283,
           -0.020975917126908588,
           -0.2611985205178947,
           0.17396639031600925,
           -0.266349227028347,
           -0.26212770752094144,
           0.1412649305359205,
           0.08111239231048992,
           -0.17095113999705883,
           0.08136524745642382,
           0.0388400509677632,
           -0.22426350340043522,
           0.06725871611127326,
           -0.004506547280399058,
           -0.28081864857178257,
           0.19217255949746395,
           -0.26359038786964606,
           -0.09226302321916978,
           0.24762538328934353,
           0.005063925468809018,
           -0.10556947112768678,
           0.25797936362233415,
           0.08434110462142819,
           -0.15494879727136956,
           0.2676428536138458,
           0.12271467836378831,
           -0.1938959488747527,
           -0.07719438084950893
          ],
          [
           -0.25121511078197534,
           0.46037905552145586,
           0.06672223749764777,
           -0.11372763810086804,
           0.24943896870748078,
           0.8756659293960671,
           0.06302780145993418,
           -0.06318467603150704,
           0.9512225059773456,
           0.0837578241009915,
           -0.29090778757962643,
           0.988772916461264,
           0.059451216590613025,
           -0.3620921666673924,
           1,
           -0.11039179200207629,
           0.3361076017587464,
           0.8772934731854549,
           0.10737719132154264,
           -0.05681528678720633,
           0.9187013366483974,
           0.2268991815029187,
           -0.23473689753120144,
           0.9303090789973721,
           0.28189172268821017,
           -0.23664642247897835,
           0.9331032590450412,
           -0.2082706846194892,
           0.35831724057625475,
           0.8307931104413324,
           0.15147643777967945,
           -0.1938269662138307,
           0.8756154727921737,
           0.26191620680726013,
           -0.3901397122861582,
           0.8741488288657321,
           0.2538820444741099,
           -0.3435032381573,
           0.8597008477841988,
           -0.25744021571635334,
           0.29968879270765536,
           0.6782582254071718,
           0.0424299812758323,
           -0.16381582364821334,
           0.7262697122264441,
           0.17436263118257703,
           -0.29264063091600706,
           0.7211707250662335,
           0.18171584955558875,
           -0.26385109218060065,
           0.6861829307976023,
           -0.19096202357421693,
           0.22367314338850713,
           0.4010236591595768,
           -0.05054475142809665,
           -0.10639791112150661,
           0.5133407151401972,
           0.05524747136096407,
           -0.2184695961534436,
           0.5462205851609747,
           0.07889001397191502,
           -0.2162973486457234,
           0.5380153605434661,
           -0.08748431142803563
          ],
          [
           0.05125797109496117,
           0.18560239332499404,
           -0.01818247405726089,
           0.3562021334790264,
           0.16430190067844824,
           -0.2796355519935273,
           0.5633700758766305,
           -0.011220006083489352,
           -0.21626640228652394,
           -0.08252618411568612,
           -0.09863610292310394,
           -0.1632877630302609,
           -0.43900388152419595,
           -0.012135998771558184,
           -0.11039179200207629,
           1,
           0.09029901059942413,
           -0.17565751031842497,
           0.7939058111626502,
           -0.08140256819675906,
           -0.20342696149236383,
           0.5240368833039455,
           -0.030903377769331674,
           -0.19080602973584848,
           0.3423005054011067,
           -0.034112223147833395,
           -0.1721708650916533,
           0.8787217454257603,
           0.10036705296269745,
           -0.14433405904532665,
           0.4888033664889469,
           -0.132275247637705,
           -0.15474881319284933,
           0.012859791767265795,
           -0.1893686709190857,
           -0.13712625804630624,
           -0.16472907041327658,
           -0.2288154605743862,
           -0.11055964077669013,
           0.27567873626888,
           0.14511719265974063,
           -0.10113185675767573,
           -0.3199523625339442,
           0.08809247828049648,
           -0.21518149451697285,
           -0.37549366088817043,
           0.17856989864969597,
           -0.20647476777303103,
           -0.36277048845567866,
           0.15074463702130705,
           -0.14380419118903295,
           -0.3016289858408647,
           0.20030854747744864,
           -0.035358987321619906,
           -0.5689595456196126,
           0.19154955948845584,
           -0.14942391500611102,
           -0.5347156691689982,
           0.23975890310835954,
           -0.1279527045535303,
           -0.49280919005866464,
           0.20848728246807208,
           -0.07535243472610471,
           0.07099844462637966
          ],
          [
           -0.3773867796477344,
           0.6115749827906759,
           0.555567383073653,
           -0.22208638630534872,
           0.6452087939392535,
           0.28517063152678157,
           0.013168010948664998,
           0.4561125493218839,
           0.3291293698481789,
           -0.004107820245436621,
           0.12555845087019588,
           0.3426974329501835,
           -0.02982957630039236,
           -0.0985141088153419,
           0.3361076017587464,
           0.09029901059942413,
           1,
           0.3582492281245605,
           0.3145203885243698,
           0.45506389904707517,
           0.37576623659009833,
           0.3503814582607945,
           -0.36445121519900553,
           0.3775827569104001,
           0.33778118768080867,
           -0.6209130841562346,
           0.3620923326913317,
           -0.06490878047160993,
           0.9146935451559237,
           0.2998835001428501,
           0.18500172909863277,
           0.1552422763385659,
           0.29018637810736353,
           0.09336389074434151,
           -0.4973680043437688,
           0.2633269208796344,
           0.026286098919322293,
           -0.6003552906634168,
           0.24529537355486705,
           -0.2850378968031938,
           0.7258234730735995,
           0.17481481338311633,
           -0.1821595556522163,
           0.10701323161657268,
           0.10289145519168436,
           -0.10093771086402287,
           -0.2420235623399861,
           0.06692618803048773,
           -0.08627534167167271,
           -0.3480746462691631,
           0.0617977024981602,
           -0.33938653621250275,
           0.5243557269153353,
           0.009446164448679798,
           -0.2590549583199186,
           0.161966324422808,
           -0.05137797781580121,
           -0.11346498877612714,
           0.012777246027122808,
           -0.04145347917772104,
           -0.04007720667411433,
           -0.03353587493181296,
           -0.017902890336082947,
           -0.002573558604524971
          ],
          [
           -0.3587842110125021,
           0.5792744217144187,
           0.0625614465419777,
           -0.1924581065870209,
           0.3695002774569771,
           0.8246183466004069,
           0.09482247488974613,
           0.026314427619397857,
           0.885320945631532,
           0.2362360332711598,
           -0.2742806315735175,
           0.8864703025781712,
           0.21297444735494123,
           -0.40375267466626535,
           0.8772934731854549,
           -0.17565751031842497,
           0.3582492281245605,
           1,
           0.0976985269446546,
           -0.12980831815822746,
           0.9774493049615186,
           0.25384332821857375,
           -0.3004267327975459,
           0.9506226044010856,
           0.3270180306011761,
           -0.27052009619817446,
           0.9371878307307978,
           -0.3089692169967917,
           0.36566688917677587,
           0.959348232197814,
           0.16693617237453448,
           -0.3001699298030236,
           0.9040220801520028,
           0.3257903108526996,
           -0.4248914257764135,
           0.8666060939502861,
           0.3305146868000505,
           -0.34498125058090695,
           0.8523629778567716,
           -0.37858895879031235,
           0.2830191327313654,
           0.7687856305046031,
           0.04493132187967679,
           -0.2837177949789999,
           0.7179732143455626,
           0.21332119027757337,
           -0.3788547053279686,
           0.7136420794603586,
           0.22933476433088942,
           -0.3195553339967804,
           0.7056204869597001,
           -0.2878355619248211,
           0.18883829719282352,
           0.41711607719412114,
           -0.108205312960889,
           -0.21552763219845827,
           0.48438489967376247,
           0.02263271389634181,
           -0.3277731435271273,
           0.5222600143221793,
           0.06313199408314449,
           -0.31480317661403406,
           0.534116887598574,
           -0.1272445839530613
          ],
          [
           -0.43040783715865205,
           0.3913490140279886,
           0.12292356286289602,
           -0.0831660388724074,
           0.43573933680845733,
           0.031125855497608768,
           0.3763098920235463,
           0.23581969410658574,
           0.07074569169629062,
           0.009159155493052499,
           -0.011482931202305641,
           0.09042937802913299,
           -0.2633171518868834,
           -0.04737597461763861,
           0.10737719132154264,
           0.7939058111626502,
           0.3145203885243698,
           0.0976985269446546,
           1,
           -0.010314075614077567,
           0.05254898144622043,
           0.9191348538153425,
           -0.08183689893986916,
           0.04398787041979687,
           0.806556867144321,
           -0.10957447074737685,
           0.046559714379980695,
           0.5246231661150753,
           0.19490855087396478,
           0.059981277651902545,
           0.7308335814183606,
           -0.30262862101774574,
           0.045859727710139006,
           0.3388390625089421,
           -0.39790764487125235,
           0.04459561766632838,
           0.1321043743132488,
           -0.3776443936534424,
           0.05012135739595023,
           -0.15505631880967788,
           0.11567080477806332,
           -0.02078525559885489,
           -0.196108090328185,
           -0.17797373582702541,
           -0.1020422012889586,
           -0.2184444556905572,
           -0.12114500831401186,
           -0.10342602803845734,
           -0.23765496492859825,
           -0.09551660011055496,
           -0.06875430549839456,
           -0.6208857459271616,
           0.09046876699071099,
           -0.10452482227682365,
           -0.6145015816182213,
           -0.06134195480356079,
           -0.15859889963307652,
           -0.4785016642672857,
           0.007700910847875502,
           -0.12112857064220417,
           -0.40797675871878053,
           0.03948321741049908,
           -0.07135716708160385,
           0.010302113527374673
          ],
          [
           -0.008108371996833475,
           -0.2145010928210267,
           0.37696705535375946,
           -0.07283780169279304,
           -0.12367336919982537,
           0.022463663115360435,
           -0.18392095008901968,
           0.12209741282328877,
           -0.01027923729365157,
           -0.16330901294952085,
           0.23354421088869642,
           -0.024424857954127712,
           -0.09148322389951394,
           0.18893645159827027,
           -0.05681528678720633,
           -0.08140256819675906,
           0.45506389904707517,
           -0.12980831815822746,
           -0.010314075614077567,
           1,
           -0.07584470514356116,
           -0.005545442104753331,
           0.4942399976340842,
           -0.07130767483450941,
           -0.008398672902728539,
           0.10712543431760174,
           -0.09013602183328641,
           -0.10359700828513825,
           0.36891120496430346,
           -0.19153698736432348,
           -0.10695153057354974,
           0.7558957858840899,
           -0.08177254201928612,
           -0.18337658534681625,
           0.09660805499467898,
           -0.09372403745542467,
           -0.19956793137500686,
           -0.1384561956522448,
           -0.14669384124493814,
           -0.09209178747559561,
           0.254298054895009,
           -0.2348265498587916,
           -0.17745917139485176,
           0.5026722407318226,
           -0.12306950763380495,
           -0.2305047761142732,
           0.10810831996690301,
           -0.1907560000090842,
           -0.23200328686124722,
           -0.08991161205956866,
           -0.2764696545689126,
           -0.02272363347306085,
           0.14008206945536314,
           -0.23390719912397398,
           -0.037228647675241144,
           0.34468350337962333,
           -0.1935744007996554,
           -0.028894162825115956,
           0.20728647623226004,
           -0.23337249331107496,
           -0.0046933045898599965,
           0.1153037971497927,
           -0.28117400663063236,
           0.16527972962333015
          ],
          [
           -0.3226429289816517,
           0.5194210814143994,
           0.1269092298528751,
           -0.18314968146023244,
           0.3386681892977438,
           0.8333931333966239,
           0.04354904352491496,
           0.05633360749114403,
           0.9027393856848256,
           0.16033483587223274,
           -0.19780754975190887,
           0.9199802636252724,
           0.15476780054841574,
           -0.3170834128134895,
           0.9187013366483974,
           -0.20342696149236383,
           0.37576623659009833,
           0.9774493049615186,
           0.05254898144622043,
           -0.07584470514356116,
           1,
           0.204277348343725,
           -0.31983389014273855,
           0.9930625140192219,
           0.27598626223172384,
           -0.31896589526539676,
           0.9840834083881902,
           -0.3149330300926921,
           0.37591125275377046,
           0.952709205846876,
           0.1222272162366793,
           -0.2428708829754967,
           0.9516596147947923,
           0.28500321350705166,
           -0.4376882599277642,
           0.9260285580933301,
           0.29486701216444966,
           -0.3772520940807103,
           0.9061996989208585,
           -0.34583063626264055,
           0.287502959596971,
           0.7991190891919837,
           0.041524294471826345,
           -0.24633968035808262,
           0.7932507074445279,
           0.20495986932818702,
           -0.38612033068186374,
           0.7765799609383504,
           0.21916610508186116,
           -0.34548184619600736,
           0.7433975780939985,
           -0.23656629057376322,
           0.1850820696383973,
           0.48682549113026363,
           -0.059367670204757875,
           -0.19091762338378565,
           0.5662993906617805,
           0.06964349911964514,
           -0.3066515103399056,
           0.5931675530620432,
           0.10805369508950059,
           -0.2925061758884472,
           0.5878122058866382,
           -0.09909627641549963
          ],
          [
           -0.5685291285180399,
           0.4401290519627384,
           0.1696640530731987,
           -0.26423549557020665,
           0.47897633470866124,
           0.21190152936109172,
           0.2310015959416584,
           0.27764680639611994,
           0.2320924025513691,
           0.07422924608446671,
           -0.00977801074415451,
           0.2303717979284917,
           -0.10466297415830927,
           -0.09199948861970028,
           0.2268991815029187,
           0.5240368833039455,
           0.3503814582607945,
           0.25384332821857375,
           0.9191348538153425,
           -0.005545442104753331,
           0.204277348343725,
           1,
           -0.0860873737616059,
           0.1832278170088498,
           0.9718904857778777,
           -0.10203099290556128,
           0.177723963650267,
           0.23437493453816563,
           0.18936955768168962,
           0.18987881473623433,
           0.7094669390016193,
           -0.39071751555363776,
           0.1809827816189472,
           0.48111691294279735,
           -0.4851186905148596,
           0.16581852988188894,
           0.3131539932140301,
           -0.42300753457258533,
           0.1535744356458643,
           -0.3467221979751064,
           0.06257886419580272,
           0.057527297028943936,
           -0.10669334392089079,
           -0.33540527442438683,
           0.01879731916436523,
           -0.07895911922255773,
           -0.32536894655909687,
           0.0014367556646804028,
           -0.09878921794293893,
           -0.26953574981045386,
           0.001044016115574347,
           -0.6596147922420825,
           0.004403728551955446,
           -0.09719122696225863,
           -0.5379979879956978,
           -0.21914679844346352,
           -0.096180196124985,
           -0.3879511379353441,
           -0.18602937687517776,
           -0.06801471772505974,
           -0.3194173150345509,
           -0.13706770998133,
           -0.04356990064726299,
           -0.010662021845977525
          ],
          [
           0.1557850978007117,
           -0.5803269690275299,
           -0.3413863818654145,
           0.04618232759669405,
           -0.5803645569926134,
           -0.12190356935943072,
           -0.06760754152179278,
           -0.33703289401048114,
           -0.1861300914054689,
           -0.017643777013818588,
           -0.10948095571487178,
           -0.2173024872777703,
           0.005432553680603874,
           0.017600807637144965,
           -0.23473689753120144,
           -0.030903377769331674,
           -0.36445121519900553,
           -0.3004267327975459,
           -0.08183689893986916,
           0.4942399976340842,
           -0.31983389014273855,
           -0.0860873737616059,
           1,
           -0.3332765762158632,
           -0.06330090792283016,
           0.9103631531497488,
           -0.3310104559047694,
           0.035292287817865683,
           -0.4181418039734397,
           -0.3187293407121099,
           -0.06264470055860205,
           0.36163015788660746,
           -0.2509610594951389,
           -0.1076391841879376,
           0.45615595793448355,
           -0.24189087318465705,
           -0.09639643816606251,
           0.38241071097770785,
           -0.26844747224215587,
           0.10815199251077252,
           -0.421793428541052,
           -0.2969187829254188,
           -0.01378969145426564,
           0.14401813770772798,
           -0.14254843430220057,
           -0.18511994648380875,
           0.14725667033064768,
           -0.15957342547613726,
           -0.2118599090800473,
           0.11141993405752693,
           -0.2243771674544344,
           0.12692628517974106,
           -0.394927466772897,
           -0.21985812039825176,
           0.024987585688378933,
           -0.039709687374972935,
           -0.08489259903442334,
           -0.13767442527322887,
           -0.0797069273392129,
           -0.1205086377922929,
           -0.18916013335226858,
           -0.1311135364753443,
           -0.18938309831244748,
           0.09338399097331336
          ],
          [
           -0.2990412386786636,
           0.49587077434688565,
           0.13580459273978054,
           -0.16717703319565383,
           0.32692738810166666,
           0.8231219793752681,
           0.03251758753982307,
           0.061779405096954884,
           0.8982157903241095,
           0.12145049830426888,
           -0.17494257955588044,
           0.9247864438710376,
           0.11705894024286523,
           -0.2846104976543828,
           0.9303090789973721,
           -0.19080602973584848,
           0.3775827569104001,
           0.9506226044010856,
           0.04398787041979687,
           -0.07130767483450941,
           0.9930625140192219,
           0.1832278170088498,
           -0.3332765762158632,
           1,
           0.2489573993004593,
           -0.3398108547940684,
           0.9973412575247274,
           -0.29165488516581833,
           0.37883129811075006,
           0.9344522166953906,
           0.10805368073309968,
           -0.22563747365816597,
           0.954523579024118,
           0.26013908592079765,
           -0.43375587236222235,
           0.9402124648493335,
           0.26799808887472154,
           -0.38292381348434934,
           0.9246887477022915,
           -0.3148399246334885,
           0.2931275899019734,
           0.8012247186315853,
           0.040323826653164134,
           -0.22373522587804137,
           0.8080963526582876,
           0.19964354406254306,
           -0.36396141048791797,
           0.7941483173370453,
           0.21190882825720167,
           -0.3296036458565878,
           0.7601740951570389,
           -0.2116913137131149,
           0.19099751578984084,
           0.5136216702740997,
           -0.04129160477242674,
           -0.17425804282053667,
           0.5938479476390855,
           0.08346966226598079,
           -0.28671510594801,
           0.6202493736765524,
           0.11733097602972031,
           -0.2737336967558363,
           0.6129673123497413,
           -0.07789329770958738
          ],
          [
           -0.5980871602253935,
           0.43356984496387424,
           0.16202015026590613,
           -0.34455824896737275,
           0.46103317164551944,
           0.29782222626372423,
           0.1332739323296012,
           0.26705672273562814,
           0.30688039665494926,
           0.10444195218022902,
           -0.027525662188767366,
           0.29445940227750356,
           -0.009437960065157576,
           -0.1266502717757065,
           0.28189172268821017,
           0.3423005054011067,
           0.33778118768080867,
           0.3270180306011761,
           0.806556867144321,
           -0.008398672902728539,
           0.27598626223172384,
           0.9718904857778777,
           -0.06330090792283016,
           0.2489573993004593,
           1,
           -0.06681629204416978,
           0.24027232539298213,
           0.06854378781297785,
           0.1643347827945434,
           0.256953598283092,
           0.6367218809645996,
           -0.4211943231547577,
           0.2495344209885376,
           0.511568198916879,
           -0.49400095829808255,
           0.2284427882893434,
           0.3845128518078627,
           -0.4106304803064869,
           0.20839631947190257,
           -0.41339684593067,
           0.01863345547947361,
           0.10921159498525569,
           -0.0607530624125993,
           -0.4124069133599467,
           0.09767101667841357,
           -0.017282410129748724,
           -0.42620287684109365,
           0.07346756517313519,
           -0.031670421590816115,
           -0.3562596167415081,
           0.05318060058909385,
           -0.624093733480137,
           -0.05473110896791799,
           -0.07224813636304307,
           -0.4665422552155635,
           -0.30486686427235543,
           -0.03704658707127523,
           -0.3346727020397019,
           -0.2997629186267731,
           -0.017199893447688963,
           -0.27382543650377905,
           -0.2482059735420437,
           -0.010870933533563533,
           -0.017454249472829655
          ],
          [
           0.1753652972011763,
           -0.5728186102182693,
           -0.5514917257624633,
           0.07294635780827752,
           -0.6096608279535402,
           -0.133280840175237,
           -0.003329733096677573,
           -0.43518507798420375,
           -0.19517142868772883,
           0.08002987018607569,
           -0.22725731717290024,
           -0.22767404340289585,
           0.08614101442081067,
           -0.07538899170774792,
           -0.23664642247897835,
           -0.034112223147833395,
           -0.6209130841562346,
           -0.27052009619817446,
           -0.10957447074737685,
           0.10712543431760174,
           -0.31896589526539676,
           -0.10203099290556128,
           0.9103631531497488,
           -0.3398108547940684,
           -0.06681629204416978,
           1,
           -0.32953701354943987,
           0.05430839043894455,
           -0.6508760000876779,
           -0.2629005168476437,
           -0.03143348866790108,
           0.05157468930138733,
           -0.2346143721849887,
           -0.028527118517867902,
           0.46106936481327165,
           -0.22134178072950678,
           0.0007870831316425402,
           0.49922642602372064,
           -0.22988102201969274,
           0.14962116226838754,
           -0.6127301866098916,
           -0.21942589013197528,
           0.0723854502241288,
           -0.09696934659629527,
           -0.08672066052031001,
           -0.09794441367576245,
           0.07704280020384784,
           -0.0791774621120539,
           -0.12455535237021696,
           0.1370262833901867,
           -0.12038149481634752,
           0.15788029051843466,
           -0.5368460400255127,
           -0.13564373262055593,
           0.05247488376895873,
           -0.23524948878312588,
           0.00625695614355468,
           -0.13690539059044746,
           -0.2228098760207112,
           -0.019939578103555608,
           -0.20226421453429813,
           -0.23228383494580004,
           -0.08172492359459657,
           0.011767387035268657
          ],
          [
           -0.2806743481559269,
           0.4871774724249004,
           0.11461814538310595,
           -0.1483085560427383,
           0.3174216574983006,
           0.811811238366732,
           0.04322958734972084,
           0.050058929706727186,
           0.890769424229275,
           0.11438403876958338,
           -0.18288050120612034,
           0.9222313760494525,
           0.10439775775995912,
           -0.2857525865495083,
           0.9331032590450412,
           -0.1721708650916533,
           0.3620923326913317,
           0.9371878307307978,
           0.046559714379980695,
           -0.09013602183328641,
           0.9840834083881902,
           0.177723963650267,
           -0.3310104559047694,
           0.9973412575247274,
           0.24027232539298213,
           -0.32953701354943987,
           1,
           -0.26714782237848234,
           0.3663269529416658,
           0.9285672527651212,
           0.10578330564636397,
           -0.23621758732964845,
           0.9537045443634022,
           0.249557981716533,
           -0.4293677621200186,
           0.946333540938518,
           0.2564849079192102,
           -0.3779696688606558,
           0.936195670211471,
           -0.29189009652833164,
           0.28516217807561867,
           0.8080429009605032,
           0.039129650320899566,
           -0.2244434392002864,
           0.815920072766467,
           0.19576383053650132,
           -0.3507223260009385,
           0.8066383131248552,
           0.20838537695164217,
           -0.31369255348693836,
           0.7772275125067896,
           -0.19969025513002497,
           0.1865230689095539,
           0.5341248108766181,
           -0.04018565047425543,
           -0.17784682538040408,
           0.6148105322995433,
           0.07698263031635924,
           -0.2896685731029839,
           0.6425376105833672,
           0.10682266504857484,
           -0.27832148756081765,
           0.636250987069108,
           -0.06715932726365823
          ],
          [
           0.3205779745439015,
           -0.010391475141301136,
           -0.09898281993582457,
           0.4207479068470302,
           -0.016222156326248734,
           -0.40740994179314655,
           0.3548226762211047,
           -0.09555430678080751,
           -0.34208870754528503,
           -0.24704333276463816,
           -0.06333408240867743,
           -0.275661355567865,
           -0.48487831298978135,
           0.07380999759254632,
           -0.2082706846194892,
           0.8787217454257603,
           -0.06490878047160993,
           -0.3089692169967917,
           0.5246231661150753,
           -0.10359700828513825,
           -0.3149330300926921,
           0.23437493453816563,
           0.035292287817865683,
           -0.29165488516581833,
           0.06854378781297785,
           0.05430839043894455,
           -0.26714782237848234,
           1,
           -0.023503534395386546,
           -0.23626974608744594,
           0.3644446179623752,
           -0.057929404905920044,
           -0.22558500058273237,
           -0.11171508638170227,
           -0.05813993730294419,
           -0.19967883483591636,
           -0.25315897215448785,
           -0.10880530215425821,
           -0.1709981328296068,
           0.693385994056434,
           0.056101985074385866,
           -0.1175531002139522,
           -0.09118514928856453,
           0.13580304713328853,
           -0.203242768990437,
           -0.30156213312157126,
           0.220445511138443,
           -0.20386312224417721,
           -0.31210741805856085,
           0.17812451519813413,
           -0.15877038234859595,
           0.16071777420088115,
           0.13478136478580321,
           0.033592579351518714,
           -0.22861702277412985,
           0.21145579086325422,
           -0.07843816128305511,
           -0.3707267978646754,
           0.22384306728253323,
           -0.08851292641575594,
           -0.4048766259749672,
           0.16345911990420667,
           -0.06696790435162478,
           0.07664317183006607
          ],
          [
           -0.14006140548952384,
           0.6427097733716648,
           0.521480104730765,
           0.025096814549783637,
           0.4997061437371546,
           0.2864928702827308,
           0.14303913690864814,
           0.17620430802013579,
           0.3412578481340245,
           -0.0006834166073536637,
           -0.09070091938856302,
           0.36041642104206967,
           -0.06503218930294175,
           -0.23193481653977963,
           0.35831724057625475,
           0.10036705296269745,
           0.9146935451559237,
           0.36566688917677587,
           0.19490855087396478,
           0.36891120496430346,
           0.37591125275377046,
           0.18936955768168962,
           -0.4181418039734397,
           0.37883129811075006,
           0.1643347827945434,
           -0.6508760000876779,
           0.3663269529416658,
           -0.023503534395386546,
           1,
           0.30280873672709085,
           0.04246171050104381,
           0.2789814316719849,
           0.2717624110973145,
           0.0018234590298901957,
           -0.42992960372459693,
           0.2380681174433365,
           -0.038895823945327986,
           -0.5702849651450139,
           0.22241158789109786,
           -0.18334754424647115,
           0.9378217746695631,
           0.16953563334138314,
           -0.2034725535072913,
           0.3577428404660609,
           0.06495348150665202,
           -0.0436821760439553,
           -0.032114818568934826,
           0.03062798737268106,
           -0.006101851864501875,
           -0.1818866036232473,
           0.041959274981788065,
           -0.21650972229422083,
           0.8061449283214114,
           -0.0026840847284904656,
           -0.20598077454721125,
           0.44807836495481296,
           -0.0839252646222716,
           -0.05323764048684327,
           0.22628561557937352,
           -0.07317920707548793,
           0.011828284281176443,
           0.11653018766063314,
           -0.0403366654081907,
           -0.02517618724001335
          ],
          [
           -0.2918891009893658,
           0.5200563166286721,
           0.005191987458900368,
           -0.15613652372133616,
           0.34683484255307084,
           0.6732699677747622,
           0.08379069581464829,
           0.04173547023371046,
           0.7699242984466608,
           0.18797247850268375,
           -0.2467224587590328,
           0.8055352999679173,
           0.16277884274819213,
           -0.37258005119815873,
           0.8307931104413324,
           -0.14433405904532665,
           0.2998835001428501,
           0.959348232197814,
           0.059981277651902545,
           -0.19153698736432348,
           0.952709205846876,
           0.18987881473623433,
           -0.3187293407121099,
           0.9344522166953906,
           0.256953598283092,
           -0.2629005168476437,
           0.9285672527651212,
           -0.23626974608744594,
           0.30280873672709085,
           1,
           0.11262259976922154,
           -0.3329219433489133,
           0.9460159099371706,
           0.2494799646203048,
           -0.393943794982025,
           0.9149095480166094,
           0.26992629788201805,
           -0.3064540738624877,
           0.9108378895000235,
           -0.28775764208705795,
           0.21885320271971653,
           0.9165918445863037,
           -0.01015115729162286,
           -0.32519919651579055,
           0.8355862358785437,
           0.12779846326206779,
           -0.38118743033493907,
           0.8248802964291627,
           0.1532667431955484,
           -0.3115241887613302,
           0.8174229921908389,
           -0.23206256535522982,
           0.12091213432677728,
           0.6512437861586516,
           -0.1269780219745748,
           -0.2696836016215357,
           0.6754360295594721,
           -0.040430663848574536,
           -0.36271219396389665,
           0.6982181974792951,
           -0.006184390411056718,
           -0.3418526319144081,
           0.7031037180840988,
           -0.08011534218312331
          ],
          [
           -0.5253480686865756,
           0.3278431315645169,
           0.007312260646066927,
           -0.2947010017189153,
           0.411012618494427,
           0.1457062201527072,
           0.1491364359612129,
           0.2727254937607924,
           0.1566619537453592,
           0.07712603995330405,
           0.05069807750655046,
           0.15209396231098884,
           -0.06193004859599566,
           -0.007016937234462889,
           0.15147643777967945,
           0.4888033664889469,
           0.18500172909863277,
           0.16693617237453448,
           0.7308335814183606,
           -0.10695153057354974,
           0.1222272162366793,
           0.7094669390016193,
           -0.06264470055860205,
           0.10805368073309968,
           0.6367218809645996,
           -0.03143348866790108,
           0.10578330564636397,
           0.3644446179623752,
           0.04246171050104381,
           0.11262259976922154,
           1,
           -0.3673949383557777,
           0.0921028128144345,
           0.7771951419636425,
           -0.28533507976067163,
           0.09685935167616508,
           0.5849863308103208,
           -0.20814157733067876,
           0.10707736849826792,
           -0.04891530515042231,
           -0.05802656629112566,
           0.0024847436253112045,
           0.3437574630466505,
           -0.34457980532152044,
           -0.020804806196752006,
           0.19340314304246245,
           -0.2555839169115995,
           -0.01338374913781206,
           0.10928277116630244,
           -0.18321406076660135,
           0.003251821038183151,
           -0.3717961044196074,
           -0.09449201198442829,
           -0.12095878338808923,
           -0.18971520241286915,
           -0.26227764491558625,
           -0.09930703818969518,
           -0.12678708148685988,
           -0.2103335706767403,
           -0.072278649783758,
           -0.11482555078769913,
           -0.15944176215945866,
           -0.0519061484331135,
           -0.19248741412451403
          ],
          [
           0.330034090580378,
           -0.35253156806331043,
           0.17826360653143505,
           0.18838331756879753,
           -0.378844615795746,
           -0.1455433741679374,
           -0.1380063929047885,
           -0.1704589156194219,
           -0.17059356888603588,
           -0.18892481385928978,
           0.09706805778039244,
           -0.17330003432762828,
           -0.10854559114073702,
           0.17136368361229445,
           -0.1938269662138307,
           -0.132275247637705,
           0.1552422763385659,
           -0.3001699298030236,
           -0.30262862101774574,
           0.7558957858840899,
           -0.2428708829754967,
           -0.39071751555363776,
           0.36163015788660746,
           -0.22563747365816597,
           -0.4211943231547577,
           0.05157468930138733,
           -0.23621758732964845,
           -0.057929404905920044,
           0.2789814316719849,
           -0.3329219433489133,
           -0.3673949383557777,
           1,
           -0.2727919158162029,
           -0.3663978861089571,
           0.5000548842071927,
           -0.27379160294120397,
           -0.32501226290988877,
           0.21944935764641174,
           -0.2969092337138,
           0.11293435314358362,
           0.350036433795315,
           -0.31424309089489694,
           -0.13984190502408556,
           0.8659430179890253,
           -0.25674253646387246,
           -0.16384169545507174,
           0.5623982406871328,
           -0.2886282955866622,
           -0.15456864489409827,
           0.3275143191961517,
           -0.32191471537788,
           0.2346903490868071,
           0.34854883832026745,
           -0.23013843050500848,
           0.13294689617637193,
           0.6910494782171741,
           -0.23916957521984475,
           0.09356211751497812,
           0.559717048858582,
           -0.2703813457508469,
           0.08211309951235277,
           0.4152380114883935,
           -0.29189490275242697,
           0.14614701590068788
          ],
          [
           -0.22809012923965055,
           0.40942015350633115,
           0.10530315117658182,
           -0.11595861485882006,
           0.2587209712990883,
           0.7120073896898291,
           0.05112046311084584,
           0.046818926002375146,
           0.8025867785881929,
           0.10641405753919499,
           -0.15782989624225305,
           0.8486637973165335,
           0.08846815570987167,
           -0.25532198997974154,
           0.8756154727921737,
           -0.15474881319284933,
           0.29018637810736353,
           0.9040220801520028,
           0.045859727710139006,
           -0.08177254201928612,
           0.9516596147947923,
           0.1809827816189472,
           -0.2509610594951389,
           0.954523579024118,
           0.2495344209885376,
           -0.2346143721849887,
           0.9537045443634022,
           -0.22558500058273237,
           0.2717624110973145,
           0.9460159099371706,
           0.0921028128144345,
           -0.2727919158162029,
           1,
           0.22204859073710623,
           -0.46315877941865446,
           0.9887094902204977,
           0.24215716934956238,
           -0.4057522691721009,
           0.9659426034802227,
           -0.2423235250731644,
           0.17972873027634156,
           0.8898667707494393,
           -0.01404048388383404,
           -0.29744277670948693,
           0.9216463837356762,
           0.10808308669228682,
           -0.45386956222533975,
           0.8862830844562983,
           0.13154806833756535,
           -0.42170203807778806,
           0.8214940640560808,
           -0.16955995576791816,
           0.08038044438919048,
           0.6653455994105756,
           -0.07674502493018241,
           -0.24712690118330272,
           0.749499024861444,
           0.003955403173720995,
           -0.3644753570033351,
           0.7539525995483306,
           0.03780190399948381,
           -0.35148887544696844,
           0.7206629199389462,
           -0.059785948480954906
          ],
          [
           -0.48646996245264945,
           0.31714647030057325,
           0.006675618740640878,
           -0.2933688063289704,
           0.3231240143894025,
           0.3486643225395895,
           0.11248292472790467,
           0.17658044664766814,
           0.3268170933863041,
           0.28339720675206487,
           -0.002406949257667836,
           0.29042908695029784,
           0.22635541970292974,
           -0.07451002613938389,
           0.26191620680726013,
           0.012859791767265795,
           0.09336389074434151,
           0.3257903108526996,
           0.3388390625089421,
           -0.18337658534681625,
           0.28500321350705166,
           0.48111691294279735,
           -0.1076391841879376,
           0.26013908592079765,
           0.511568198916879,
           -0.028527118517867902,
           0.249557981716533,
           -0.11171508638170227,
           0.0018234590298901957,
           0.2494799646203048,
           0.7771951419636425,
           -0.3663978861089571,
           0.22204859073710623,
           1,
           -0.25203105039122026,
           0.21526398766242213,
           0.9572539127161958,
           -0.13662033470285442,
           0.21364373539951523,
           -0.28466115707378337,
           -0.07890516142043702,
           0.09666390851950053,
           0.4429136351108025,
           -0.40414168011365176,
           0.1326840879553832,
           0.5187361221103222,
           -0.3990324372894925,
           0.13238826254625943,
           0.48444219542025063,
           -0.31286396119576804,
           0.1138076238573377,
           -0.3155314286702498,
           -0.11429471153317439,
           -0.09198389256954739,
           -0.003790016785741949,
           -0.3343035277047444,
           0.009343107349488327,
           0.14303503241254364,
           -0.37250055920892156,
           0.021733451402822054,
           0.18082236407352267,
           -0.33286882381446325,
           0.006738591283731043,
           -0.3334157805689246
          ],
          [
           0.1896012419177801,
           -0.5594123714664675,
           -0.5709245540391149,
           -0.040092263829932355,
           -0.5029665033162877,
           -0.31771637382750717,
           -0.22223410007221142,
           -0.27399024153429735,
           -0.36377115308231595,
           -0.00354577384001912,
           -0.062396746745374425,
           -0.38129704656381613,
           0.1157063148056284,
           0.04410957236671037,
           -0.3901397122861582,
           -0.1893686709190857,
           -0.4973680043437688,
           -0.4248914257764135,
           -0.39790764487125235,
           0.09660805499467898,
           -0.4376882599277642,
           -0.4851186905148596,
           0.45615595793448355,
           -0.43375587236222235,
           -0.49400095829808255,
           0.46106936481327165,
           -0.4293677621200186,
           -0.05813993730294419,
           -0.42992960372459693,
           -0.393943794982025,
           -0.28533507976067163,
           0.5000548842071927,
           -0.46315877941865446,
           -0.25203105039122026,
           1,
           -0.4290008050738548,
           -0.188227096123902,
           0.9453707426104104,
           -0.3803099785162653,
           0.15404115964925075,
           -0.3338341892088392,
           -0.29112601042908487,
           0.057248499797084906,
           0.3369496274091498,
           -0.28890896603959443,
           -0.14391067763566556,
           0.6192553871194998,
           -0.20407874172355964,
           -0.1944266472242915,
           0.6241608252397741,
           -0.1390341745746378,
           0.24119314704863765,
           -0.2598341474500463,
           -0.12706215519448608,
           0.16400790171425797,
           0.12817607908145645,
           -0.11899253317362452,
           -0.028812820949433375,
           0.26399132228514016,
           -0.09797680316526682,
           -0.11426401230535146,
           0.2596800023047843,
           -0.07807075060974936,
           0.15107378541895444
          ],
          [
           -0.21874060426492895,
           0.3813874753836025,
           0.06483506753996897,
           -0.11461526060785109,
           0.24406114744030924,
           0.7055693792035426,
           0.05118402187582127,
           0.04782009295305771,
           0.7937762078161983,
           0.10925736910372014,
           -0.15046569760300765,
           0.843575160118467,
           0.09191698001576053,
           -0.2418950768188966,
           0.8741488288657321,
           -0.13712625804630624,
           0.2633269208796344,
           0.8666060939502861,
           0.04459561766632838,
           -0.09372403745542467,
           0.9260285580933301,
           0.16581852988188894,
           -0.24189087318465705,
           0.9402124648493335,
           0.2284427882893434,
           -0.22134178072950678,
           0.946333540938518,
           -0.19967883483591636,
           0.2380681174433365,
           0.9149095480166094,
           0.09685935167616508,
           -0.27379160294120397,
           0.9887094902204977,
           0.21526398766242213,
           -0.4290008050738548,
           1,
           0.2346356511131862,
           -0.3751954057704118,
           0.9904052257111808,
           -0.21738292625678782,
           0.1468980384429735,
           0.8761330327474741,
           -0.011338413564382824,
           -0.30152722949533745,
           0.9311702672998694,
           0.09165937971948278,
           -0.4377945083354621,
           0.9178857052470901,
           0.11096465648185724,
           -0.40800458640420895,
           0.8628666605438022,
           -0.1578196654959417,
           0.05184230477772238,
           0.6748728094566221,
           -0.07480903620565961,
           -0.25624057392005467,
           0.7749947588088621,
           -0.006504674249145709,
           -0.3561935691422788,
           0.7915734107535161,
           0.021805094915051965,
           -0.34100543453629034,
           0.7636260193478643,
           -0.04643211984060773
          ],
          [
           -0.39382073121108674,
           0.2570810692291691,
           -0.020673342912658387,
           -0.2553738421717919,
           0.24289213921215644,
           0.3533030968270181,
           0.07653588745284201,
           0.12412037998422874,
           0.3243413764046638,
           0.33573907456054053,
           -0.01577879658564087,
           0.2844227322716263,
           0.3264628164222943,
           -0.08987438106195283,
           0.2538820444741099,
           -0.16472907041327658,
           0.026286098919322293,
           0.3305146868000505,
           0.1321043743132488,
           -0.19956793137500686,
           0.29486701216444966,
           0.3131539932140301,
           -0.09639643816606251,
           0.26799808887472154,
           0.3845128518078627,
           0.0007870831316425402,
           0.2564849079192102,
           -0.25315897215448785,
           -0.038895823945327986,
           0.26992629788201805,
           0.5849863308103208,
           -0.32501226290988877,
           0.24215716934956238,
           0.9572539127161958,
           -0.188227096123902,
           0.2346356511131862,
           1,
           -0.06984693585691916,
           0.23190248704733668,
           -0.30008464137980156,
           -0.10495244698928095,
           0.13884920283840427,
           0.409044958708605,
           -0.3971362570896519,
           0.1959110640297315,
           0.5435566645427364,
           -0.4276608670208437,
           0.19189423452729715,
           0.5467450314930878,
           -0.34930255167076385,
           0.15865397913591503,
           -0.22448341946101202,
           -0.13701071803174492,
           -0.03529862556333427,
           0.05720729638879364,
           -0.3419593705746742,
           0.08508089055925636,
           0.19383773043914707,
           -0.41579387512289717,
           0.08469667236695691,
           0.24174435015284482,
           -0.39001206765958124,
           0.051818593600889584,
           -0.35543022571365773
          ],
          [
           0.0801398669286045,
           -0.5086890023808546,
           -0.6885538239573478,
           -0.13662018431595488,
           -0.4394409110417331,
           -0.2633762988024038,
           -0.22968275930631163,
           -0.2542119048276841,
           -0.31048954947278784,
           0.07300636431854436,
           -0.10732531228293851,
           -0.3337260014183952,
           0.19750746271530323,
           -0.020975917126908588,
           -0.3435032381573,
           -0.2288154605743862,
           -0.6003552906634168,
           -0.34498125058090695,
           -0.3776443936534424,
           -0.1384561956522448,
           -0.3772520940807103,
           -0.42300753457258533,
           0.38241071097770785,
           -0.38292381348434934,
           -0.4106304803064869,
           0.49922642602372064,
           -0.3779696688606558,
           -0.10880530215425821,
           -0.5702849651450139,
           -0.3064540738624877,
           -0.20814157733067876,
           0.21944935764641174,
           -0.4057522691721009,
           -0.13662033470285442,
           0.9453707426104104,
           -0.3751954057704118,
           -0.06984693585691916,
           1,
           -0.3191769420078677,
           0.09661922601817141,
           -0.49558463248627455,
           -0.2079671077340524,
           0.132078274979565,
           0.06309040255325264,
           -0.215722934769622,
           -0.07348805893523538,
           0.47117482549846457,
           -0.11803703281673601,
           -0.1323094534486346,
           0.5737533455656648,
           -0.04350905263032665,
           0.18844291532136337,
           -0.4199118129430427,
           -0.06539969397875062,
           0.16286647295886947,
           -0.11562516449061683,
           -0.04432594593797927,
           -0.028665271090078364,
           0.07628720349249508,
           -0.015336419160681812,
           -0.1155550513225825,
           0.13349209979403379,
           0.00799618146207211,
           0.08862557385774626
          ],
          [
           -0.22466470791867615,
           0.39578335098258627,
           0.00043405717059625854,
           -0.11972949624181156,
           0.2658197183826055,
           0.6781871711870996,
           0.0632559994761026,
           0.051987814707336606,
           0.7705063301516255,
           0.12676264801692055,
           -0.16711856891714671,
           0.8235966433112408,
           0.10491859642297777,
           -0.2611985205178947,
           0.8597008477841988,
           -0.11055964077669013,
           0.24529537355486705,
           0.8523629778567716,
           0.05012135739595023,
           -0.14669384124493814,
           0.9061996989208585,
           0.1535744356458643,
           -0.26844747224215587,
           0.9246887477022915,
           0.20839631947190257,
           -0.22988102201969274,
           0.936195670211471,
           -0.1709981328296068,
           0.22241158789109786,
           0.9108378895000235,
           0.10707736849826792,
           -0.2969092337138,
           0.9659426034802227,
           0.21364373539951523,
           -0.3803099785162653,
           0.9904052257111808,
           0.23190248704733668,
           -0.3191769420078677,
           1,
           -0.20208613676808693,
           0.13584620225098207,
           0.8848346602123208,
           -0.011680923147127457,
           -0.312008186128033,
           0.9177574782403445,
           0.07964925710619301,
           -0.3963856269803413,
           0.9301714653946705,
           0.09656295902547525,
           -0.3560441388532027,
           0.9037920199982837,
           -0.16401096560968628,
           0.04529000082135711,
           0.6955885776647557,
           -0.08988205218359377,
           -0.26796206370703285,
           0.7836444129050334,
           -0.030863900190276725,
           -0.34326566114174756,
           0.8160837775720282,
           -0.0072469581617546725,
           -0.3227504112087728,
           0.8067052235738551,
           -0.0362953145722632
          ],
          [
           0.6490591041657952,
           -0.30559427862157806,
           -0.14627416810706026,
           0.4070090169579326,
           -0.31890777547129545,
           -0.40160261125890473,
           -0.08142299610788535,
           -0.23160225745667642,
           -0.3670470735335862,
           -0.39578392908910803,
           -0.0011797824677876848,
           -0.31332060212366103,
           -0.3620555165623743,
           0.17396639031600925,
           -0.25744021571635334,
           0.27567873626888,
           -0.2850378968031938,
           -0.37858895879031235,
           -0.15505631880967788,
           -0.09209178747559561,
           -0.34583063626264055,
           -0.3467221979751064,
           0.10815199251077252,
           -0.3148399246334885,
           -0.41339684593067,
           0.14962116226838754,
           -0.29189009652833164,
           0.693385994056434,
           -0.18334754424647115,
           -0.28775764208705795,
           -0.04891530515042231,
           0.11293435314358362,
           -0.2423235250731644,
           -0.28466115707378337,
           0.15404115964925075,
           -0.21738292625678782,
           -0.30008464137980156,
           0.09661922601817141,
           -0.20208613676808693,
           1,
           -0.06037828900693149,
           -0.11965252919947049,
           0.28818850302703936,
           0.20928752499844971,
           -0.11649069420236448,
           -0.01590980920357179,
           0.2187042822302538,
           -0.13436745751207524,
           -0.04839941350980373,
           0.15819137299481795,
           -0.13821147644474868,
           0.8168729880516505,
           0.03407078612302468,
           0.08717212679287395,
           0.4281840896061554,
           0.21431777900815288,
           0.03348744647730188,
           0.10617875032387375,
           0.14664545101402732,
           -0.019591792679775746,
           -0.024167975878927526,
           0.05579729306422756,
           -0.05387784663491502,
           0.04002454098839795
          ],
          [
           0.0849892696617885,
           0.5923832323703394,
           0.45975680372646494,
           0.24463116808402718,
           0.3393541157218035,
           0.21984221391127495,
           0.2436613317060374,
           -0.04494836235621185,
           0.2756559635573408,
           -0.02303443806140344,
           -0.21577289831082236,
           0.29780146800894913,
           -0.12060937971421595,
           -0.266349227028347,
           0.29968879270765536,
           0.14511719265974063,
           0.7258234730735995,
           0.2830191327313654,
           0.11567080477806332,
           0.254298054895009,
           0.287502959596971,
           0.06257886419580272,
           -0.421793428541052,
           0.2931275899019734,
           0.01863345547947361,
           -0.6127301866098916,
           0.28516217807561867,
           0.056101985074385866,
           0.9378217746695631,
           0.21885320271971653,
           -0.05802656629112566,
           0.350036433795315,
           0.17972873027634156,
           -0.07890516142043702,
           -0.3338341892088392,
           0.1468980384429735,
           -0.10495244698928095,
           -0.49558463248627455,
           0.13584620225098207,
           -0.06037828900693149,
           1,
           0.0941913389974558,
           -0.203270159127374,
           0.5486743584564563,
           -0.02739797773964747,
           0.00380506785593237,
           0.176374764588987,
           -0.056911478404443175,
           0.056129751583558596,
           0.0012028786152832832,
           -0.030152050259604303,
           -0.09483557499492745,
           0.9588458775737394,
           -0.05343873892439312,
           -0.14923789912049584,
           0.6725990836999998,
           -0.15242125623124028,
           0.0008531165665051403,
           0.4294320312863818,
           -0.14152329168749153,
           0.05499265579455041,
           0.2787372670614781,
           -0.10030141149797593,
           -0.04192274617604386
          ],
          [
           -0.1496519402952114,
           0.3432379733290487,
           -0.06859395851881235,
           -0.08504616693295074,
           0.2476659366497219,
           0.39549637670086973,
           0.03912010781704291,
           0.05355003502492309,
           0.5278529727025078,
           0.07842681005293697,
           -0.16374683727574352,
           0.6089646937391924,
           0.0612518081598951,
           -0.26212770752094144,
           0.6782582254071718,
           -0.10113185675767573,
           0.17481481338311633,
           0.7687856305046031,
           -0.02078525559885489,
           -0.2348265498587916,
           0.7991190891919837,
           0.057527297028943936,
           -0.2969187829254188,
           0.8012247186315853,
           0.10921159498525569,
           -0.21942589013197528,
           0.8080429009605032,
           -0.1175531002139522,
           0.16953563334138314,
           0.9165918445863037,
           0.0024847436253112045,
           -0.31424309089489694,
           0.8898667707494393,
           0.09666390851950053,
           -0.29112601042908487,
           0.8761330327474741,
           0.13884920283840427,
           -0.2079671077340524,
           0.8848346602123208,
           -0.11965252919947049,
           0.0941913389974558,
           1,
           -0.07915268719399303,
           -0.3280012474226611,
           0.9095612421623005,
           -0.0031077073272271646,
           -0.33120201621036816,
           0.891308466729141,
           0.02999765885888872,
           -0.2588691699183791,
           0.8785070538522712,
           -0.107172243893191,
           0.002924756686573333,
           0.8998725669266369,
           -0.11406310606417173,
           -0.30465186498893976,
           0.8737902823310708,
           -0.10082546100855112,
           -0.35766422116522634,
           0.8725413310810985,
           -0.08173663251003324,
           -0.3262988093002004,
           0.8627580036917325,
           0.004177294375105245
          ],
          [
           -0.09316198046033433,
           -0.0585618417831138,
           -0.09097076066906133,
           -0.2618983097468883,
           -0.00029310515577449486,
           0.160704399944664,
           -0.3297949255120225,
           0.058448662029474,
           0.11379430749789374,
           -0.0065071863618896145,
           0.12120987819262564,
           0.07321004895863903,
           0.1763173690700525,
           0.1412649305359205,
           0.0424299812758323,
           -0.3199523625339442,
           -0.1821595556522163,
           0.04493132187967679,
           -0.196108090328185,
           -0.17745917139485176,
           0.041524294471826345,
           -0.10669334392089079,
           -0.01378969145426564,
           0.040323826653164134,
           -0.0607530624125993,
           0.0723854502241288,
           0.039129650320899566,
           -0.09118514928856453,
           -0.2034725535072913,
           -0.01015115729162286,
           0.3437574630466505,
           -0.13984190502408556,
           -0.01404048388383404,
           0.4429136351108025,
           0.057248499797084906,
           -0.011338413564382824,
           0.409044958708605,
           0.132078274979565,
           -0.011680923147127457,
           0.28818850302703936,
           -0.203270159127374,
           -0.07915268719399303,
           1,
           -0.17399958120088913,
           -0.009370477384435682,
           0.7998751680511252,
           -0.09765371719331505,
           0.014087585595165571,
           0.6674137334641933,
           -0.02431543744713151,
           0.013459918579405965,
           0.4453997170923257,
           -0.18765281993301017,
           -0.1396476158209962,
           0.7780732214568535,
           -0.20994248213505684,
           -0.04271907097228136,
           0.6816877889538892,
           -0.23542252162405194,
           -0.04066856192538969,
           0.5627833765197061,
           -0.2160743568609605,
           -0.0582987349544493,
           -0.35499541273174695
          ],
          [
           0.48332927214276367,
           -0.17984691197083857,
           0.2344594292093014,
           0.4388520331437317,
           -0.3331257256672095,
           -0.173039743632788,
           0.07776677121197777,
           -0.3138564895097114,
           -0.17074440896183102,
           -0.2364024984353254,
           -0.05622833255915131,
           -0.15889734236374403,
           -0.2604574463794433,
           0.08111239231048992,
           -0.16381582364821334,
           0.08809247828049648,
           0.10701323161657268,
           -0.2837177949789999,
           -0.17797373582702541,
           0.5026722407318226,
           -0.24633968035808262,
           -0.33540527442438683,
           0.14401813770772798,
           -0.22373522587804137,
           -0.4124069133599467,
           -0.09696934659629527,
           -0.2244434392002864,
           0.13580304713328853,
           0.3577428404660609,
           -0.32519919651579055,
           -0.34457980532152044,
           0.8659430179890253,
           -0.29744277670948693,
           -0.40414168011365176,
           0.3369496274091498,
           -0.30152722949533745,
           -0.3971362570896519,
           0.06309040255325264,
           -0.312008186128033,
           0.20928752499844971,
           0.5486743584564563,
           -0.3280012474226611,
           -0.17399958120088913,
           1,
           -0.3610767379565042,
           -0.07907749530826716,
           0.7582875685188927,
           -0.37980262836547174,
           -0.043872624050297876,
           0.5231972559517216,
           -0.3593018404680317,
           0.23271664666973343,
           0.6341868423241862,
           -0.26189314278961423,
           0.08940392794805217,
           0.9273916901686547,
           -0.3412138970796702,
           0.12488579900919093,
           0.8020331275078229,
           -0.34865857054045996,
           0.12469686706856697,
           0.6339278954458124,
           -0.32321551415909483,
           0.13958662714865352
          ],
          [
           -0.11896704446893708,
           0.19871107671263383,
           -0.06273316460817757,
           -0.09975542334224385,
           0.11161922586945389,
           0.524352796546772,
           -0.014447707053519878,
           0.025563378184632907,
           0.6149163529695698,
           0.09939937830741262,
           -0.10127205159341875,
           0.6788429426239818,
           0.11533076709427356,
           -0.17095113999705883,
           0.7262697122264441,
           -0.21518149451697285,
           0.10289145519168436,
           0.7179732143455626,
           -0.1020422012889586,
           -0.12306950763380495,
           0.7932507074445279,
           0.01879731916436523,
           -0.14254843430220057,
           0.8080963526582876,
           0.09767101667841357,
           -0.08672066052031001,
           0.815920072766467,
           -0.203242768990437,
           0.06495348150665202,
           0.8355862358785437,
           -0.020804806196752006,
           -0.25674253646387246,
           0.9216463837356762,
           0.1326840879553832,
           -0.28890896603959443,
           0.9311702672998694,
           0.1959110640297315,
           -0.215722934769622,
           0.9177574782403445,
           -0.11649069420236448,
           -0.02739797773964747,
           0.9095612421623005,
           -0.009370477384435682,
           -0.3610767379565042,
           1,
           0.025481986638640538,
           -0.4762694964213499,
           0.9705239732331603,
           0.045859645241527004,
           -0.43159877764217214,
           0.8849350297904478,
           -0.028764983829261556,
           -0.12110662785034725,
           0.8211871710194512,
           -0.01865706217525649,
           -0.35912070651164485,
           0.9345068075292183,
           -0.03831217515919616,
           -0.46216925954970867,
           0.9193080158167705,
           -0.028945404650163205,
           -0.4430108673296147,
           0.8546237550949625,
           -0.0420733544064886
          ],
          [
           -0.05525719110874442,
           0.10478122921429574,
           0.0944571584967227,
           -0.05288684873289873,
           0.049612183037072835,
           0.309641760648677,
           -0.06821388725444116,
           -0.008682398089571908,
           0.26637819606962077,
           0.13801994488023053,
           0.05506477241430656,
           0.21530846201461742,
           0.22344541448747618,
           0.08136524745642382,
           0.17436263118257703,
           -0.37549366088817043,
           -0.10093771086402287,
           0.21332119027757337,
           -0.2184444556905572,
           -0.2305047761142732,
           0.20495986932818702,
           -0.07895911922255773,
           -0.18511994648380875,
           0.19964354406254306,
           -0.017282410129748724,
           -0.09794441367576245,
           0.19576383053650132,
           -0.30156213312157126,
           -0.0436821760439553,
           0.12779846326206779,
           0.19340314304246245,
           -0.16384169545507174,
           0.10808308669228682,
           0.5187361221103222,
           -0.14391067763566556,
           0.09165937971948278,
           0.5435566645427364,
           -0.07348805893523538,
           0.07964925710619301,
           -0.01590980920357179,
           0.00380506785593237,
           -0.0031077073272271646,
           0.7998751680511252,
           -0.07907749530826716,
           0.025481986638640538,
           1,
           -0.06788324140858712,
           0.04225096198869475,
           0.9718053857326729,
           0.0007885846228211566,
           0.05677785433569796,
           0.22354169663761056,
           0.038244328442057864,
           -0.14353811834317332,
           0.6312358088879922,
           -0.07828755878238454,
           -0.06385867450630683,
           0.7856206674107913,
           -0.16181383880622424,
           -0.05006241926803736,
           0.767372685376626,
           -0.15676427234188917,
           -0.04783801607633829,
           -0.440772404275759
          ],
          [
           0.3663688696683788,
           -0.2940859761400856,
           -0.16397550443906708,
           0.3108049411782566,
           -0.36354018993463727,
           -0.3258825949992854,
           0.03426089136119603,
           -0.3351536891245445,
           -0.31765000004397487,
           -0.23849762135796912,
           -0.11999361655862478,
           -0.3040645128484629,
           -0.26649240621316284,
           0.0388400509677632,
           -0.29264063091600706,
           0.17856989864969597,
           -0.2420235623399861,
           -0.3788547053279686,
           -0.12114500831401186,
           0.10810831996690301,
           -0.38612033068186374,
           -0.32536894655909687,
           0.14725667033064768,
           -0.36396141048791797,
           -0.42620287684109365,
           0.07704280020384784,
           -0.3507223260009385,
           0.220445511138443,
           -0.032114818568934826,
           -0.38118743033493907,
           -0.2555839169115995,
           0.5623982406871328,
           -0.45386956222533975,
           -0.3990324372894925,
           0.6192553871194998,
           -0.4377945083354621,
           -0.4276608670208437,
           0.47117482549846457,
           -0.3963856269803413,
           0.2187042822302538,
           0.176374764588987,
           -0.33120201621036816,
           -0.09765371719331505,
           0.7582875685188927,
           -0.4762694964213499,
           -0.06788324140858712,
           1,
           -0.4091577032926295,
           -0.06895412147146172,
           0.9438475902942696,
           -0.27996828614061575,
           0.1513036053770097,
           0.3082704555888738,
           -0.20810324821489587,
           0.054093417768678244,
           0.6441350124321008,
           -0.34791622749332785,
           0.05431041175813969,
           0.770156002698492,
           -0.30257417489469646,
           0.01684091289415969,
           0.7240348837032637,
           -0.20947052745853345,
           0.2336828725049579
          ],
          [
           -0.1581941477796986,
           0.2189002120520553,
           -0.16956325063547484,
           -0.13330028066899313,
           0.12961411494256783,
           0.5424624045027164,
           0.0045597126068525,
           0.01404990468951575,
           0.6231153586577652,
           0.16950793817750195,
           -0.14842855820869472,
           0.6781952581333688,
           0.184122472761496,
           -0.22426350340043522,
           0.7211707250662335,
           -0.20647476777303103,
           0.06692618803048773,
           0.7136420794603586,
           -0.10342602803845734,
           -0.1907560000090842,
           0.7765799609383504,
           0.0014367556646804028,
           -0.15957342547613726,
           0.7941483173370453,
           0.07346756517313519,
           -0.0791774621120539,
           0.8066383131248552,
           -0.20386312224417721,
           0.03062798737268106,
           0.8248802964291627,
           -0.01338374913781206,
           -0.2886282955866622,
           0.8862830844562983,
           0.13238826254625943,
           -0.20407874172355964,
           0.9178857052470901,
           0.19189423452729715,
           -0.11803703281673601,
           0.9301714653946705,
           -0.13436745751207524,
           -0.056911478404443175,
           0.891308466729141,
           0.014087585595165571,
           -0.37980262836547174,
           0.9705239732331603,
           0.04225096198869475,
           -0.4091577032926295,
           1,
           0.05491150283390866,
           -0.34432825573095704,
           0.9652085410948168,
           -0.060527087009193244,
           -0.1432132857254088,
           0.7976727977530258,
           -0.034110143057818613,
           -0.3871313119391923,
           0.9208313079584454,
           -0.05336121538555178,
           -0.44668810894410377,
           0.9475665328378013,
           -0.04996723434287253,
           -0.4157632066206349,
           0.9195452158481537,
           -0.05093438109339862
          ],
          [
           0.0043100014327619295,
           0.130644011465757,
           0.1398384899745796,
           0.03757546765814334,
           0.04740714259551412,
           0.301201524105622,
           0.008112231382641574,
           -0.029266441305082252,
           0.26469889740569585,
           0.17586592759693215,
           0.04269029699345365,
           0.21793903768883438,
           0.24092471300680643,
           0.06725871611127326,
           0.18171584955558875,
           -0.36277048845567866,
           -0.08627534167167271,
           0.22933476433088942,
           -0.23765496492859825,
           -0.23200328686124722,
           0.21916610508186116,
           -0.09878921794293893,
           -0.2118599090800473,
           0.21190882825720167,
           -0.031670421590816115,
           -0.12455535237021696,
           0.20838537695164217,
           -0.31210741805856085,
           -0.006101851864501875,
           0.1532667431955484,
           0.10928277116630244,
           -0.15456864489409827,
           0.13154806833756535,
           0.48444219542025063,
           -0.1944266472242915,
           0.11096465648185724,
           0.5467450314930878,
           -0.1323094534486346,
           0.09656295902547525,
           -0.04839941350980373,
           0.056129751583558596,
           0.02999765885888872,
           0.6674137334641933,
           -0.043872624050297876,
           0.045859645241527004,
           0.9718053857326729,
           -0.06895412147146172,
           0.05491150283390866,
           1,
           -0.013160102805976653,
           0.06851915516824791,
           0.19697217876482892,
           0.09667266968297235,
           -0.1091515261498136,
           0.5457719689494938,
           -0.031472669169510185,
           -0.04228059697018349,
           0.7427616161545044,
           -0.14580617155295802,
           -0.034822564901401266,
           0.7638418098996462,
           -0.15724609068955928,
           -0.0342747089963168,
           -0.4567210874098394
          ],
          [
           0.24903314068971175,
           -0.28430201016269124,
           -0.307807443395311,
           0.20253826875128392,
           -0.3253122844324125,
           -0.2935706575228454,
           0.002853197972550147,
           -0.31628041387119765,
           -0.28463138833855617,
           -0.2001652511468838,
           -0.1512989888696444,
           -0.2759249677561505,
           -0.21862255937955952,
           -0.004506547280399058,
           -0.26385109218060065,
           0.15074463702130705,
           -0.3480746462691631,
           -0.3195553339967804,
           -0.09551660011055496,
           -0.08991161205956866,
           -0.34548184619600736,
           -0.26953574981045386,
           0.11141993405752693,
           -0.3296036458565878,
           -0.3562596167415081,
           0.1370262833901867,
           -0.31369255348693836,
           0.17812451519813413,
           -0.1818866036232473,
           -0.3115241887613302,
           -0.18321406076660135,
           0.3275143191961517,
           -0.42170203807778806,
           -0.31286396119576804,
           0.6241608252397741,
           -0.40800458640420895,
           -0.34930255167076385,
           0.5737533455656648,
           -0.3560441388532027,
           0.15819137299481795,
           0.0012028786152832832,
           -0.2588691699183791,
           -0.02431543744713151,
           0.5231972559517216,
           -0.43159877764217214,
           0.0007885846228211566,
           0.9438475902942696,
           -0.34432825573095704,
           -0.013160102805976653,
           1,
           -0.19115675847902663,
           0.08695060165595189,
           0.1297125007369506,
           -0.1468404831920661,
           0.052100024459702285,
           0.40434915940773375,
           -0.2867544471056839,
           0.05409660545001018,
           0.6101157473216681,
           -0.22941080295976052,
           0.009285447685834393,
           0.6355602862729696,
           -0.12466621830987702,
           0.21313061042226536
          ],
          [
           -0.18499543773899083,
           0.27846913103923343,
           -0.24452641157404545,
           -0.13541915544787775,
           0.18540032126943778,
           0.5016136226195662,
           0.0477803845369296,
           0.011871410515990412,
           0.5870888221269274,
           0.20540451750880875,
           -0.19815213074261676,
           0.6400250657499296,
           0.20166653444776492,
           -0.28081864857178257,
           0.6861829307976023,
           -0.14380419118903295,
           0.0617977024981602,
           0.7056204869597001,
           -0.06875430549839456,
           -0.2764696545689126,
           0.7433975780939985,
           0.001044016115574347,
           -0.2243771674544344,
           0.7601740951570389,
           0.05318060058909385,
           -0.12038149481634752,
           0.7772275125067896,
           -0.15877038234859595,
           0.041959274981788065,
           0.8174229921908389,
           0.003251821038183151,
           -0.32191471537788,
           0.8214940640560808,
           0.1138076238573377,
           -0.1390341745746378,
           0.8628666605438022,
           0.15865397913591503,
           -0.04350905263032665,
           0.9037920199982837,
           -0.13821147644474868,
           -0.030152050259604303,
           0.8785070538522712,
           0.013459918579405965,
           -0.3593018404680317,
           0.8849350297904478,
           0.05677785433569796,
           -0.27996828614061575,
           0.9652085410948168,
           0.06851915516824791,
           -0.19115675847902663,
           1,
           -0.10676356595769816,
           -0.10539208248515813,
           0.7799881832997705,
           -0.07248363054423863,
           -0.36962904931918694,
           0.8610074949361117,
           -0.07524728622543793,
           -0.3787168478035507,
           0.926866799457821,
           -0.07317889612616843,
           -0.33655312767114093,
           0.9502056083619445,
           -0.041534935130893194
          ],
          [
           0.6763909335029866,
           -0.4128863423257238,
           -0.0877858025340177,
           0.279701389959855,
           -0.44543090105746547,
           -0.2220148143983463,
           -0.3620114902316763,
           -0.2648763759048275,
           -0.23012084413920192,
           -0.3520306522518283,
           0.04948873796071446,
           -0.21160954918351169,
           -0.12771915782776325,
           0.19217255949746395,
           -0.19096202357421693,
           -0.3016289858408647,
           -0.33938653621250275,
           -0.2878355619248211,
           -0.6208857459271616,
           -0.02272363347306085,
           -0.23656629057376322,
           -0.6596147922420825,
           0.12692628517974106,
           -0.2116913137131149,
           -0.624093733480137,
           0.15788029051843466,
           -0.19969025513002497,
           0.16071777420088115,
           -0.21650972229422083,
           -0.23206256535522982,
           -0.3717961044196074,
           0.2346903490868071,
           -0.16955995576791816,
           -0.3155314286702498,
           0.24119314704863765,
           -0.1578196654959417,
           -0.22448341946101202,
           0.18844291532136337,
           -0.16401096560968628,
           0.8168729880516505,
           -0.09483557499492745,
           -0.107172243893191,
           0.4453997170923257,
           0.23271664666973343,
           -0.028764983829261556,
           0.22354169663761056,
           0.1513036053770097,
           -0.060527087009193244,
           0.19697217876482892,
           0.08695060165595189,
           -0.10676356595769816,
           1,
           -0.016915030006735384,
           0.05177956030905316,
           0.7709908497208426,
           0.18624380897320977,
           0.06847563384814635,
           0.4579992971072429,
           0.06789993374805246,
           -9.128648235171087e-05,
           0.3132417191412957,
           -0.020671793546637885,
           -0.0662392409841213,
           -0.004791808763590455
          ],
          [
           0.2345159319743639,
           0.5248894395329192,
           0.3888155905288057,
           0.3879395049843804,
           0.2145688071970834,
           0.15121212557318356,
           0.3136116275262084,
           -0.19302921633923076,
           0.20067342531753474,
           -0.03755239311732481,
           -0.2852371574252922,
           0.22119030804768494,
           -0.16071129741553042,
           -0.26359038786964606,
           0.22367314338850713,
           0.20030854747744864,
           0.5243557269153353,
           0.18883829719282352,
           0.09046876699071099,
           0.14008206945536314,
           0.1850820696383973,
           0.004403728551955446,
           -0.394927466772897,
           0.19099751578984084,
           -0.05473110896791799,
           -0.5368460400255127,
           0.1865230689095539,
           0.13478136478580321,
           0.8061449283214114,
           0.12091213432677728,
           -0.09449201198442829,
           0.34854883832026745,
           0.08038044438919048,
           -0.11429471153317439,
           -0.2598341474500463,
           0.05184230477772238,
           -0.13701071803174492,
           -0.4199118129430427,
           0.04529000082135711,
           0.03407078612302468,
           0.9588458775737394,
           0.002924756686573333,
           -0.18765281993301017,
           0.6341868423241862,
           -0.12110662785034725,
           0.038244328442057864,
           0.3082704555888738,
           -0.1432132857254088,
           0.09667266968297235,
           0.1297125007369506,
           -0.10539208248515813,
           -0.016915030006735384,
           1,
           -0.11981249431262543,
           -0.11624032679529372,
           0.7920154965947216,
           -0.2253160085688475,
           0.028166432490276595,
           0.5599539820358501,
           -0.2120734839510559,
           0.07344632924469899,
           0.3930792208324661,
           -0.16439925871415753,
           -0.06194329331774977
          ],
          [
           0.03776368966913875,
           0.08232786555930843,
           -0.1300680340966086,
           0.011947589023836,
           0.08745424698168222,
           0.03312823994605129,
           -0.020332604256367483,
           0.050614037681324206,
           0.1798392061898334,
           -0.0671074232200545,
           -0.04501751692504533,
           0.2967634434985006,
           -0.07185234799857805,
           -0.09226302321916978,
           0.4010236591595768,
           -0.035358987321619906,
           0.009446164448679798,
           0.41711607719412114,
           -0.10452482227682365,
           -0.23390719912397398,
           0.48682549113026363,
           -0.09719122696225863,
           -0.21985812039825176,
           0.5136216702740997,
           -0.07224813636304307,
           -0.13564373262055593,
           0.5341248108766181,
           0.033592579351518714,
           -0.0026840847284904656,
           0.6512437861586516,
           -0.12095878338808923,
           -0.23013843050500848,
           0.6653455994105756,
           -0.09198389256954739,
           -0.12706215519448608,
           0.6748728094566221,
           -0.03529862556333427,
           -0.06539969397875062,
           0.6955885776647557,
           0.08717212679287395,
           -0.05343873892439312,
           0.8998725669266369,
           -0.1396476158209962,
           -0.26189314278961423,
           0.8211871710194512,
           -0.14353811834317332,
           -0.20810324821489587,
           0.7976727977530258,
           -0.1091515261498136,
           -0.1468404831920661,
           0.7799881832997705,
           0.05177956030905316,
           -0.11981249431262543,
           1,
           -0.0733603741420447,
           -0.27778244617515396,
           0.9262255699947607,
           -0.1400523760724743,
           -0.2753227065463016,
           0.8994930218971704,
           -0.14166746938812905,
           -0.23711433705984414,
           0.875254667373799,
           0.10227056977486194
          ],
          [
           0.270191358258416,
           -0.3066526239659594,
           0.023976858563004456,
           -0.07070224677962804,
           -0.26358980046294245,
           0.03131206271614504,
           -0.5154409061943486,
           -0.06749684670519802,
           -0.010485942246488838,
           -0.2607992771459985,
           0.17996551150808407,
           -0.03143095231099396,
           0.024769475276530895,
           0.24762538328934353,
           -0.05054475142809665,
           -0.5689595456196126,
           -0.2590549583199186,
           -0.108205312960889,
           -0.6145015816182213,
           -0.037228647675241144,
           -0.059367670204757875,
           -0.5379979879956978,
           0.024987585688378933,
           -0.04129160477242674,
           -0.4665422552155635,
           0.05247488376895873,
           -0.04018565047425543,
           -0.22861702277412985,
           -0.20598077454721125,
           -0.1269780219745748,
           -0.18971520241286915,
           0.13294689617637193,
           -0.07674502493018241,
           -0.003790016785741949,
           0.16400790171425797,
           -0.07480903620565961,
           0.05720729638879364,
           0.16286647295886947,
           -0.08988205218359377,
           0.4281840896061554,
           -0.14923789912049584,
           -0.11406310606417173,
           0.7780732214568535,
           0.08940392794805217,
           -0.01865706217525649,
           0.6312358088879922,
           0.054093417768678244,
           -0.034110143057818613,
           0.5457719689494938,
           0.052100024459702285,
           -0.07248363054423863,
           0.7709908497208426,
           -0.11624032679529372,
           -0.0733603741420447,
           1,
           0.013438103000008474,
           -0.013530339220944943,
           0.8669645348564189,
           -0.02498787766920546,
           -0.04821704434481654,
           0.7365529304097583,
           -0.02846420537427348,
           -0.09095587857623791,
           -0.13680648281417193
          ],
          [
           0.49535534269572484,
           0.012005534963587439,
           0.3251876156899061,
           0.5112721679770762,
           -0.20491938548928335,
           -0.13525949014945998,
           0.19264260825756435,
           -0.3187449589581307,
           -0.12154612955305077,
           -0.2128112709292023,
           -0.1281784989751365,
           -0.10465965355754542,
           -0.289298384373012,
           0.005063925468809018,
           -0.10639791112150661,
           0.19154955948845584,
           0.161966324422808,
           -0.21552763219845827,
           -0.06134195480356079,
           0.34468350337962333,
           -0.19091762338378565,
           -0.21914679844346352,
           -0.039709687374972935,
           -0.17425804282053667,
           -0.30486686427235543,
           -0.23524948878312588,
           -0.17784682538040408,
           0.21145579086325422,
           0.44807836495481296,
           -0.2696836016215357,
           -0.26227764491558625,
           0.6910494782171741,
           -0.24712690118330272,
           -0.3343035277047444,
           0.12817607908145645,
           -0.25624057392005467,
           -0.3419593705746742,
           -0.11562516449061683,
           -0.26796206370703285,
           0.21431777900815288,
           0.6725990836999998,
           -0.30465186498893976,
           -0.20994248213505684,
           0.9273916901686547,
           -0.35912070651164485,
           -0.07828755878238454,
           0.6441350124321008,
           -0.3871313119391923,
           -0.031472669169510185,
           0.40434915940773375,
           -0.36962904931918694,
           0.18624380897320977,
           0.7920154965947216,
           -0.27778244617515396,
           0.013438103000008474,
           1,
           -0.3824300675617973,
           0.0890076541919711,
           0.8699639885957697,
           -0.3877831737948862,
           0.10929988427068094,
           0.698120128776511,
           -0.35492128146498364,
           0.06694803463508882
          ],
          [
           0.004880619481344842,
           0.03746312255042451,
           -0.2107811813798754,
           -0.02687793216601058,
           0.004562733189008363,
           0.24420379775167325,
           -0.019261274435180872,
           -0.008237862700689266,
           0.34885752270722653,
           0.04279192483517352,
           -0.07611729468363244,
           0.43651326315766387,
           0.052391875247209896,
           -0.10556947112768678,
           0.5133407151401972,
           -0.14942391500611102,
           -0.05137797781580121,
           0.48438489967376247,
           -0.15859889963307652,
           -0.1935744007996554,
           0.5662993906617805,
           -0.096180196124985,
           -0.08489259903442334,
           0.5938479476390855,
           -0.03704658707127523,
           0.00625695614355468,
           0.6148105322995433,
           -0.07843816128305511,
           -0.0839252646222716,
           0.6754360295594721,
           -0.09930703818969518,
           -0.23916957521984475,
           0.749499024861444,
           0.009343107349488327,
           -0.11899253317362452,
           0.7749947588088621,
           0.08508089055925636,
           -0.04432594593797927,
           0.7836444129050334,
           0.03348744647730188,
           -0.15242125623124028,
           0.8737902823310708,
           -0.04271907097228136,
           -0.3412138970796702,
           0.9345068075292183,
           -0.06385867450630683,
           -0.34791622749332785,
           0.9208313079584454,
           -0.04228059697018349,
           -0.2867544471056839,
           0.8610074949361117,
           0.06847563384814635,
           -0.2253160085688475,
           0.9262255699947607,
           -0.013530339220944943,
           -0.3824300675617973,
           1,
           -0.10530827376370987,
           -0.44395020444840055,
           0.9797198625300272,
           -0.11874730054461768,
           -0.42146558841760784,
           0.9199639245523701,
           0.03139983282736414
          ],
          [
           0.111683000597769,
           -0.1400380358276083,
           0.24405032724215117,
           -0.0537277967606448,
           -0.11038987275632824,
           0.16524170272166472,
           -0.3447628420771522,
           0.020624447070639665,
           0.12275431460170065,
           -0.17301860239579464,
           0.22389442658409864,
           0.09050891276801326,
           0.019913072547002017,
           0.25797936362233415,
           0.05524747136096407,
           -0.5347156691689982,
           -0.11346498877612714,
           0.02263271389634181,
           -0.4785016642672857,
           -0.028894162825115956,
           0.06964349911964514,
           -0.3879511379353441,
           -0.13767442527322887,
           0.08346966226598079,
           -0.3346727020397019,
           -0.13690539059044746,
           0.07698263031635924,
           -0.3707267978646754,
           -0.05323764048684327,
           -0.040430663848574536,
           -0.12678708148685988,
           0.09356211751497812,
           0.003955403173720995,
           0.14303503241254364,
           -0.028812820949433375,
           -0.006504674249145709,
           0.19383773043914707,
           -0.028665271090078364,
           -0.030863900190276725,
           0.10617875032387375,
           0.0008531165665051403,
           -0.10082546100855112,
           0.6816877889538892,
           0.12488579900919093,
           -0.03831217515919616,
           0.7856206674107913,
           0.05431041175813969,
           -0.05336121538555178,
           0.7427616161545044,
           0.05409660545001018,
           -0.07524728622543793,
           0.4579992971072429,
           0.028166432490276595,
           -0.1400523760724743,
           0.8669645348564189,
           0.0890076541919711,
           -0.10530827376370987,
           1,
           0.089140803528845,
           -0.11140379271456796,
           0.9695019094532884,
           0.12344458920464844,
           -0.11788088511402989,
           -0.22154811121402343
          ],
          [
           0.3569408396462371,
           -0.11030990450632033,
           0.2411535499924269,
           0.35043678872138573,
           -0.19231984522172962,
           -0.25875436590449696,
           0.0755251229600899,
           -0.21241292341959545,
           -0.2444780426507756,
           -0.30961488437566853,
           -0.03214124487008507,
           -0.22178096980015163,
           -0.36703325121648506,
           0.08434110462142819,
           -0.2184695961534436,
           0.23975890310835954,
           0.012777246027122808,
           -0.3277731435271273,
           0.007700910847875502,
           0.20728647623226004,
           -0.3066515103399056,
           -0.18602937687517776,
           -0.0797069273392129,
           -0.28671510594801,
           -0.2997629186267731,
           -0.2228098760207112,
           -0.2896685731029839,
           0.22384306728253323,
           0.22628561557937352,
           -0.36271219396389665,
           -0.2103335706767403,
           0.559717048858582,
           -0.3644753570033351,
           -0.37250055920892156,
           0.26399132228514016,
           -0.3561935691422788,
           -0.41579387512289717,
           0.07628720349249508,
           -0.34326566114174756,
           0.14664545101402732,
           0.4294320312863818,
           -0.35766422116522634,
           -0.23542252162405194,
           0.8020331275078229,
           -0.46216925954970867,
           -0.16181383880622424,
           0.770156002698492,
           -0.44668810894410377,
           -0.14580617155295802,
           0.6101157473216681,
           -0.3787168478035507,
           0.06789993374805246,
           0.5599539820358501,
           -0.2753227065463016,
           -0.02498787766920546,
           0.8699639885957697,
           -0.44395020444840055,
           0.089140803528845,
           1,
           -0.4092112607239839,
           0.11505967906133982,
           0.9552913380943215,
           -0.32334713444238206,
           0.1666503506457617
          ],
          [
           -0.05502794333563483,
           0.08880092005783864,
           -0.24992242358691422,
           -0.06080000822480548,
           0.045085844306594916,
           0.2974257637355813,
           0.00786124707204586,
           -0.00837575730849517,
           0.3961984503265676,
           0.08558708397553515,
           -0.11657082724475833,
           0.4759218437217452,
           0.08217372725284261,
           -0.15494879727136956,
           0.5462205851609747,
           -0.1279527045535303,
           -0.04145347917772104,
           0.5222600143221793,
           -0.12112857064220417,
           -0.23337249331107496,
           0.5931675530620432,
           -0.06801471772505974,
           -0.1205086377922929,
           0.6202493736765524,
           -0.017199893447688963,
           -0.019939578103555608,
           0.6425376105833672,
           -0.08851292641575594,
           -0.07317920707548793,
           0.6982181974792951,
           -0.072278649783758,
           -0.2703813457508469,
           0.7539525995483306,
           0.021733451402822054,
           -0.09797680316526682,
           0.7915734107535161,
           0.08469667236695691,
           -0.015336419160681812,
           0.8160837775720282,
           -0.019591792679775746,
           -0.14152329168749153,
           0.8725413310810985,
           -0.04066856192538969,
           -0.34865857054045996,
           0.9193080158167705,
           -0.05006241926803736,
           -0.30257417489469646,
           0.9475665328378013,
           -0.034822564901401266,
           -0.22941080295976052,
           0.926866799457821,
           -9.128648235171087e-05,
           -0.2120734839510559,
           0.8994930218971704,
           -0.04821704434481654,
           -0.3877831737948862,
           0.9797198625300272,
           -0.11140379271456796,
           -0.4092112607239839,
           1,
           -0.12065574763897562,
           -0.37181429217465634,
           0.9768311536020573,
           0.03461090382750246
          ],
          [
           0.05081963953491255,
           -0.07331680826808225,
           0.33622852651211554,
           -0.03979081454267022,
           -0.0368354174170487,
           0.19134729695862998,
           -0.25583099390605324,
           0.08267537891293586,
           0.1510910060179084,
           -0.10813087181133382,
           0.26180939087400645,
           0.11751560502412921,
           0.04325923115525825,
           0.2676428536138458,
           0.07889001397191502,
           -0.49280919005866464,
           -0.04007720667411433,
           0.06313199408314449,
           -0.40797675871878053,
           -0.0046933045898599965,
           0.10805369508950059,
           -0.3194173150345509,
           -0.18916013335226858,
           0.11733097602972031,
           -0.27382543650377905,
           -0.20226421453429813,
           0.10682266504857484,
           -0.4048766259749672,
           0.011828284281176443,
           -0.006184390411056718,
           -0.11482555078769913,
           0.08211309951235277,
           0.03780190399948381,
           0.18082236407352267,
           -0.11426401230535146,
           0.021805094915051965,
           0.24174435015284482,
           -0.1155550513225825,
           -0.0072469581617546725,
           -0.024167975878927526,
           0.05499265579455041,
           -0.08173663251003324,
           0.5627833765197061,
           0.12469686706856697,
           -0.028945404650163205,
           0.767372685376626,
           0.01684091289415969,
           -0.04996723434287253,
           0.7638418098996462,
           0.009285447685834393,
           -0.07317889612616843,
           0.3132417191412957,
           0.07344632924469899,
           -0.14166746938812905,
           0.7365529304097583,
           0.10929988427068094,
           -0.11874730054461768,
           0.9695019094532884,
           0.11505967906133982,
           -0.12065574763897562,
           1,
           0.15911354612490444,
           -0.11958304271085965,
           -0.2698852036085557
          ],
          [
           0.22214290712726026,
           -0.14221052875861206,
           0.21572417975220706,
           0.21148922265858947,
           -0.14704870334246664,
           -0.2549777424806243,
           -0.010629652290706912,
           -0.12165748653254492,
           -0.24092595491060242,
           -0.34468413918030705,
           0.032379811614140976,
           -0.21837651464439986,
           -0.3806972443701691,
           0.12271467836378831,
           -0.2162973486457234,
           0.20848728246807208,
           -0.03353587493181296,
           -0.31480317661403406,
           0.03948321741049908,
           0.1153037971497927,
           -0.2925061758884472,
           -0.13706770998133,
           -0.1311135364753443,
           -0.2737336967558363,
           -0.2482059735420437,
           -0.23228383494580004,
           -0.27832148756081765,
           0.16345911990420667,
           0.11653018766063314,
           -0.3418526319144081,
           -0.15944176215945866,
           0.4152380114883935,
           -0.35148887544696844,
           -0.33286882381446325,
           0.2596800023047843,
           -0.34100543453629034,
           -0.39001206765958124,
           0.13349209979403379,
           -0.3227504112087728,
           0.05579729306422756,
           0.2787372670614781,
           -0.3262988093002004,
           -0.2160743568609605,
           0.6339278954458124,
           -0.4430108673296147,
           -0.15676427234188917,
           0.7240348837032637,
           -0.4157632066206349,
           -0.15724609068955928,
           0.6355602862729696,
           -0.33655312767114093,
           -0.020671793546637885,
           0.3930792208324661,
           -0.23711433705984414,
           -0.02846420537427348,
           0.698120128776511,
           -0.42146558841760784,
           0.12344458920464844,
           0.9552913380943215,
           -0.37181429217465634,
           0.15911354612490444,
           1,
           -0.26917406441129293,
           0.1871570860327227
          ],
          [
           -0.09714068229190682,
           0.15133444637797563,
           -0.2626310239952105,
           -0.07504289487861698,
           0.10641826349987775,
           0.28811764948726554,
           0.0377879405665791,
           0.006604537302879827,
           0.39064040427728214,
           0.09801305167948476,
           -0.14365182300546062,
           0.46826302459114844,
           0.0773388955578965,
           -0.1938959488747527,
           0.5380153605434661,
           -0.07535243472610471,
           -0.017902890336082947,
           0.534116887598574,
           -0.07135716708160385,
           -0.28117400663063236,
           0.5878122058866382,
           -0.04356990064726299,
           -0.18938309831244748,
           0.6129673123497413,
           -0.010870933533563533,
           -0.08172492359459657,
           0.636250987069108,
           -0.06696790435162478,
           -0.0403366654081907,
           0.7031037180840988,
           -0.0519061484331135,
           -0.29189490275242697,
           0.7206629199389462,
           0.006738591283731043,
           -0.07807075060974936,
           0.7636260193478643,
           0.051818593600889584,
           0.00799618146207211,
           0.8067052235738551,
           -0.05387784663491502,
           -0.10030141149797593,
           0.8627580036917325,
           -0.0582987349544493,
           -0.32321551415909483,
           0.8546237550949625,
           -0.04783801607633829,
           -0.20947052745853345,
           0.9195452158481537,
           -0.0342747089963168,
           -0.12466621830987702,
           0.9502056083619445,
           -0.0662392409841213,
           -0.16439925871415753,
           0.875254667373799,
           -0.09095587857623791,
           -0.35492128146498364,
           0.9199639245523701,
           -0.11788088511402989,
           -0.32334713444238206,
           0.9768311536020573,
           -0.11958304271085965,
           -0.26917406441129293,
           1,
           0.051471494693256396
          ],
          [
           0.11626259320283232,
           -0.17551837160165745,
           -0.022396334334943896,
           0.014646169874653487,
           -0.16493938210622508,
           -0.1615119050873901,
           -0.14961958438908543,
           -0.08734689216144985,
           -0.13985111903058822,
           -0.33216737219394094,
           -0.08597861135852845,
           -0.11062454502105036,
           -0.3174580152198961,
           -0.07719438084950893,
           -0.08748431142803563,
           0.07099844462637966,
           -0.002573558604524971,
           -0.1272445839530613,
           0.010302113527374673,
           0.16527972962333015,
           -0.09909627641549963,
           -0.010662021845977525,
           0.09338399097331336,
           -0.07789329770958738,
           -0.017454249472829655,
           0.011767387035268657,
           -0.06715932726365823,
           0.07664317183006607,
           -0.02517618724001335,
           -0.08011534218312331,
           -0.19248741412451403,
           0.14614701590068788,
           -0.059785948480954906,
           -0.3334157805689246,
           0.15107378541895444,
           -0.04643211984060773,
           -0.35543022571365773,
           0.08862557385774626,
           -0.0362953145722632,
           0.04002454098839795,
           -0.04192274617604386,
           0.004177294375105245,
           -0.35499541273174695,
           0.13958662714865352,
           -0.0420733544064886,
           -0.440772404275759,
           0.2336828725049579,
           -0.05093438109339862,
           -0.4567210874098394,
           0.21313061042226536,
           -0.041534935130893194,
           -0.004791808763590455,
           -0.06194329331774977,
           0.10227056977486194,
           -0.13680648281417193,
           0.06694803463508882,
           0.03139983282736414,
           -0.22154811121402343,
           0.1666503506457617,
           0.03461090382750246,
           -0.2698852036085557,
           0.1871570860327227,
           0.051471494693256396,
           1
          ]
         ],
         "zmax": 1,
         "zmin": -1
        }
       ],
       "layout": {
        "autosize": true,
        "template": {
         "data": {
          "bar": [
           {
            "error_x": {
             "color": "#2a3f5f"
            },
            "error_y": {
             "color": "#2a3f5f"
            },
            "marker": {
             "line": {
              "color": "#E5ECF6",
              "width": 0.5
             },
             "pattern": {
              "fillmode": "overlay",
              "size": 10,
              "solidity": 0.2
             }
            },
            "type": "bar"
           }
          ],
          "barpolar": [
           {
            "marker": {
             "line": {
              "color": "#E5ECF6",
              "width": 0.5
             },
             "pattern": {
              "fillmode": "overlay",
              "size": 10,
              "solidity": 0.2
             }
            },
            "type": "barpolar"
           }
          ],
          "carpet": [
           {
            "aaxis": {
             "endlinecolor": "#2a3f5f",
             "gridcolor": "white",
             "linecolor": "white",
             "minorgridcolor": "white",
             "startlinecolor": "#2a3f5f"
            },
            "baxis": {
             "endlinecolor": "#2a3f5f",
             "gridcolor": "white",
             "linecolor": "white",
             "minorgridcolor": "white",
             "startlinecolor": "#2a3f5f"
            },
            "type": "carpet"
           }
          ],
          "choropleth": [
           {
            "colorbar": {
             "outlinewidth": 0,
             "ticks": ""
            },
            "type": "choropleth"
           }
          ],
          "contour": [
           {
            "colorbar": {
             "outlinewidth": 0,
             "ticks": ""
            },
            "colorscale": [
             [
              0,
              "#0d0887"
             ],
             [
              0.1111111111111111,
              "#46039f"
             ],
             [
              0.2222222222222222,
              "#7201a8"
             ],
             [
              0.3333333333333333,
              "#9c179e"
             ],
             [
              0.4444444444444444,
              "#bd3786"
             ],
             [
              0.5555555555555556,
              "#d8576b"
             ],
             [
              0.6666666666666666,
              "#ed7953"
             ],
             [
              0.7777777777777778,
              "#fb9f3a"
             ],
             [
              0.8888888888888888,
              "#fdca26"
             ],
             [
              1,
              "#f0f921"
             ]
            ],
            "type": "contour"
           }
          ],
          "contourcarpet": [
           {
            "colorbar": {
             "outlinewidth": 0,
             "ticks": ""
            },
            "type": "contourcarpet"
           }
          ],
          "heatmap": [
           {
            "colorbar": {
             "outlinewidth": 0,
             "ticks": ""
            },
            "colorscale": [
             [
              0,
              "#0d0887"
             ],
             [
              0.1111111111111111,
              "#46039f"
             ],
             [
              0.2222222222222222,
              "#7201a8"
             ],
             [
              0.3333333333333333,
              "#9c179e"
             ],
             [
              0.4444444444444444,
              "#bd3786"
             ],
             [
              0.5555555555555556,
              "#d8576b"
             ],
             [
              0.6666666666666666,
              "#ed7953"
             ],
             [
              0.7777777777777778,
              "#fb9f3a"
             ],
             [
              0.8888888888888888,
              "#fdca26"
             ],
             [
              1,
              "#f0f921"
             ]
            ],
            "type": "heatmap"
           }
          ],
          "heatmapgl": [
           {
            "colorbar": {
             "outlinewidth": 0,
             "ticks": ""
            },
            "colorscale": [
             [
              0,
              "#0d0887"
             ],
             [
              0.1111111111111111,
              "#46039f"
             ],
             [
              0.2222222222222222,
              "#7201a8"
             ],
             [
              0.3333333333333333,
              "#9c179e"
             ],
             [
              0.4444444444444444,
              "#bd3786"
             ],
             [
              0.5555555555555556,
              "#d8576b"
             ],
             [
              0.6666666666666666,
              "#ed7953"
             ],
             [
              0.7777777777777778,
              "#fb9f3a"
             ],
             [
              0.8888888888888888,
              "#fdca26"
             ],
             [
              1,
              "#f0f921"
             ]
            ],
            "type": "heatmapgl"
           }
          ],
          "histogram": [
           {
            "marker": {
             "pattern": {
              "fillmode": "overlay",
              "size": 10,
              "solidity": 0.2
             }
            },
            "type": "histogram"
           }
          ],
          "histogram2d": [
           {
            "colorbar": {
             "outlinewidth": 0,
             "ticks": ""
            },
            "colorscale": [
             [
              0,
              "#0d0887"
             ],
             [
              0.1111111111111111,
              "#46039f"
             ],
             [
              0.2222222222222222,
              "#7201a8"
             ],
             [
              0.3333333333333333,
              "#9c179e"
             ],
             [
              0.4444444444444444,
              "#bd3786"
             ],
             [
              0.5555555555555556,
              "#d8576b"
             ],
             [
              0.6666666666666666,
              "#ed7953"
             ],
             [
              0.7777777777777778,
              "#fb9f3a"
             ],
             [
              0.8888888888888888,
              "#fdca26"
             ],
             [
              1,
              "#f0f921"
             ]
            ],
            "type": "histogram2d"
           }
          ],
          "histogram2dcontour": [
           {
            "colorbar": {
             "outlinewidth": 0,
             "ticks": ""
            },
            "colorscale": [
             [
              0,
              "#0d0887"
             ],
             [
              0.1111111111111111,
              "#46039f"
             ],
             [
              0.2222222222222222,
              "#7201a8"
             ],
             [
              0.3333333333333333,
              "#9c179e"
             ],
             [
              0.4444444444444444,
              "#bd3786"
             ],
             [
              0.5555555555555556,
              "#d8576b"
             ],
             [
              0.6666666666666666,
              "#ed7953"
             ],
             [
              0.7777777777777778,
              "#fb9f3a"
             ],
             [
              0.8888888888888888,
              "#fdca26"
             ],
             [
              1,
              "#f0f921"
             ]
            ],
            "type": "histogram2dcontour"
           }
          ],
          "mesh3d": [
           {
            "colorbar": {
             "outlinewidth": 0,
             "ticks": ""
            },
            "type": "mesh3d"
           }
          ],
          "parcoords": [
           {
            "line": {
             "colorbar": {
              "outlinewidth": 0,
              "ticks": ""
             }
            },
            "type": "parcoords"
           }
          ],
          "pie": [
           {
            "automargin": true,
            "type": "pie"
           }
          ],
          "scatter": [
           {
            "fillpattern": {
             "fillmode": "overlay",
             "size": 10,
             "solidity": 0.2
            },
            "type": "scatter"
           }
          ],
          "scatter3d": [
           {
            "line": {
             "colorbar": {
              "outlinewidth": 0,
              "ticks": ""
             }
            },
            "marker": {
             "colorbar": {
              "outlinewidth": 0,
              "ticks": ""
             }
            },
            "type": "scatter3d"
           }
          ],
          "scattercarpet": [
           {
            "marker": {
             "colorbar": {
              "outlinewidth": 0,
              "ticks": ""
             }
            },
            "type": "scattercarpet"
           }
          ],
          "scattergeo": [
           {
            "marker": {
             "colorbar": {
              "outlinewidth": 0,
              "ticks": ""
             }
            },
            "type": "scattergeo"
           }
          ],
          "scattergl": [
           {
            "marker": {
             "colorbar": {
              "outlinewidth": 0,
              "ticks": ""
             }
            },
            "type": "scattergl"
           }
          ],
          "scattermapbox": [
           {
            "marker": {
             "colorbar": {
              "outlinewidth": 0,
              "ticks": ""
             }
            },
            "type": "scattermapbox"
           }
          ],
          "scatterpolar": [
           {
            "marker": {
             "colorbar": {
              "outlinewidth": 0,
              "ticks": ""
             }
            },
            "type": "scatterpolar"
           }
          ],
          "scatterpolargl": [
           {
            "marker": {
             "colorbar": {
              "outlinewidth": 0,
              "ticks": ""
             }
            },
            "type": "scatterpolargl"
           }
          ],
          "scatterternary": [
           {
            "marker": {
             "colorbar": {
              "outlinewidth": 0,
              "ticks": ""
             }
            },
            "type": "scatterternary"
           }
          ],
          "surface": [
           {
            "colorbar": {
             "outlinewidth": 0,
             "ticks": ""
            },
            "colorscale": [
             [
              0,
              "#0d0887"
             ],
             [
              0.1111111111111111,
              "#46039f"
             ],
             [
              0.2222222222222222,
              "#7201a8"
             ],
             [
              0.3333333333333333,
              "#9c179e"
             ],
             [
              0.4444444444444444,
              "#bd3786"
             ],
             [
              0.5555555555555556,
              "#d8576b"
             ],
             [
              0.6666666666666666,
              "#ed7953"
             ],
             [
              0.7777777777777778,
              "#fb9f3a"
             ],
             [
              0.8888888888888888,
              "#fdca26"
             ],
             [
              1,
              "#f0f921"
             ]
            ],
            "type": "surface"
           }
          ],
          "table": [
           {
            "cells": {
             "fill": {
              "color": "#EBF0F8"
             },
             "line": {
              "color": "white"
             }
            },
            "header": {
             "fill": {
              "color": "#C8D4E3"
             },
             "line": {
              "color": "white"
             }
            },
            "type": "table"
           }
          ]
         },
         "layout": {
          "annotationdefaults": {
           "arrowcolor": "#2a3f5f",
           "arrowhead": 0,
           "arrowwidth": 1
          },
          "autotypenumbers": "strict",
          "coloraxis": {
           "colorbar": {
            "outlinewidth": 0,
            "ticks": ""
           }
          },
          "colorscale": {
           "diverging": [
            [
             0,
             "#8e0152"
            ],
            [
             0.1,
             "#c51b7d"
            ],
            [
             0.2,
             "#de77ae"
            ],
            [
             0.3,
             "#f1b6da"
            ],
            [
             0.4,
             "#fde0ef"
            ],
            [
             0.5,
             "#f7f7f7"
            ],
            [
             0.6,
             "#e6f5d0"
            ],
            [
             0.7,
             "#b8e186"
            ],
            [
             0.8,
             "#7fbc41"
            ],
            [
             0.9,
             "#4d9221"
            ],
            [
             1,
             "#276419"
            ]
           ],
           "sequential": [
            [
             0,
             "#0d0887"
            ],
            [
             0.1111111111111111,
             "#46039f"
            ],
            [
             0.2222222222222222,
             "#7201a8"
            ],
            [
             0.3333333333333333,
             "#9c179e"
            ],
            [
             0.4444444444444444,
             "#bd3786"
            ],
            [
             0.5555555555555556,
             "#d8576b"
            ],
            [
             0.6666666666666666,
             "#ed7953"
            ],
            [
             0.7777777777777778,
             "#fb9f3a"
            ],
            [
             0.8888888888888888,
             "#fdca26"
            ],
            [
             1,
             "#f0f921"
            ]
           ],
           "sequentialminus": [
            [
             0,
             "#0d0887"
            ],
            [
             0.1111111111111111,
             "#46039f"
            ],
            [
             0.2222222222222222,
             "#7201a8"
            ],
            [
             0.3333333333333333,
             "#9c179e"
            ],
            [
             0.4444444444444444,
             "#bd3786"
            ],
            [
             0.5555555555555556,
             "#d8576b"
            ],
            [
             0.6666666666666666,
             "#ed7953"
            ],
            [
             0.7777777777777778,
             "#fb9f3a"
            ],
            [
             0.8888888888888888,
             "#fdca26"
            ],
            [
             1,
             "#f0f921"
            ]
           ]
          },
          "colorway": [
           "#636efa",
           "#EF553B",
           "#00cc96",
           "#ab63fa",
           "#FFA15A",
           "#19d3f3",
           "#FF6692",
           "#B6E880",
           "#FF97FF",
           "#FECB52"
          ],
          "font": {
           "color": "#2a3f5f"
          },
          "geo": {
           "bgcolor": "white",
           "lakecolor": "white",
           "landcolor": "#E5ECF6",
           "showlakes": true,
           "showland": true,
           "subunitcolor": "white"
          },
          "hoverlabel": {
           "align": "left"
          },
          "hovermode": "closest",
          "mapbox": {
           "style": "light"
          },
          "paper_bgcolor": "white",
          "plot_bgcolor": "#E5ECF6",
          "polar": {
           "angularaxis": {
            "gridcolor": "white",
            "linecolor": "white",
            "ticks": ""
           },
           "bgcolor": "#E5ECF6",
           "radialaxis": {
            "gridcolor": "white",
            "linecolor": "white",
            "ticks": ""
           }
          },
          "scene": {
           "xaxis": {
            "backgroundcolor": "#E5ECF6",
            "gridcolor": "white",
            "gridwidth": 2,
            "linecolor": "white",
            "showbackground": true,
            "ticks": "",
            "zerolinecolor": "white"
           },
           "yaxis": {
            "backgroundcolor": "#E5ECF6",
            "gridcolor": "white",
            "gridwidth": 2,
            "linecolor": "white",
            "showbackground": true,
            "ticks": "",
            "zerolinecolor": "white"
           },
           "zaxis": {
            "backgroundcolor": "#E5ECF6",
            "gridcolor": "white",
            "gridwidth": 2,
            "linecolor": "white",
            "showbackground": true,
            "ticks": "",
            "zerolinecolor": "white"
           }
          },
          "shapedefaults": {
           "line": {
            "color": "#2a3f5f"
           }
          },
          "ternary": {
           "aaxis": {
            "gridcolor": "white",
            "linecolor": "white",
            "ticks": ""
           },
           "baxis": {
            "gridcolor": "white",
            "linecolor": "white",
            "ticks": ""
           },
           "bgcolor": "#E5ECF6",
           "caxis": {
            "gridcolor": "white",
            "linecolor": "white",
            "ticks": ""
           }
          },
          "title": {
           "x": 0.05
          },
          "xaxis": {
           "automargin": true,
           "gridcolor": "white",
           "linecolor": "white",
           "ticks": "",
           "title": {
            "standoff": 15
           },
           "zerolinecolor": "white",
           "zerolinewidth": 2
          },
          "yaxis": {
           "automargin": true,
           "gridcolor": "white",
           "linecolor": "white",
           "ticks": "",
           "title": {
            "standoff": 15
           },
           "zerolinecolor": "white",
           "zerolinewidth": 2
          }
         }
        },
        "xaxis": {
         "autorange": true,
         "range": [
          -0.5,
          63.5
         ],
         "showspikes": false,
         "side": "top",
         "title": {
          "text": "Features"
         },
         "type": "category"
        },
        "yaxis": {
         "autorange": true,
         "range": [
          -0.5,
          63.5
         ],
         "showspikes": false,
         "title": {
          "text": "Features"
         },
         "type": "category"
        }
       }
      },
      "image/png": "[encoded data removed]",
      "text/html": [
       "<div>                            <div id=\"3b58d100-2075-495d-a8b2-4074cd042602\" class=\"plotly-graph-div\" style=\"height:525px; width:100%;\"></div>            <script type=\"text/javascript\">                require([\"plotly\"], function(Plotly) {                    window.PLOTLYENV=window.PLOTLYENV || {};                                    if (document.getElementById(\"3b58d100-2075-495d-a8b2-4074cd042602\")) {                    Plotly.newPlot(                        \"3b58d100-2075-495d-a8b2-4074cd042602\",                        [{\"colorscale\":[[0.0,\"rgb(5,48,97)\"],[0.1,\"rgb(33,102,172)\"],[0.2,\"rgb(67,147,195)\"],[0.3,\"rgb(146,197,222)\"],[0.4,\"rgb(209,229,240)\"],[0.5,\"rgb(247,247,247)\"],[0.6,\"rgb(253,219,199)\"],[0.7,\"rgb(244,165,130)\"],[0.8,\"rgb(214,96,77)\"],[0.9,\"rgb(178,24,43)\"],[1.0,\"rgb(103,0,31)\"]],\"hoverongaps\":false,\"x\":[\"landmark_0-axis_0\",\"landmark_0-axis_1\",\"landmark_0-axis_2\",\"landmark_1-axis_0\",\"landmark_1-axis_1\",\"landmark_1-axis_2\",\"landmark_2-axis_0\",\"landmark_2-axis_1\",\"landmark_2-axis_2\",\"landmark_3-axis_0\",\"landmark_3-axis_1\",\"landmark_3-axis_2\",\"landmark_4-axis_0\",\"landmark_4-axis_1\",\"landmark_4-axis_2\",\"landmark_5-axis_0\",\"landmark_5-axis_1\",\"landmark_5-axis_2\",\"landmark_6-axis_0\",\"landmark_6-axis_1\",\"landmark_6-axis_2\",\"landmark_7-axis_0\",\"landmark_7-axis_1\",\"landmark_7-axis_2\",\"landmark_8-axis_0\",\"landmark_8-axis_1\",\"landmark_8-axis_2\",\"landmark_9-axis_0\",\"landmark_9-axis_1\",\"landmark_9-axis_2\",\"landmark_10-axis_0\",\"landmark_10-axis_1\",\"landmark_10-axis_2\",\"landmark_11-axis_0\",\"landmark_11-axis_1\",\"landmark_11-axis_2\",\"landmark_12-axis_0\",\"landmark_12-axis_1\",\"landmark_12-axis_2\",\"landmark_13-axis_0\",\"landmark_13-axis_1\",\"landmark_13-axis_2\",\"landmark_14-axis_0\",\"landmark_14-axis_1\",\"landmark_14-axis_2\",\"landmark_15-axis_0\",\"landmark_15-axis_1\",\"landmark_15-axis_2\",\"landmark_16-axis_0\",\"landmark_16-axis_1\",\"landmark_16-axis_2\",\"landmark_17-axis_0\",\"landmark_17-axis_1\",\"landmark_17-axis_2\",\"landmark_18-axis_0\",\"landmark_18-axis_1\",\"landmark_18-axis_2\",\"landmark_19-axis_0\",\"landmark_19-axis_1\",\"landmark_19-axis_2\",\"landmark_20-axis_0\",\"landmark_20-axis_1\",\"landmark_20-axis_2\",\"label\"],\"xgap\":1,\"y\":[\"landmark_0-axis_0\",\"landmark_0-axis_1\",\"landmark_0-axis_2\",\"landmark_1-axis_0\",\"landmark_1-axis_1\",\"landmark_1-axis_2\",\"landmark_2-axis_0\",\"landmark_2-axis_1\",\"landmark_2-axis_2\",\"landmark_3-axis_0\",\"landmark_3-axis_1\",\"landmark_3-axis_2\",\"landmark_4-axis_0\",\"landmark_4-axis_1\",\"landmark_4-axis_2\",\"landmark_5-axis_0\",\"landmark_5-axis_1\",\"landmark_5-axis_2\",\"landmark_6-axis_0\",\"landmark_6-axis_1\",\"landmark_6-axis_2\",\"landmark_7-axis_0\",\"landmark_7-axis_1\",\"landmark_7-axis_2\",\"landmark_8-axis_0\",\"landmark_8-axis_1\",\"landmark_8-axis_2\",\"landmark_9-axis_0\",\"landmark_9-axis_1\",\"landmark_9-axis_2\",\"landmark_10-axis_0\",\"landmark_10-axis_1\",\"landmark_10-axis_2\",\"landmark_11-axis_0\",\"landmark_11-axis_1\",\"landmark_11-axis_2\",\"landmark_12-axis_0\",\"landmark_12-axis_1\",\"landmark_12-axis_2\",\"landmark_13-axis_0\",\"landmark_13-axis_1\",\"landmark_13-axis_2\",\"landmark_14-axis_0\",\"landmark_14-axis_1\",\"landmark_14-axis_2\",\"landmark_15-axis_0\",\"landmark_15-axis_1\",\"landmark_15-axis_2\",\"landmark_16-axis_0\",\"landmark_16-axis_1\",\"landmark_16-axis_2\",\"landmark_17-axis_0\",\"landmark_17-axis_1\",\"landmark_17-axis_2\",\"landmark_18-axis_0\",\"landmark_18-axis_1\",\"landmark_18-axis_2\",\"landmark_19-axis_0\",\"landmark_19-axis_1\",\"landmark_19-axis_2\",\"landmark_20-axis_0\",\"landmark_20-axis_1\",\"landmark_20-axis_2\",\"label\"],\"ygap\":1,\"z\":[[1.0,-0.39369580627708206,-0.05267401378462874,0.8470803747242881,-0.5905806503507054,-0.32656148095640697,0.2269743927006092,-0.5378964577605825,-0.31625546278556393,-0.22759072100025807,-0.17287873594238656,-0.2844464615770515,-0.2916352130112105,0.06321917091796743,-0.25121511078197534,0.05125797109496117,-0.3773867796477344,-0.3587842110125021,-0.43040783715865205,-0.008108371996833475,-0.3226429289816517,-0.5685291285180399,0.1557850978007117,-0.2990412386786636,-0.5980871602253935,0.1753652972011763,-0.2806743481559269,0.3205779745439015,-0.14006140548952384,-0.2918891009893658,-0.5253480686865756,0.330034090580378,-0.22809012923965055,-0.48646996245264945,0.1896012419177801,-0.21874060426492895,-0.39382073121108674,0.0801398669286045,-0.22466470791867615,0.6490591041657952,0.0849892696617885,-0.1496519402952114,-0.09316198046033433,0.48332927214276367,-0.11896704446893708,-0.05525719110874442,0.3663688696683788,-0.1581941477796986,0.0043100014327619295,0.24903314068971175,-0.18499543773899083,0.6763909335029866,0.2345159319743639,0.03776368966913875,0.270191358258416,0.49535534269572484,0.004880619481344842,0.111683000597769,0.3569408396462371,-0.05502794333563483,0.05081963953491255,0.22214290712726026,-0.09714068229190682,0.11626259320283232],[-0.39369580627708206,1.0,0.19579021651390727,-0.12160627560875183,0.8283089713039162,0.41388925077224764,0.29518957823132247,0.2842173698688781,0.4642221141525256,0.294613818542462,-0.20672353263292315,0.4633506636080868,0.1727207408650986,-0.4072993333438174,0.46037905552145586,0.18560239332499404,0.6115749827906759,0.5792744217144187,0.3913490140279886,-0.2145010928210267,0.5194210814143994,0.4401290519627384,-0.5803269690275299,0.49587077434688565,0.43356984496387424,-0.5728186102182693,0.4871774724249004,-0.010391475141301136,0.6427097733716648,0.5200563166286721,0.3278431315645169,-0.35253156806331043,0.40942015350633115,0.31714647030057325,-0.5594123714664675,0.3813874753836025,0.2570810692291691,-0.5086890023808546,0.39578335098258627,-0.30559427862157806,0.5923832323703394,0.3432379733290487,-0.0585618417831138,-0.17984691197083857,0.19871107671263383,0.10478122921429574,-0.2940859761400856,0.2189002120520553,0.130644011465757,-0.28430201016269124,0.27846913103923343,-0.4128863423257238,0.5248894395329192,0.08232786555930843,-0.3066526239659594,0.012005534963587439,0.03746312255042451,-0.1400380358276083,-0.11030990450632033,0.08880092005783864,-0.07331680826808225,-0.14221052875861206,0.15133444637797563,-0.17551837160165745],[-0.05267401378462874,0.19579021651390727,1.0,0.01864613084558424,0.2802585223389883,0.06519134526787276,-0.04621361801199073,0.3598228527933738,0.07640165161758723,-0.18553697414364537,0.38441728331524644,0.08349087568505317,-0.1692859043655553,0.2895786150290802,0.06672223749764777,-0.01818247405726089,0.555567383073653,0.0625614465419777,0.12292356286289602,0.37696705535375946,0.1269092298528751,0.1696640530731987,-0.3413863818654145,0.13580459273978054,0.16202015026590613,-0.5514917257624633,0.11461814538310595,-0.09898281993582457,0.521480104730765,0.005191987458900368,0.007312260646066927,0.17826360653143505,0.10530315117658182,0.006675618740640878,-0.5709245540391149,0.06483506753996897,-0.020673342912658387,-0.6885538239573478,0.00043405717059625854,-0.14627416810706026,0.45975680372646494,-0.06859395851881235,-0.09097076066906133,0.2344594292093014,-0.06273316460817757,0.0944571584967227,-0.16397550443906708,-0.16956325063547484,0.1398384899745796,-0.307807443395311,-0.24452641157404545,-0.0877858025340177,0.3888155905288057,-0.1300680340966086,0.023976858563004456,0.3251876156899061,-0.2107811813798754,0.24405032724215117,0.2411535499924269,-0.24992242358691422,0.33622852651211554,0.21572417975220706,-0.2626310239952105,-0.022396334334943896],[0.8470803747242881,-0.12160627560875183,0.01864613084558424,1.0,-0.40205404007493195,-0.20181265252351366,0.6778469265815655,-0.5315617439253598,-0.17564414335035694,0.01887988466015159,-0.29372892013830554,-0.14618871351783755,-0.2762381300403469,-0.0716149468021412,-0.11372763810086804,0.3562021334790264,-0.22208638630534872,-0.1924581065870209,-0.0831660388724074,-0.07283780169279304,-0.18314968146023244,-0.26423549557020665,0.04618232759669405,-0.16717703319565383,-0.34455824896737275,0.07294635780827752,-0.1483085560427383,0.4207479068470302,0.025096814549783637,-0.15613652372133616,-0.2947010017189153,0.18838331756879753,-0.11595861485882006,-0.2933688063289704,-0.040092263829932355,-0.11461526060785109,-0.2553738421717919,-0.13662018431595488,-0.11972949624181156,0.4070090169579326,0.24463116808402718,-0.08504616693295074,-0.2618983097468883,0.4388520331437317,-0.09975542334224385,-0.05288684873289873,0.3108049411782566,-0.13330028066899313,0.03757546765814334,0.20253826875128392,-0.13541915544787775,0.279701389959855,0.3879395049843804,0.011947589023836,-0.07070224677962804,0.5112721679770762,-0.02687793216601058,-0.0537277967606448,0.35043678872138573,-0.06080000822480548,-0.03979081454267022,0.21148922265858947,-0.07504289487861698,0.014646169874653487],[-0.5905806503507054,0.8283089713039162,0.2802585223389883,-0.40205404007493195,1.0,0.19241990570717843,0.03910074875534104,0.7455004601531376,0.2381006642830356,0.17289195729019172,0.27803798709952976,0.24564607359977222,0.14231668225270405,-0.005836454519703974,0.24943896870748078,0.16430190067844824,0.6452087939392535,0.3695002774569771,0.43573933680845733,-0.12367336919982537,0.3386681892977438,0.47897633470866124,-0.5803645569926134,0.32692738810166666,0.46103317164551944,-0.6096608279535402,0.3174216574983006,-0.016222156326248734,0.4997061437371546,0.34683484255307084,0.411012618494427,-0.378844615795746,0.2587209712990883,0.3231240143894025,-0.5029665033162877,0.24406114744030924,0.24289213921215644,-0.4394409110417331,0.2658197183826055,-0.31890777547129545,0.3393541157218035,0.2476659366497219,-0.00029310515577449486,-0.3331257256672095,0.11161922586945389,0.049612183037072835,-0.36354018993463727,0.12961411494256783,0.04740714259551412,-0.3253122844324125,0.18540032126943778,-0.44543090105746547,0.2145688071970834,0.08745424698168222,-0.26358980046294245,-0.20491938548928335,0.004562733189008363,-0.11038987275632824,-0.19231984522172962,0.045085844306594916,-0.0368354174170487,-0.14704870334246664,0.10641826349987775,-0.16493938210622508],[-0.32656148095640697,0.41388925077224764,0.06519134526787276,-0.20181265252351366,0.19241990570717843,1.0,0.03474170269316304,-0.0676149706585247,0.9803530338801791,0.25282244619404703,-0.260874063681912,0.9360469652291522,0.27204591527012273,-0.3430103662632793,0.8756659293960671,-0.2796355519935273,0.28517063152678157,0.8246183466004069,0.031125855497608768,0.022463663115360435,0.8333931333966239,0.21190152936109172,-0.12190356935943072,0.8231219793752681,0.29782222626372423,-0.133280840175237,0.811811238366732,-0.40740994179314655,0.2864928702827308,0.6732699677747622,0.1457062201527072,-0.1455433741679374,0.7120073896898291,0.3486643225395895,-0.31771637382750717,0.7055693792035426,0.3533030968270181,-0.2633762988024038,0.6781871711870996,-0.40160261125890473,0.21984221391127495,0.39549637670086973,0.160704399944664,-0.173039743632788,0.524352796546772,0.309641760648677,-0.3258825949992854,0.5424624045027164,0.301201524105622,-0.2935706575228454,0.5016136226195662,-0.2220148143983463,0.15121212557318356,0.03312823994605129,0.03131206271614504,-0.13525949014945998,0.24420379775167325,0.16524170272166472,-0.25875436590449696,0.2974257637355813,0.19134729695862998,-0.2549777424806243,0.28811764948726554,-0.1615119050873901],[0.2269743927006092,0.29518957823132247,-0.04621361801199073,0.6778469265815655,0.03910074875534104,0.03474170269316304,1.0,-0.27981275485985435,0.053537615389205574,0.5396873638190266,-0.37411474262525135,0.05344044107738273,0.07945677038101483,-0.3039550051615153,0.06302780145993418,0.5633700758766305,0.013168010948664998,0.09482247488974613,0.3763098920235463,-0.18392095008901968,0.04354904352491496,0.2310015959416584,-0.06760754152179278,0.03251758753982307,0.1332739323296012,-0.003329733096677573,0.04322958734972084,0.3548226762211047,0.14303913690864814,0.08379069581464829,0.1491364359612129,-0.1380063929047885,0.05112046311084584,0.11248292472790467,-0.22223410007221142,0.05118402187582127,0.07653588745284201,-0.22968275930631163,0.0632559994761026,-0.08142299610788535,0.2436613317060374,0.03912010781704291,-0.3297949255120225,0.07776677121197777,-0.014447707053519878,-0.06821388725444116,0.03426089136119603,0.0045597126068525,0.008112231382641574,0.002853197972550147,0.0477803845369296,-0.3620114902316763,0.3136116275262084,-0.020332604256367483,-0.5154409061943486,0.19264260825756435,-0.019261274435180872,-0.3447628420771522,0.0755251229600899,0.00786124707204586,-0.25583099390605324,-0.010629652290706912,0.0377879405665791,-0.14961958438908543],[-0.5378964577605825,0.2842173698688781,0.3598228527933738,-0.5315617439253598,0.7455004601531376,-0.0676149706585247,-0.27981275485985435,1.0,-0.06114445343908753,-0.004656066446784339,0.8091180921245491,-0.05987498165136812,0.10308756298044669,0.5374251492462931,-0.06318467603150704,-0.011220006083489352,0.4561125493218839,0.026314427619397857,0.23581969410658574,0.12209741282328877,0.05633360749114403,0.27764680639611994,-0.33703289401048114,0.061779405096954884,0.26705672273562814,-0.43518507798420375,0.050058929706727186,-0.09555430678080751,0.17620430802013579,0.04173547023371046,0.2727254937607924,-0.1704589156194219,0.046818926002375146,0.17658044664766814,-0.27399024153429735,0.04782009295305771,0.12412037998422874,-0.2542119048276841,0.051987814707336606,-0.23160225745667642,-0.04494836235621185,0.05355003502492309,0.058448662029474,-0.3138564895097114,0.025563378184632907,-0.008682398089571908,-0.3351536891245445,0.01404990468951575,-0.029266441305082252,-0.31628041387119765,0.011871410515990412,-0.2648763759048275,-0.19302921633923076,0.050614037681324206,-0.06749684670519802,-0.3187449589581307,-0.008237862700689266,0.020624447070639665,-0.21241292341959545,-0.00837575730849517,0.08267537891293586,-0.12165748653254492,0.006604537302879827,-0.08734689216144985],[-0.31625546278556393,0.4642221141525256,0.07640165161758723,-0.17564414335035694,0.2381006642830356,0.9803530338801791,0.053537615389205574,-0.06114445343908753,1.0,0.19876282404670984,-0.2831296665043249,0.9859175637363053,0.19837204194187022,-0.3684616561304659,0.9512225059773456,-0.21626640228652394,0.3291293698481789,0.885320945631532,0.07074569169629062,-0.01027923729365157,0.9027393856848256,0.2320924025513691,-0.1861300914054689,0.8982157903241095,0.30688039665494926,-0.19517142868772883,0.890769424229275,-0.34208870754528503,0.3412578481340245,0.7699242984466608,0.1566619537453592,-0.17059356888603588,0.8025867785881929,0.3268170933863041,-0.36377115308231595,0.7937762078161983,0.3243413764046638,-0.31048954947278784,0.7705063301516255,-0.3670470735335862,0.2756559635573408,0.5278529727025078,0.11379430749789374,-0.17074440896183102,0.6149163529695698,0.26637819606962077,-0.31765000004397487,0.6231153586577652,0.26469889740569585,-0.28463138833855617,0.5870888221269274,-0.23012084413920192,0.20067342531753474,0.1798392061898334,-0.010485942246488838,-0.12154612955305077,0.34885752270722653,0.12275431460170065,-0.2444780426507756,0.3961984503265676,0.1510910060179084,-0.24092595491060242,0.39064040427728214,-0.13985111903058822],[-0.22759072100025807,0.294613818542462,-0.18553697414364537,0.01887988466015159,0.17289195729019172,0.25282244619404703,0.5396873638190266,-0.004656066446784339,0.19876282404670984,1.0,-0.23109613657217798,0.13211535678691236,0.8674028208350539,-0.38329434576342253,0.0837578241009915,-0.08252618411568612,-0.004107820245436621,0.2362360332711598,0.009159155493052499,-0.16330901294952085,0.16033483587223274,0.07422924608446671,-0.017643777013818588,0.12145049830426888,0.10444195218022902,0.08002987018607569,0.11438403876958338,-0.24704333276463816,-0.0006834166073536637,0.18797247850268375,0.07712603995330405,-0.18892481385928978,0.10641405753919499,0.28339720675206487,-0.00354577384001912,0.10925736910372014,0.33573907456054053,0.07300636431854436,0.12676264801692055,-0.39578392908910803,-0.02303443806140344,0.07842681005293697,-0.0065071863618896145,-0.2364024984353254,0.09939937830741262,0.13801994488023053,-0.23849762135796912,0.16950793817750195,0.17586592759693215,-0.2001652511468838,0.20540451750880875,-0.3520306522518283,-0.03755239311732481,-0.0671074232200545,-0.2607992771459985,-0.2128112709292023,0.04279192483517352,-0.17301860239579464,-0.30961488437566853,0.08558708397553515,-0.10813087181133382,-0.34468413918030705,0.09801305167948476,-0.33216737219394094],[-0.17287873594238656,-0.20672353263292315,0.38441728331524644,-0.29372892013830554,0.27803798709952976,-0.260874063681912,-0.37411474262525135,0.8091180921245491,-0.2831296665043249,-0.23109613657217798,1.0,-0.2841980592213151,-0.07531729903836186,0.9094112339150405,-0.29090778757962643,-0.09863610292310394,0.12555845087019588,-0.2742806315735175,-0.011482931202305641,0.23354421088869642,-0.19780754975190887,-0.00977801074415451,-0.10948095571487178,-0.17494257955588044,-0.027525662188767366,-0.22725731717290024,-0.18288050120612034,-0.06333408240867743,-0.09070091938856302,-0.2467224587590328,0.05069807750655046,0.09706805778039244,-0.15782989624225305,-0.002406949257667836,-0.062396746745374425,-0.15046569760300765,-0.01577879658564087,-0.10732531228293851,-0.16711856891714671,-0.0011797824677876848,-0.21577289831082236,-0.16374683727574352,0.12120987819262564,-0.05622833255915131,-0.10127205159341875,0.05506477241430656,-0.11999361655862478,-0.14842855820869472,0.04269029699345365,-0.1512989888696444,-0.19815213074261676,0.04948873796071446,-0.2852371574252922,-0.04501751692504533,0.17996551150808407,-0.1281784989751365,-0.07611729468363244,0.22389442658409864,-0.03214124487008507,-0.11657082724475833,0.26180939087400645,0.032379811614140976,-0.14365182300546062,-0.08597861135852845],[-0.2844464615770515,0.4633506636080868,0.08349087568505317,-0.14618871351783755,0.24564607359977222,0.9360469652291522,0.05344044107738273,-0.05987498165136812,0.9859175637363053,0.13211535678691236,-0.2841980592213151,1.0,0.12101503893050398,-0.363095233317002,0.988772916461264,-0.1632877630302609,0.3426974329501835,0.8864703025781712,0.09042937802913299,-0.024424857954127712,0.9199802636252724,0.2303717979284917,-0.2173024872777703,0.9247864438710376,0.29445940227750356,-0.22767404340289585,0.9222313760494525,-0.275661355567865,0.36041642104206967,0.8055352999679173,0.15209396231098884,-0.17330003432762828,0.8486637973165335,0.29042908695029784,-0.38129704656381613,0.843575160118467,0.2844227322716263,-0.3337260014183952,0.8235966433112408,-0.31332060212366103,0.29780146800894913,0.6089646937391924,0.07321004895863903,-0.15889734236374403,0.6788429426239818,0.21530846201461742,-0.3040645128484629,0.6781952581333688,0.21793903768883438,-0.2759249677561505,0.6400250657499296,-0.21160954918351169,0.22119030804768494,0.2967634434985006,-0.03143095231099396,-0.10465965355754542,0.43651326315766387,0.09050891276801326,-0.22178096980015163,0.4759218437217452,0.11751560502412921,-0.21837651464439986,0.46826302459114844,-0.11062454502105036],[-0.2916352130112105,0.1727207408650986,-0.1692859043655553,-0.2762381300403469,0.14231668225270405,0.27204591527012273,0.07945677038101483,0.10308756298044669,0.19837204194187022,0.8674028208350539,-0.07531729903836186,0.12101503893050398,1.0,-0.28237233172454024,0.059451216590613025,-0.43900388152419595,-0.02982957630039236,0.21297444735494123,-0.2633171518868834,-0.09148322389951394,0.15476780054841574,-0.10466297415830927,0.005432553680603874,0.11705894024286523,-0.009437960065157576,0.08614101442081067,0.10439775775995912,-0.48487831298978135,-0.06503218930294175,0.16277884274819213,-0.06193004859599566,-0.10854559114073702,0.08846815570987167,0.22635541970292974,0.1157063148056284,0.09191698001576053,0.3264628164222943,0.19750746271530323,0.10491859642297777,-0.3620555165623743,-0.12060937971421595,0.0612518081598951,0.1763173690700525,-0.2604574463794433,0.11533076709427356,0.22344541448747618,-0.26649240621316284,0.184122472761496,0.24092471300680643,-0.21862255937955952,0.20166653444776492,-0.12771915782776325,-0.16071129741553042,-0.07185234799857805,0.024769475276530895,-0.289298384373012,0.052391875247209896,0.019913072547002017,-0.36703325121648506,0.08217372725284261,0.04325923115525825,-0.3806972443701691,0.0773388955578965,-0.3174580152198961],[0.06321917091796743,-0.4072993333438174,0.2895786150290802,-0.0716149468021412,-0.005836454519703974,-0.3430103662632793,-0.3039550051615153,0.5374251492462931,-0.3684616561304659,-0.38329434576342253,0.9094112339150405,-0.363095233317002,-0.28237233172454024,1.0,-0.3620921666673924,-0.012135998771558184,-0.0985141088153419,-0.40375267466626535,-0.04737597461763861,0.18893645159827027,-0.3170834128134895,-0.09199948861970028,0.017600807637144965,-0.2846104976543828,-0.1266502717757065,-0.07538899170774792,-0.2857525865495083,0.07380999759254632,-0.23193481653977963,-0.37258005119815873,-0.007016937234462889,0.17136368361229445,-0.25532198997974154,-0.07451002613938389,0.04410957236671037,-0.2418950768188966,-0.08987438106195283,-0.020975917126908588,-0.2611985205178947,0.17396639031600925,-0.266349227028347,-0.26212770752094144,0.1412649305359205,0.08111239231048992,-0.17095113999705883,0.08136524745642382,0.0388400509677632,-0.22426350340043522,0.06725871611127326,-0.004506547280399058,-0.28081864857178257,0.19217255949746395,-0.26359038786964606,-0.09226302321916978,0.24762538328934353,0.005063925468809018,-0.10556947112768678,0.25797936362233415,0.08434110462142819,-0.15494879727136956,0.2676428536138458,0.12271467836378831,-0.1938959488747527,-0.07719438084950893],[-0.25121511078197534,0.46037905552145586,0.06672223749764777,-0.11372763810086804,0.24943896870748078,0.8756659293960671,0.06302780145993418,-0.06318467603150704,0.9512225059773456,0.0837578241009915,-0.29090778757962643,0.988772916461264,0.059451216590613025,-0.3620921666673924,1.0,-0.11039179200207629,0.3361076017587464,0.8772934731854549,0.10737719132154264,-0.05681528678720633,0.9187013366483974,0.2268991815029187,-0.23473689753120144,0.9303090789973721,0.28189172268821017,-0.23664642247897835,0.9331032590450412,-0.2082706846194892,0.35831724057625475,0.8307931104413324,0.15147643777967945,-0.1938269662138307,0.8756154727921737,0.26191620680726013,-0.3901397122861582,0.8741488288657321,0.2538820444741099,-0.3435032381573,0.8597008477841988,-0.25744021571635334,0.29968879270765536,0.6782582254071718,0.0424299812758323,-0.16381582364821334,0.7262697122264441,0.17436263118257703,-0.29264063091600706,0.7211707250662335,0.18171584955558875,-0.26385109218060065,0.6861829307976023,-0.19096202357421693,0.22367314338850713,0.4010236591595768,-0.05054475142809665,-0.10639791112150661,0.5133407151401972,0.05524747136096407,-0.2184695961534436,0.5462205851609747,0.07889001397191502,-0.2162973486457234,0.5380153605434661,-0.08748431142803563],[0.05125797109496117,0.18560239332499404,-0.01818247405726089,0.3562021334790264,0.16430190067844824,-0.2796355519935273,0.5633700758766305,-0.011220006083489352,-0.21626640228652394,-0.08252618411568612,-0.09863610292310394,-0.1632877630302609,-0.43900388152419595,-0.012135998771558184,-0.11039179200207629,1.0,0.09029901059942413,-0.17565751031842497,0.7939058111626502,-0.08140256819675906,-0.20342696149236383,0.5240368833039455,-0.030903377769331674,-0.19080602973584848,0.3423005054011067,-0.034112223147833395,-0.1721708650916533,0.8787217454257603,0.10036705296269745,-0.14433405904532665,0.4888033664889469,-0.132275247637705,-0.15474881319284933,0.012859791767265795,-0.1893686709190857,-0.13712625804630624,-0.16472907041327658,-0.2288154605743862,-0.11055964077669013,0.27567873626888,0.14511719265974063,-0.10113185675767573,-0.3199523625339442,0.08809247828049648,-0.21518149451697285,-0.37549366088817043,0.17856989864969597,-0.20647476777303103,-0.36277048845567866,0.15074463702130705,-0.14380419118903295,-0.3016289858408647,0.20030854747744864,-0.035358987321619906,-0.5689595456196126,0.19154955948845584,-0.14942391500611102,-0.5347156691689982,0.23975890310835954,-0.1279527045535303,-0.49280919005866464,0.20848728246807208,-0.07535243472610471,0.07099844462637966],[-0.3773867796477344,0.6115749827906759,0.555567383073653,-0.22208638630534872,0.6452087939392535,0.28517063152678157,0.013168010948664998,0.4561125493218839,0.3291293698481789,-0.004107820245436621,0.12555845087019588,0.3426974329501835,-0.02982957630039236,-0.0985141088153419,0.3361076017587464,0.09029901059942413,1.0,0.3582492281245605,0.3145203885243698,0.45506389904707517,0.37576623659009833,0.3503814582607945,-0.36445121519900553,0.3775827569104001,0.33778118768080867,-0.6209130841562346,0.3620923326913317,-0.06490878047160993,0.9146935451559237,0.2998835001428501,0.18500172909863277,0.1552422763385659,0.29018637810736353,0.09336389074434151,-0.4973680043437688,0.2633269208796344,0.026286098919322293,-0.6003552906634168,0.24529537355486705,-0.2850378968031938,0.7258234730735995,0.17481481338311633,-0.1821595556522163,0.10701323161657268,0.10289145519168436,-0.10093771086402287,-0.2420235623399861,0.06692618803048773,-0.08627534167167271,-0.3480746462691631,0.0617977024981602,-0.33938653621250275,0.5243557269153353,0.009446164448679798,-0.2590549583199186,0.161966324422808,-0.05137797781580121,-0.11346498877612714,0.012777246027122808,-0.04145347917772104,-0.04007720667411433,-0.03353587493181296,-0.017902890336082947,-0.002573558604524971],[-0.3587842110125021,0.5792744217144187,0.0625614465419777,-0.1924581065870209,0.3695002774569771,0.8246183466004069,0.09482247488974613,0.026314427619397857,0.885320945631532,0.2362360332711598,-0.2742806315735175,0.8864703025781712,0.21297444735494123,-0.40375267466626535,0.8772934731854549,-0.17565751031842497,0.3582492281245605,1.0,0.0976985269446546,-0.12980831815822746,0.9774493049615186,0.25384332821857375,-0.3004267327975459,0.9506226044010856,0.3270180306011761,-0.27052009619817446,0.9371878307307978,-0.3089692169967917,0.36566688917677587,0.959348232197814,0.16693617237453448,-0.3001699298030236,0.9040220801520028,0.3257903108526996,-0.4248914257764135,0.8666060939502861,0.3305146868000505,-0.34498125058090695,0.8523629778567716,-0.37858895879031235,0.2830191327313654,0.7687856305046031,0.04493132187967679,-0.2837177949789999,0.7179732143455626,0.21332119027757337,-0.3788547053279686,0.7136420794603586,0.22933476433088942,-0.3195553339967804,0.7056204869597001,-0.2878355619248211,0.18883829719282352,0.41711607719412114,-0.108205312960889,-0.21552763219845827,0.48438489967376247,0.02263271389634181,-0.3277731435271273,0.5222600143221793,0.06313199408314449,-0.31480317661403406,0.534116887598574,-0.1272445839530613],[-0.43040783715865205,0.3913490140279886,0.12292356286289602,-0.0831660388724074,0.43573933680845733,0.031125855497608768,0.3763098920235463,0.23581969410658574,0.07074569169629062,0.009159155493052499,-0.011482931202305641,0.09042937802913299,-0.2633171518868834,-0.04737597461763861,0.10737719132154264,0.7939058111626502,0.3145203885243698,0.0976985269446546,1.0,-0.010314075614077567,0.05254898144622043,0.9191348538153425,-0.08183689893986916,0.04398787041979687,0.806556867144321,-0.10957447074737685,0.046559714379980695,0.5246231661150753,0.19490855087396478,0.059981277651902545,0.7308335814183606,-0.30262862101774574,0.045859727710139006,0.3388390625089421,-0.39790764487125235,0.04459561766632838,0.1321043743132488,-0.3776443936534424,0.05012135739595023,-0.15505631880967788,0.11567080477806332,-0.02078525559885489,-0.196108090328185,-0.17797373582702541,-0.1020422012889586,-0.2184444556905572,-0.12114500831401186,-0.10342602803845734,-0.23765496492859825,-0.09551660011055496,-0.06875430549839456,-0.6208857459271616,0.09046876699071099,-0.10452482227682365,-0.6145015816182213,-0.06134195480356079,-0.15859889963307652,-0.4785016642672857,0.007700910847875502,-0.12112857064220417,-0.40797675871878053,0.03948321741049908,-0.07135716708160385,0.010302113527374673],[-0.008108371996833475,-0.2145010928210267,0.37696705535375946,-0.07283780169279304,-0.12367336919982537,0.022463663115360435,-0.18392095008901968,0.12209741282328877,-0.01027923729365157,-0.16330901294952085,0.23354421088869642,-0.024424857954127712,-0.09148322389951394,0.18893645159827027,-0.05681528678720633,-0.08140256819675906,0.45506389904707517,-0.12980831815822746,-0.010314075614077567,1.0,-0.07584470514356116,-0.005545442104753331,0.4942399976340842,-0.07130767483450941,-0.008398672902728539,0.10712543431760174,-0.09013602183328641,-0.10359700828513825,0.36891120496430346,-0.19153698736432348,-0.10695153057354974,0.7558957858840899,-0.08177254201928612,-0.18337658534681625,0.09660805499467898,-0.09372403745542467,-0.19956793137500686,-0.1384561956522448,-0.14669384124493814,-0.09209178747559561,0.254298054895009,-0.2348265498587916,-0.17745917139485176,0.5026722407318226,-0.12306950763380495,-0.2305047761142732,0.10810831996690301,-0.1907560000090842,-0.23200328686124722,-0.08991161205956866,-0.2764696545689126,-0.02272363347306085,0.14008206945536314,-0.23390719912397398,-0.037228647675241144,0.34468350337962333,-0.1935744007996554,-0.028894162825115956,0.20728647623226004,-0.23337249331107496,-0.0046933045898599965,0.1153037971497927,-0.28117400663063236,0.16527972962333015],[-0.3226429289816517,0.5194210814143994,0.1269092298528751,-0.18314968146023244,0.3386681892977438,0.8333931333966239,0.04354904352491496,0.05633360749114403,0.9027393856848256,0.16033483587223274,-0.19780754975190887,0.9199802636252724,0.15476780054841574,-0.3170834128134895,0.9187013366483974,-0.20342696149236383,0.37576623659009833,0.9774493049615186,0.05254898144622043,-0.07584470514356116,1.0,0.204277348343725,-0.31983389014273855,0.9930625140192219,0.27598626223172384,-0.31896589526539676,0.9840834083881902,-0.3149330300926921,0.37591125275377046,0.952709205846876,0.1222272162366793,-0.2428708829754967,0.9516596147947923,0.28500321350705166,-0.4376882599277642,0.9260285580933301,0.29486701216444966,-0.3772520940807103,0.9061996989208585,-0.34583063626264055,0.287502959596971,0.7991190891919837,0.041524294471826345,-0.24633968035808262,0.7932507074445279,0.20495986932818702,-0.38612033068186374,0.7765799609383504,0.21916610508186116,-0.34548184619600736,0.7433975780939985,-0.23656629057376322,0.1850820696383973,0.48682549113026363,-0.059367670204757875,-0.19091762338378565,0.5662993906617805,0.06964349911964514,-0.3066515103399056,0.5931675530620432,0.10805369508950059,-0.2925061758884472,0.5878122058866382,-0.09909627641549963],[-0.5685291285180399,0.4401290519627384,0.1696640530731987,-0.26423549557020665,0.47897633470866124,0.21190152936109172,0.2310015959416584,0.27764680639611994,0.2320924025513691,0.07422924608446671,-0.00977801074415451,0.2303717979284917,-0.10466297415830927,-0.09199948861970028,0.2268991815029187,0.5240368833039455,0.3503814582607945,0.25384332821857375,0.9191348538153425,-0.005545442104753331,0.204277348343725,1.0,-0.0860873737616059,0.1832278170088498,0.9718904857778777,-0.10203099290556128,0.177723963650267,0.23437493453816563,0.18936955768168962,0.18987881473623433,0.7094669390016193,-0.39071751555363776,0.1809827816189472,0.48111691294279735,-0.4851186905148596,0.16581852988188894,0.3131539932140301,-0.42300753457258533,0.1535744356458643,-0.3467221979751064,0.06257886419580272,0.057527297028943936,-0.10669334392089079,-0.33540527442438683,0.01879731916436523,-0.07895911922255773,-0.32536894655909687,0.0014367556646804028,-0.09878921794293893,-0.26953574981045386,0.001044016115574347,-0.6596147922420825,0.004403728551955446,-0.09719122696225863,-0.5379979879956978,-0.21914679844346352,-0.096180196124985,-0.3879511379353441,-0.18602937687517776,-0.06801471772505974,-0.3194173150345509,-0.13706770998133,-0.04356990064726299,-0.010662021845977525],[0.1557850978007117,-0.5803269690275299,-0.3413863818654145,0.04618232759669405,-0.5803645569926134,-0.12190356935943072,-0.06760754152179278,-0.33703289401048114,-0.1861300914054689,-0.017643777013818588,-0.10948095571487178,-0.2173024872777703,0.005432553680603874,0.017600807637144965,-0.23473689753120144,-0.030903377769331674,-0.36445121519900553,-0.3004267327975459,-0.08183689893986916,0.4942399976340842,-0.31983389014273855,-0.0860873737616059,1.0,-0.3332765762158632,-0.06330090792283016,0.9103631531497488,-0.3310104559047694,0.035292287817865683,-0.4181418039734397,-0.3187293407121099,-0.06264470055860205,0.36163015788660746,-0.2509610594951389,-0.1076391841879376,0.45615595793448355,-0.24189087318465705,-0.09639643816606251,0.38241071097770785,-0.26844747224215587,0.10815199251077252,-0.421793428541052,-0.2969187829254188,-0.01378969145426564,0.14401813770772798,-0.14254843430220057,-0.18511994648380875,0.14725667033064768,-0.15957342547613726,-0.2118599090800473,0.11141993405752693,-0.2243771674544344,0.12692628517974106,-0.394927466772897,-0.21985812039825176,0.024987585688378933,-0.039709687374972935,-0.08489259903442334,-0.13767442527322887,-0.0797069273392129,-0.1205086377922929,-0.18916013335226858,-0.1311135364753443,-0.18938309831244748,0.09338399097331336],[-0.2990412386786636,0.49587077434688565,0.13580459273978054,-0.16717703319565383,0.32692738810166666,0.8231219793752681,0.03251758753982307,0.061779405096954884,0.8982157903241095,0.12145049830426888,-0.17494257955588044,0.9247864438710376,0.11705894024286523,-0.2846104976543828,0.9303090789973721,-0.19080602973584848,0.3775827569104001,0.9506226044010856,0.04398787041979687,-0.07130767483450941,0.9930625140192219,0.1832278170088498,-0.3332765762158632,1.0,0.2489573993004593,-0.3398108547940684,0.9973412575247274,-0.29165488516581833,0.37883129811075006,0.9344522166953906,0.10805368073309968,-0.22563747365816597,0.954523579024118,0.26013908592079765,-0.43375587236222235,0.9402124648493335,0.26799808887472154,-0.38292381348434934,0.9246887477022915,-0.3148399246334885,0.2931275899019734,0.8012247186315853,0.040323826653164134,-0.22373522587804137,0.8080963526582876,0.19964354406254306,-0.36396141048791797,0.7941483173370453,0.21190882825720167,-0.3296036458565878,0.7601740951570389,-0.2116913137131149,0.19099751578984084,0.5136216702740997,-0.04129160477242674,-0.17425804282053667,0.5938479476390855,0.08346966226598079,-0.28671510594801,0.6202493736765524,0.11733097602972031,-0.2737336967558363,0.6129673123497413,-0.07789329770958738],[-0.5980871602253935,0.43356984496387424,0.16202015026590613,-0.34455824896737275,0.46103317164551944,0.29782222626372423,0.1332739323296012,0.26705672273562814,0.30688039665494926,0.10444195218022902,-0.027525662188767366,0.29445940227750356,-0.009437960065157576,-0.1266502717757065,0.28189172268821017,0.3423005054011067,0.33778118768080867,0.3270180306011761,0.806556867144321,-0.008398672902728539,0.27598626223172384,0.9718904857778777,-0.06330090792283016,0.2489573993004593,1.0,-0.06681629204416978,0.24027232539298213,0.06854378781297785,0.1643347827945434,0.256953598283092,0.6367218809645996,-0.4211943231547577,0.2495344209885376,0.511568198916879,-0.49400095829808255,0.2284427882893434,0.3845128518078627,-0.4106304803064869,0.20839631947190257,-0.41339684593067,0.01863345547947361,0.10921159498525569,-0.0607530624125993,-0.4124069133599467,0.09767101667841357,-0.017282410129748724,-0.42620287684109365,0.07346756517313519,-0.031670421590816115,-0.3562596167415081,0.05318060058909385,-0.624093733480137,-0.05473110896791799,-0.07224813636304307,-0.4665422552155635,-0.30486686427235543,-0.03704658707127523,-0.3346727020397019,-0.2997629186267731,-0.017199893447688963,-0.27382543650377905,-0.2482059735420437,-0.010870933533563533,-0.017454249472829655],[0.1753652972011763,-0.5728186102182693,-0.5514917257624633,0.07294635780827752,-0.6096608279535402,-0.133280840175237,-0.003329733096677573,-0.43518507798420375,-0.19517142868772883,0.08002987018607569,-0.22725731717290024,-0.22767404340289585,0.08614101442081067,-0.07538899170774792,-0.23664642247897835,-0.034112223147833395,-0.6209130841562346,-0.27052009619817446,-0.10957447074737685,0.10712543431760174,-0.31896589526539676,-0.10203099290556128,0.9103631531497488,-0.3398108547940684,-0.06681629204416978,1.0,-0.32953701354943987,0.05430839043894455,-0.6508760000876779,-0.2629005168476437,-0.03143348866790108,0.05157468930138733,-0.2346143721849887,-0.028527118517867902,0.46106936481327165,-0.22134178072950678,0.0007870831316425402,0.49922642602372064,-0.22988102201969274,0.14962116226838754,-0.6127301866098916,-0.21942589013197528,0.0723854502241288,-0.09696934659629527,-0.08672066052031001,-0.09794441367576245,0.07704280020384784,-0.0791774621120539,-0.12455535237021696,0.1370262833901867,-0.12038149481634752,0.15788029051843466,-0.5368460400255127,-0.13564373262055593,0.05247488376895873,-0.23524948878312588,0.00625695614355468,-0.13690539059044746,-0.2228098760207112,-0.019939578103555608,-0.20226421453429813,-0.23228383494580004,-0.08172492359459657,0.011767387035268657],[-0.2806743481559269,0.4871774724249004,0.11461814538310595,-0.1483085560427383,0.3174216574983006,0.811811238366732,0.04322958734972084,0.050058929706727186,0.890769424229275,0.11438403876958338,-0.18288050120612034,0.9222313760494525,0.10439775775995912,-0.2857525865495083,0.9331032590450412,-0.1721708650916533,0.3620923326913317,0.9371878307307978,0.046559714379980695,-0.09013602183328641,0.9840834083881902,0.177723963650267,-0.3310104559047694,0.9973412575247274,0.24027232539298213,-0.32953701354943987,1.0,-0.26714782237848234,0.3663269529416658,0.9285672527651212,0.10578330564636397,-0.23621758732964845,0.9537045443634022,0.249557981716533,-0.4293677621200186,0.946333540938518,0.2564849079192102,-0.3779696688606558,0.936195670211471,-0.29189009652833164,0.28516217807561867,0.8080429009605032,0.039129650320899566,-0.2244434392002864,0.815920072766467,0.19576383053650132,-0.3507223260009385,0.8066383131248552,0.20838537695164217,-0.31369255348693836,0.7772275125067896,-0.19969025513002497,0.1865230689095539,0.5341248108766181,-0.04018565047425543,-0.17784682538040408,0.6148105322995433,0.07698263031635924,-0.2896685731029839,0.6425376105833672,0.10682266504857484,-0.27832148756081765,0.636250987069108,-0.06715932726365823],[0.3205779745439015,-0.010391475141301136,-0.09898281993582457,0.4207479068470302,-0.016222156326248734,-0.40740994179314655,0.3548226762211047,-0.09555430678080751,-0.34208870754528503,-0.24704333276463816,-0.06333408240867743,-0.275661355567865,-0.48487831298978135,0.07380999759254632,-0.2082706846194892,0.8787217454257603,-0.06490878047160993,-0.3089692169967917,0.5246231661150753,-0.10359700828513825,-0.3149330300926921,0.23437493453816563,0.035292287817865683,-0.29165488516581833,0.06854378781297785,0.05430839043894455,-0.26714782237848234,1.0,-0.023503534395386546,-0.23626974608744594,0.3644446179623752,-0.057929404905920044,-0.22558500058273237,-0.11171508638170227,-0.05813993730294419,-0.19967883483591636,-0.25315897215448785,-0.10880530215425821,-0.1709981328296068,0.693385994056434,0.056101985074385866,-0.1175531002139522,-0.09118514928856453,0.13580304713328853,-0.203242768990437,-0.30156213312157126,0.220445511138443,-0.20386312224417721,-0.31210741805856085,0.17812451519813413,-0.15877038234859595,0.16071777420088115,0.13478136478580321,0.033592579351518714,-0.22861702277412985,0.21145579086325422,-0.07843816128305511,-0.3707267978646754,0.22384306728253323,-0.08851292641575594,-0.4048766259749672,0.16345911990420667,-0.06696790435162478,0.07664317183006607],[-0.14006140548952384,0.6427097733716648,0.521480104730765,0.025096814549783637,0.4997061437371546,0.2864928702827308,0.14303913690864814,0.17620430802013579,0.3412578481340245,-0.0006834166073536637,-0.09070091938856302,0.36041642104206967,-0.06503218930294175,-0.23193481653977963,0.35831724057625475,0.10036705296269745,0.9146935451559237,0.36566688917677587,0.19490855087396478,0.36891120496430346,0.37591125275377046,0.18936955768168962,-0.4181418039734397,0.37883129811075006,0.1643347827945434,-0.6508760000876779,0.3663269529416658,-0.023503534395386546,1.0,0.30280873672709085,0.04246171050104381,0.2789814316719849,0.2717624110973145,0.0018234590298901957,-0.42992960372459693,0.2380681174433365,-0.038895823945327986,-0.5702849651450139,0.22241158789109786,-0.18334754424647115,0.9378217746695631,0.16953563334138314,-0.2034725535072913,0.3577428404660609,0.06495348150665202,-0.0436821760439553,-0.032114818568934826,0.03062798737268106,-0.006101851864501875,-0.1818866036232473,0.041959274981788065,-0.21650972229422083,0.8061449283214114,-0.0026840847284904656,-0.20598077454721125,0.44807836495481296,-0.0839252646222716,-0.05323764048684327,0.22628561557937352,-0.07317920707548793,0.011828284281176443,0.11653018766063314,-0.0403366654081907,-0.02517618724001335],[-0.2918891009893658,0.5200563166286721,0.005191987458900368,-0.15613652372133616,0.34683484255307084,0.6732699677747622,0.08379069581464829,0.04173547023371046,0.7699242984466608,0.18797247850268375,-0.2467224587590328,0.8055352999679173,0.16277884274819213,-0.37258005119815873,0.8307931104413324,-0.14433405904532665,0.2998835001428501,0.959348232197814,0.059981277651902545,-0.19153698736432348,0.952709205846876,0.18987881473623433,-0.3187293407121099,0.9344522166953906,0.256953598283092,-0.2629005168476437,0.9285672527651212,-0.23626974608744594,0.30280873672709085,1.0,0.11262259976922154,-0.3329219433489133,0.9460159099371706,0.2494799646203048,-0.393943794982025,0.9149095480166094,0.26992629788201805,-0.3064540738624877,0.9108378895000235,-0.28775764208705795,0.21885320271971653,0.9165918445863037,-0.01015115729162286,-0.32519919651579055,0.8355862358785437,0.12779846326206779,-0.38118743033493907,0.8248802964291627,0.1532667431955484,-0.3115241887613302,0.8174229921908389,-0.23206256535522982,0.12091213432677728,0.6512437861586516,-0.1269780219745748,-0.2696836016215357,0.6754360295594721,-0.040430663848574536,-0.36271219396389665,0.6982181974792951,-0.006184390411056718,-0.3418526319144081,0.7031037180840988,-0.08011534218312331],[-0.5253480686865756,0.3278431315645169,0.007312260646066927,-0.2947010017189153,0.411012618494427,0.1457062201527072,0.1491364359612129,0.2727254937607924,0.1566619537453592,0.07712603995330405,0.05069807750655046,0.15209396231098884,-0.06193004859599566,-0.007016937234462889,0.15147643777967945,0.4888033664889469,0.18500172909863277,0.16693617237453448,0.7308335814183606,-0.10695153057354974,0.1222272162366793,0.7094669390016193,-0.06264470055860205,0.10805368073309968,0.6367218809645996,-0.03143348866790108,0.10578330564636397,0.3644446179623752,0.04246171050104381,0.11262259976922154,1.0,-0.3673949383557777,0.0921028128144345,0.7771951419636425,-0.28533507976067163,0.09685935167616508,0.5849863308103208,-0.20814157733067876,0.10707736849826792,-0.04891530515042231,-0.05802656629112566,0.0024847436253112045,0.3437574630466505,-0.34457980532152044,-0.020804806196752006,0.19340314304246245,-0.2555839169115995,-0.01338374913781206,0.10928277116630244,-0.18321406076660135,0.003251821038183151,-0.3717961044196074,-0.09449201198442829,-0.12095878338808923,-0.18971520241286915,-0.26227764491558625,-0.09930703818969518,-0.12678708148685988,-0.2103335706767403,-0.072278649783758,-0.11482555078769913,-0.15944176215945866,-0.0519061484331135,-0.19248741412451403],[0.330034090580378,-0.35253156806331043,0.17826360653143505,0.18838331756879753,-0.378844615795746,-0.1455433741679374,-0.1380063929047885,-0.1704589156194219,-0.17059356888603588,-0.18892481385928978,0.09706805778039244,-0.17330003432762828,-0.10854559114073702,0.17136368361229445,-0.1938269662138307,-0.132275247637705,0.1552422763385659,-0.3001699298030236,-0.30262862101774574,0.7558957858840899,-0.2428708829754967,-0.39071751555363776,0.36163015788660746,-0.22563747365816597,-0.4211943231547577,0.05157468930138733,-0.23621758732964845,-0.057929404905920044,0.2789814316719849,-0.3329219433489133,-0.3673949383557777,1.0,-0.2727919158162029,-0.3663978861089571,0.5000548842071927,-0.27379160294120397,-0.32501226290988877,0.21944935764641174,-0.2969092337138,0.11293435314358362,0.350036433795315,-0.31424309089489694,-0.13984190502408556,0.8659430179890253,-0.25674253646387246,-0.16384169545507174,0.5623982406871328,-0.2886282955866622,-0.15456864489409827,0.3275143191961517,-0.32191471537788,0.2346903490868071,0.34854883832026745,-0.23013843050500848,0.13294689617637193,0.6910494782171741,-0.23916957521984475,0.09356211751497812,0.559717048858582,-0.2703813457508469,0.08211309951235277,0.4152380114883935,-0.29189490275242697,0.14614701590068788],[-0.22809012923965055,0.40942015350633115,0.10530315117658182,-0.11595861485882006,0.2587209712990883,0.7120073896898291,0.05112046311084584,0.046818926002375146,0.8025867785881929,0.10641405753919499,-0.15782989624225305,0.8486637973165335,0.08846815570987167,-0.25532198997974154,0.8756154727921737,-0.15474881319284933,0.29018637810736353,0.9040220801520028,0.045859727710139006,-0.08177254201928612,0.9516596147947923,0.1809827816189472,-0.2509610594951389,0.954523579024118,0.2495344209885376,-0.2346143721849887,0.9537045443634022,-0.22558500058273237,0.2717624110973145,0.9460159099371706,0.0921028128144345,-0.2727919158162029,1.0,0.22204859073710623,-0.46315877941865446,0.9887094902204977,0.24215716934956238,-0.4057522691721009,0.9659426034802227,-0.2423235250731644,0.17972873027634156,0.8898667707494393,-0.01404048388383404,-0.29744277670948693,0.9216463837356762,0.10808308669228682,-0.45386956222533975,0.8862830844562983,0.13154806833756535,-0.42170203807778806,0.8214940640560808,-0.16955995576791816,0.08038044438919048,0.6653455994105756,-0.07674502493018241,-0.24712690118330272,0.749499024861444,0.003955403173720995,-0.3644753570033351,0.7539525995483306,0.03780190399948381,-0.35148887544696844,0.7206629199389462,-0.059785948480954906],[-0.48646996245264945,0.31714647030057325,0.006675618740640878,-0.2933688063289704,0.3231240143894025,0.3486643225395895,0.11248292472790467,0.17658044664766814,0.3268170933863041,0.28339720675206487,-0.002406949257667836,0.29042908695029784,0.22635541970292974,-0.07451002613938389,0.26191620680726013,0.012859791767265795,0.09336389074434151,0.3257903108526996,0.3388390625089421,-0.18337658534681625,0.28500321350705166,0.48111691294279735,-0.1076391841879376,0.26013908592079765,0.511568198916879,-0.028527118517867902,0.249557981716533,-0.11171508638170227,0.0018234590298901957,0.2494799646203048,0.7771951419636425,-0.3663978861089571,0.22204859073710623,1.0,-0.25203105039122026,0.21526398766242213,0.9572539127161958,-0.13662033470285442,0.21364373539951523,-0.28466115707378337,-0.07890516142043702,0.09666390851950053,0.4429136351108025,-0.40414168011365176,0.1326840879553832,0.5187361221103222,-0.3990324372894925,0.13238826254625943,0.48444219542025063,-0.31286396119576804,0.1138076238573377,-0.3155314286702498,-0.11429471153317439,-0.09198389256954739,-0.003790016785741949,-0.3343035277047444,0.009343107349488327,0.14303503241254364,-0.37250055920892156,0.021733451402822054,0.18082236407352267,-0.33286882381446325,0.006738591283731043,-0.3334157805689246],[0.1896012419177801,-0.5594123714664675,-0.5709245540391149,-0.040092263829932355,-0.5029665033162877,-0.31771637382750717,-0.22223410007221142,-0.27399024153429735,-0.36377115308231595,-0.00354577384001912,-0.062396746745374425,-0.38129704656381613,0.1157063148056284,0.04410957236671037,-0.3901397122861582,-0.1893686709190857,-0.4973680043437688,-0.4248914257764135,-0.39790764487125235,0.09660805499467898,-0.4376882599277642,-0.4851186905148596,0.45615595793448355,-0.43375587236222235,-0.49400095829808255,0.46106936481327165,-0.4293677621200186,-0.05813993730294419,-0.42992960372459693,-0.393943794982025,-0.28533507976067163,0.5000548842071927,-0.46315877941865446,-0.25203105039122026,1.0,-0.4290008050738548,-0.188227096123902,0.9453707426104104,-0.3803099785162653,0.15404115964925075,-0.3338341892088392,-0.29112601042908487,0.057248499797084906,0.3369496274091498,-0.28890896603959443,-0.14391067763566556,0.6192553871194998,-0.20407874172355964,-0.1944266472242915,0.6241608252397741,-0.1390341745746378,0.24119314704863765,-0.2598341474500463,-0.12706215519448608,0.16400790171425797,0.12817607908145645,-0.11899253317362452,-0.028812820949433375,0.26399132228514016,-0.09797680316526682,-0.11426401230535146,0.2596800023047843,-0.07807075060974936,0.15107378541895444],[-0.21874060426492895,0.3813874753836025,0.06483506753996897,-0.11461526060785109,0.24406114744030924,0.7055693792035426,0.05118402187582127,0.04782009295305771,0.7937762078161983,0.10925736910372014,-0.15046569760300765,0.843575160118467,0.09191698001576053,-0.2418950768188966,0.8741488288657321,-0.13712625804630624,0.2633269208796344,0.8666060939502861,0.04459561766632838,-0.09372403745542467,0.9260285580933301,0.16581852988188894,-0.24189087318465705,0.9402124648493335,0.2284427882893434,-0.22134178072950678,0.946333540938518,-0.19967883483591636,0.2380681174433365,0.9149095480166094,0.09685935167616508,-0.27379160294120397,0.9887094902204977,0.21526398766242213,-0.4290008050738548,1.0,0.2346356511131862,-0.3751954057704118,0.9904052257111808,-0.21738292625678782,0.1468980384429735,0.8761330327474741,-0.011338413564382824,-0.30152722949533745,0.9311702672998694,0.09165937971948278,-0.4377945083354621,0.9178857052470901,0.11096465648185724,-0.40800458640420895,0.8628666605438022,-0.1578196654959417,0.05184230477772238,0.6748728094566221,-0.07480903620565961,-0.25624057392005467,0.7749947588088621,-0.006504674249145709,-0.3561935691422788,0.7915734107535161,0.021805094915051965,-0.34100543453629034,0.7636260193478643,-0.04643211984060773],[-0.39382073121108674,0.2570810692291691,-0.020673342912658387,-0.2553738421717919,0.24289213921215644,0.3533030968270181,0.07653588745284201,0.12412037998422874,0.3243413764046638,0.33573907456054053,-0.01577879658564087,0.2844227322716263,0.3264628164222943,-0.08987438106195283,0.2538820444741099,-0.16472907041327658,0.026286098919322293,0.3305146868000505,0.1321043743132488,-0.19956793137500686,0.29486701216444966,0.3131539932140301,-0.09639643816606251,0.26799808887472154,0.3845128518078627,0.0007870831316425402,0.2564849079192102,-0.25315897215448785,-0.038895823945327986,0.26992629788201805,0.5849863308103208,-0.32501226290988877,0.24215716934956238,0.9572539127161958,-0.188227096123902,0.2346356511131862,1.0,-0.06984693585691916,0.23190248704733668,-0.30008464137980156,-0.10495244698928095,0.13884920283840427,0.409044958708605,-0.3971362570896519,0.1959110640297315,0.5435566645427364,-0.4276608670208437,0.19189423452729715,0.5467450314930878,-0.34930255167076385,0.15865397913591503,-0.22448341946101202,-0.13701071803174492,-0.03529862556333427,0.05720729638879364,-0.3419593705746742,0.08508089055925636,0.19383773043914707,-0.41579387512289717,0.08469667236695691,0.24174435015284482,-0.39001206765958124,0.051818593600889584,-0.35543022571365773],[0.0801398669286045,-0.5086890023808546,-0.6885538239573478,-0.13662018431595488,-0.4394409110417331,-0.2633762988024038,-0.22968275930631163,-0.2542119048276841,-0.31048954947278784,0.07300636431854436,-0.10732531228293851,-0.3337260014183952,0.19750746271530323,-0.020975917126908588,-0.3435032381573,-0.2288154605743862,-0.6003552906634168,-0.34498125058090695,-0.3776443936534424,-0.1384561956522448,-0.3772520940807103,-0.42300753457258533,0.38241071097770785,-0.38292381348434934,-0.4106304803064869,0.49922642602372064,-0.3779696688606558,-0.10880530215425821,-0.5702849651450139,-0.3064540738624877,-0.20814157733067876,0.21944935764641174,-0.4057522691721009,-0.13662033470285442,0.9453707426104104,-0.3751954057704118,-0.06984693585691916,1.0,-0.3191769420078677,0.09661922601817141,-0.49558463248627455,-0.2079671077340524,0.132078274979565,0.06309040255325264,-0.215722934769622,-0.07348805893523538,0.47117482549846457,-0.11803703281673601,-0.1323094534486346,0.5737533455656648,-0.04350905263032665,0.18844291532136337,-0.4199118129430427,-0.06539969397875062,0.16286647295886947,-0.11562516449061683,-0.04432594593797927,-0.028665271090078364,0.07628720349249508,-0.015336419160681812,-0.1155550513225825,0.13349209979403379,0.00799618146207211,0.08862557385774626],[-0.22466470791867615,0.39578335098258627,0.00043405717059625854,-0.11972949624181156,0.2658197183826055,0.6781871711870996,0.0632559994761026,0.051987814707336606,0.7705063301516255,0.12676264801692055,-0.16711856891714671,0.8235966433112408,0.10491859642297777,-0.2611985205178947,0.8597008477841988,-0.11055964077669013,0.24529537355486705,0.8523629778567716,0.05012135739595023,-0.14669384124493814,0.9061996989208585,0.1535744356458643,-0.26844747224215587,0.9246887477022915,0.20839631947190257,-0.22988102201969274,0.936195670211471,-0.1709981328296068,0.22241158789109786,0.9108378895000235,0.10707736849826792,-0.2969092337138,0.9659426034802227,0.21364373539951523,-0.3803099785162653,0.9904052257111808,0.23190248704733668,-0.3191769420078677,1.0,-0.20208613676808693,0.13584620225098207,0.8848346602123208,-0.011680923147127457,-0.312008186128033,0.9177574782403445,0.07964925710619301,-0.3963856269803413,0.9301714653946705,0.09656295902547525,-0.3560441388532027,0.9037920199982837,-0.16401096560968628,0.04529000082135711,0.6955885776647557,-0.08988205218359377,-0.26796206370703285,0.7836444129050334,-0.030863900190276725,-0.34326566114174756,0.8160837775720282,-0.0072469581617546725,-0.3227504112087728,0.8067052235738551,-0.0362953145722632],[0.6490591041657952,-0.30559427862157806,-0.14627416810706026,0.4070090169579326,-0.31890777547129545,-0.40160261125890473,-0.08142299610788535,-0.23160225745667642,-0.3670470735335862,-0.39578392908910803,-0.0011797824677876848,-0.31332060212366103,-0.3620555165623743,0.17396639031600925,-0.25744021571635334,0.27567873626888,-0.2850378968031938,-0.37858895879031235,-0.15505631880967788,-0.09209178747559561,-0.34583063626264055,-0.3467221979751064,0.10815199251077252,-0.3148399246334885,-0.41339684593067,0.14962116226838754,-0.29189009652833164,0.693385994056434,-0.18334754424647115,-0.28775764208705795,-0.04891530515042231,0.11293435314358362,-0.2423235250731644,-0.28466115707378337,0.15404115964925075,-0.21738292625678782,-0.30008464137980156,0.09661922601817141,-0.20208613676808693,1.0,-0.06037828900693149,-0.11965252919947049,0.28818850302703936,0.20928752499844971,-0.11649069420236448,-0.01590980920357179,0.2187042822302538,-0.13436745751207524,-0.04839941350980373,0.15819137299481795,-0.13821147644474868,0.8168729880516505,0.03407078612302468,0.08717212679287395,0.4281840896061554,0.21431777900815288,0.03348744647730188,0.10617875032387375,0.14664545101402732,-0.019591792679775746,-0.024167975878927526,0.05579729306422756,-0.05387784663491502,0.04002454098839795],[0.0849892696617885,0.5923832323703394,0.45975680372646494,0.24463116808402718,0.3393541157218035,0.21984221391127495,0.2436613317060374,-0.04494836235621185,0.2756559635573408,-0.02303443806140344,-0.21577289831082236,0.29780146800894913,-0.12060937971421595,-0.266349227028347,0.29968879270765536,0.14511719265974063,0.7258234730735995,0.2830191327313654,0.11567080477806332,0.254298054895009,0.287502959596971,0.06257886419580272,-0.421793428541052,0.2931275899019734,0.01863345547947361,-0.6127301866098916,0.28516217807561867,0.056101985074385866,0.9378217746695631,0.21885320271971653,-0.05802656629112566,0.350036433795315,0.17972873027634156,-0.07890516142043702,-0.3338341892088392,0.1468980384429735,-0.10495244698928095,-0.49558463248627455,0.13584620225098207,-0.06037828900693149,1.0,0.0941913389974558,-0.203270159127374,0.5486743584564563,-0.02739797773964747,0.00380506785593237,0.176374764588987,-0.056911478404443175,0.056129751583558596,0.0012028786152832832,-0.030152050259604303,-0.09483557499492745,0.9588458775737394,-0.05343873892439312,-0.14923789912049584,0.6725990836999998,-0.15242125623124028,0.0008531165665051403,0.4294320312863818,-0.14152329168749153,0.05499265579455041,0.2787372670614781,-0.10030141149797593,-0.04192274617604386],[-0.1496519402952114,0.3432379733290487,-0.06859395851881235,-0.08504616693295074,0.2476659366497219,0.39549637670086973,0.03912010781704291,0.05355003502492309,0.5278529727025078,0.07842681005293697,-0.16374683727574352,0.6089646937391924,0.0612518081598951,-0.26212770752094144,0.6782582254071718,-0.10113185675767573,0.17481481338311633,0.7687856305046031,-0.02078525559885489,-0.2348265498587916,0.7991190891919837,0.057527297028943936,-0.2969187829254188,0.8012247186315853,0.10921159498525569,-0.21942589013197528,0.8080429009605032,-0.1175531002139522,0.16953563334138314,0.9165918445863037,0.0024847436253112045,-0.31424309089489694,0.8898667707494393,0.09666390851950053,-0.29112601042908487,0.8761330327474741,0.13884920283840427,-0.2079671077340524,0.8848346602123208,-0.11965252919947049,0.0941913389974558,1.0,-0.07915268719399303,-0.3280012474226611,0.9095612421623005,-0.0031077073272271646,-0.33120201621036816,0.891308466729141,0.02999765885888872,-0.2588691699183791,0.8785070538522712,-0.107172243893191,0.002924756686573333,0.8998725669266369,-0.11406310606417173,-0.30465186498893976,0.8737902823310708,-0.10082546100855112,-0.35766422116522634,0.8725413310810985,-0.08173663251003324,-0.3262988093002004,0.8627580036917325,0.004177294375105245],[-0.09316198046033433,-0.0585618417831138,-0.09097076066906133,-0.2618983097468883,-0.00029310515577449486,0.160704399944664,-0.3297949255120225,0.058448662029474,0.11379430749789374,-0.0065071863618896145,0.12120987819262564,0.07321004895863903,0.1763173690700525,0.1412649305359205,0.0424299812758323,-0.3199523625339442,-0.1821595556522163,0.04493132187967679,-0.196108090328185,-0.17745917139485176,0.041524294471826345,-0.10669334392089079,-0.01378969145426564,0.040323826653164134,-0.0607530624125993,0.0723854502241288,0.039129650320899566,-0.09118514928856453,-0.2034725535072913,-0.01015115729162286,0.3437574630466505,-0.13984190502408556,-0.01404048388383404,0.4429136351108025,0.057248499797084906,-0.011338413564382824,0.409044958708605,0.132078274979565,-0.011680923147127457,0.28818850302703936,-0.203270159127374,-0.07915268719399303,1.0,-0.17399958120088913,-0.009370477384435682,0.7998751680511252,-0.09765371719331505,0.014087585595165571,0.6674137334641933,-0.02431543744713151,0.013459918579405965,0.4453997170923257,-0.18765281993301017,-0.1396476158209962,0.7780732214568535,-0.20994248213505684,-0.04271907097228136,0.6816877889538892,-0.23542252162405194,-0.04066856192538969,0.5627833765197061,-0.2160743568609605,-0.0582987349544493,-0.35499541273174695],[0.48332927214276367,-0.17984691197083857,0.2344594292093014,0.4388520331437317,-0.3331257256672095,-0.173039743632788,0.07776677121197777,-0.3138564895097114,-0.17074440896183102,-0.2364024984353254,-0.05622833255915131,-0.15889734236374403,-0.2604574463794433,0.08111239231048992,-0.16381582364821334,0.08809247828049648,0.10701323161657268,-0.2837177949789999,-0.17797373582702541,0.5026722407318226,-0.24633968035808262,-0.33540527442438683,0.14401813770772798,-0.22373522587804137,-0.4124069133599467,-0.09696934659629527,-0.2244434392002864,0.13580304713328853,0.3577428404660609,-0.32519919651579055,-0.34457980532152044,0.8659430179890253,-0.29744277670948693,-0.40414168011365176,0.3369496274091498,-0.30152722949533745,-0.3971362570896519,0.06309040255325264,-0.312008186128033,0.20928752499844971,0.5486743584564563,-0.3280012474226611,-0.17399958120088913,1.0,-0.3610767379565042,-0.07907749530826716,0.7582875685188927,-0.37980262836547174,-0.043872624050297876,0.5231972559517216,-0.3593018404680317,0.23271664666973343,0.6341868423241862,-0.26189314278961423,0.08940392794805217,0.9273916901686547,-0.3412138970796702,0.12488579900919093,0.8020331275078229,-0.34865857054045996,0.12469686706856697,0.6339278954458124,-0.32321551415909483,0.13958662714865352],[-0.11896704446893708,0.19871107671263383,-0.06273316460817757,-0.09975542334224385,0.11161922586945389,0.524352796546772,-0.014447707053519878,0.025563378184632907,0.6149163529695698,0.09939937830741262,-0.10127205159341875,0.6788429426239818,0.11533076709427356,-0.17095113999705883,0.7262697122264441,-0.21518149451697285,0.10289145519168436,0.7179732143455626,-0.1020422012889586,-0.12306950763380495,0.7932507074445279,0.01879731916436523,-0.14254843430220057,0.8080963526582876,0.09767101667841357,-0.08672066052031001,0.815920072766467,-0.203242768990437,0.06495348150665202,0.8355862358785437,-0.020804806196752006,-0.25674253646387246,0.9216463837356762,0.1326840879553832,-0.28890896603959443,0.9311702672998694,0.1959110640297315,-0.215722934769622,0.9177574782403445,-0.11649069420236448,-0.02739797773964747,0.9095612421623005,-0.009370477384435682,-0.3610767379565042,1.0,0.025481986638640538,-0.4762694964213499,0.9705239732331603,0.045859645241527004,-0.43159877764217214,0.8849350297904478,-0.028764983829261556,-0.12110662785034725,0.8211871710194512,-0.01865706217525649,-0.35912070651164485,0.9345068075292183,-0.03831217515919616,-0.46216925954970867,0.9193080158167705,-0.028945404650163205,-0.4430108673296147,0.8546237550949625,-0.0420733544064886],[-0.05525719110874442,0.10478122921429574,0.0944571584967227,-0.05288684873289873,0.049612183037072835,0.309641760648677,-0.06821388725444116,-0.008682398089571908,0.26637819606962077,0.13801994488023053,0.05506477241430656,0.21530846201461742,0.22344541448747618,0.08136524745642382,0.17436263118257703,-0.37549366088817043,-0.10093771086402287,0.21332119027757337,-0.2184444556905572,-0.2305047761142732,0.20495986932818702,-0.07895911922255773,-0.18511994648380875,0.19964354406254306,-0.017282410129748724,-0.09794441367576245,0.19576383053650132,-0.30156213312157126,-0.0436821760439553,0.12779846326206779,0.19340314304246245,-0.16384169545507174,0.10808308669228682,0.5187361221103222,-0.14391067763566556,0.09165937971948278,0.5435566645427364,-0.07348805893523538,0.07964925710619301,-0.01590980920357179,0.00380506785593237,-0.0031077073272271646,0.7998751680511252,-0.07907749530826716,0.025481986638640538,1.0,-0.06788324140858712,0.04225096198869475,0.9718053857326729,0.0007885846228211566,0.05677785433569796,0.22354169663761056,0.038244328442057864,-0.14353811834317332,0.6312358088879922,-0.07828755878238454,-0.06385867450630683,0.7856206674107913,-0.16181383880622424,-0.05006241926803736,0.767372685376626,-0.15676427234188917,-0.04783801607633829,-0.440772404275759],[0.3663688696683788,-0.2940859761400856,-0.16397550443906708,0.3108049411782566,-0.36354018993463727,-0.3258825949992854,0.03426089136119603,-0.3351536891245445,-0.31765000004397487,-0.23849762135796912,-0.11999361655862478,-0.3040645128484629,-0.26649240621316284,0.0388400509677632,-0.29264063091600706,0.17856989864969597,-0.2420235623399861,-0.3788547053279686,-0.12114500831401186,0.10810831996690301,-0.38612033068186374,-0.32536894655909687,0.14725667033064768,-0.36396141048791797,-0.42620287684109365,0.07704280020384784,-0.3507223260009385,0.220445511138443,-0.032114818568934826,-0.38118743033493907,-0.2555839169115995,0.5623982406871328,-0.45386956222533975,-0.3990324372894925,0.6192553871194998,-0.4377945083354621,-0.4276608670208437,0.47117482549846457,-0.3963856269803413,0.2187042822302538,0.176374764588987,-0.33120201621036816,-0.09765371719331505,0.7582875685188927,-0.4762694964213499,-0.06788324140858712,1.0,-0.4091577032926295,-0.06895412147146172,0.9438475902942696,-0.27996828614061575,0.1513036053770097,0.3082704555888738,-0.20810324821489587,0.054093417768678244,0.6441350124321008,-0.34791622749332785,0.05431041175813969,0.770156002698492,-0.30257417489469646,0.01684091289415969,0.7240348837032637,-0.20947052745853345,0.2336828725049579],[-0.1581941477796986,0.2189002120520553,-0.16956325063547484,-0.13330028066899313,0.12961411494256783,0.5424624045027164,0.0045597126068525,0.01404990468951575,0.6231153586577652,0.16950793817750195,-0.14842855820869472,0.6781952581333688,0.184122472761496,-0.22426350340043522,0.7211707250662335,-0.20647476777303103,0.06692618803048773,0.7136420794603586,-0.10342602803845734,-0.1907560000090842,0.7765799609383504,0.0014367556646804028,-0.15957342547613726,0.7941483173370453,0.07346756517313519,-0.0791774621120539,0.8066383131248552,-0.20386312224417721,0.03062798737268106,0.8248802964291627,-0.01338374913781206,-0.2886282955866622,0.8862830844562983,0.13238826254625943,-0.20407874172355964,0.9178857052470901,0.19189423452729715,-0.11803703281673601,0.9301714653946705,-0.13436745751207524,-0.056911478404443175,0.891308466729141,0.014087585595165571,-0.37980262836547174,0.9705239732331603,0.04225096198869475,-0.4091577032926295,1.0,0.05491150283390866,-0.34432825573095704,0.9652085410948168,-0.060527087009193244,-0.1432132857254088,0.7976727977530258,-0.034110143057818613,-0.3871313119391923,0.9208313079584454,-0.05336121538555178,-0.44668810894410377,0.9475665328378013,-0.04996723434287253,-0.4157632066206349,0.9195452158481537,-0.05093438109339862],[0.0043100014327619295,0.130644011465757,0.1398384899745796,0.03757546765814334,0.04740714259551412,0.301201524105622,0.008112231382641574,-0.029266441305082252,0.26469889740569585,0.17586592759693215,0.04269029699345365,0.21793903768883438,0.24092471300680643,0.06725871611127326,0.18171584955558875,-0.36277048845567866,-0.08627534167167271,0.22933476433088942,-0.23765496492859825,-0.23200328686124722,0.21916610508186116,-0.09878921794293893,-0.2118599090800473,0.21190882825720167,-0.031670421590816115,-0.12455535237021696,0.20838537695164217,-0.31210741805856085,-0.006101851864501875,0.1532667431955484,0.10928277116630244,-0.15456864489409827,0.13154806833756535,0.48444219542025063,-0.1944266472242915,0.11096465648185724,0.5467450314930878,-0.1323094534486346,0.09656295902547525,-0.04839941350980373,0.056129751583558596,0.02999765885888872,0.6674137334641933,-0.043872624050297876,0.045859645241527004,0.9718053857326729,-0.06895412147146172,0.05491150283390866,1.0,-0.013160102805976653,0.06851915516824791,0.19697217876482892,0.09667266968297235,-0.1091515261498136,0.5457719689494938,-0.031472669169510185,-0.04228059697018349,0.7427616161545044,-0.14580617155295802,-0.034822564901401266,0.7638418098996462,-0.15724609068955928,-0.0342747089963168,-0.4567210874098394],[0.24903314068971175,-0.28430201016269124,-0.307807443395311,0.20253826875128392,-0.3253122844324125,-0.2935706575228454,0.002853197972550147,-0.31628041387119765,-0.28463138833855617,-0.2001652511468838,-0.1512989888696444,-0.2759249677561505,-0.21862255937955952,-0.004506547280399058,-0.26385109218060065,0.15074463702130705,-0.3480746462691631,-0.3195553339967804,-0.09551660011055496,-0.08991161205956866,-0.34548184619600736,-0.26953574981045386,0.11141993405752693,-0.3296036458565878,-0.3562596167415081,0.1370262833901867,-0.31369255348693836,0.17812451519813413,-0.1818866036232473,-0.3115241887613302,-0.18321406076660135,0.3275143191961517,-0.42170203807778806,-0.31286396119576804,0.6241608252397741,-0.40800458640420895,-0.34930255167076385,0.5737533455656648,-0.3560441388532027,0.15819137299481795,0.0012028786152832832,-0.2588691699183791,-0.02431543744713151,0.5231972559517216,-0.43159877764217214,0.0007885846228211566,0.9438475902942696,-0.34432825573095704,-0.013160102805976653,1.0,-0.19115675847902663,0.08695060165595189,0.1297125007369506,-0.1468404831920661,0.052100024459702285,0.40434915940773375,-0.2867544471056839,0.05409660545001018,0.6101157473216681,-0.22941080295976052,0.009285447685834393,0.6355602862729696,-0.12466621830987702,0.21313061042226536],[-0.18499543773899083,0.27846913103923343,-0.24452641157404545,-0.13541915544787775,0.18540032126943778,0.5016136226195662,0.0477803845369296,0.011871410515990412,0.5870888221269274,0.20540451750880875,-0.19815213074261676,0.6400250657499296,0.20166653444776492,-0.28081864857178257,0.6861829307976023,-0.14380419118903295,0.0617977024981602,0.7056204869597001,-0.06875430549839456,-0.2764696545689126,0.7433975780939985,0.001044016115574347,-0.2243771674544344,0.7601740951570389,0.05318060058909385,-0.12038149481634752,0.7772275125067896,-0.15877038234859595,0.041959274981788065,0.8174229921908389,0.003251821038183151,-0.32191471537788,0.8214940640560808,0.1138076238573377,-0.1390341745746378,0.8628666605438022,0.15865397913591503,-0.04350905263032665,0.9037920199982837,-0.13821147644474868,-0.030152050259604303,0.8785070538522712,0.013459918579405965,-0.3593018404680317,0.8849350297904478,0.05677785433569796,-0.27996828614061575,0.9652085410948168,0.06851915516824791,-0.19115675847902663,1.0,-0.10676356595769816,-0.10539208248515813,0.7799881832997705,-0.07248363054423863,-0.36962904931918694,0.8610074949361117,-0.07524728622543793,-0.3787168478035507,0.926866799457821,-0.07317889612616843,-0.33655312767114093,0.9502056083619445,-0.041534935130893194],[0.6763909335029866,-0.4128863423257238,-0.0877858025340177,0.279701389959855,-0.44543090105746547,-0.2220148143983463,-0.3620114902316763,-0.2648763759048275,-0.23012084413920192,-0.3520306522518283,0.04948873796071446,-0.21160954918351169,-0.12771915782776325,0.19217255949746395,-0.19096202357421693,-0.3016289858408647,-0.33938653621250275,-0.2878355619248211,-0.6208857459271616,-0.02272363347306085,-0.23656629057376322,-0.6596147922420825,0.12692628517974106,-0.2116913137131149,-0.624093733480137,0.15788029051843466,-0.19969025513002497,0.16071777420088115,-0.21650972229422083,-0.23206256535522982,-0.3717961044196074,0.2346903490868071,-0.16955995576791816,-0.3155314286702498,0.24119314704863765,-0.1578196654959417,-0.22448341946101202,0.18844291532136337,-0.16401096560968628,0.8168729880516505,-0.09483557499492745,-0.107172243893191,0.4453997170923257,0.23271664666973343,-0.028764983829261556,0.22354169663761056,0.1513036053770097,-0.060527087009193244,0.19697217876482892,0.08695060165595189,-0.10676356595769816,1.0,-0.016915030006735384,0.05177956030905316,0.7709908497208426,0.18624380897320977,0.06847563384814635,0.4579992971072429,0.06789993374805246,-0.00009128648235171087,0.3132417191412957,-0.020671793546637885,-0.0662392409841213,-0.004791808763590455],[0.2345159319743639,0.5248894395329192,0.3888155905288057,0.3879395049843804,0.2145688071970834,0.15121212557318356,0.3136116275262084,-0.19302921633923076,0.20067342531753474,-0.03755239311732481,-0.2852371574252922,0.22119030804768494,-0.16071129741553042,-0.26359038786964606,0.22367314338850713,0.20030854747744864,0.5243557269153353,0.18883829719282352,0.09046876699071099,0.14008206945536314,0.1850820696383973,0.004403728551955446,-0.394927466772897,0.19099751578984084,-0.05473110896791799,-0.5368460400255127,0.1865230689095539,0.13478136478580321,0.8061449283214114,0.12091213432677728,-0.09449201198442829,0.34854883832026745,0.08038044438919048,-0.11429471153317439,-0.2598341474500463,0.05184230477772238,-0.13701071803174492,-0.4199118129430427,0.04529000082135711,0.03407078612302468,0.9588458775737394,0.002924756686573333,-0.18765281993301017,0.6341868423241862,-0.12110662785034725,0.038244328442057864,0.3082704555888738,-0.1432132857254088,0.09667266968297235,0.1297125007369506,-0.10539208248515813,-0.016915030006735384,1.0,-0.11981249431262543,-0.11624032679529372,0.7920154965947216,-0.2253160085688475,0.028166432490276595,0.5599539820358501,-0.2120734839510559,0.07344632924469899,0.3930792208324661,-0.16439925871415753,-0.06194329331774977],[0.03776368966913875,0.08232786555930843,-0.1300680340966086,0.011947589023836,0.08745424698168222,0.03312823994605129,-0.020332604256367483,0.050614037681324206,0.1798392061898334,-0.0671074232200545,-0.04501751692504533,0.2967634434985006,-0.07185234799857805,-0.09226302321916978,0.4010236591595768,-0.035358987321619906,0.009446164448679798,0.41711607719412114,-0.10452482227682365,-0.23390719912397398,0.48682549113026363,-0.09719122696225863,-0.21985812039825176,0.5136216702740997,-0.07224813636304307,-0.13564373262055593,0.5341248108766181,0.033592579351518714,-0.0026840847284904656,0.6512437861586516,-0.12095878338808923,-0.23013843050500848,0.6653455994105756,-0.09198389256954739,-0.12706215519448608,0.6748728094566221,-0.03529862556333427,-0.06539969397875062,0.6955885776647557,0.08717212679287395,-0.05343873892439312,0.8998725669266369,-0.1396476158209962,-0.26189314278961423,0.8211871710194512,-0.14353811834317332,-0.20810324821489587,0.7976727977530258,-0.1091515261498136,-0.1468404831920661,0.7799881832997705,0.05177956030905316,-0.11981249431262543,1.0,-0.0733603741420447,-0.27778244617515396,0.9262255699947607,-0.1400523760724743,-0.2753227065463016,0.8994930218971704,-0.14166746938812905,-0.23711433705984414,0.875254667373799,0.10227056977486194],[0.270191358258416,-0.3066526239659594,0.023976858563004456,-0.07070224677962804,-0.26358980046294245,0.03131206271614504,-0.5154409061943486,-0.06749684670519802,-0.010485942246488838,-0.2607992771459985,0.17996551150808407,-0.03143095231099396,0.024769475276530895,0.24762538328934353,-0.05054475142809665,-0.5689595456196126,-0.2590549583199186,-0.108205312960889,-0.6145015816182213,-0.037228647675241144,-0.059367670204757875,-0.5379979879956978,0.024987585688378933,-0.04129160477242674,-0.4665422552155635,0.05247488376895873,-0.04018565047425543,-0.22861702277412985,-0.20598077454721125,-0.1269780219745748,-0.18971520241286915,0.13294689617637193,-0.07674502493018241,-0.003790016785741949,0.16400790171425797,-0.07480903620565961,0.05720729638879364,0.16286647295886947,-0.08988205218359377,0.4281840896061554,-0.14923789912049584,-0.11406310606417173,0.7780732214568535,0.08940392794805217,-0.01865706217525649,0.6312358088879922,0.054093417768678244,-0.034110143057818613,0.5457719689494938,0.052100024459702285,-0.07248363054423863,0.7709908497208426,-0.11624032679529372,-0.0733603741420447,1.0,0.013438103000008474,-0.013530339220944943,0.8669645348564189,-0.02498787766920546,-0.04821704434481654,0.7365529304097583,-0.02846420537427348,-0.09095587857623791,-0.13680648281417193],[0.49535534269572484,0.012005534963587439,0.3251876156899061,0.5112721679770762,-0.20491938548928335,-0.13525949014945998,0.19264260825756435,-0.3187449589581307,-0.12154612955305077,-0.2128112709292023,-0.1281784989751365,-0.10465965355754542,-0.289298384373012,0.005063925468809018,-0.10639791112150661,0.19154955948845584,0.161966324422808,-0.21552763219845827,-0.06134195480356079,0.34468350337962333,-0.19091762338378565,-0.21914679844346352,-0.039709687374972935,-0.17425804282053667,-0.30486686427235543,-0.23524948878312588,-0.17784682538040408,0.21145579086325422,0.44807836495481296,-0.2696836016215357,-0.26227764491558625,0.6910494782171741,-0.24712690118330272,-0.3343035277047444,0.12817607908145645,-0.25624057392005467,-0.3419593705746742,-0.11562516449061683,-0.26796206370703285,0.21431777900815288,0.6725990836999998,-0.30465186498893976,-0.20994248213505684,0.9273916901686547,-0.35912070651164485,-0.07828755878238454,0.6441350124321008,-0.3871313119391923,-0.031472669169510185,0.40434915940773375,-0.36962904931918694,0.18624380897320977,0.7920154965947216,-0.27778244617515396,0.013438103000008474,1.0,-0.3824300675617973,0.0890076541919711,0.8699639885957697,-0.3877831737948862,0.10929988427068094,0.698120128776511,-0.35492128146498364,0.06694803463508882],[0.004880619481344842,0.03746312255042451,-0.2107811813798754,-0.02687793216601058,0.004562733189008363,0.24420379775167325,-0.019261274435180872,-0.008237862700689266,0.34885752270722653,0.04279192483517352,-0.07611729468363244,0.43651326315766387,0.052391875247209896,-0.10556947112768678,0.5133407151401972,-0.14942391500611102,-0.05137797781580121,0.48438489967376247,-0.15859889963307652,-0.1935744007996554,0.5662993906617805,-0.096180196124985,-0.08489259903442334,0.5938479476390855,-0.03704658707127523,0.00625695614355468,0.6148105322995433,-0.07843816128305511,-0.0839252646222716,0.6754360295594721,-0.09930703818969518,-0.23916957521984475,0.749499024861444,0.009343107349488327,-0.11899253317362452,0.7749947588088621,0.08508089055925636,-0.04432594593797927,0.7836444129050334,0.03348744647730188,-0.15242125623124028,0.8737902823310708,-0.04271907097228136,-0.3412138970796702,0.9345068075292183,-0.06385867450630683,-0.34791622749332785,0.9208313079584454,-0.04228059697018349,-0.2867544471056839,0.8610074949361117,0.06847563384814635,-0.2253160085688475,0.9262255699947607,-0.013530339220944943,-0.3824300675617973,1.0,-0.10530827376370987,-0.44395020444840055,0.9797198625300272,-0.11874730054461768,-0.42146558841760784,0.9199639245523701,0.03139983282736414],[0.111683000597769,-0.1400380358276083,0.24405032724215117,-0.0537277967606448,-0.11038987275632824,0.16524170272166472,-0.3447628420771522,0.020624447070639665,0.12275431460170065,-0.17301860239579464,0.22389442658409864,0.09050891276801326,0.019913072547002017,0.25797936362233415,0.05524747136096407,-0.5347156691689982,-0.11346498877612714,0.02263271389634181,-0.4785016642672857,-0.028894162825115956,0.06964349911964514,-0.3879511379353441,-0.13767442527322887,0.08346966226598079,-0.3346727020397019,-0.13690539059044746,0.07698263031635924,-0.3707267978646754,-0.05323764048684327,-0.040430663848574536,-0.12678708148685988,0.09356211751497812,0.003955403173720995,0.14303503241254364,-0.028812820949433375,-0.006504674249145709,0.19383773043914707,-0.028665271090078364,-0.030863900190276725,0.10617875032387375,0.0008531165665051403,-0.10082546100855112,0.6816877889538892,0.12488579900919093,-0.03831217515919616,0.7856206674107913,0.05431041175813969,-0.05336121538555178,0.7427616161545044,0.05409660545001018,-0.07524728622543793,0.4579992971072429,0.028166432490276595,-0.1400523760724743,0.8669645348564189,0.0890076541919711,-0.10530827376370987,1.0,0.089140803528845,-0.11140379271456796,0.9695019094532884,0.12344458920464844,-0.11788088511402989,-0.22154811121402343],[0.3569408396462371,-0.11030990450632033,0.2411535499924269,0.35043678872138573,-0.19231984522172962,-0.25875436590449696,0.0755251229600899,-0.21241292341959545,-0.2444780426507756,-0.30961488437566853,-0.03214124487008507,-0.22178096980015163,-0.36703325121648506,0.08434110462142819,-0.2184695961534436,0.23975890310835954,0.012777246027122808,-0.3277731435271273,0.007700910847875502,0.20728647623226004,-0.3066515103399056,-0.18602937687517776,-0.0797069273392129,-0.28671510594801,-0.2997629186267731,-0.2228098760207112,-0.2896685731029839,0.22384306728253323,0.22628561557937352,-0.36271219396389665,-0.2103335706767403,0.559717048858582,-0.3644753570033351,-0.37250055920892156,0.26399132228514016,-0.3561935691422788,-0.41579387512289717,0.07628720349249508,-0.34326566114174756,0.14664545101402732,0.4294320312863818,-0.35766422116522634,-0.23542252162405194,0.8020331275078229,-0.46216925954970867,-0.16181383880622424,0.770156002698492,-0.44668810894410377,-0.14580617155295802,0.6101157473216681,-0.3787168478035507,0.06789993374805246,0.5599539820358501,-0.2753227065463016,-0.02498787766920546,0.8699639885957697,-0.44395020444840055,0.089140803528845,1.0,-0.4092112607239839,0.11505967906133982,0.9552913380943215,-0.32334713444238206,0.1666503506457617],[-0.05502794333563483,0.08880092005783864,-0.24992242358691422,-0.06080000822480548,0.045085844306594916,0.2974257637355813,0.00786124707204586,-0.00837575730849517,0.3961984503265676,0.08558708397553515,-0.11657082724475833,0.4759218437217452,0.08217372725284261,-0.15494879727136956,0.5462205851609747,-0.1279527045535303,-0.04145347917772104,0.5222600143221793,-0.12112857064220417,-0.23337249331107496,0.5931675530620432,-0.06801471772505974,-0.1205086377922929,0.6202493736765524,-0.017199893447688963,-0.019939578103555608,0.6425376105833672,-0.08851292641575594,-0.07317920707548793,0.6982181974792951,-0.072278649783758,-0.2703813457508469,0.7539525995483306,0.021733451402822054,-0.09797680316526682,0.7915734107535161,0.08469667236695691,-0.015336419160681812,0.8160837775720282,-0.019591792679775746,-0.14152329168749153,0.8725413310810985,-0.04066856192538969,-0.34865857054045996,0.9193080158167705,-0.05006241926803736,-0.30257417489469646,0.9475665328378013,-0.034822564901401266,-0.22941080295976052,0.926866799457821,-0.00009128648235171087,-0.2120734839510559,0.8994930218971704,-0.04821704434481654,-0.3877831737948862,0.9797198625300272,-0.11140379271456796,-0.4092112607239839,1.0,-0.12065574763897562,-0.37181429217465634,0.9768311536020573,0.03461090382750246],[0.05081963953491255,-0.07331680826808225,0.33622852651211554,-0.03979081454267022,-0.0368354174170487,0.19134729695862998,-0.25583099390605324,0.08267537891293586,0.1510910060179084,-0.10813087181133382,0.26180939087400645,0.11751560502412921,0.04325923115525825,0.2676428536138458,0.07889001397191502,-0.49280919005866464,-0.04007720667411433,0.06313199408314449,-0.40797675871878053,-0.0046933045898599965,0.10805369508950059,-0.3194173150345509,-0.18916013335226858,0.11733097602972031,-0.27382543650377905,-0.20226421453429813,0.10682266504857484,-0.4048766259749672,0.011828284281176443,-0.006184390411056718,-0.11482555078769913,0.08211309951235277,0.03780190399948381,0.18082236407352267,-0.11426401230535146,0.021805094915051965,0.24174435015284482,-0.1155550513225825,-0.0072469581617546725,-0.024167975878927526,0.05499265579455041,-0.08173663251003324,0.5627833765197061,0.12469686706856697,-0.028945404650163205,0.767372685376626,0.01684091289415969,-0.04996723434287253,0.7638418098996462,0.009285447685834393,-0.07317889612616843,0.3132417191412957,0.07344632924469899,-0.14166746938812905,0.7365529304097583,0.10929988427068094,-0.11874730054461768,0.9695019094532884,0.11505967906133982,-0.12065574763897562,1.0,0.15911354612490444,-0.11958304271085965,-0.2698852036085557],[0.22214290712726026,-0.14221052875861206,0.21572417975220706,0.21148922265858947,-0.14704870334246664,-0.2549777424806243,-0.010629652290706912,-0.12165748653254492,-0.24092595491060242,-0.34468413918030705,0.032379811614140976,-0.21837651464439986,-0.3806972443701691,0.12271467836378831,-0.2162973486457234,0.20848728246807208,-0.03353587493181296,-0.31480317661403406,0.03948321741049908,0.1153037971497927,-0.2925061758884472,-0.13706770998133,-0.1311135364753443,-0.2737336967558363,-0.2482059735420437,-0.23228383494580004,-0.27832148756081765,0.16345911990420667,0.11653018766063314,-0.3418526319144081,-0.15944176215945866,0.4152380114883935,-0.35148887544696844,-0.33286882381446325,0.2596800023047843,-0.34100543453629034,-0.39001206765958124,0.13349209979403379,-0.3227504112087728,0.05579729306422756,0.2787372670614781,-0.3262988093002004,-0.2160743568609605,0.6339278954458124,-0.4430108673296147,-0.15676427234188917,0.7240348837032637,-0.4157632066206349,-0.15724609068955928,0.6355602862729696,-0.33655312767114093,-0.020671793546637885,0.3930792208324661,-0.23711433705984414,-0.02846420537427348,0.698120128776511,-0.42146558841760784,0.12344458920464844,0.9552913380943215,-0.37181429217465634,0.15911354612490444,1.0,-0.26917406441129293,0.1871570860327227],[-0.09714068229190682,0.15133444637797563,-0.2626310239952105,-0.07504289487861698,0.10641826349987775,0.28811764948726554,0.0377879405665791,0.006604537302879827,0.39064040427728214,0.09801305167948476,-0.14365182300546062,0.46826302459114844,0.0773388955578965,-0.1938959488747527,0.5380153605434661,-0.07535243472610471,-0.017902890336082947,0.534116887598574,-0.07135716708160385,-0.28117400663063236,0.5878122058866382,-0.04356990064726299,-0.18938309831244748,0.6129673123497413,-0.010870933533563533,-0.08172492359459657,0.636250987069108,-0.06696790435162478,-0.0403366654081907,0.7031037180840988,-0.0519061484331135,-0.29189490275242697,0.7206629199389462,0.006738591283731043,-0.07807075060974936,0.7636260193478643,0.051818593600889584,0.00799618146207211,0.8067052235738551,-0.05387784663491502,-0.10030141149797593,0.8627580036917325,-0.0582987349544493,-0.32321551415909483,0.8546237550949625,-0.04783801607633829,-0.20947052745853345,0.9195452158481537,-0.0342747089963168,-0.12466621830987702,0.9502056083619445,-0.0662392409841213,-0.16439925871415753,0.875254667373799,-0.09095587857623791,-0.35492128146498364,0.9199639245523701,-0.11788088511402989,-0.32334713444238206,0.9768311536020573,-0.11958304271085965,-0.26917406441129293,1.0,0.051471494693256396],[0.11626259320283232,-0.17551837160165745,-0.022396334334943896,0.014646169874653487,-0.16493938210622508,-0.1615119050873901,-0.14961958438908543,-0.08734689216144985,-0.13985111903058822,-0.33216737219394094,-0.08597861135852845,-0.11062454502105036,-0.3174580152198961,-0.07719438084950893,-0.08748431142803563,0.07099844462637966,-0.002573558604524971,-0.1272445839530613,0.010302113527374673,0.16527972962333015,-0.09909627641549963,-0.010662021845977525,0.09338399097331336,-0.07789329770958738,-0.017454249472829655,0.011767387035268657,-0.06715932726365823,0.07664317183006607,-0.02517618724001335,-0.08011534218312331,-0.19248741412451403,0.14614701590068788,-0.059785948480954906,-0.3334157805689246,0.15107378541895444,-0.04643211984060773,-0.35543022571365773,0.08862557385774626,-0.0362953145722632,0.04002454098839795,-0.04192274617604386,0.004177294375105245,-0.35499541273174695,0.13958662714865352,-0.0420733544064886,-0.440772404275759,0.2336828725049579,-0.05093438109339862,-0.4567210874098394,0.21313061042226536,-0.041534935130893194,-0.004791808763590455,-0.06194329331774977,0.10227056977486194,-0.13680648281417193,0.06694803463508882,0.03139983282736414,-0.22154811121402343,0.1666503506457617,0.03461090382750246,-0.2698852036085557,0.1871570860327227,0.051471494693256396,1.0]],\"zmax\":1,\"zmin\":-1,\"type\":\"heatmap\"}],                        {\"template\":{\"data\":{\"histogram2dcontour\":[{\"type\":\"histogram2dcontour\",\"colorbar\":{\"outlinewidth\":0,\"ticks\":\"\"},\"colorscale\":[[0.0,\"#0d0887\"],[0.1111111111111111,\"#46039f\"],[0.2222222222222222,\"#7201a8\"],[0.3333333333333333,\"#9c179e\"],[0.4444444444444444,\"#bd3786\"],[0.5555555555555556,\"#d8576b\"],[0.6666666666666666,\"#ed7953\"],[0.7777777777777778,\"#fb9f3a\"],[0.8888888888888888,\"#fdca26\"],[1.0,\"#f0f921\"]]}],\"choropleth\":[{\"type\":\"choropleth\",\"colorbar\":{\"outlinewidth\":0,\"ticks\":\"\"}}],\"histogram2d\":[{\"type\":\"histogram2d\",\"colorbar\":{\"outlinewidth\":0,\"ticks\":\"\"},\"colorscale\":[[0.0,\"#0d0887\"],[0.1111111111111111,\"#46039f\"],[0.2222222222222222,\"#7201a8\"],[0.3333333333333333,\"#9c179e\"],[0.4444444444444444,\"#bd3786\"],[0.5555555555555556,\"#d8576b\"],[0.6666666666666666,\"#ed7953\"],[0.7777777777777778,\"#fb9f3a\"],[0.8888888888888888,\"#fdca26\"],[1.0,\"#f0f921\"]]}],\"heatmap\":[{\"type\":\"heatmap\",\"colorbar\":{\"outlinewidth\":0,\"ticks\":\"\"},\"colorscale\":[[0.0,\"#0d0887\"],[0.1111111111111111,\"#46039f\"],[0.2222222222222222,\"#7201a8\"],[0.3333333333333333,\"#9c179e\"],[0.4444444444444444,\"#bd3786\"],[0.5555555555555556,\"#d8576b\"],[0.6666666666666666,\"#ed7953\"],[0.7777777777777778,\"#fb9f3a\"],[0.8888888888888888,\"#fdca26\"],[1.0,\"#f0f921\"]]}],\"heatmapgl\":[{\"type\":\"heatmapgl\",\"colorbar\":{\"outlinewidth\":0,\"ticks\":\"\"},\"colorscale\":[[0.0,\"#0d0887\"],[0.1111111111111111,\"#46039f\"],[0.2222222222222222,\"#7201a8\"],[0.3333333333333333,\"#9c179e\"],[0.4444444444444444,\"#bd3786\"],[0.5555555555555556,\"#d8576b\"],[0.6666666666666666,\"#ed7953\"],[0.7777777777777778,\"#fb9f3a\"],[0.8888888888888888,\"#fdca26\"],[1.0,\"#f0f921\"]]}],\"contourcarpet\":[{\"type\":\"contourcarpet\",\"colorbar\":{\"outlinewidth\":0,\"ticks\":\"\"}}],\"contour\":[{\"type\":\"contour\",\"colorbar\":{\"outlinewidth\":0,\"ticks\":\"\"},\"colorscale\":[[0.0,\"#0d0887\"],[0.1111111111111111,\"#46039f\"],[0.2222222222222222,\"#7201a8\"],[0.3333333333333333,\"#9c179e\"],[0.4444444444444444,\"#bd3786\"],[0.5555555555555556,\"#d8576b\"],[0.6666666666666666,\"#ed7953\"],[0.7777777777777778,\"#fb9f3a\"],[0.8888888888888888,\"#fdca26\"],[1.0,\"#f0f921\"]]}],\"surface\":[{\"type\":\"surface\",\"colorbar\":{\"outlinewidth\":0,\"ticks\":\"\"},\"colorscale\":[[0.0,\"#0d0887\"],[0.1111111111111111,\"#46039f\"],[0.2222222222222222,\"#7201a8\"],[0.3333333333333333,\"#9c179e\"],[0.4444444444444444,\"#bd3786\"],[0.5555555555555556,\"#d8576b\"],[0.6666666666666666,\"#ed7953\"],[0.7777777777777778,\"#fb9f3a\"],[0.8888888888888888,\"#fdca26\"],[1.0,\"#f0f921\"]]}],\"mesh3d\":[{\"type\":\"mesh3d\",\"colorbar\":{\"outlinewidth\":0,\"ticks\":\"\"}}],\"scatter\":[{\"fillpattern\":{\"fillmode\":\"overlay\",\"size\":10,\"solidity\":0.2},\"type\":\"scatter\"}],\"parcoords\":[{\"type\":\"parcoords\",\"line\":{\"colorbar\":{\"outlinewidth\":0,\"ticks\":\"\"}}}],\"scatterpolargl\":[{\"type\":\"scatterpolargl\",\"marker\":{\"colorbar\":{\"outlinewidth\":0,\"ticks\":\"\"}}}],\"bar\":[{\"error_x\":{\"color\":\"#2a3f5f\"},\"error_y\":{\"color\":\"#2a3f5f\"},\"marker\":{\"line\":{\"color\":\"#E5ECF6\",\"width\":0.5},\"pattern\":{\"fillmode\":\"overlay\",\"size\":10,\"solidity\":0.2}},\"type\":\"bar\"}],\"scattergeo\":[{\"type\":\"scattergeo\",\"marker\":{\"colorbar\":{\"outlinewidth\":0,\"ticks\":\"\"}}}],\"scatterpolar\":[{\"type\":\"scatterpolar\",\"marker\":{\"colorbar\":{\"outlinewidth\":0,\"ticks\":\"\"}}}],\"histogram\":[{\"marker\":{\"pattern\":{\"fillmode\":\"overlay\",\"size\":10,\"solidity\":0.2}},\"type\":\"histogram\"}],\"scattergl\":[{\"type\":\"scattergl\",\"marker\":{\"colorbar\":{\"outlinewidth\":0,\"ticks\":\"\"}}}],\"scatter3d\":[{\"type\":\"scatter3d\",\"line\":{\"colorbar\":{\"outlinewidth\":0,\"ticks\":\"\"}},\"marker\":{\"colorbar\":{\"outlinewidth\":0,\"ticks\":\"\"}}}],\"scattermapbox\":[{\"type\":\"scattermapbox\",\"marker\":{\"colorbar\":{\"outlinewidth\":0,\"ticks\":\"\"}}}],\"scatterternary\":[{\"type\":\"scatterternary\",\"marker\":{\"colorbar\":{\"outlinewidth\":0,\"ticks\":\"\"}}}],\"scattercarpet\":[{\"type\":\"scattercarpet\",\"marker\":{\"colorbar\":{\"outlinewidth\":0,\"ticks\":\"\"}}}],\"carpet\":[{\"aaxis\":{\"endlinecolor\":\"#2a3f5f\",\"gridcolor\":\"white\",\"linecolor\":\"white\",\"minorgridcolor\":\"white\",\"startlinecolor\":\"#2a3f5f\"},\"baxis\":{\"endlinecolor\":\"#2a3f5f\",\"gridcolor\":\"white\",\"linecolor\":\"white\",\"minorgridcolor\":\"white\",\"startlinecolor\":\"#2a3f5f\"},\"type\":\"carpet\"}],\"table\":[{\"cells\":{\"fill\":{\"color\":\"#EBF0F8\"},\"line\":{\"color\":\"white\"}},\"header\":{\"fill\":{\"color\":\"#C8D4E3\"},\"line\":{\"color\":\"white\"}},\"type\":\"table\"}],\"barpolar\":[{\"marker\":{\"line\":{\"color\":\"#E5ECF6\",\"width\":0.5},\"pattern\":{\"fillmode\":\"overlay\",\"size\":10,\"solidity\":0.2}},\"type\":\"barpolar\"}],\"pie\":[{\"automargin\":true,\"type\":\"pie\"}]},\"layout\":{\"autotypenumbers\":\"strict\",\"colorway\":[\"#636efa\",\"#EF553B\",\"#00cc96\",\"#ab63fa\",\"#FFA15A\",\"#19d3f3\",\"#FF6692\",\"#B6E880\",\"#FF97FF\",\"#FECB52\"],\"font\":{\"color\":\"#2a3f5f\"},\"hovermode\":\"closest\",\"hoverlabel\":{\"align\":\"left\"},\"paper_bgcolor\":\"white\",\"plot_bgcolor\":\"#E5ECF6\",\"polar\":{\"bgcolor\":\"#E5ECF6\",\"angularaxis\":{\"gridcolor\":\"white\",\"linecolor\":\"white\",\"ticks\":\"\"},\"radialaxis\":{\"gridcolor\":\"white\",\"linecolor\":\"white\",\"ticks\":\"\"}},\"ternary\":{\"bgcolor\":\"#E5ECF6\",\"aaxis\":{\"gridcolor\":\"white\",\"linecolor\":\"white\",\"ticks\":\"\"},\"baxis\":{\"gridcolor\":\"white\",\"linecolor\":\"white\",\"ticks\":\"\"},\"caxis\":{\"gridcolor\":\"white\",\"linecolor\":\"white\",\"ticks\":\"\"}},\"coloraxis\":{\"colorbar\":{\"outlinewidth\":0,\"ticks\":\"\"}},\"colorscale\":{\"sequential\":[[0.0,\"#0d0887\"],[0.1111111111111111,\"#46039f\"],[0.2222222222222222,\"#7201a8\"],[0.3333333333333333,\"#9c179e\"],[0.4444444444444444,\"#bd3786\"],[0.5555555555555556,\"#d8576b\"],[0.6666666666666666,\"#ed7953\"],[0.7777777777777778,\"#fb9f3a\"],[0.8888888888888888,\"#fdca26\"],[1.0,\"#f0f921\"]],\"sequentialminus\":[[0.0,\"#0d0887\"],[0.1111111111111111,\"#46039f\"],[0.2222222222222222,\"#7201a8\"],[0.3333333333333333,\"#9c179e\"],[0.4444444444444444,\"#bd3786\"],[0.5555555555555556,\"#d8576b\"],[0.6666666666666666,\"#ed7953\"],[0.7777777777777778,\"#fb9f3a\"],[0.8888888888888888,\"#fdca26\"],[1.0,\"#f0f921\"]],\"diverging\":[[0,\"#8e0152\"],[0.1,\"#c51b7d\"],[0.2,\"#de77ae\"],[0.3,\"#f1b6da\"],[0.4,\"#fde0ef\"],[0.5,\"#f7f7f7\"],[0.6,\"#e6f5d0\"],[0.7,\"#b8e186\"],[0.8,\"#7fbc41\"],[0.9,\"#4d9221\"],[1,\"#276419\"]]},\"xaxis\":{\"gridcolor\":\"white\",\"linecolor\":\"white\",\"ticks\":\"\",\"title\":{\"standoff\":15},\"zerolinecolor\":\"white\",\"automargin\":true,\"zerolinewidth\":2},\"yaxis\":{\"gridcolor\":\"white\",\"linecolor\":\"white\",\"ticks\":\"\",\"title\":{\"standoff\":15},\"zerolinecolor\":\"white\",\"automargin\":true,\"zerolinewidth\":2},\"scene\":{\"xaxis\":{\"backgroundcolor\":\"#E5ECF6\",\"gridcolor\":\"white\",\"linecolor\":\"white\",\"showbackground\":true,\"ticks\":\"\",\"zerolinecolor\":\"white\",\"gridwidth\":2},\"yaxis\":{\"backgroundcolor\":\"#E5ECF6\",\"gridcolor\":\"white\",\"linecolor\":\"white\",\"showbackground\":true,\"ticks\":\"\",\"zerolinecolor\":\"white\",\"gridwidth\":2},\"zaxis\":{\"backgroundcolor\":\"#E5ECF6\",\"gridcolor\":\"white\",\"linecolor\":\"white\",\"showbackground\":true,\"ticks\":\"\",\"zerolinecolor\":\"white\",\"gridwidth\":2}},\"shapedefaults\":{\"line\":{\"color\":\"#2a3f5f\"}},\"annotationdefaults\":{\"arrowcolor\":\"#2a3f5f\",\"arrowhead\":0,\"arrowwidth\":1},\"geo\":{\"bgcolor\":\"white\",\"landcolor\":\"#E5ECF6\",\"subunitcolor\":\"white\",\"showland\":true,\"showlakes\":true,\"lakecolor\":\"white\"},\"title\":{\"x\":0.05},\"mapbox\":{\"style\":\"light\"}}},\"xaxis\":{\"side\":\"top\",\"title\":{\"text\":\"Features\"}},\"yaxis\":{\"title\":{\"text\":\"Features\"}}},                        {\"responsive\": true}                    ).then(function(){\n",
       "                            \n",
       "var gd = document.getElementById('3b58d100-2075-495d-a8b2-4074cd042602');\n",
       "var x = new MutationObserver(function (mutations, observer) {{\n",
       "        var display = window.getComputedStyle(gd).display;\n",
       "        if (!display || display === 'none') {{\n",
       "            console.log([gd, 'removed!']);\n",
       "            Plotly.purge(gd);\n",
       "            observer.disconnect();\n",
       "        }}\n",
       "}});\n",
       "\n",
       "// Listen for the removal of the full notebook cells\n",
       "var notebookContainer = gd.closest('#notebook-container');\n",
       "if (notebookContainer) {{\n",
       "    x.observe(notebookContainer, {childList: true});\n",
       "}}\n",
       "\n",
       "// Listen for the clearing of the current output cell\n",
       "var outputEl = gd.closest('.output');\n",
       "if (outputEl) {{\n",
       "    x.observe(outputEl, {childList: true});\n",
       "}}\n",
       "\n",
       "                        })                };                });            </script>        </div>"
      ]
     },
     "metadata": {},
     "output_type": "display_data"
    }
   ],
   "source": [
    "correlation_matrix = df.corr(numeric_only=True)\n",
    "\n",
    "fig = go.Figure(data=go.Heatmap(\n",
    "                   z = correlation_matrix,\n",
    "                   x = correlation_matrix.columns,\n",
    "                   y = correlation_matrix.index,\n",
    "                   hoverongaps = False,\n",
    "                   xgap = 1,\n",
    "                   ygap = 1,\n",
    "                   zmin = -1,\n",
    "                   zmax = 1,\n",
    "    colorscale = 'rdbu_r'\n",
    "))\n",
    "\n",
    "fig.update_xaxes(side=\"top\")\n",
    "fig.update_layout(xaxis_title = \"Features\", yaxis_title = \"Features\")\n",
    "fig.show()"
   ]
  },
  {
   "cell_type": "markdown",
   "id": "475969b5-ffe4-4742-92e6-72c8be31d2b0",
   "metadata": {},
   "source": [
    "**Constant Baseline**"
   ]
  },
  {
   "cell_type": "code",
   "execution_count": 11,
   "id": "f40559b0-0e12-421e-95f9-2a01542a995e",
   "metadata": {},
   "outputs": [],
   "source": [
    "from sklearn import metrics, model_selection, ensemble"
   ]
  },
  {
   "cell_type": "code",
   "execution_count": 9,
   "id": "2c4e4bfd-18af-4c6f-9aab-571eb8276b6b",
   "metadata": {},
   "outputs": [
    {
     "data": {
      "text/plain": [
       "label\n",
       "5     2911\n",
       "10    2728\n",
       "9     2617\n",
       "24    2611\n",
       "18    2585\n",
       "21    2578\n",
       "17    2571\n",
       "11    2555\n",
       "20    2544\n",
       "3     2486\n",
       "22    2482\n",
       "6     2469\n",
       "7     2420\n",
       "8     2415\n",
       "25    2382\n",
       "19    2372\n",
       "4     2331\n",
       "14    2294\n",
       "1     2233\n",
       "0     2222\n",
       "23    2185\n",
       "16    2127\n",
       "15    2066\n",
       "2     2008\n",
       "26    1708\n",
       "27    1651\n",
       "12    1615\n",
       "13    1322\n",
       "Name: count, dtype: int64"
      ]
     },
     "execution_count": 9,
     "metadata": {},
     "output_type": "execute_result"
    }
   ],
   "source": [
    "df.label.value_counts()"
   ]
  },
  {
   "cell_type": "code",
   "execution_count": 13,
   "id": "f97df4a0-3963-47eb-9371-f49b5b69d23f",
   "metadata": {},
   "outputs": [
    {
     "data": {
      "text/plain": [
       "0.04514018111896787"
      ]
     },
     "execution_count": 13,
     "metadata": {},
     "output_type": "execute_result"
    }
   ],
   "source": [
    "const_score = metrics.accuracy_score(df.label, [5]*df.shape[0])\n",
    "const_score"
   ]
  },
  {
   "cell_type": "code",
   "execution_count": 14,
   "id": "e6fba1fa-40b8-4ee1-8b5d-b004d2e317e6",
   "metadata": {},
   "outputs": [
    {
     "name": "stdout",
     "output_type": "stream",
     "text": [
      "              precision    recall  f1-score   support\n",
      "\n",
      "           0       0.00      0.00      0.00      2222\n",
      "           1       0.00      0.00      0.00      2233\n",
      "           2       0.00      0.00      0.00      2008\n",
      "           3       0.00      0.00      0.00      2486\n",
      "           4       0.00      0.00      0.00      2331\n",
      "           5       0.05      1.00      0.09      2911\n",
      "           6       0.00      0.00      0.00      2469\n",
      "           7       0.00      0.00      0.00      2420\n",
      "           8       0.00      0.00      0.00      2415\n",
      "           9       0.00      0.00      0.00      2617\n",
      "          10       0.00      0.00      0.00      2728\n",
      "          11       0.00      0.00      0.00      2555\n",
      "          12       0.00      0.00      0.00      1615\n",
      "          13       0.00      0.00      0.00      1322\n",
      "          14       0.00      0.00      0.00      2294\n",
      "          15       0.00      0.00      0.00      2066\n",
      "          16       0.00      0.00      0.00      2127\n",
      "          17       0.00      0.00      0.00      2571\n",
      "          18       0.00      0.00      0.00      2585\n",
      "          19       0.00      0.00      0.00      2372\n",
      "          20       0.00      0.00      0.00      2544\n",
      "          21       0.00      0.00      0.00      2578\n",
      "          22       0.00      0.00      0.00      2482\n",
      "          23       0.00      0.00      0.00      2185\n",
      "          24       0.00      0.00      0.00      2611\n",
      "          25       0.00      0.00      0.00      2382\n",
      "          26       0.00      0.00      0.00      1708\n",
      "          27       0.00      0.00      0.00      1651\n",
      "\n",
      "    accuracy                           0.05     64488\n",
      "   macro avg       0.00      0.04      0.00     64488\n",
      "weighted avg       0.00      0.05      0.00     64488\n",
      "\n"
     ]
    },
    {
     "name": "stderr",
     "output_type": "stream",
     "text": [
      "/Users/berkekadioglu/Documents/Virtual Environments/m13_iml/lib/python3.12/site-packages/sklearn/metrics/_classification.py:1531: UndefinedMetricWarning:\n",
      "\n",
      "Precision is ill-defined and being set to 0.0 in labels with no predicted samples. Use `zero_division` parameter to control this behavior.\n",
      "\n",
      "/Users/berkekadioglu/Documents/Virtual Environments/m13_iml/lib/python3.12/site-packages/sklearn/metrics/_classification.py:1531: UndefinedMetricWarning:\n",
      "\n",
      "Precision is ill-defined and being set to 0.0 in labels with no predicted samples. Use `zero_division` parameter to control this behavior.\n",
      "\n",
      "/Users/berkekadioglu/Documents/Virtual Environments/m13_iml/lib/python3.12/site-packages/sklearn/metrics/_classification.py:1531: UndefinedMetricWarning:\n",
      "\n",
      "Precision is ill-defined and being set to 0.0 in labels with no predicted samples. Use `zero_division` parameter to control this behavior.\n",
      "\n"
     ]
    }
   ],
   "source": [
    "print(metrics.classification_report(df.label, [5]*df.shape[0]))"
   ]
  },
  {
   "cell_type": "markdown",
   "id": "7f35761e-5bdb-4b99-8586-debccb6a3340",
   "metadata": {},
   "source": [
    "**Baseline with default model**"
   ]
  },
  {
   "cell_type": "code",
   "execution_count": 18,
   "id": "36ac0c24-5686-4cb7-8ad2-79d504545e6b",
   "metadata": {},
   "outputs": [],
   "source": [
    "model = ensemble.RandomForestClassifier(random_state = 128)"
   ]
  },
  {
   "cell_type": "code",
   "execution_count": 19,
   "id": "66d368c5-63f7-4966-942d-69fd7edbbe2d",
   "metadata": {},
   "outputs": [],
   "source": [
    "X_cols = [col for col in df.columns if col != 'label']"
   ]
  },
  {
   "cell_type": "code",
   "execution_count": 20,
   "id": "f85fb1c9-3062-4c30-9c4b-b6d5a6cad352",
   "metadata": {},
   "outputs": [],
   "source": [
    "numeric_baseline_score = model_selection.cross_val_score(\n",
    "    model,\n",
    "    X = df[X_cols],\n",
    "    y = df.label,\n",
    "    cv = 5,\n",
    "    scoring = 'accuracy'\n",
    "    )"
   ]
  },
  {
   "cell_type": "code",
   "execution_count": 21,
   "id": "a0f9b1ec-f24e-4172-9ca0-fc3fecd52f63",
   "metadata": {},
   "outputs": [
    {
     "data": {
      "text/plain": [
       "(0.9866949744948326, 0.01038760292197208)"
      ]
     },
     "execution_count": 21,
     "metadata": {},
     "output_type": "execute_result"
    }
   ],
   "source": [
    "numeric_baseline_score.mean(), numeric_baseline_score.std()"
   ]
  },
  {
   "cell_type": "markdown",
   "id": "70d1aed0-035d-488b-8191-32aa26a1420c",
   "metadata": {},
   "source": [
    "**Model Explanation**"
   ]
  },
  {
   "cell_type": "code",
   "execution_count": 22,
   "id": "06aa809c-1123-4d1c-b3f2-eb1a79db5a4c",
   "metadata": {},
   "outputs": [],
   "source": [
    "import shap"
   ]
  },
  {
   "cell_type": "code",
   "execution_count": 23,
   "id": "4862a558-2076-4143-935b-725665749de5",
   "metadata": {},
   "outputs": [],
   "source": [
    "X_train, X_test, y_train, y_test = model_selection.train_test_split(df[X_cols],\n",
    "                                                    df.label,\n",
    "                                                    test_size = 0.33,\n",
    "                                                    random_state = 942)"
   ]
  },
  {
   "cell_type": "code",
   "execution_count": 24,
   "id": "db6a2804-52e2-422a-b35e-3350d4eb404d",
   "metadata": {},
   "outputs": [],
   "source": [
    "model = ensemble.RandomForestClassifier(random_state = 128)"
   ]
  },
  {
   "cell_type": "code",
   "execution_count": 25,
   "id": "6244b98e-f81a-4f82-8920-9bbb7c6ea3f6",
   "metadata": {},
   "outputs": [
    {
     "data": {
      "text/html": [
       "<style>#sk-container-id-1 {\n",
       "  /* Definition of color scheme common for light and dark mode */\n",
       "  --sklearn-color-text: black;\n",
       "  --sklearn-color-line: gray;\n",
       "  /* Definition of color scheme for unfitted estimators */\n",
       "  --sklearn-color-unfitted-level-0: #fff5e6;\n",
       "  --sklearn-color-unfitted-level-1: #f6e4d2;\n",
       "  --sklearn-color-unfitted-level-2: #ffe0b3;\n",
       "  --sklearn-color-unfitted-level-3: chocolate;\n",
       "  /* Definition of color scheme for fitted estimators */\n",
       "  --sklearn-color-fitted-level-0: #f0f8ff;\n",
       "  --sklearn-color-fitted-level-1: #d4ebff;\n",
       "  --sklearn-color-fitted-level-2: #b3dbfd;\n",
       "  --sklearn-color-fitted-level-3: cornflowerblue;\n",
       "\n",
       "  /* Specific color for light theme */\n",
       "  --sklearn-color-text-on-default-background: var(--sg-text-color, var(--theme-code-foreground, var(--jp-content-font-color1, black)));\n",
       "  --sklearn-color-background: var(--sg-background-color, var(--theme-background, var(--jp-layout-color0, white)));\n",
       "  --sklearn-color-border-box: var(--sg-text-color, var(--theme-code-foreground, var(--jp-content-font-color1, black)));\n",
       "  --sklearn-color-icon: #696969;\n",
       "\n",
       "  @media (prefers-color-scheme: dark) {\n",
       "    /* Redefinition of color scheme for dark theme */\n",
       "    --sklearn-color-text-on-default-background: var(--sg-text-color, var(--theme-code-foreground, var(--jp-content-font-color1, white)));\n",
       "    --sklearn-color-background: var(--sg-background-color, var(--theme-background, var(--jp-layout-color0, #111)));\n",
       "    --sklearn-color-border-box: var(--sg-text-color, var(--theme-code-foreground, var(--jp-content-font-color1, white)));\n",
       "    --sklearn-color-icon: #878787;\n",
       "  }\n",
       "}\n",
       "\n",
       "#sk-container-id-1 {\n",
       "  color: var(--sklearn-color-text);\n",
       "}\n",
       "\n",
       "#sk-container-id-1 pre {\n",
       "  padding: 0;\n",
       "}\n",
       "\n",
       "#sk-container-id-1 input.sk-hidden--visually {\n",
       "  border: 0;\n",
       "  clip: rect(1px 1px 1px 1px);\n",
       "  clip: rect(1px, 1px, 1px, 1px);\n",
       "  height: 1px;\n",
       "  margin: -1px;\n",
       "  overflow: hidden;\n",
       "  padding: 0;\n",
       "  position: absolute;\n",
       "  width: 1px;\n",
       "}\n",
       "\n",
       "#sk-container-id-1 div.sk-dashed-wrapped {\n",
       "  border: 1px dashed var(--sklearn-color-line);\n",
       "  margin: 0 0.4em 0.5em 0.4em;\n",
       "  box-sizing: border-box;\n",
       "  padding-bottom: 0.4em;\n",
       "  background-color: var(--sklearn-color-background);\n",
       "}\n",
       "\n",
       "#sk-container-id-1 div.sk-container {\n",
       "  /* jupyter's `normalize.less` sets `[hidden] { display: none; }`\n",
       "     but bootstrap.min.css set `[hidden] { display: none !important; }`\n",
       "     so we also need the `!important` here to be able to override the\n",
       "     default hidden behavior on the sphinx rendered scikit-learn.org.\n",
       "     See: https://github.com/scikit-learn/scikit-learn/issues/21755 */\n",
       "  display: inline-block !important;\n",
       "  position: relative;\n",
       "}\n",
       "\n",
       "#sk-container-id-1 div.sk-text-repr-fallback {\n",
       "  display: none;\n",
       "}\n",
       "\n",
       "div.sk-parallel-item,\n",
       "div.sk-serial,\n",
       "div.sk-item {\n",
       "  /* draw centered vertical line to link estimators */\n",
       "  background-image: linear-gradient(var(--sklearn-color-text-on-default-background), var(--sklearn-color-text-on-default-background));\n",
       "  background-size: 2px 100%;\n",
       "  background-repeat: no-repeat;\n",
       "  background-position: center center;\n",
       "}\n",
       "\n",
       "/* Parallel-specific style estimator block */\n",
       "\n",
       "#sk-container-id-1 div.sk-parallel-item::after {\n",
       "  content: \"\";\n",
       "  width: 100%;\n",
       "  border-bottom: 2px solid var(--sklearn-color-text-on-default-background);\n",
       "  flex-grow: 1;\n",
       "}\n",
       "\n",
       "#sk-container-id-1 div.sk-parallel {\n",
       "  display: flex;\n",
       "  align-items: stretch;\n",
       "  justify-content: center;\n",
       "  background-color: var(--sklearn-color-background);\n",
       "  position: relative;\n",
       "}\n",
       "\n",
       "#sk-container-id-1 div.sk-parallel-item {\n",
       "  display: flex;\n",
       "  flex-direction: column;\n",
       "}\n",
       "\n",
       "#sk-container-id-1 div.sk-parallel-item:first-child::after {\n",
       "  align-self: flex-end;\n",
       "  width: 50%;\n",
       "}\n",
       "\n",
       "#sk-container-id-1 div.sk-parallel-item:last-child::after {\n",
       "  align-self: flex-start;\n",
       "  width: 50%;\n",
       "}\n",
       "\n",
       "#sk-container-id-1 div.sk-parallel-item:only-child::after {\n",
       "  width: 0;\n",
       "}\n",
       "\n",
       "/* Serial-specific style estimator block */\n",
       "\n",
       "#sk-container-id-1 div.sk-serial {\n",
       "  display: flex;\n",
       "  flex-direction: column;\n",
       "  align-items: center;\n",
       "  background-color: var(--sklearn-color-background);\n",
       "  padding-right: 1em;\n",
       "  padding-left: 1em;\n",
       "}\n",
       "\n",
       "\n",
       "/* Toggleable style: style used for estimator/Pipeline/ColumnTransformer box that is\n",
       "clickable and can be expanded/collapsed.\n",
       "- Pipeline and ColumnTransformer use this feature and define the default style\n",
       "- Estimators will overwrite some part of the style using the `sk-estimator` class\n",
       "*/\n",
       "\n",
       "/* Pipeline and ColumnTransformer style (default) */\n",
       "\n",
       "#sk-container-id-1 div.sk-toggleable {\n",
       "  /* Default theme specific background. It is overwritten whether we have a\n",
       "  specific estimator or a Pipeline/ColumnTransformer */\n",
       "  background-color: var(--sklearn-color-background);\n",
       "}\n",
       "\n",
       "/* Toggleable label */\n",
       "#sk-container-id-1 label.sk-toggleable__label {\n",
       "  cursor: pointer;\n",
       "  display: block;\n",
       "  width: 100%;\n",
       "  margin-bottom: 0;\n",
       "  padding: 0.5em;\n",
       "  box-sizing: border-box;\n",
       "  text-align: center;\n",
       "}\n",
       "\n",
       "#sk-container-id-1 label.sk-toggleable__label-arrow:before {\n",
       "  /* Arrow on the left of the label */\n",
       "  content: \"▸\";\n",
       "  float: left;\n",
       "  margin-right: 0.25em;\n",
       "  color: var(--sklearn-color-icon);\n",
       "}\n",
       "\n",
       "#sk-container-id-1 label.sk-toggleable__label-arrow:hover:before {\n",
       "  color: var(--sklearn-color-text);\n",
       "}\n",
       "\n",
       "/* Toggleable content - dropdown */\n",
       "\n",
       "#sk-container-id-1 div.sk-toggleable__content {\n",
       "  max-height: 0;\n",
       "  max-width: 0;\n",
       "  overflow: hidden;\n",
       "  text-align: left;\n",
       "  /* unfitted */\n",
       "  background-color: var(--sklearn-color-unfitted-level-0);\n",
       "}\n",
       "\n",
       "#sk-container-id-1 div.sk-toggleable__content.fitted {\n",
       "  /* fitted */\n",
       "  background-color: var(--sklearn-color-fitted-level-0);\n",
       "}\n",
       "\n",
       "#sk-container-id-1 div.sk-toggleable__content pre {\n",
       "  margin: 0.2em;\n",
       "  border-radius: 0.25em;\n",
       "  color: var(--sklearn-color-text);\n",
       "  /* unfitted */\n",
       "  background-color: var(--sklearn-color-unfitted-level-0);\n",
       "}\n",
       "\n",
       "#sk-container-id-1 div.sk-toggleable__content.fitted pre {\n",
       "  /* unfitted */\n",
       "  background-color: var(--sklearn-color-fitted-level-0);\n",
       "}\n",
       "\n",
       "#sk-container-id-1 input.sk-toggleable__control:checked~div.sk-toggleable__content {\n",
       "  /* Expand drop-down */\n",
       "  max-height: 200px;\n",
       "  max-width: 100%;\n",
       "  overflow: auto;\n",
       "}\n",
       "\n",
       "#sk-container-id-1 input.sk-toggleable__control:checked~label.sk-toggleable__label-arrow:before {\n",
       "  content: \"▾\";\n",
       "}\n",
       "\n",
       "/* Pipeline/ColumnTransformer-specific style */\n",
       "\n",
       "#sk-container-id-1 div.sk-label input.sk-toggleable__control:checked~label.sk-toggleable__label {\n",
       "  color: var(--sklearn-color-text);\n",
       "  background-color: var(--sklearn-color-unfitted-level-2);\n",
       "}\n",
       "\n",
       "#sk-container-id-1 div.sk-label.fitted input.sk-toggleable__control:checked~label.sk-toggleable__label {\n",
       "  background-color: var(--sklearn-color-fitted-level-2);\n",
       "}\n",
       "\n",
       "/* Estimator-specific style */\n",
       "\n",
       "/* Colorize estimator box */\n",
       "#sk-container-id-1 div.sk-estimator input.sk-toggleable__control:checked~label.sk-toggleable__label {\n",
       "  /* unfitted */\n",
       "  background-color: var(--sklearn-color-unfitted-level-2);\n",
       "}\n",
       "\n",
       "#sk-container-id-1 div.sk-estimator.fitted input.sk-toggleable__control:checked~label.sk-toggleable__label {\n",
       "  /* fitted */\n",
       "  background-color: var(--sklearn-color-fitted-level-2);\n",
       "}\n",
       "\n",
       "#sk-container-id-1 div.sk-label label.sk-toggleable__label,\n",
       "#sk-container-id-1 div.sk-label label {\n",
       "  /* The background is the default theme color */\n",
       "  color: var(--sklearn-color-text-on-default-background);\n",
       "}\n",
       "\n",
       "/* On hover, darken the color of the background */\n",
       "#sk-container-id-1 div.sk-label:hover label.sk-toggleable__label {\n",
       "  color: var(--sklearn-color-text);\n",
       "  background-color: var(--sklearn-color-unfitted-level-2);\n",
       "}\n",
       "\n",
       "/* Label box, darken color on hover, fitted */\n",
       "#sk-container-id-1 div.sk-label.fitted:hover label.sk-toggleable__label.fitted {\n",
       "  color: var(--sklearn-color-text);\n",
       "  background-color: var(--sklearn-color-fitted-level-2);\n",
       "}\n",
       "\n",
       "/* Estimator label */\n",
       "\n",
       "#sk-container-id-1 div.sk-label label {\n",
       "  font-family: monospace;\n",
       "  font-weight: bold;\n",
       "  display: inline-block;\n",
       "  line-height: 1.2em;\n",
       "}\n",
       "\n",
       "#sk-container-id-1 div.sk-label-container {\n",
       "  text-align: center;\n",
       "}\n",
       "\n",
       "/* Estimator-specific */\n",
       "#sk-container-id-1 div.sk-estimator {\n",
       "  font-family: monospace;\n",
       "  border: 1px dotted var(--sklearn-color-border-box);\n",
       "  border-radius: 0.25em;\n",
       "  box-sizing: border-box;\n",
       "  margin-bottom: 0.5em;\n",
       "  /* unfitted */\n",
       "  background-color: var(--sklearn-color-unfitted-level-0);\n",
       "}\n",
       "\n",
       "#sk-container-id-1 div.sk-estimator.fitted {\n",
       "  /* fitted */\n",
       "  background-color: var(--sklearn-color-fitted-level-0);\n",
       "}\n",
       "\n",
       "/* on hover */\n",
       "#sk-container-id-1 div.sk-estimator:hover {\n",
       "  /* unfitted */\n",
       "  background-color: var(--sklearn-color-unfitted-level-2);\n",
       "}\n",
       "\n",
       "#sk-container-id-1 div.sk-estimator.fitted:hover {\n",
       "  /* fitted */\n",
       "  background-color: var(--sklearn-color-fitted-level-2);\n",
       "}\n",
       "\n",
       "/* Specification for estimator info (e.g. \"i\" and \"?\") */\n",
       "\n",
       "/* Common style for \"i\" and \"?\" */\n",
       "\n",
       ".sk-estimator-doc-link,\n",
       "a:link.sk-estimator-doc-link,\n",
       "a:visited.sk-estimator-doc-link {\n",
       "  float: right;\n",
       "  font-size: smaller;\n",
       "  line-height: 1em;\n",
       "  font-family: monospace;\n",
       "  background-color: var(--sklearn-color-background);\n",
       "  border-radius: 1em;\n",
       "  height: 1em;\n",
       "  width: 1em;\n",
       "  text-decoration: none !important;\n",
       "  margin-left: 1ex;\n",
       "  /* unfitted */\n",
       "  border: var(--sklearn-color-unfitted-level-1) 1pt solid;\n",
       "  color: var(--sklearn-color-unfitted-level-1);\n",
       "}\n",
       "\n",
       ".sk-estimator-doc-link.fitted,\n",
       "a:link.sk-estimator-doc-link.fitted,\n",
       "a:visited.sk-estimator-doc-link.fitted {\n",
       "  /* fitted */\n",
       "  border: var(--sklearn-color-fitted-level-1) 1pt solid;\n",
       "  color: var(--sklearn-color-fitted-level-1);\n",
       "}\n",
       "\n",
       "/* On hover */\n",
       "div.sk-estimator:hover .sk-estimator-doc-link:hover,\n",
       ".sk-estimator-doc-link:hover,\n",
       "div.sk-label-container:hover .sk-estimator-doc-link:hover,\n",
       ".sk-estimator-doc-link:hover {\n",
       "  /* unfitted */\n",
       "  background-color: var(--sklearn-color-unfitted-level-3);\n",
       "  color: var(--sklearn-color-background);\n",
       "  text-decoration: none;\n",
       "}\n",
       "\n",
       "div.sk-estimator.fitted:hover .sk-estimator-doc-link.fitted:hover,\n",
       ".sk-estimator-doc-link.fitted:hover,\n",
       "div.sk-label-container:hover .sk-estimator-doc-link.fitted:hover,\n",
       ".sk-estimator-doc-link.fitted:hover {\n",
       "  /* fitted */\n",
       "  background-color: var(--sklearn-color-fitted-level-3);\n",
       "  color: var(--sklearn-color-background);\n",
       "  text-decoration: none;\n",
       "}\n",
       "\n",
       "/* Span, style for the box shown on hovering the info icon */\n",
       ".sk-estimator-doc-link span {\n",
       "  display: none;\n",
       "  z-index: 9999;\n",
       "  position: relative;\n",
       "  font-weight: normal;\n",
       "  right: .2ex;\n",
       "  padding: .5ex;\n",
       "  margin: .5ex;\n",
       "  width: min-content;\n",
       "  min-width: 20ex;\n",
       "  max-width: 50ex;\n",
       "  color: var(--sklearn-color-text);\n",
       "  box-shadow: 2pt 2pt 4pt #999;\n",
       "  /* unfitted */\n",
       "  background: var(--sklearn-color-unfitted-level-0);\n",
       "  border: .5pt solid var(--sklearn-color-unfitted-level-3);\n",
       "}\n",
       "\n",
       ".sk-estimator-doc-link.fitted span {\n",
       "  /* fitted */\n",
       "  background: var(--sklearn-color-fitted-level-0);\n",
       "  border: var(--sklearn-color-fitted-level-3);\n",
       "}\n",
       "\n",
       ".sk-estimator-doc-link:hover span {\n",
       "  display: block;\n",
       "}\n",
       "\n",
       "/* \"?\"-specific style due to the `<a>` HTML tag */\n",
       "\n",
       "#sk-container-id-1 a.estimator_doc_link {\n",
       "  float: right;\n",
       "  font-size: 1rem;\n",
       "  line-height: 1em;\n",
       "  font-family: monospace;\n",
       "  background-color: var(--sklearn-color-background);\n",
       "  border-radius: 1rem;\n",
       "  height: 1rem;\n",
       "  width: 1rem;\n",
       "  text-decoration: none;\n",
       "  /* unfitted */\n",
       "  color: var(--sklearn-color-unfitted-level-1);\n",
       "  border: var(--sklearn-color-unfitted-level-1) 1pt solid;\n",
       "}\n",
       "\n",
       "#sk-container-id-1 a.estimator_doc_link.fitted {\n",
       "  /* fitted */\n",
       "  border: var(--sklearn-color-fitted-level-1) 1pt solid;\n",
       "  color: var(--sklearn-color-fitted-level-1);\n",
       "}\n",
       "\n",
       "/* On hover */\n",
       "#sk-container-id-1 a.estimator_doc_link:hover {\n",
       "  /* unfitted */\n",
       "  background-color: var(--sklearn-color-unfitted-level-3);\n",
       "  color: var(--sklearn-color-background);\n",
       "  text-decoration: none;\n",
       "}\n",
       "\n",
       "#sk-container-id-1 a.estimator_doc_link.fitted:hover {\n",
       "  /* fitted */\n",
       "  background-color: var(--sklearn-color-fitted-level-3);\n",
       "}\n",
       "</style><div id=\"sk-container-id-1\" class=\"sk-top-container\"><div class=\"sk-text-repr-fallback\"><pre>RandomForestClassifier(random_state=128)</pre><b>In a Jupyter environment, please rerun this cell to show the HTML representation or trust the notebook. <br />On GitHub, the HTML representation is unable to render, please try loading this page with nbviewer.org.</b></div><div class=\"sk-container\" hidden><div class=\"sk-item\"><div class=\"sk-estimator fitted sk-toggleable\"><input class=\"sk-toggleable__control sk-hidden--visually\" id=\"sk-estimator-id-1\" type=\"checkbox\" checked><label for=\"sk-estimator-id-1\" class=\"sk-toggleable__label fitted sk-toggleable__label-arrow fitted\">&nbsp;&nbsp;RandomForestClassifier<a class=\"sk-estimator-doc-link fitted\" rel=\"noreferrer\" target=\"_blank\" href=\"https://scikit-learn.org/1.5/modules/generated/sklearn.ensemble.RandomForestClassifier.html\">?<span>Documentation for RandomForestClassifier</span></a><span class=\"sk-estimator-doc-link fitted\">i<span>Fitted</span></span></label><div class=\"sk-toggleable__content fitted\"><pre>RandomForestClassifier(random_state=128)</pre></div> </div></div></div></div>"
      ],
      "text/plain": [
       "RandomForestClassifier(random_state=128)"
      ]
     },
     "execution_count": 25,
     "metadata": {},
     "output_type": "execute_result"
    }
   ],
   "source": [
    "model.fit(X_train, y_train)"
   ]
  },
  {
   "cell_type": "code",
   "execution_count": 26,
   "id": "d5d7a6e2-4b77-4964-bb3f-841188714739",
   "metadata": {},
   "outputs": [],
   "source": [
    "train_predictions = model.predict(X_train)\n",
    "test_predictions = model.predict(X_test)"
   ]
  },
  {
   "cell_type": "code",
   "execution_count": 27,
   "id": "eecc1221-5f25-49b5-84c9-6c7562a6e4f7",
   "metadata": {},
   "outputs": [
    {
     "name": "stdout",
     "output_type": "stream",
     "text": [
      "1.0\n",
      "0.9902264824734518\n"
     ]
    }
   ],
   "source": [
    "print(metrics.accuracy_score(y_train, train_predictions))\n",
    "print(metrics.accuracy_score(y_test, test_predictions))"
   ]
  },
  {
   "cell_type": "code",
   "execution_count": 28,
   "id": "32dd6f4f-d5a2-4bd7-b8a9-ebc95e188586",
   "metadata": {},
   "outputs": [
    {
     "name": "stdout",
     "output_type": "stream",
     "text": [
      "              precision    recall  f1-score   support\n",
      "\n",
      "           0       0.99      1.00      0.99       765\n",
      "           1       0.99      1.00      0.99       765\n",
      "           2       0.99      1.00      0.99       661\n",
      "           3       0.99      0.99      0.99       820\n",
      "           4       0.99      1.00      0.99       742\n",
      "           5       0.99      0.99      0.99       952\n",
      "           6       1.00      0.99      0.99       825\n",
      "           7       0.99      1.00      0.99       796\n",
      "           8       0.99      0.98      0.99       819\n",
      "           9       0.99      0.99      0.99       819\n",
      "          10       0.99      0.99      0.99       864\n",
      "          11       1.00      1.00      1.00       872\n",
      "          12       0.92      0.98      0.95       520\n",
      "          13       0.98      0.91      0.94       441\n",
      "          14       0.99      1.00      0.99       750\n",
      "          15       1.00      0.99      0.99       672\n",
      "          16       0.99      0.99      0.99       689\n",
      "          17       0.99      0.99      0.99       839\n",
      "          18       0.99      0.99      0.99       880\n",
      "          19       1.00      0.99      1.00       777\n",
      "          20       0.99      0.99      0.99       848\n",
      "          21       1.00      0.98      0.99       840\n",
      "          22       0.99      0.99      0.99       800\n",
      "          23       0.99      0.99      0.99       737\n",
      "          24       1.00      1.00      1.00       878\n",
      "          25       1.00      0.99      0.99       790\n",
      "          26       0.98      1.00      0.99       563\n",
      "          27       0.98      0.98      0.98       558\n",
      "\n",
      "    accuracy                           0.99     21282\n",
      "   macro avg       0.99      0.99      0.99     21282\n",
      "weighted avg       0.99      0.99      0.99     21282\n",
      "\n"
     ]
    }
   ],
   "source": [
    "print(metrics.classification_report(y_test, test_predictions))"
   ]
  },
  {
   "cell_type": "code",
   "execution_count": null,
   "id": "3262ca40-f282-4269-935e-174ef9f54546",
   "metadata": {},
   "outputs": [],
   "source": []
  },
  {
   "cell_type": "code",
   "execution_count": 29,
   "id": "ce1e9a0c-8cce-4e7d-baf8-f78fc8bf429a",
   "metadata": {},
   "outputs": [],
   "source": [
    "explainer = shap.Explainer(model)\n",
    "shap_values = explainer(X_test)"
   ]
  },
  {
   "cell_type": "code",
   "execution_count": 30,
   "id": "ffcda5e8-827d-4579-8246-aaf1743c0aa8",
   "metadata": {},
   "outputs": [
    {
     "data": {
      "text/plain": [
       "(21282, 63, 28)"
      ]
     },
     "execution_count": 30,
     "metadata": {},
     "output_type": "execute_result"
    }
   ],
   "source": [
    "shap_values.shape"
   ]
  },
  {
   "cell_type": "code",
   "execution_count": 79,
   "id": "e3e6b3af-e371-40e5-b811-c3e3d2a5c782",
   "metadata": {},
   "outputs": [
    {
     "data": {
      "text/plain": [
       ".values =\n",
       "array([ 1.42882292e-03,  3.54730096e-04, -1.56227931e-04,  7.86025054e-04,\n",
       "        7.10498860e-05, -3.24734123e-05,  2.81443025e-04, -3.91261051e-04,\n",
       "       -1.21462745e-05, -4.52715031e-03, -3.59092674e-03,  1.35307037e-05,\n",
       "       -7.67299704e-03, -6.55444340e-03,  1.83721547e-04,  8.12630595e-04,\n",
       "       -2.34500235e-03,  3.67553393e-05,  7.60723707e-04, -4.01720758e-03,\n",
       "        4.77850568e-05, -3.29116561e-04,  1.55476062e-03,  3.03319686e-05,\n",
       "       -7.61801319e-04, -6.34329380e-03,  7.55478381e-05,  5.55609403e-04,\n",
       "       -1.52016499e-03,  1.37229692e-05, -8.04280228e-05, -5.19955042e-04,\n",
       "       -1.58166314e-05, -9.69920938e-04, -2.18966154e-03, -5.46509339e-05,\n",
       "        3.52568398e-04, -3.78922802e-03,  7.36837010e-05,  1.33994036e-03,\n",
       "       -1.75142812e-03,  1.49328908e-04, -2.61213247e-04, -1.40816998e-03,\n",
       "       -2.50210819e-05,  9.25838092e-05,  8.15380400e-04, -2.87560342e-05,\n",
       "        7.31317611e-04,  5.96849336e-04, -7.82174659e-05,  1.67603860e-03,\n",
       "       -2.26669076e-04,  4.02247801e-05,  3.32302610e-04, -4.85578871e-04,\n",
       "       -7.27469284e-05,  4.07526248e-05,  1.39903087e-04, -3.26552727e-04,\n",
       "        9.74030263e-04,  2.48428833e-03, -5.50894006e-05])\n",
       "\n",
       ".base_values =\n",
       "0.033746933296301435\n",
       "\n",
       ".data =\n",
       "array([ 3.95508381e-01,  1.00000000e+00,  1.19573576e-06,  6.85489832e-01,\n",
       "        8.62475429e-01, -6.20810390e-02,  7.36422713e-01,  6.51166502e-01,\n",
       "       -7.57209808e-02,  4.81931007e-01,  4.87490838e-01, -8.45062062e-02,\n",
       "        2.65265084e-01,  3.80819883e-01, -8.98072571e-02,  7.48466521e-01,\n",
       "        5.18559938e-01, -2.51710825e-02,  8.88047982e-01,  3.07329014e-01,\n",
       "       -6.52583539e-02,  9.51146523e-01,  1.72702997e-01, -9.14540738e-02,\n",
       "        1.00000000e+00,  5.13439932e-02, -1.07476458e-01,  4.68072147e-01,\n",
       "        5.22456459e-01, -2.29496825e-02,  3.88123572e-01,  2.81616336e-01,\n",
       "       -7.52953887e-02,  3.38984084e-01,  1.34671556e-01, -1.06723130e-01,\n",
       "        2.89970790e-01,  0.00000000e+00, -1.18517682e-01,  2.27883538e-01,\n",
       "        5.87010574e-01, -2.78309546e-02,  1.54501681e-01,  4.46771152e-01,\n",
       "       -1.21639282e-01,  2.88175613e-01,  6.01605683e-01, -1.28659993e-01,\n",
       "        3.49462383e-01,  7.08816666e-01, -1.02381490e-01,  1.33960763e-02,\n",
       "        6.90482405e-01, -3.50091681e-02,  0.00000000e+00,  5.86777473e-01,\n",
       "       -1.19156025e-01,  1.24399204e-01,  6.99971627e-01, -1.15347952e-01,\n",
       "        1.74394988e-01,  7.84189506e-01, -8.98288563e-02])"
      ]
     },
     "execution_count": 79,
     "metadata": {},
     "output_type": "execute_result"
    }
   ],
   "source": [
    "shap_values[123,:,0]"
   ]
  },
  {
   "cell_type": "code",
   "execution_count": 78,
   "id": "4d391e52-3c90-4b96-a82c-bfabbcef1727",
   "metadata": {},
   "outputs": [
    {
     "data": {
      "image/png": "[encoded data removed]",
      "text/plain": [
       "<Figure size 800x650 with 3 Axes>"
      ]
     },
     "metadata": {},
     "output_type": "display_data"
    }
   ],
   "source": [
    "shap.plots.waterfall(shap_values[123,:,0])"
   ]
  },
  {
   "cell_type": "code",
   "execution_count": 85,
   "id": "7021ee2e-2651-44fa-8b25-7a7b26651ced",
   "metadata": {},
   "outputs": [
    {
     "data": {
      "image/png": "[encoded data removed]",
      "text/plain": [
       "<Figure size 800x650 with 1 Axes>"
      ]
     },
     "metadata": {},
     "output_type": "display_data"
    }
   ],
   "source": [
    "shap.plots.bar(shap_values[:,:,0])"
   ]
  },
  {
   "cell_type": "code",
   "execution_count": null,
   "id": "fbf430d0-c5f2-45a6-98da-965f1ab723f9",
   "metadata": {},
   "outputs": [],
   "source": []
  }
 ],
 "metadata": {
  "kernelspec": {
   "display_name": "Python 3 (ipykernel)",
   "language": "python",
   "name": "python3"
  },
  "language_info": {
   "codemirror_mode": {
    "name": "ipython",
    "version": 3
   },
   "file_extension": ".py",
   "mimetype": "text/x-python",
   "name": "python",
   "nbconvert_exporter": "python",
   "pygments_lexer": "ipython3",
   "version": "3.12.2"
  }
 },
 "nbformat": 4,
 "nbformat_minor": 5
}
