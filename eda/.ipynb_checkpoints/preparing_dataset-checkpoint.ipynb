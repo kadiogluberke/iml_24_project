{
 "cells": [
  {
   "cell_type": "code",
   "execution_count": 1,
   "id": "ed3a8e65-ed84-43e0-a8e1-68046709754f",
   "metadata": {},
   "outputs": [],
   "source": [
    "import torch\n",
    "import mediapipe as mp\n",
    "import numpy as np\n",
    "import pandas as pd\n",
    "import time\n",
    "import cv2\n",
    "from matplotlib import pyplot as plt\n",
    "import os\n",
    "from tqdm import tqdm\n",
    "import glob\n",
    "import pickle"
   ]
  },
  {
   "cell_type": "code",
   "execution_count": 2,
   "id": "6721abdd-6dd7-4ddf-8607-b91ec1e787cc",
   "metadata": {},
   "outputs": [
    {
     "name": "stderr",
     "output_type": "stream",
     "text": [
      "WARNING: All log messages before absl::InitializeLog() is called are written to STDERR\n",
      "I0000 00:00:1721320460.235288 28432673 gl_context.cc:357] GL version: 2.1 (2.1 Metal - 88), renderer: Apple M3\n",
      "INFO: Created TensorFlow Lite XNNPACK delegate for CPU.\n",
      "W0000 00:00:1721320460.261167 28432836 inference_feedback_manager.cc:114] Feedback manager requires a model with a single signature inference. Disabling support for feedback tensors.\n",
      "W0000 00:00:1721320460.267496 28432836 inference_feedback_manager.cc:114] Feedback manager requires a model with a single signature inference. Disabling support for feedback tensors.\n"
     ]
    }
   ],
   "source": [
    "mp_hands = mp.solutions.hands\n",
    "hands = mp_hands.Hands(static_image_mode=True, max_num_hands=2, min_detection_confidence=0.5, min_tracking_confidence=0.5)"
   ]
  },
  {
   "cell_type": "code",
   "execution_count": 3,
   "id": "0e10091d-d365-4f0e-b7a1-9dac0263af1e",
   "metadata": {},
   "outputs": [],
   "source": [
    "def get_hand_points(img, pth, none_list, more_list, less_list):\n",
    "    results = hands.process(img)\n",
    "    points = []\n",
    "    if results.multi_hand_landmarks:\n",
    "        for hand_landmarks in results.multi_hand_landmarks:\n",
    "            for i in range(21):\n",
    "                x = hand_landmarks.landmark[i].x\n",
    "                y = hand_landmarks.landmark[i].y\n",
    "                z = hand_landmarks.landmark[i].z\n",
    "                points.append([x, y, z])\n",
    "    else:\n",
    "        points = None\n",
    "        none_list.append(pth)\n",
    "        print('Points are None')\n",
    "\n",
    "\n",
    "    if points is not None:\n",
    "        if len(points) > 21:\n",
    "            points = points[:21]\n",
    "            more_list.append(pth)\n",
    "            print('Landmarks are more than 21')\n",
    "        elif len(points) < 21:\n",
    "            dif = 21 - len(points)\n",
    "            for i in range(dif):\n",
    "                points.append([0, 0, 0])\n",
    "            less_list.append(pth)\n",
    "            print('Landmarks are less than 21')\n",
    "\n",
    "        points = np.array(points)\n",
    "\n",
    "    return points, none_list, more_list, less_list"
   ]
  },
  {
   "cell_type": "code",
   "execution_count": 4,
   "id": "a07e6c4b-408b-4544-b1ea-111596a66bc0",
   "metadata": {},
   "outputs": [],
   "source": [
    "def create(pth, label, data, none_list, more_list, less_list):\n",
    "    count = 0\n",
    "    # os.makedirs(dest_path, exist_ok=True)\n",
    "    # os.makedirs(os.path.join(dest_path, label), exist_ok=True)\n",
    "    \n",
    "    img = cv2.imread(pth)\n",
    "    \n",
    "    img = cv2.cvtColor(img, cv2.COLOR_BGR2RGB)\n",
    "    img.flags.writeable = False\n",
    "    points_raw, none_list, more_list, less_list = get_hand_points(img, pth, none_list, more_list, less_list)\n",
    "    \n",
    "    if points_raw is not None:\n",
    "        min_x = np.min(points_raw[:, 0])\n",
    "        max_x = np.max(points_raw[:, 0])\n",
    "        min_y = np.min(points_raw[:, 1])\n",
    "        max_y = np.max(points_raw[:, 1])\n",
    "        for i in range(len(points_raw)):\n",
    "            points_raw[i][0] = (points_raw[i][0] - min_x) / (max_x - min_x)\n",
    "            points_raw[i][1] = (points_raw[i][1] - min_y) / (max_y - min_y)\n",
    "\n",
    "\n",
    "        points_list = points_raw.tolist()\n",
    "        points_list.append(label)\n",
    "        data.append(points_list)\n",
    "        # np.save(os.path.join(dest_path, label, name.split('.')[0]), points_raw)\n",
    "        count += 1\n",
    "    return count, data, none_list, more_list, less_list"
   ]
  },
  {
   "cell_type": "code",
   "execution_count": 5,
   "id": "515a5f8a-92f9-4960-80ba-0491114d05f9",
   "metadata": {},
   "outputs": [],
   "source": [
    "def main_():\n",
    "    #config = load_config('config.yaml')\n",
    "    count = 0\n",
    "    \n",
    "    data = [] \n",
    "    none_list = []\n",
    "    more_list = []\n",
    "    less_list = []\n",
    "    \n",
    "    # path = config['dataset']['image_dataset']\n",
    "    # destination_path = config['dataset']['npy_dataset']\n",
    "    # augmentations = config['dataset']['augmentations']\n",
    "    \n",
    "    jpg_files = glob.glob(os.path.join(path, '**/*.jp*'), recursive=True)\n",
    "    png_files = glob.glob(os.path.join(path, '**/*.png'), recursive=True)\n",
    "\n",
    "    img_files = jpg_files + png_files\n",
    "    \n",
    "    progress_bar = tqdm(total=len(img_files))\n",
    "    progress_bar.set_description(\"Creating dataset\")\n",
    "    \n",
    "    # to_discard = config['dataset']['to_discard']\n",
    "    for img_path in img_files:\n",
    "        file = img_path.split(\"/\")[-1]\n",
    "        label = char2int[file[0]]\n",
    "        \n",
    "        c, data, none_list, more_list, less_list = create(img_path, label, data, none_list, more_list, less_list)\n",
    "        count += c\n",
    "        progress_bar.update(1)\n",
    "\n",
    "    print(f'Length of data {len(data)}')\n",
    "    \n",
    "    with open('../data/datasets/data.pkl', 'wb') as file:\n",
    "        pickle.dump(data, file)\n",
    "\n",
    "    with open('../data/datasets/none_list.txt', 'w') as file:\n",
    "        for item in none_list:\n",
    "            file.write(f\"{item}\\n\")\n",
    "\n",
    "    with open('../data/datasets/more_list.txt', 'w') as file:\n",
    "        for item in more_list:\n",
    "            file.write(f\"{item}\\n\")\n",
    "\n",
    "    with open('../data/datasets/less_list.txt', 'w') as file:\n",
    "        for item in less_list:\n",
    "            file.write(f\"{item}\\n\")\n",
    "        \n",
    "    print(f'Created {count}')"
   ]
  },
  {
   "cell_type": "code",
   "execution_count": 6,
   "id": "249e79af-8ec9-41e5-a984-411e2a850149",
   "metadata": {},
   "outputs": [],
   "source": [
    "char2int = {\n",
    "            \"A\":0, \"B\":1, \"C\":2, \"D\":3, \"E\":4, \"F\":5, \"G\":6, \"H\":7, \"I\":8, \"J\":9, \"K\":10, \"L\":11,\n",
    "            \"M\":12, \"N\":13, \"O\":14, \"P\":15, \"Q\":16, \"R\":17, \"S\":18, \"T\":19, \"U\":20, \"V\":21, \"W\":22, \"X\":23,\n",
    "            \"Y\":24, \"Z\":25, \"d\":26, \"s\":27, \"n\":28\n",
    "            }"
   ]
  },
  {
   "cell_type": "code",
   "execution_count": 7,
   "id": "ca5c51e2-a560-4503-a5c2-40340f47c824",
   "metadata": {},
   "outputs": [],
   "source": [
    "path = \"../data/\""
   ]
  },
  {
   "cell_type": "code",
   "execution_count": null,
   "id": "90359f94-9f8c-4d81-8d01-be5249032868",
   "metadata": {},
   "outputs": [],
   "source": [
    "main_()"
   ]
  }
 ],
 "metadata": {
  "kernelspec": {
   "display_name": "Python 3 (ipykernel)",
   "language": "python",
   "name": "python3"
  },
  "language_info": {
   "codemirror_mode": {
    "name": "ipython",
    "version": 3
   },
   "file_extension": ".py",
   "mimetype": "text/x-python",
   "name": "python",
   "nbconvert_exporter": "python",
   "pygments_lexer": "ipython3",
   "version": "3.12.2"
  }
 },
 "nbformat": 4,
 "nbformat_minor": 5
}
