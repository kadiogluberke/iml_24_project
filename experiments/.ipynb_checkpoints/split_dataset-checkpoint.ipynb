{
 "cells": [
  {
   "cell_type": "code",
   "execution_count": 1,
   "id": "0572ce85-4635-4c81-a509-27af21140503",
   "metadata": {},
   "outputs": [],
   "source": [
    "import pandas as pd\n",
    "\n",
    "from sklearn import model_selection"
   ]
  },
  {
   "cell_type": "code",
   "execution_count": 2,
   "id": "d7af341b-4e37-4294-8076-82eb05ac7e1e",
   "metadata": {},
   "outputs": [
    {
     "data": {
      "text/html": [
       "<div>\n",
       "<style scoped>\n",
       "    .dataframe tbody tr th:only-of-type {\n",
       "        vertical-align: middle;\n",
       "    }\n",
       "\n",
       "    .dataframe tbody tr th {\n",
       "        vertical-align: top;\n",
       "    }\n",
       "\n",
       "    .dataframe thead th {\n",
       "        text-align: right;\n",
       "    }\n",
       "</style>\n",
       "<table border=\"1\" class=\"dataframe\">\n",
       "  <thead>\n",
       "    <tr style=\"text-align: right;\">\n",
       "      <th></th>\n",
       "      <th>landmark_0-axis_0</th>\n",
       "      <th>landmark_0-axis_1</th>\n",
       "      <th>landmark_0-axis_2</th>\n",
       "      <th>landmark_1-axis_0</th>\n",
       "      <th>landmark_1-axis_1</th>\n",
       "      <th>landmark_1-axis_2</th>\n",
       "      <th>landmark_2-axis_0</th>\n",
       "      <th>landmark_2-axis_1</th>\n",
       "      <th>landmark_2-axis_2</th>\n",
       "      <th>landmark_3-axis_0</th>\n",
       "      <th>...</th>\n",
       "      <th>landmark_18-axis_0</th>\n",
       "      <th>landmark_18-axis_1</th>\n",
       "      <th>landmark_18-axis_2</th>\n",
       "      <th>landmark_19-axis_0</th>\n",
       "      <th>landmark_19-axis_1</th>\n",
       "      <th>landmark_19-axis_2</th>\n",
       "      <th>landmark_20-axis_0</th>\n",
       "      <th>landmark_20-axis_1</th>\n",
       "      <th>landmark_20-axis_2</th>\n",
       "      <th>label</th>\n",
       "    </tr>\n",
       "  </thead>\n",
       "  <tbody>\n",
       "    <tr>\n",
       "      <th>0</th>\n",
       "      <td>0.658822</td>\n",
       "      <td>1.000000</td>\n",
       "      <td>9.709986e-07</td>\n",
       "      <td>0.851430</td>\n",
       "      <td>0.807790</td>\n",
       "      <td>-0.049348</td>\n",
       "      <td>0.976963</td>\n",
       "      <td>0.658024</td>\n",
       "      <td>-0.076231</td>\n",
       "      <td>1.000000</td>\n",
       "      <td>...</td>\n",
       "      <td>0.045997</td>\n",
       "      <td>0.493979</td>\n",
       "      <td>-0.103539</td>\n",
       "      <td>0.000000</td>\n",
       "      <td>0.383998</td>\n",
       "      <td>-0.124194</td>\n",
       "      <td>0.019168</td>\n",
       "      <td>0.274529</td>\n",
       "      <td>-0.136008</td>\n",
       "      <td>5</td>\n",
       "    </tr>\n",
       "    <tr>\n",
       "      <th>1</th>\n",
       "      <td>0.913921</td>\n",
       "      <td>0.916978</td>\n",
       "      <td>-3.564024e-08</td>\n",
       "      <td>1.000000</td>\n",
       "      <td>0.622017</td>\n",
       "      <td>-0.068824</td>\n",
       "      <td>0.911857</td>\n",
       "      <td>0.247694</td>\n",
       "      <td>-0.092950</td>\n",
       "      <td>0.725065</td>\n",
       "      <td>...</td>\n",
       "      <td>0.382177</td>\n",
       "      <td>0.868375</td>\n",
       "      <td>-0.137134</td>\n",
       "      <td>0.553851</td>\n",
       "      <td>0.951596</td>\n",
       "      <td>-0.129949</td>\n",
       "      <td>0.678670</td>\n",
       "      <td>1.000000</td>\n",
       "      <td>-0.102735</td>\n",
       "      <td>6</td>\n",
       "    </tr>\n",
       "    <tr>\n",
       "      <th>2</th>\n",
       "      <td>0.105749</td>\n",
       "      <td>1.000000</td>\n",
       "      <td>2.608852e-07</td>\n",
       "      <td>0.372407</td>\n",
       "      <td>0.999220</td>\n",
       "      <td>-0.107340</td>\n",
       "      <td>0.628303</td>\n",
       "      <td>0.891621</td>\n",
       "      <td>-0.156708</td>\n",
       "      <td>0.836010</td>\n",
       "      <td>...</td>\n",
       "      <td>0.009659</td>\n",
       "      <td>0.500194</td>\n",
       "      <td>-0.128799</td>\n",
       "      <td>0.000000</td>\n",
       "      <td>0.659741</td>\n",
       "      <td>-0.117523</td>\n",
       "      <td>0.015676</td>\n",
       "      <td>0.773787</td>\n",
       "      <td>-0.084991</td>\n",
       "      <td>11</td>\n",
       "    </tr>\n",
       "    <tr>\n",
       "      <th>3</th>\n",
       "      <td>0.388107</td>\n",
       "      <td>1.000000</td>\n",
       "      <td>-7.803047e-07</td>\n",
       "      <td>0.815729</td>\n",
       "      <td>0.864753</td>\n",
       "      <td>-0.042863</td>\n",
       "      <td>1.000000</td>\n",
       "      <td>0.484522</td>\n",
       "      <td>-0.048950</td>\n",
       "      <td>0.662923</td>\n",
       "      <td>...</td>\n",
       "      <td>0.006795</td>\n",
       "      <td>0.318315</td>\n",
       "      <td>-0.078091</td>\n",
       "      <td>0.106224</td>\n",
       "      <td>0.524428</td>\n",
       "      <td>-0.055097</td>\n",
       "      <td>0.107260</td>\n",
       "      <td>0.609925</td>\n",
       "      <td>-0.027988</td>\n",
       "      <td>18</td>\n",
       "    </tr>\n",
       "    <tr>\n",
       "      <th>4</th>\n",
       "      <td>0.669271</td>\n",
       "      <td>1.000000</td>\n",
       "      <td>-9.988880e-07</td>\n",
       "      <td>0.832537</td>\n",
       "      <td>0.721911</td>\n",
       "      <td>-0.057859</td>\n",
       "      <td>0.962633</td>\n",
       "      <td>0.447249</td>\n",
       "      <td>-0.084072</td>\n",
       "      <td>1.000000</td>\n",
       "      <td>...</td>\n",
       "      <td>0.185549</td>\n",
       "      <td>0.449152</td>\n",
       "      <td>-0.064394</td>\n",
       "      <td>0.088501</td>\n",
       "      <td>0.345923</td>\n",
       "      <td>-0.063761</td>\n",
       "      <td>0.000000</td>\n",
       "      <td>0.230642</td>\n",
       "      <td>-0.053649</td>\n",
       "      <td>24</td>\n",
       "    </tr>\n",
       "  </tbody>\n",
       "</table>\n",
       "<p>5 rows × 64 columns</p>\n",
       "</div>"
      ],
      "text/plain": [
       "   landmark_0-axis_0  landmark_0-axis_1  landmark_0-axis_2  landmark_1-axis_0  \\\n",
       "0           0.658822           1.000000       9.709986e-07           0.851430   \n",
       "1           0.913921           0.916978      -3.564024e-08           1.000000   \n",
       "2           0.105749           1.000000       2.608852e-07           0.372407   \n",
       "3           0.388107           1.000000      -7.803047e-07           0.815729   \n",
       "4           0.669271           1.000000      -9.988880e-07           0.832537   \n",
       "\n",
       "   landmark_1-axis_1  landmark_1-axis_2  landmark_2-axis_0  landmark_2-axis_1  \\\n",
       "0           0.807790          -0.049348           0.976963           0.658024   \n",
       "1           0.622017          -0.068824           0.911857           0.247694   \n",
       "2           0.999220          -0.107340           0.628303           0.891621   \n",
       "3           0.864753          -0.042863           1.000000           0.484522   \n",
       "4           0.721911          -0.057859           0.962633           0.447249   \n",
       "\n",
       "   landmark_2-axis_2  landmark_3-axis_0  ...  landmark_18-axis_0  \\\n",
       "0          -0.076231           1.000000  ...            0.045997   \n",
       "1          -0.092950           0.725065  ...            0.382177   \n",
       "2          -0.156708           0.836010  ...            0.009659   \n",
       "3          -0.048950           0.662923  ...            0.006795   \n",
       "4          -0.084072           1.000000  ...            0.185549   \n",
       "\n",
       "   landmark_18-axis_1  landmark_18-axis_2  landmark_19-axis_0  \\\n",
       "0            0.493979           -0.103539            0.000000   \n",
       "1            0.868375           -0.137134            0.553851   \n",
       "2            0.500194           -0.128799            0.000000   \n",
       "3            0.318315           -0.078091            0.106224   \n",
       "4            0.449152           -0.064394            0.088501   \n",
       "\n",
       "   landmark_19-axis_1  landmark_19-axis_2  landmark_20-axis_0  \\\n",
       "0            0.383998           -0.124194            0.019168   \n",
       "1            0.951596           -0.129949            0.678670   \n",
       "2            0.659741           -0.117523            0.015676   \n",
       "3            0.524428           -0.055097            0.107260   \n",
       "4            0.345923           -0.063761            0.000000   \n",
       "\n",
       "   landmark_20-axis_1  landmark_20-axis_2  label  \n",
       "0            0.274529           -0.136008      5  \n",
       "1            1.000000           -0.102735      6  \n",
       "2            0.773787           -0.084991     11  \n",
       "3            0.609925           -0.027988     18  \n",
       "4            0.230642           -0.053649     24  \n",
       "\n",
       "[5 rows x 64 columns]"
      ]
     },
     "execution_count": 2,
     "metadata": {},
     "output_type": "execute_result"
    }
   ],
   "source": [
    "df = pd.read_csv('../data/datasets/data.csv')\n",
    "df.head()"
   ]
  },
  {
   "cell_type": "code",
   "execution_count": 3,
   "id": "ac390e34-fd69-4493-9de2-ec443c2c749d",
   "metadata": {},
   "outputs": [],
   "source": [
    "X_cols = [col for col in df.columns if col != 'label']"
   ]
  },
  {
   "cell_type": "code",
   "execution_count": 4,
   "id": "75663cef-5ad1-436f-990d-0852dd1b13b9",
   "metadata": {},
   "outputs": [],
   "source": [
    "X_train, X_test, y_train, y_test = model_selection.train_test_split(df[X_cols],\n",
    "                                                    df.label,\n",
    "                                                    test_size = 0.2,\n",
    "                                                    random_state = 42)"
   ]
  },
  {
   "cell_type": "code",
   "execution_count": 5,
   "id": "23ddcb51-9843-4c6e-b25f-6b890faa0903",
   "metadata": {},
   "outputs": [],
   "source": [
    "X_train, X_validation, y_train, y_validation = model_selection.train_test_split(X_train,\n",
    "                                                    y_train,\n",
    "                                                    test_size = 0.25,\n",
    "                                                    random_state = 42)"
   ]
  },
  {
   "cell_type": "code",
   "execution_count": 6,
   "id": "561b2efd-5fe1-4f77-a6d5-9505df103e8a",
   "metadata": {},
   "outputs": [
    {
     "data": {
      "text/plain": [
       "(38703, 63)"
      ]
     },
     "execution_count": 6,
     "metadata": {},
     "output_type": "execute_result"
    }
   ],
   "source": [
    "X_train.shape"
   ]
  },
  {
   "cell_type": "code",
   "execution_count": 7,
   "id": "e17e598b-7c29-4608-bc21-2a36aec8c59c",
   "metadata": {},
   "outputs": [
    {
     "data": {
      "text/plain": [
       "(12901, 63)"
      ]
     },
     "execution_count": 7,
     "metadata": {},
     "output_type": "execute_result"
    }
   ],
   "source": [
    "X_test.shape"
   ]
  },
  {
   "cell_type": "code",
   "execution_count": 8,
   "id": "dbc652c2-9210-455c-94c2-2304ecdc7ae9",
   "metadata": {},
   "outputs": [
    {
     "data": {
      "text/plain": [
       "(12901, 63)"
      ]
     },
     "execution_count": 8,
     "metadata": {},
     "output_type": "execute_result"
    }
   ],
   "source": [
    "X_validation.shape"
   ]
  },
  {
   "cell_type": "code",
   "execution_count": 11,
   "id": "fd117a37-2c21-4eaa-ab98-3998981a65b1",
   "metadata": {},
   "outputs": [],
   "source": [
    "df_train = pd.concat([X_train, y_train], axis=1)"
   ]
  },
  {
   "cell_type": "code",
   "execution_count": 12,
   "id": "af12d069-7a29-4c02-b749-7d16935e8c0e",
   "metadata": {},
   "outputs": [],
   "source": [
    "df_test = pd.concat([X_test, y_test], axis=1)"
   ]
  },
  {
   "cell_type": "code",
   "execution_count": 13,
   "id": "13311b49-88b2-459a-8a19-7debc5374410",
   "metadata": {},
   "outputs": [],
   "source": [
    "df_validation = pd.concat([X_validation, y_validation], axis=1)"
   ]
  },
  {
   "cell_type": "code",
   "execution_count": null,
   "id": "e7225ede-94c5-4824-8139-5ffc7b5d113f",
   "metadata": {},
   "outputs": [],
   "source": []
  },
  {
   "cell_type": "code",
   "execution_count": 14,
   "id": "eb85acca-754b-4973-b926-911b0a950131",
   "metadata": {},
   "outputs": [],
   "source": [
    "df_train.to_csv('../data/datasets/train_data.csv', index=False)"
   ]
  },
  {
   "cell_type": "code",
   "execution_count": 15,
   "id": "0f11b64c-1d00-4ae3-bd96-9e645d383a5f",
   "metadata": {},
   "outputs": [],
   "source": [
    "df_test.to_csv('../data/datasets/test_data.csv', index=False)"
   ]
  },
  {
   "cell_type": "code",
   "execution_count": 16,
   "id": "e7cfa8ba-7469-4e4b-839c-e793b4b17d38",
   "metadata": {},
   "outputs": [],
   "source": [
    "df_validation.to_csv('../data/datasets/validation_data.csv', index=False)"
   ]
  },
  {
   "cell_type": "code",
   "execution_count": null,
   "id": "f03824c1-25ae-4665-ada6-4d7620f8242e",
   "metadata": {},
   "outputs": [],
   "source": []
  }
 ],
 "metadata": {
  "kernelspec": {
   "display_name": "Python 3 (ipykernel)",
   "language": "python",
   "name": "python3"
  },
  "language_info": {
   "codemirror_mode": {
    "name": "ipython",
    "version": 3
   },
   "file_extension": ".py",
   "mimetype": "text/x-python",
   "name": "python",
   "nbconvert_exporter": "python",
   "pygments_lexer": "ipython3",
   "version": "3.12.2"
  }
 },
 "nbformat": 4,
 "nbformat_minor": 5
}
