{
 "cells": [
  {
   "cell_type": "code",
   "execution_count": 4,
   "id": "91a124d5-da89-4f5f-9cbd-61b3124b7199",
   "metadata": {},
   "outputs": [],
   "source": [
    "import requests\n",
    "import pickle\n",
    "\n",
    "import pandas as pd\n",
    "import numpy as np\n",
    "\n",
    "from sklearn.ensemble import RandomForestClassifier\n",
    "from sklearn.feature_extraction import DictVectorizer\n",
    "\n",
    "from sklearn.svm import LinearSVR\n",
    "from sklearn import metrics, model_selection, ensemble\n",
    "\n",
    "from tqdm import tqdm"
   ]
  },
  {
   "cell_type": "code",
   "execution_count": 2,
   "id": "416354d4-78a0-4a5c-a9e5-5a4ba2a89d0f",
   "metadata": {},
   "outputs": [
    {
     "data": {
      "text/html": [
       "<div>\n",
       "<style scoped>\n",
       "    .dataframe tbody tr th:only-of-type {\n",
       "        vertical-align: middle;\n",
       "    }\n",
       "\n",
       "    .dataframe tbody tr th {\n",
       "        vertical-align: top;\n",
       "    }\n",
       "\n",
       "    .dataframe thead th {\n",
       "        text-align: right;\n",
       "    }\n",
       "</style>\n",
       "<table border=\"1\" class=\"dataframe\">\n",
       "  <thead>\n",
       "    <tr style=\"text-align: right;\">\n",
       "      <th></th>\n",
       "      <th>landmark_0-axis_0</th>\n",
       "      <th>landmark_0-axis_1</th>\n",
       "      <th>landmark_0-axis_2</th>\n",
       "      <th>landmark_1-axis_0</th>\n",
       "      <th>landmark_1-axis_1</th>\n",
       "      <th>landmark_1-axis_2</th>\n",
       "      <th>landmark_2-axis_0</th>\n",
       "      <th>landmark_2-axis_1</th>\n",
       "      <th>landmark_2-axis_2</th>\n",
       "      <th>landmark_3-axis_0</th>\n",
       "      <th>...</th>\n",
       "      <th>landmark_18-axis_0</th>\n",
       "      <th>landmark_18-axis_1</th>\n",
       "      <th>landmark_18-axis_2</th>\n",
       "      <th>landmark_19-axis_0</th>\n",
       "      <th>landmark_19-axis_1</th>\n",
       "      <th>landmark_19-axis_2</th>\n",
       "      <th>landmark_20-axis_0</th>\n",
       "      <th>landmark_20-axis_1</th>\n",
       "      <th>landmark_20-axis_2</th>\n",
       "      <th>label</th>\n",
       "    </tr>\n",
       "  </thead>\n",
       "  <tbody>\n",
       "    <tr>\n",
       "      <th>0</th>\n",
       "      <td>0.845479</td>\n",
       "      <td>1.000000</td>\n",
       "      <td>-1.069996e-07</td>\n",
       "      <td>1.000000</td>\n",
       "      <td>0.805473</td>\n",
       "      <td>-0.040388</td>\n",
       "      <td>0.999126</td>\n",
       "      <td>0.511777</td>\n",
       "      <td>-0.056023</td>\n",
       "      <td>0.832897</td>\n",
       "      <td>...</td>\n",
       "      <td>0.189619</td>\n",
       "      <td>0.725905</td>\n",
       "      <td>-0.080959</td>\n",
       "      <td>0.346372</td>\n",
       "      <td>0.791981</td>\n",
       "      <td>-0.070107</td>\n",
       "      <td>0.468936</td>\n",
       "      <td>0.877106</td>\n",
       "      <td>-0.049753</td>\n",
       "      <td>6</td>\n",
       "    </tr>\n",
       "    <tr>\n",
       "      <th>1</th>\n",
       "      <td>0.554973</td>\n",
       "      <td>1.000000</td>\n",
       "      <td>5.661351e-07</td>\n",
       "      <td>0.889592</td>\n",
       "      <td>0.884034</td>\n",
       "      <td>-0.042854</td>\n",
       "      <td>1.000000</td>\n",
       "      <td>0.703150</td>\n",
       "      <td>-0.059227</td>\n",
       "      <td>0.597121</td>\n",
       "      <td>...</td>\n",
       "      <td>0.064031</td>\n",
       "      <td>0.410397</td>\n",
       "      <td>-0.048065</td>\n",
       "      <td>0.036247</td>\n",
       "      <td>0.304571</td>\n",
       "      <td>-0.052903</td>\n",
       "      <td>0.000000</td>\n",
       "      <td>0.213670</td>\n",
       "      <td>-0.055517</td>\n",
       "      <td>1</td>\n",
       "    </tr>\n",
       "    <tr>\n",
       "      <th>2</th>\n",
       "      <td>0.060492</td>\n",
       "      <td>1.000000</td>\n",
       "      <td>-1.294584e-07</td>\n",
       "      <td>0.328166</td>\n",
       "      <td>0.991010</td>\n",
       "      <td>-0.062569</td>\n",
       "      <td>0.622645</td>\n",
       "      <td>0.875058</td>\n",
       "      <td>-0.085588</td>\n",
       "      <td>0.832195</td>\n",
       "      <td>...</td>\n",
       "      <td>0.011012</td>\n",
       "      <td>0.432778</td>\n",
       "      <td>-0.075935</td>\n",
       "      <td>0.004231</td>\n",
       "      <td>0.602042</td>\n",
       "      <td>-0.068937</td>\n",
       "      <td>0.016060</td>\n",
       "      <td>0.714936</td>\n",
       "      <td>-0.051977</td>\n",
       "      <td>11</td>\n",
       "    </tr>\n",
       "    <tr>\n",
       "      <th>3</th>\n",
       "      <td>0.948339</td>\n",
       "      <td>1.000000</td>\n",
       "      <td>6.313119e-07</td>\n",
       "      <td>1.000000</td>\n",
       "      <td>0.777314</td>\n",
       "      <td>-0.041887</td>\n",
       "      <td>0.860325</td>\n",
       "      <td>0.536266</td>\n",
       "      <td>-0.055876</td>\n",
       "      <td>0.630514</td>\n",
       "      <td>...</td>\n",
       "      <td>0.434386</td>\n",
       "      <td>0.769608</td>\n",
       "      <td>-0.100929</td>\n",
       "      <td>0.594010</td>\n",
       "      <td>0.822065</td>\n",
       "      <td>-0.097349</td>\n",
       "      <td>0.714883</td>\n",
       "      <td>0.879644</td>\n",
       "      <td>-0.080082</td>\n",
       "      <td>7</td>\n",
       "    </tr>\n",
       "    <tr>\n",
       "      <th>4</th>\n",
       "      <td>0.000000</td>\n",
       "      <td>0.983392</td>\n",
       "      <td>6.991309e-07</td>\n",
       "      <td>0.275265</td>\n",
       "      <td>1.000000</td>\n",
       "      <td>-0.016875</td>\n",
       "      <td>0.526317</td>\n",
       "      <td>0.887556</td>\n",
       "      <td>-0.028506</td>\n",
       "      <td>0.736348</td>\n",
       "      <td>...</td>\n",
       "      <td>0.451886</td>\n",
       "      <td>0.101368</td>\n",
       "      <td>-0.037569</td>\n",
       "      <td>0.636468</td>\n",
       "      <td>0.040789</td>\n",
       "      <td>-0.046854</td>\n",
       "      <td>0.803157</td>\n",
       "      <td>0.049130</td>\n",
       "      <td>-0.049748</td>\n",
       "      <td>2</td>\n",
       "    </tr>\n",
       "  </tbody>\n",
       "</table>\n",
       "<p>5 rows × 64 columns</p>\n",
       "</div>"
      ],
      "text/plain": [
       "   landmark_0-axis_0  landmark_0-axis_1  landmark_0-axis_2  landmark_1-axis_0  \\\n",
       "0           0.845479           1.000000      -1.069996e-07           1.000000   \n",
       "1           0.554973           1.000000       5.661351e-07           0.889592   \n",
       "2           0.060492           1.000000      -1.294584e-07           0.328166   \n",
       "3           0.948339           1.000000       6.313119e-07           1.000000   \n",
       "4           0.000000           0.983392       6.991309e-07           0.275265   \n",
       "\n",
       "   landmark_1-axis_1  landmark_1-axis_2  landmark_2-axis_0  landmark_2-axis_1  \\\n",
       "0           0.805473          -0.040388           0.999126           0.511777   \n",
       "1           0.884034          -0.042854           1.000000           0.703150   \n",
       "2           0.991010          -0.062569           0.622645           0.875058   \n",
       "3           0.777314          -0.041887           0.860325           0.536266   \n",
       "4           1.000000          -0.016875           0.526317           0.887556   \n",
       "\n",
       "   landmark_2-axis_2  landmark_3-axis_0  ...  landmark_18-axis_0  \\\n",
       "0          -0.056023           0.832897  ...            0.189619   \n",
       "1          -0.059227           0.597121  ...            0.064031   \n",
       "2          -0.085588           0.832195  ...            0.011012   \n",
       "3          -0.055876           0.630514  ...            0.434386   \n",
       "4          -0.028506           0.736348  ...            0.451886   \n",
       "\n",
       "   landmark_18-axis_1  landmark_18-axis_2  landmark_19-axis_0  \\\n",
       "0            0.725905           -0.080959            0.346372   \n",
       "1            0.410397           -0.048065            0.036247   \n",
       "2            0.432778           -0.075935            0.004231   \n",
       "3            0.769608           -0.100929            0.594010   \n",
       "4            0.101368           -0.037569            0.636468   \n",
       "\n",
       "   landmark_19-axis_1  landmark_19-axis_2  landmark_20-axis_0  \\\n",
       "0            0.791981           -0.070107            0.468936   \n",
       "1            0.304571           -0.052903            0.000000   \n",
       "2            0.602042           -0.068937            0.016060   \n",
       "3            0.822065           -0.097349            0.714883   \n",
       "4            0.040789           -0.046854            0.803157   \n",
       "\n",
       "   landmark_20-axis_1  landmark_20-axis_2  label  \n",
       "0            0.877106           -0.049753      6  \n",
       "1            0.213670           -0.055517      1  \n",
       "2            0.714936           -0.051977     11  \n",
       "3            0.879644           -0.080082      7  \n",
       "4            0.049130           -0.049748      2  \n",
       "\n",
       "[5 rows x 64 columns]"
      ]
     },
     "execution_count": 2,
     "metadata": {},
     "output_type": "execute_result"
    }
   ],
   "source": [
    "df_train = pd.read_csv(\"../data/datasets/train_data.csv\")\n",
    "df_train.head()"
   ]
  },
  {
   "cell_type": "code",
   "execution_count": 5,
   "id": "082796aa-2cf0-4015-8b6d-292a32121d03",
   "metadata": {},
   "outputs": [
    {
     "data": {
      "text/plain": [
       "(38703, 64)"
      ]
     },
     "execution_count": 5,
     "metadata": {},
     "output_type": "execute_result"
    }
   ],
   "source": [
    "df_train.shape"
   ]
  },
  {
   "cell_type": "code",
   "execution_count": 3,
   "id": "758b0d34-139a-423b-9df1-0cf92a4c91ae",
   "metadata": {},
   "outputs": [
    {
     "data": {
      "text/html": [
       "<div>\n",
       "<style scoped>\n",
       "    .dataframe tbody tr th:only-of-type {\n",
       "        vertical-align: middle;\n",
       "    }\n",
       "\n",
       "    .dataframe tbody tr th {\n",
       "        vertical-align: top;\n",
       "    }\n",
       "\n",
       "    .dataframe thead th {\n",
       "        text-align: right;\n",
       "    }\n",
       "</style>\n",
       "<table border=\"1\" class=\"dataframe\">\n",
       "  <thead>\n",
       "    <tr style=\"text-align: right;\">\n",
       "      <th></th>\n",
       "      <th>landmark_0-axis_0</th>\n",
       "      <th>landmark_0-axis_1</th>\n",
       "      <th>landmark_0-axis_2</th>\n",
       "      <th>landmark_1-axis_0</th>\n",
       "      <th>landmark_1-axis_1</th>\n",
       "      <th>landmark_1-axis_2</th>\n",
       "      <th>landmark_2-axis_0</th>\n",
       "      <th>landmark_2-axis_1</th>\n",
       "      <th>landmark_2-axis_2</th>\n",
       "      <th>landmark_3-axis_0</th>\n",
       "      <th>...</th>\n",
       "      <th>landmark_18-axis_0</th>\n",
       "      <th>landmark_18-axis_1</th>\n",
       "      <th>landmark_18-axis_2</th>\n",
       "      <th>landmark_19-axis_0</th>\n",
       "      <th>landmark_19-axis_1</th>\n",
       "      <th>landmark_19-axis_2</th>\n",
       "      <th>landmark_20-axis_0</th>\n",
       "      <th>landmark_20-axis_1</th>\n",
       "      <th>landmark_20-axis_2</th>\n",
       "      <th>label</th>\n",
       "    </tr>\n",
       "  </thead>\n",
       "  <tbody>\n",
       "    <tr>\n",
       "      <th>0</th>\n",
       "      <td>0.907719</td>\n",
       "      <td>0.974579</td>\n",
       "      <td>-3.152549e-08</td>\n",
       "      <td>1.000000</td>\n",
       "      <td>0.755082</td>\n",
       "      <td>-0.053062</td>\n",
       "      <td>0.932329</td>\n",
       "      <td>0.425736</td>\n",
       "      <td>-0.075347</td>\n",
       "      <td>0.762635</td>\n",
       "      <td>...</td>\n",
       "      <td>0.326328</td>\n",
       "      <td>0.878439</td>\n",
       "      <td>-0.115412</td>\n",
       "      <td>0.487906</td>\n",
       "      <td>0.935045</td>\n",
       "      <td>-0.101191</td>\n",
       "      <td>0.611787</td>\n",
       "      <td>1.000000</td>\n",
       "      <td>-0.075723</td>\n",
       "      <td>6</td>\n",
       "    </tr>\n",
       "    <tr>\n",
       "      <th>1</th>\n",
       "      <td>1.000000</td>\n",
       "      <td>0.362388</td>\n",
       "      <td>-5.442957e-07</td>\n",
       "      <td>0.893083</td>\n",
       "      <td>0.236627</td>\n",
       "      <td>-0.117509</td>\n",
       "      <td>0.612996</td>\n",
       "      <td>0.144741</td>\n",
       "      <td>-0.158035</td>\n",
       "      <td>0.305837</td>\n",
       "      <td>...</td>\n",
       "      <td>0.113352</td>\n",
       "      <td>0.582777</td>\n",
       "      <td>-0.042900</td>\n",
       "      <td>0.057801</td>\n",
       "      <td>0.721580</td>\n",
       "      <td>-0.078417</td>\n",
       "      <td>0.013457</td>\n",
       "      <td>0.858226</td>\n",
       "      <td>-0.098553</td>\n",
       "      <td>26</td>\n",
       "    </tr>\n",
       "    <tr>\n",
       "      <th>2</th>\n",
       "      <td>0.602093</td>\n",
       "      <td>1.000000</td>\n",
       "      <td>-1.101944e-06</td>\n",
       "      <td>0.797081</td>\n",
       "      <td>0.798341</td>\n",
       "      <td>-0.061026</td>\n",
       "      <td>0.932153</td>\n",
       "      <td>0.502124</td>\n",
       "      <td>-0.085571</td>\n",
       "      <td>0.983816</td>\n",
       "      <td>...</td>\n",
       "      <td>0.141193</td>\n",
       "      <td>0.300874</td>\n",
       "      <td>-0.098722</td>\n",
       "      <td>0.069447</td>\n",
       "      <td>0.181737</td>\n",
       "      <td>-0.105425</td>\n",
       "      <td>0.000000</td>\n",
       "      <td>0.051865</td>\n",
       "      <td>-0.101630</td>\n",
       "      <td>24</td>\n",
       "    </tr>\n",
       "    <tr>\n",
       "      <th>3</th>\n",
       "      <td>0.382002</td>\n",
       "      <td>1.000000</td>\n",
       "      <td>3.322691e-07</td>\n",
       "      <td>0.688301</td>\n",
       "      <td>0.847890</td>\n",
       "      <td>0.037167</td>\n",
       "      <td>0.826922</td>\n",
       "      <td>0.658433</td>\n",
       "      <td>0.042050</td>\n",
       "      <td>0.945964</td>\n",
       "      <td>...</td>\n",
       "      <td>0.548958</td>\n",
       "      <td>0.086870</td>\n",
       "      <td>-0.002482</td>\n",
       "      <td>0.800553</td>\n",
       "      <td>0.130028</td>\n",
       "      <td>0.008298</td>\n",
       "      <td>0.938658</td>\n",
       "      <td>0.246429</td>\n",
       "      <td>0.019816</td>\n",
       "      <td>14</td>\n",
       "    </tr>\n",
       "    <tr>\n",
       "      <th>4</th>\n",
       "      <td>0.575622</td>\n",
       "      <td>1.000000</td>\n",
       "      <td>-5.926757e-07</td>\n",
       "      <td>0.761246</td>\n",
       "      <td>0.703704</td>\n",
       "      <td>-0.032275</td>\n",
       "      <td>0.921777</td>\n",
       "      <td>0.471091</td>\n",
       "      <td>-0.047780</td>\n",
       "      <td>0.992131</td>\n",
       "      <td>...</td>\n",
       "      <td>0.148970</td>\n",
       "      <td>0.316998</td>\n",
       "      <td>-0.024553</td>\n",
       "      <td>0.076042</td>\n",
       "      <td>0.206144</td>\n",
       "      <td>-0.020048</td>\n",
       "      <td>0.000000</td>\n",
       "      <td>0.059485</td>\n",
       "      <td>-0.014464</td>\n",
       "      <td>24</td>\n",
       "    </tr>\n",
       "  </tbody>\n",
       "</table>\n",
       "<p>5 rows × 64 columns</p>\n",
       "</div>"
      ],
      "text/plain": [
       "   landmark_0-axis_0  landmark_0-axis_1  landmark_0-axis_2  landmark_1-axis_0  \\\n",
       "0           0.907719           0.974579      -3.152549e-08           1.000000   \n",
       "1           1.000000           0.362388      -5.442957e-07           0.893083   \n",
       "2           0.602093           1.000000      -1.101944e-06           0.797081   \n",
       "3           0.382002           1.000000       3.322691e-07           0.688301   \n",
       "4           0.575622           1.000000      -5.926757e-07           0.761246   \n",
       "\n",
       "   landmark_1-axis_1  landmark_1-axis_2  landmark_2-axis_0  landmark_2-axis_1  \\\n",
       "0           0.755082          -0.053062           0.932329           0.425736   \n",
       "1           0.236627          -0.117509           0.612996           0.144741   \n",
       "2           0.798341          -0.061026           0.932153           0.502124   \n",
       "3           0.847890           0.037167           0.826922           0.658433   \n",
       "4           0.703704          -0.032275           0.921777           0.471091   \n",
       "\n",
       "   landmark_2-axis_2  landmark_3-axis_0  ...  landmark_18-axis_0  \\\n",
       "0          -0.075347           0.762635  ...            0.326328   \n",
       "1          -0.158035           0.305837  ...            0.113352   \n",
       "2          -0.085571           0.983816  ...            0.141193   \n",
       "3           0.042050           0.945964  ...            0.548958   \n",
       "4          -0.047780           0.992131  ...            0.148970   \n",
       "\n",
       "   landmark_18-axis_1  landmark_18-axis_2  landmark_19-axis_0  \\\n",
       "0            0.878439           -0.115412            0.487906   \n",
       "1            0.582777           -0.042900            0.057801   \n",
       "2            0.300874           -0.098722            0.069447   \n",
       "3            0.086870           -0.002482            0.800553   \n",
       "4            0.316998           -0.024553            0.076042   \n",
       "\n",
       "   landmark_19-axis_1  landmark_19-axis_2  landmark_20-axis_0  \\\n",
       "0            0.935045           -0.101191            0.611787   \n",
       "1            0.721580           -0.078417            0.013457   \n",
       "2            0.181737           -0.105425            0.000000   \n",
       "3            0.130028            0.008298            0.938658   \n",
       "4            0.206144           -0.020048            0.000000   \n",
       "\n",
       "   landmark_20-axis_1  landmark_20-axis_2  label  \n",
       "0            1.000000           -0.075723      6  \n",
       "1            0.858226           -0.098553     26  \n",
       "2            0.051865           -0.101630     24  \n",
       "3            0.246429            0.019816     14  \n",
       "4            0.059485           -0.014464     24  \n",
       "\n",
       "[5 rows x 64 columns]"
      ]
     },
     "execution_count": 3,
     "metadata": {},
     "output_type": "execute_result"
    }
   ],
   "source": [
    "df_test = pd.read_csv(\"../data/datasets/test_data.csv\")\n",
    "df_test.head()"
   ]
  },
  {
   "cell_type": "code",
   "execution_count": 6,
   "id": "d2cff0c6-975f-4c07-a92b-f1297cf98e04",
   "metadata": {},
   "outputs": [
    {
     "data": {
      "text/plain": [
       "(12901, 64)"
      ]
     },
     "execution_count": 6,
     "metadata": {},
     "output_type": "execute_result"
    }
   ],
   "source": [
    "df_test.shape"
   ]
  },
  {
   "cell_type": "code",
   "execution_count": 7,
   "id": "f55e2f84-eec3-4545-833a-811c7289c536",
   "metadata": {},
   "outputs": [],
   "source": [
    "X_cols = [col for col in df_train.columns if col != 'label']"
   ]
  },
  {
   "cell_type": "code",
   "execution_count": 8,
   "id": "20cbddbe-9606-46fb-ba09-20981f2474be",
   "metadata": {},
   "outputs": [],
   "source": [
    "X_train = df_train[X_cols]\n",
    "y_train = df_train.label\n",
    "\n",
    "X_test = df_test[X_cols]\n",
    "y_test = df_test.label"
   ]
  },
  {
   "cell_type": "markdown",
   "id": "8d6ef3d9-2d5b-4e29-9863-87d8cc1362d0",
   "metadata": {},
   "source": [
    "**Experiments**"
   ]
  },
  {
   "cell_type": "code",
   "execution_count": 19,
   "id": "538280bd-49a8-4008-a168-481251b17436",
   "metadata": {},
   "outputs": [],
   "source": [
    "import mlflow"
   ]
  },
  {
   "cell_type": "code",
   "execution_count": 20,
   "id": "b7e94b2c-fe73-42e5-9d2f-07378ff684a7",
   "metadata": {},
   "outputs": [
    {
     "data": {
      "text/plain": [
       "<Experiment: artifact_location=('/Users/berkekadioglu/Documents/Obsidian/TheVault/TheVault/Harbour.Space/M13-Industrial '\n",
       " 'ML/Project/experiments/mlruns/1'), creation_time=1721383630935, experiment_id='1', last_update_time=1721383630935, lifecycle_stage='active', name='sign_letter_classification_with_mediapipe', tags={}>"
      ]
     },
     "execution_count": 20,
     "metadata": {},
     "output_type": "execute_result"
    }
   ],
   "source": [
    "mlflow.set_tracking_uri(\"sqlite:///iml_project_mlflow.db\")\n",
    "mlflow.set_experiment(\"sign_letter_classification_with_mediapipe\")"
   ]
  },
  {
   "cell_type": "markdown",
   "id": "c0e93615-0db6-4c08-96f3-8a29af2dd10b",
   "metadata": {},
   "source": [
    "Experiment with default model "
   ]
  },
  {
   "cell_type": "code",
   "execution_count": 21,
   "id": "e6fb3cf7-4516-4dfc-864e-ee987a41950a",
   "metadata": {},
   "outputs": [],
   "source": [
    "with mlflow.start_run():\n",
    "    mlflow.set_tag(\"tag\", \"default_model\")\n",
    "    mlflow.log_param(\"model_name\", \"Random_Forest\")\n",
    "    mlflow.log_params({\"train_data\":\"../data/datasets/train_data.csv\", \n",
    "                       \"test_data\":\"../data/datasets/test_data.csv\"})\n",
    "\n",
    "    \n",
    "    model = RandomForestClassifier(random_state = 128)\n",
    "\n",
    "    model.fit(X_train, y_train)\n",
    "\n",
    "    train_predictions = model.predict(X_train)\n",
    "    test_predictions = model.predict(X_test)\n",
    "\n",
    "    train_acc = metrics.accuracy_score(y_train, train_predictions)\n",
    "    test_acc = metrics.accuracy_score(y_test, test_predictions)\n",
    "    \n",
    "    mlflow.log_metric(\"train_acc\", train_acc)\n",
    "    mlflow.log_metric(\"test_acc\", test_acc)\n",
    "\n",
    "    mlflow.end_run()"
   ]
  },
  {
   "cell_type": "markdown",
   "id": "9d39c452-b560-438f-8332-bd9f440f04f5",
   "metadata": {},
   "source": [
    "Hyper Parameter Optimization"
   ]
  },
  {
   "cell_type": "code",
   "execution_count": 22,
   "id": "0d868472-e4a8-4e45-b0af-f784c910b625",
   "metadata": {},
   "outputs": [],
   "source": [
    "import mlflow.sklearn\n",
    "import optuna"
   ]
  },
  {
   "cell_type": "code",
   "execution_count": 23,
   "id": "78d24843-3b59-42de-9a0b-914d1fcea1fc",
   "metadata": {},
   "outputs": [],
   "source": [
    "def objective(trial):\n",
    "    # Hyperparameters\n",
    "    n_estimators = trial.suggest_int('n_estimators', 10, 100)\n",
    "    max_depth = trial.suggest_int('max_depth', 2, 32, log=True)\n",
    "    min_samples_split = trial.suggest_int('min_samples_split', 2, 10)\n",
    "    min_samples_leaf = trial.suggest_int('min_samples_leaf', 1, 10)\n",
    "    \n",
    "    clf = RandomForestClassifier(n_estimators=n_estimators, max_depth=max_depth,\n",
    "                                 min_samples_split=min_samples_split, min_samples_leaf=min_samples_leaf)\n",
    "    \n",
    "    clf.fit(X_train, y_train)\n",
    "    \n",
    "    train_predictions = clf.predict(X_train)\n",
    "    test_predictions = clf.predict(X_test)\n",
    "    \n",
    "    train_acc = metrics.accuracy_score(y_train, train_predictions)\n",
    "    test_acc = metrics.accuracy_score(y_test, test_predictions)\n",
    "    \n",
    "    with mlflow.start_run():\n",
    "        mlflow.log_param(\"model_name\", \"Random_Forest\")\n",
    "        \n",
    "        mlflow.log_param('n_estimators', n_estimators)\n",
    "        mlflow.log_param('max_depth', max_depth)\n",
    "        mlflow.log_param('min_samples_split', min_samples_split)\n",
    "        mlflow.log_param('min_samples_leaf', min_samples_leaf)\n",
    "        \n",
    "        mlflow.log_metric(\"train_acc\", train_acc)\n",
    "        mlflow.log_metric(\"test_acc\", test_acc)\n",
    "        \n",
    "        mlflow.sklearn.log_model(clf, 'model')\n",
    "        \n",
    "        mlflow.log_params({\"train_data\":\"../data/datasets/train_data.csv\", \n",
    "                       \"test_data\":\"../data/datasets/test_data.csv\"})\n",
    "    \n",
    "    return test_acc\n"
   ]
  },
  {
   "cell_type": "code",
   "execution_count": 24,
   "id": "9dce33d0-e150-438e-8d02-c88d66e75d08",
   "metadata": {
    "scrolled": true
   },
   "outputs": [
    {
     "name": "stderr",
     "output_type": "stream",
     "text": [
      "[I 2024-07-19 12:37:52,356] A new study created in memory with name: no-name-b1d35b4a-14d3-4db0-9f9c-91ec6bbb9bc2\n",
      "[I 2024-07-19 12:38:02,186] Trial 0 finished with value: 0.9663591969614759 and parameters: {'n_estimators': 57, 'max_depth': 7, 'min_samples_split': 10, 'min_samples_leaf': 2}. Best is trial 0 with value: 0.9663591969614759.\n",
      "[I 2024-07-19 12:38:04,955] Trial 1 finished with value: 0.7134330672040927 and parameters: {'n_estimators': 43, 'max_depth': 2, 'min_samples_split': 7, 'min_samples_leaf': 1}. Best is trial 0 with value: 0.9663591969614759.\n",
      "[I 2024-07-19 12:38:08,984] Trial 2 finished with value: 0.8397798620261995 and parameters: {'n_estimators': 54, 'max_depth': 3, 'min_samples_split': 3, 'min_samples_leaf': 5}. Best is trial 0 with value: 0.9663591969614759.\n",
      "[I 2024-07-19 12:38:23,866] Trial 3 finished with value: 0.9828695449965119 and parameters: {'n_estimators': 84, 'max_depth': 17, 'min_samples_split': 10, 'min_samples_leaf': 9}. Best is trial 3 with value: 0.9828695449965119.\n",
      "[I 2024-07-19 12:38:27,172] Trial 4 finished with value: 0.8055964653902798 and parameters: {'n_estimators': 42, 'max_depth': 3, 'min_samples_split': 10, 'min_samples_leaf': 4}. Best is trial 3 with value: 0.9828695449965119.\n",
      "[I 2024-07-19 12:38:29,159] Trial 5 finished with value: 0.8034260910006976 and parameters: {'n_estimators': 16, 'max_depth': 3, 'min_samples_split': 6, 'min_samples_leaf': 1}. Best is trial 3 with value: 0.9828695449965119.\n",
      "[I 2024-07-19 12:38:33,697] Trial 6 finished with value: 0.6967676924269437 and parameters: {'n_estimators': 82, 'max_depth': 2, 'min_samples_split': 4, 'min_samples_leaf': 7}. Best is trial 3 with value: 0.9828695449965119.\n",
      "[I 2024-07-19 12:38:37,205] Trial 7 finished with value: 0.6883962483528409 and parameters: {'n_estimators': 63, 'max_depth': 2, 'min_samples_split': 9, 'min_samples_leaf': 10}. Best is trial 3 with value: 0.9828695449965119.\n",
      "[I 2024-07-19 12:38:39,087] Trial 8 finished with value: 0.6631268893884195 and parameters: {'n_estimators': 20, 'max_depth': 2, 'min_samples_split': 9, 'min_samples_leaf': 8}. Best is trial 3 with value: 0.9828695449965119.\n",
      "[I 2024-07-19 12:38:44,913] Trial 9 finished with value: 0.9844973257886985 and parameters: {'n_estimators': 28, 'max_depth': 32, 'min_samples_split': 3, 'min_samples_leaf': 6}. Best is trial 9 with value: 0.9844973257886985.\n",
      "[I 2024-07-19 12:38:51,127] Trial 10 finished with value: 0.9845748391597551 and parameters: {'n_estimators': 32, 'max_depth': 31, 'min_samples_split': 2, 'min_samples_leaf': 6}. Best is trial 10 with value: 0.9845748391597551.\n",
      "[I 2024-07-19 12:38:57,039] Trial 11 finished with value: 0.9845748391597551 and parameters: {'n_estimators': 30, 'max_depth': 31, 'min_samples_split': 2, 'min_samples_leaf': 6}. Best is trial 10 with value: 0.9845748391597551.\n",
      "[I 2024-07-19 12:39:03,521] Trial 12 finished with value: 0.9855049996124331 and parameters: {'n_estimators': 32, 'max_depth': 32, 'min_samples_split': 2, 'min_samples_leaf': 4}. Best is trial 12 with value: 0.9855049996124331.\n",
      "[I 2024-07-19 12:39:06,131] Trial 13 finished with value: 0.9832571118517944 and parameters: {'n_estimators': 10, 'max_depth': 17, 'min_samples_split': 5, 'min_samples_leaf': 4}. Best is trial 12 with value: 0.9855049996124331.\n",
      "[I 2024-07-19 12:39:13,891] Trial 14 finished with value: 0.9869002402914503 and parameters: {'n_estimators': 40, 'max_depth': 17, 'min_samples_split': 2, 'min_samples_leaf': 3}. Best is trial 14 with value: 0.9869002402914503.\n",
      "[I 2024-07-19 12:39:22,371] Trial 15 finished with value: 0.9869777536625067 and parameters: {'n_estimators': 43, 'max_depth': 16, 'min_samples_split': 4, 'min_samples_leaf': 3}. Best is trial 15 with value: 0.9869777536625067.\n",
      "[I 2024-07-19 12:39:39,679] Trial 16 finished with value: 0.9844198124176421 and parameters: {'n_estimators': 99, 'max_depth': 11, 'min_samples_split': 4, 'min_samples_leaf': 3}. Best is trial 15 with value: 0.9869777536625067.\n",
      "[I 2024-07-19 12:39:48,917] Trial 17 finished with value: 0.988838074567863 and parameters: {'n_estimators': 45, 'max_depth': 17, 'min_samples_split': 5, 'min_samples_leaf': 2}. Best is trial 17 with value: 0.988838074567863.\n",
      "[I 2024-07-19 12:40:00,122] Trial 18 finished with value: 0.9828695449965119 and parameters: {'n_estimators': 64, 'max_depth': 10, 'min_samples_split': 7, 'min_samples_leaf': 2}. Best is trial 17 with value: 0.988838074567863.\n",
      "[I 2024-07-19 12:40:12,917] Trial 19 finished with value: 0.983954732191303 and parameters: {'n_estimators': 75, 'max_depth': 11, 'min_samples_split': 5, 'min_samples_leaf': 2}. Best is trial 17 with value: 0.988838074567863.\n",
      "[I 2024-07-19 12:40:23,117] Trial 20 finished with value: 0.9869777536625067 and parameters: {'n_estimators': 51, 'max_depth': 20, 'min_samples_split': 6, 'min_samples_leaf': 3}. Best is trial 17 with value: 0.988838074567863.\n",
      "[I 2024-07-19 12:40:32,857] Trial 21 finished with value: 0.9874428338888458 and parameters: {'n_estimators': 49, 'max_depth': 21, 'min_samples_split': 6, 'min_samples_leaf': 3}. Best is trial 17 with value: 0.988838074567863.\n",
      "[I 2024-07-19 12:40:42,122] Trial 22 finished with value: 0.988838074567863 and parameters: {'n_estimators': 46, 'max_depth': 23, 'min_samples_split': 5, 'min_samples_leaf': 1}. Best is trial 17 with value: 0.988838074567863.\n",
      "[I 2024-07-19 12:40:51,927] Trial 23 finished with value: 0.9885280210836369 and parameters: {'n_estimators': 49, 'max_depth': 23, 'min_samples_split': 7, 'min_samples_leaf': 1}. Best is trial 17 with value: 0.988838074567863.\n",
      "[I 2024-07-19 12:40:58,115] Trial 24 finished with value: 0.9741105340671266 and parameters: {'n_estimators': 38, 'max_depth': 8, 'min_samples_split': 7, 'min_samples_leaf': 1}. Best is trial 17 with value: 0.988838074567863.\n",
      "[I 2024-07-19 12:41:11,028] Trial 25 finished with value: 0.9880629408572978 and parameters: {'n_estimators': 65, 'max_depth': 23, 'min_samples_split': 8, 'min_samples_leaf': 1}. Best is trial 17 with value: 0.988838074567863.\n",
      "[I 2024-07-19 12:41:22,347] Trial 26 finished with value: 0.9867452135493373 and parameters: {'n_estimators': 58, 'max_depth': 13, 'min_samples_split': 5, 'min_samples_leaf': 2}. Best is trial 17 with value: 0.988838074567863.\n",
      "[I 2024-07-19 12:41:36,800] Trial 27 finished with value: 0.9881404542283544 and parameters: {'n_estimators': 72, 'max_depth': 24, 'min_samples_split': 8, 'min_samples_leaf': 1}. Best is trial 17 with value: 0.988838074567863.\n",
      "[I 2024-07-19 12:41:46,230] Trial 28 finished with value: 0.9870552670335633 and parameters: {'n_estimators': 47, 'max_depth': 14, 'min_samples_split': 6, 'min_samples_leaf': 2}. Best is trial 17 with value: 0.988838074567863.\n",
      "[I 2024-07-19 12:41:52,544] Trial 29 finished with value: 0.9413998914812806 and parameters: {'n_estimators': 56, 'max_depth': 5, 'min_samples_split': 5, 'min_samples_leaf': 1}. Best is trial 17 with value: 0.988838074567863.\n",
      "[I 2024-07-19 12:41:56,306] Trial 30 finished with value: 0.9637237423455546 and parameters: {'n_estimators': 23, 'max_depth': 7, 'min_samples_split': 8, 'min_samples_leaf': 5}. Best is trial 17 with value: 0.988838074567863.\n",
      "[I 2024-07-19 12:42:10,743] Trial 31 finished with value: 0.9885280210836369 and parameters: {'n_estimators': 75, 'max_depth': 25, 'min_samples_split': 8, 'min_samples_leaf': 1}. Best is trial 17 with value: 0.988838074567863.\n",
      "[I 2024-07-19 12:42:27,692] Trial 32 finished with value: 0.9884505077125805 and parameters: {'n_estimators': 90, 'max_depth': 25, 'min_samples_split': 7, 'min_samples_leaf': 2}. Best is trial 17 with value: 0.988838074567863.\n",
      "[I 2024-07-19 12:42:40,880] Trial 33 finished with value: 0.9880629408572978 and parameters: {'n_estimators': 69, 'max_depth': 26, 'min_samples_split': 9, 'min_samples_leaf': 1}. Best is trial 17 with value: 0.988838074567863.\n",
      "[I 2024-07-19 12:42:52,356] Trial 34 finished with value: 0.9884505077125805 and parameters: {'n_estimators': 59, 'max_depth': 20, 'min_samples_split': 7, 'min_samples_leaf': 1}. Best is trial 17 with value: 0.988838074567863.\n",
      "[I 2024-07-19 12:42:56,610] Trial 35 finished with value: 0.9368266025889466 and parameters: {'n_estimators': 37, 'max_depth': 5, 'min_samples_split': 8, 'min_samples_leaf': 2}. Best is trial 17 with value: 0.988838074567863.\n",
      "[I 2024-07-19 12:43:06,317] Trial 36 finished with value: 0.9867452135493373 and parameters: {'n_estimators': 51, 'max_depth': 14, 'min_samples_split': 6, 'min_samples_leaf': 2}. Best is trial 17 with value: 0.988838074567863.\n",
      "[I 2024-07-19 12:43:15,463] Trial 37 finished with value: 0.9889155879389194 and parameters: {'n_estimators': 45, 'max_depth': 27, 'min_samples_split': 4, 'min_samples_leaf': 1}. Best is trial 37 with value: 0.9889155879389194.\n",
      "[I 2024-07-19 12:43:24,458] Trial 38 finished with value: 0.9859700798387722 and parameters: {'n_estimators': 44, 'max_depth': 19, 'min_samples_split': 4, 'min_samples_leaf': 4}. Best is trial 37 with value: 0.9889155879389194.\n",
      "[I 2024-07-19 12:43:35,193] Trial 39 finished with value: 0.9893031547942019 and parameters: {'n_estimators': 54, 'max_depth': 28, 'min_samples_split': 3, 'min_samples_leaf': 1}. Best is trial 39 with value: 0.9893031547942019.\n",
      "[I 2024-07-19 12:43:42,465] Trial 40 finished with value: 0.9834121385939074 and parameters: {'n_estimators': 37, 'max_depth': 28, 'min_samples_split': 3, 'min_samples_leaf': 8}. Best is trial 39 with value: 0.9893031547942019.\n",
      "[I 2024-07-19 12:43:51,701] Trial 41 finished with value: 0.9893806681652585 and parameters: {'n_estimators': 46, 'max_depth': 23, 'min_samples_split': 3, 'min_samples_leaf': 1}. Best is trial 41 with value: 0.9893806681652585.\n",
      "[I 2024-07-19 12:44:02,444] Trial 42 finished with value: 0.9879854274862414 and parameters: {'n_estimators': 54, 'max_depth': 28, 'min_samples_split': 3, 'min_samples_leaf': 2}. Best is trial 41 with value: 0.9893806681652585.\n",
      "[I 2024-07-19 12:44:11,682] Trial 43 finished with value: 0.9886830478257499 and parameters: {'n_estimators': 45, 'max_depth': 21, 'min_samples_split': 3, 'min_samples_leaf': 1}. Best is trial 41 with value: 0.9893806681652585.\n",
      "[I 2024-07-19 12:44:23,303] Trial 44 finished with value: 0.9875978606309589 and parameters: {'n_estimators': 60, 'max_depth': 15, 'min_samples_split': 4, 'min_samples_leaf': 1}. Best is trial 41 with value: 0.9893806681652585.\n",
      "[I 2024-07-19 12:44:30,263] Trial 45 finished with value: 0.9862801333229982 and parameters: {'n_estimators': 34, 'max_depth': 18, 'min_samples_split': 3, 'min_samples_leaf': 3}. Best is trial 41 with value: 0.9893806681652585.\n",
      "[I 2024-07-19 12:44:35,823] Trial 46 finished with value: 0.9817843578017208 and parameters: {'n_estimators': 27, 'max_depth': 28, 'min_samples_split': 4, 'min_samples_leaf': 10}. Best is trial 41 with value: 0.9893806681652585.\n",
      "[I 2024-07-19 12:44:41,715] Trial 47 finished with value: 0.9320982869544997 and parameters: {'n_estimators': 54, 'max_depth': 5, 'min_samples_split': 5, 'min_samples_leaf': 2}. Best is trial 41 with value: 0.9893806681652585.\n",
      "[I 2024-07-19 12:44:50,115] Trial 48 finished with value: 0.9879854274862414 and parameters: {'n_estimators': 42, 'max_depth': 32, 'min_samples_split': 3, 'min_samples_leaf': 2}. Best is trial 41 with value: 0.9893806681652585.\n",
      "[I 2024-07-19 12:44:59,120] Trial 49 finished with value: 0.9849624060150376 and parameters: {'n_estimators': 47, 'max_depth': 22, 'min_samples_split': 4, 'min_samples_leaf': 5}. Best is trial 41 with value: 0.9893806681652585.\n"
     ]
    },
    {
     "name": "stdout",
     "output_type": "stream",
     "text": [
      "Best trial:\n",
      "  Value: 0.9893806681652585\n",
      "  Params: \n",
      "    n_estimators: 46\n",
      "    max_depth: 23\n",
      "    min_samples_split: 3\n",
      "    min_samples_leaf: 1\n"
     ]
    }
   ],
   "source": [
    "study = optuna.create_study(direction='maximize')\n",
    "study.optimize(objective, n_trials=50)\n",
    "\n",
    "print('Best trial:')\n",
    "trial = study.best_trial\n",
    "print(f'  Value: {trial.value}')\n",
    "print('  Params: ')\n",
    "for key, value in trial.params.items():\n",
    "    print(f'    {key}: {value}')\n"
   ]
  },
  {
   "cell_type": "markdown",
   "id": "93ecfba4-15d5-41ae-b0ae-7c074de72c35",
   "metadata": {},
   "source": [
    "Best trial:\n",
    "  Value: 0.9893806681652585\n",
    "  Params: \n",
    "    n_estimators: 46\n",
    "    max_depth: 23\n",
    "    min_samples_split: 3\n",
    "    min_samples_leaf: 1"
   ]
  },
  {
   "cell_type": "code",
   "execution_count": null,
   "id": "6eb7eccc-7570-4ab1-85b1-f0974b11496c",
   "metadata": {},
   "outputs": [],
   "source": [
    "best_params = {\n",
    "    'n_estimators': 46,\n",
    "    'max_depth': 23,\n",
    "    'min_samples_split': 3,\n",
    "    'min_samples_leaf': 1\n",
    "}"
   ]
  },
  {
   "cell_type": "markdown",
   "id": "eeb44115-2371-4b10-8b04-aa2d1b04237c",
   "metadata": {},
   "source": [
    "Default model's test accuracy was 0.9891. By hyperparameter optimization we get 0.9894 test accuracy which is better result fortunately :)."
   ]
  },
  {
   "cell_type": "markdown",
   "id": "cb7fd9d5-6a3a-4b5a-a16c-81ac8e739a70",
   "metadata": {},
   "source": [
    "**Model Loading with MLflow**"
   ]
  },
  {
   "cell_type": "code",
   "execution_count": 25,
   "id": "902c9b00-9f1e-4b87-a1a2-e88ccfb479b7",
   "metadata": {},
   "outputs": [],
   "source": [
    "from mlflow.tracking import MlflowClient\n",
    "from mlflow.entities import ViewType"
   ]
  },
  {
   "cell_type": "code",
   "execution_count": 26,
   "id": "43d0b6eb-5955-4d15-88e1-c7f2a68f8138",
   "metadata": {},
   "outputs": [],
   "source": [
    "MLFLOW_URI = \"sqlite:///iml_project_mlflow.db\""
   ]
  },
  {
   "cell_type": "code",
   "execution_count": 27,
   "id": "b068a8c6-8f1f-4666-8e29-096db87092c6",
   "metadata": {},
   "outputs": [],
   "source": [
    "client = MlflowClient(MLFLOW_URI)"
   ]
  },
  {
   "cell_type": "code",
   "execution_count": 28,
   "id": "cfa4dfbc-666a-41d0-a660-db6124c95787",
   "metadata": {},
   "outputs": [
    {
     "data": {
      "text/plain": [
       "<Experiment: artifact_location=('/Users/berkekadioglu/Documents/Obsidian/TheVault/TheVault/Harbour.Space/M13-Industrial '\n",
       " 'ML/Project/experiments/mlruns/1'), creation_time=1721383630935, experiment_id='1', last_update_time=1721383630935, lifecycle_stage='active', name='sign_letter_classification_with_mediapipe', tags={}>"
      ]
     },
     "execution_count": 28,
     "metadata": {},
     "output_type": "execute_result"
    }
   ],
   "source": [
    "client.get_experiment_by_name(\"sign_letter_classification_with_mediapipe\")"
   ]
  },
  {
   "cell_type": "code",
   "execution_count": 29,
   "id": "087dacf7-5674-49b6-a99d-affdf33d876f",
   "metadata": {},
   "outputs": [],
   "source": [
    "runs = client.search_runs(\n",
    "    experiment_ids='1',\n",
    "    max_results=10\n",
    ")"
   ]
  },
  {
   "cell_type": "code",
   "execution_count": 33,
   "id": "513f0fba-f7e2-453e-afc4-3089335f5c24",
   "metadata": {},
   "outputs": [
    {
     "data": {
      "text/plain": [
       "<Run: data=<RunData: metrics={'test_acc': 0.9849624060150376, 'train_acc': 0.9948841175102705}, params={'max_depth': '22',\n",
       " 'min_samples_leaf': '5',\n",
       " 'min_samples_split': '4',\n",
       " 'model_name': 'Random_Forest',\n",
       " 'n_estimators': '47',\n",
       " 'test_data': '../data/datasets/test_data.csv',\n",
       " 'train_data': '../data/datasets/train_data.csv'}, tags={'mlflow.log-model.history': '[{\"run_id\": \"c1be0c0c644b47459c5901c06df80128\", '\n",
       "                             '\"artifact_path\": \"model\", \"utc_time_created\": '\n",
       "                             '\"2024-07-19 10:44:57.929023\", \"flavors\": '\n",
       "                             '{\"python_function\": {\"model_path\": \"model.pkl\", '\n",
       "                             '\"predict_fn\": \"predict\", \"loader_module\": '\n",
       "                             '\"mlflow.sklearn\", \"python_version\": \"3.12.2\", '\n",
       "                             '\"env\": {\"conda\": \"conda.yaml\", \"virtualenv\": '\n",
       "                             '\"python_env.yaml\"}}, \"sklearn\": '\n",
       "                             '{\"pickled_model\": \"model.pkl\", '\n",
       "                             '\"sklearn_version\": \"1.5.1\", '\n",
       "                             '\"serialization_format\": \"cloudpickle\", \"code\": '\n",
       "                             'null}}, \"model_uuid\": '\n",
       "                             '\"60b6575eb7dc4173bfbbac3467d12c70\", '\n",
       "                             '\"mlflow_version\": \"2.14.3\", \"model_size_bytes\": '\n",
       "                             '14495852}]',\n",
       " 'mlflow.runName': 'treasured-mule-250',\n",
       " 'mlflow.source.name': '/Users/berkekadioglu/Documents/Virtual '\n",
       "                       'Environments/m13_iml/lib/python3.12/site-packages/ipykernel_launcher.py',\n",
       " 'mlflow.source.type': 'LOCAL',\n",
       " 'mlflow.user': 'berkekadioglu'}>, info=<RunInfo: artifact_uri=('/Users/berkekadioglu/Documents/Obsidian/TheVault/TheVault/Harbour.Space/M13-Industrial '\n",
       " 'ML/Project/experiments/mlruns/1/c1be0c0c644b47459c5901c06df80128/artifacts'), end_time=1721385899117, experiment_id='1', lifecycle_stage='active', run_id='c1be0c0c644b47459c5901c06df80128', run_name='treasured-mule-250', run_uuid='c1be0c0c644b47459c5901c06df80128', start_time=1721385897914, status='FINISHED', user_id='berkekadioglu'>, inputs=<RunInputs: dataset_inputs=[]>>"
      ]
     },
     "execution_count": 33,
     "metadata": {},
     "output_type": "execute_result"
    }
   ],
   "source": [
    "runs[0]"
   ]
  },
  {
   "cell_type": "code",
   "execution_count": 32,
   "id": "ec7b3d70-f073-41c2-9a21-46840bb24cd1",
   "metadata": {},
   "outputs": [
    {
     "name": "stdout",
     "output_type": "stream",
     "text": [
      "run_id=c1be0c0c644b47459c5901c06df80128, metrics={'train_acc': 0.9948841175102705, 'test_acc': 0.9849624060150376}\n",
      "run_id=505c6970bfe649548f3c3162f1b567f0, metrics={'train_acc': 0.9997157843061262, 'test_acc': 0.9879854274862414}\n",
      "run_id=5c2df2fc7d4b4043ae4fe70ee34c6c10, metrics={'train_acc': 0.9343203369247862, 'test_acc': 0.9320982869544997}\n",
      "run_id=67b53bf89cdb4e179609453730c43cd0, metrics={'train_acc': 0.9888639123582151, 'test_acc': 0.9817843578017208}\n",
      "run_id=59fe3695cc14496780b92ce8301099d5, metrics={'train_acc': 0.9981913546753481, 'test_acc': 0.9862801333229982}\n",
      "run_id=53421bd3f67b40199acbc252ddbea5f2, metrics={'train_acc': 0.9997157843061262, 'test_acc': 0.9875978606309589}\n",
      "run_id=9691b45ddcab4bb4b81668804352de3d, metrics={'train_acc': 0.9999224866289435, 'test_acc': 0.9886830478257499}\n",
      "run_id=edec341ea0644a749091e037ab78e510, metrics={'train_acc': 0.9995865953543653, 'test_acc': 0.9879854274862414}\n",
      "run_id=10619d8936b04b6d8d4d989ecc34f954, metrics={'train_acc': 0.9999741622096479, 'test_acc': 0.9893806681652585}\n",
      "run_id=0e9e1a95617248f79696ac470851790c, metrics={'train_acc': 0.9907500710539234, 'test_acc': 0.9834121385939074}\n"
     ]
    }
   ],
   "source": [
    "for run in runs:\n",
    "    print(f\"run_id={run.info.run_id}, metrics={run.data.metrics}\")"
   ]
  },
  {
   "cell_type": "code",
   "execution_count": 34,
   "id": "a160a650-96b0-4b57-b848-c4be26b820af",
   "metadata": {},
   "outputs": [],
   "source": [
    "best_run_id = '10619d8936b04b6d8d4d989ecc34f954'"
   ]
  },
  {
   "cell_type": "code",
   "execution_count": 41,
   "id": "948515c6-b365-474e-b144-a69a72e49e34",
   "metadata": {},
   "outputs": [],
   "source": [
    "best_run = [run for run in runs if run.info.run_id == '10619d8936b04b6d8d4d989ecc34f954']"
   ]
  },
  {
   "cell_type": "code",
   "execution_count": 43,
   "id": "852619e9-05a9-4f11-8b84-d9065780e55c",
   "metadata": {},
   "outputs": [],
   "source": [
    "best_run = best_run[0]"
   ]
  },
  {
   "cell_type": "code",
   "execution_count": 45,
   "id": "465de8b9-c289-4766-a304-bddb3f6d0d94",
   "metadata": {},
   "outputs": [
    {
     "data": {
      "text/plain": [
       "{'model_name': 'Random_Forest',\n",
       " 'n_estimators': '46',\n",
       " 'max_depth': '23',\n",
       " 'min_samples_split': '3',\n",
       " 'min_samples_leaf': '1',\n",
       " 'train_data': '../data/datasets/train_data.csv',\n",
       " 'test_data': '../data/datasets/test_data.csv'}"
      ]
     },
     "execution_count": 45,
     "metadata": {},
     "output_type": "execute_result"
    }
   ],
   "source": [
    "best_run.data.params"
   ]
  },
  {
   "cell_type": "code",
   "execution_count": 46,
   "id": "c5d333c5-5be6-4f45-acbc-683371ed20fc",
   "metadata": {},
   "outputs": [],
   "source": [
    "logged_model_id = 'runs:/10619d8936b04b6d8d4d989ecc34f954/model'\n",
    "\n",
    "# Load model as a PyFuncModel.\n",
    "loaded_model = mlflow.pyfunc.load_model(logged_model_id)"
   ]
  },
  {
   "cell_type": "code",
   "execution_count": 47,
   "id": "2b2a1658-5a06-4404-8a50-c5053d2d58be",
   "metadata": {},
   "outputs": [
    {
     "data": {
      "text/plain": [
       "mlflow.pyfunc.loaded_model:\n",
       "  artifact_path: model\n",
       "  flavor: mlflow.sklearn\n",
       "  run_id: 10619d8936b04b6d8d4d989ecc34f954"
      ]
     },
     "execution_count": 47,
     "metadata": {},
     "output_type": "execute_result"
    }
   ],
   "source": [
    "loaded_model"
   ]
  },
  {
   "cell_type": "code",
   "execution_count": null,
   "id": "229e135e-a400-4cfd-b15d-c27e7b2af85e",
   "metadata": {},
   "outputs": [],
   "source": []
  }
 ],
 "metadata": {
  "kernelspec": {
   "display_name": "Python 3 (ipykernel)",
   "language": "python",
   "name": "python3"
  },
  "language_info": {
   "codemirror_mode": {
    "name": "ipython",
    "version": 3
   },
   "file_extension": ".py",
   "mimetype": "text/x-python",
   "name": "python",
   "nbconvert_exporter": "python",
   "pygments_lexer": "ipython3",
   "version": "3.12.2"
  }
 },
 "nbformat": 4,
 "nbformat_minor": 5
}
